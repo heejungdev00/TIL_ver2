{
 "cells": [
  {
   "cell_type": "code",
   "execution_count": 58,
   "id": "24769f22-bec3-47be-9a92-51cb63fbe373",
   "metadata": {},
   "outputs": [
    {
     "name": "stdin",
     "output_type": "stream",
     "text": [
      "밑변 높이 입력 4 5\n"
     ]
    },
    {
     "name": "stdout",
     "output_type": "stream",
     "text": [
      "6.4031242374328485\n"
     ]
    }
   ],
   "source": [
    "# 1. 직각삼각형의 밑변이 x, 높이가 y일 때 남은 변(대각선)의 길이를 구하는 함수를 만드시오.\n",
    "\n",
    "x, y = map(int,input('밑변 높이 입력').split())\n",
    "\n",
    "def Z(x,y):\n",
    "    z=(x**2+y**2)**(1/2)\n",
    "    return z\n",
    "\n",
    "print(Z(x,y))"
   ]
  },
  {
   "cell_type": "code",
   "execution_count": 77,
   "id": "1c284d3f-5948-4d04-b5dd-22674ae49d7b",
   "metadata": {},
   "outputs": [
    {
     "name": "stdin",
     "output_type": "stream",
     "text": [
      "기수 입력 111\n"
     ]
    },
    {
     "name": "stdout",
     "output_type": "stream",
     "text": [
      "111st\n"
     ]
    }
   ],
   "source": [
    "# 2. 기수(Cardinal)를 입력하면 영어 서수(Ordinal)로 출력하는 함수를 작성합니다.\n",
    "\n",
    "# 1, 21, 31, 41, ... → 1st, 21st, 31st, 41st, ...\n",
    "# 2, 22, 32, 42, ... → 2nd, 22nd, 32nd, 42nd, ...\n",
    "# 3, 23, 33, 43, ... → 3rd, 23rd, 33rd, 43rd, ...\n",
    "# 11, 12, 13, 111, 112, 113, 211, 212, 213, ...  → 11th, 12th, 13th, 111th, 112th, 113th, 211th, 212th, 213th, ...\n",
    "# 4, 5, 6, 11, 12, 13, 101, 111, 112, ... → 4th, 5th, 6th, 11th, 12th, 13th, 101th, 111th, 112th, ...\n",
    "\n",
    "card=input('기수 입력')\n",
    "\n",
    "if card=='1':\n",
    "    card=card+'st'\n",
    "elif card=='2':\n",
    "    card=card+'nd'\n",
    "elif card=='3':\n",
    "    card=card+'rd'\n",
    "elif 4<=int(card)<=20:\n",
    "    card=card+'th'\n",
    "elif card[-1]=='1' and card[-2]!=1:\n",
    "    card=card+'st'\n",
    "elif card[-1]=='2' and card[-2]!=1:\n",
    "    card=card+'nd'\n",
    "elif card[-1]=='3' and card[-2]!=1:\n",
    "    card=card+'rd'\n",
    "else:\n",
    "    card=card+'th'\n",
    "print(card)"
   ]
  },
  {
   "cell_type": "code",
   "execution_count": 54,
   "id": "7dea92d6-3553-495c-803a-858bfeefafa7",
   "metadata": {},
   "outputs": [
    {
     "name": "stdout",
     "output_type": "stream",
     "text": [
      "['똘기', '떵이', '호치', '새초미']\n"
     ]
    }
   ],
   "source": [
    "# 3.아래 조건에 따라 리스트를 회전하는 프로그램을 작성하시오.\n",
    "\n",
    "# 조건\n",
    "# 입력값은 한 행의 문자열로 주어지며, 각 값은 공백으로 구분된다.\n",
    "# 첫 번째 값은 리스트를 회전하는 양과 방향(음수의 경우 좌측으로, 양수의 경우 우측으로 회전)이다.\n",
    "# 첫 번째 값을 제외한 나머지 값은 리스트의 각 항목의 값이다.\n",
    "# 회전된 리스트를 문자열로 출력한다.\n",
    "# 구현에 이용할 자료구조에 대한 조건이나 제약은 없다.\n",
    "# 입력되는 리스트의 항목의 개수는 유한한다.\n",
    "# 입출력예\n",
    "# 예 1)\n",
    "\n",
    "# 입력: 1 10 20 30 40 50\n",
    "\n",
    "# 출력: 50 10 20 30 40\n",
    "\n",
    "# 예 2)\n",
    "\n",
    "# 입력: 4 가 나 다 라 마 바 사\n",
    "\n",
    "# 출력: 라 마 바 사 가 나 다\n",
    "\n",
    "# 예 3)\n",
    "\n",
    "# 입력: -2 A B C D E F G\n",
    "\n",
    "# 출력: C D E F G A B\n",
    "\n",
    "# 예 4)\n",
    "\n",
    "# 입력: 0 똘기 떵이 호치 새초미\n",
    "\n",
    "# 출력: 똘기 떵이 호치 새초미\n",
    "\n",
    "\n",
    "# input=['1', '10', '20', '30', '40', '50']\n",
    "# input=['-2', 'A', 'B', 'C', 'D', 'E', 'F', 'G']\n",
    "input_lst=['0', '똘기', '떵이', '호치', '새초미']\n",
    "num=int(input_lst[0])\n",
    "input_lst=input_lst[1:]\n",
    "input_lst\n",
    "\n",
    "res=[]\n",
    "for i in input_lst[-1*num:]:\n",
    "    res.append(i)\n",
    "for j in input_lst[:(-1*num)]:\n",
    "    res.append(j)\n",
    "\n",
    "print(res)"
   ]
  },
  {
   "cell_type": "code",
   "execution_count": null,
   "id": "7c380034-5748-49ef-b08b-2cb09a271422",
   "metadata": {},
   "outputs": [],
   "source": []
  }
 ],
 "metadata": {
  "kernelspec": {
   "display_name": "Python 3 (ipykernel)",
   "language": "python",
   "name": "python3"
  },
  "language_info": {
   "codemirror_mode": {
    "name": "ipython",
    "version": 3
   },
   "file_extension": ".py",
   "mimetype": "text/x-python",
   "name": "python",
   "nbconvert_exporter": "python",
   "pygments_lexer": "ipython3",
   "version": "3.11.7"
  }
 },
 "nbformat": 4,
 "nbformat_minor": 5
}
