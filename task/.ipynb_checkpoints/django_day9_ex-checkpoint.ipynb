{
 "cells": [
  {
   "cell_type": "code",
   "execution_count": 19,
   "id": "65ba9514-b055-4258-bb58-d5f1c4fc4870",
   "metadata": {},
   "outputs": [],
   "source": [
    "# 1. 다음과 같은 행렬에서 3*3 영역으로 나누어 요소들을 모두 곱했을때\n",
    "# 최대값이 얼마인가? (영역 이동은 우측으로 1칸, 아래쪽으로 1줄씩 이동)\n",
    "\n",
    "matrix=[[3, 1, 2, -3, 1],\n",
    "[-2, 0, 3, 5, 7],\n",
    "[2, 7, 8, 1, 3],\n",
    "[0, 2, -1, 9, 3],\n",
    "[7, 1, 8, -6, 4]]"
   ]
  },
  {
   "cell_type": "code",
   "execution_count": 7,
   "id": "7c549473-fa1b-4479-88e6-05652c22069a",
   "metadata": {},
   "outputs": [],
   "source": [
    "def multipl3():\n",
    "    res=1\n",
    "    for i in range(3):\n",
    "        for j in range(3):\n",
    "            res*=matrix[i][j]\n",
    "    return res"
   ]
  },
  {
   "cell_type": "code",
   "execution_count": 14,
   "id": "a9f915c5-85ce-4a07-bdb2-7a4706003e27",
   "metadata": {},
   "outputs": [
    {
     "data": {
      "text/plain": [
       "[[[[0, 3], [0, 3]], [[0, 3], [1, 4]], [[0, 3], [2, 5]]],\n",
       " [[[1, 4], [0, 3]], [[1, 4], [1, 4]], [[1, 4], [2, 5]]],\n",
       " [[[2, 5], [0, 3]], [[2, 5], [1, 4]], [[2, 5], [2, 5]]]]"
      ]
     },
     "execution_count": 14,
     "metadata": {},
     "output_type": "execute_result"
    }
   ],
   "source": [
    "res=[]\n",
    "basic_x=0\n",
    "basic_y=3\n",
    "for i in range(len(matrix)-2):\n",
    "    res.append([basic_x+i,basic_y+i])\n",
    "\n",
    "result = [[[x, y] for y in res] for x in res]  # 모든 경우의 수 구하기\n",
    "result"
   ]
  },
  {
   "cell_type": "code",
   "execution_count": 18,
   "id": "a2326ad7-5812-414c-afdc-f59ef60daab3",
   "metadata": {},
   "outputs": [
    {
     "name": "stdout",
     "output_type": "stream",
     "text": [
      "[0, 3]\n",
      "[0, 3]\n",
      "[0, 3]\n",
      "[1, 4]\n",
      "[1, 4]\n",
      "[1, 4]\n",
      "[2, 5]\n",
      "[2, 5]\n",
      "[2, 5]\n"
     ]
    }
   ],
   "source": [
    "for i in range(len(result)):\n",
    "    for j in range(len(result[0])):\n",
    "        print(result[i][j][0])"
   ]
  },
  {
   "cell_type": "code",
   "execution_count": null,
   "id": "cce14c3d-bdd9-4f7e-a694-7cbbe89afdb8",
   "metadata": {},
   "outputs": [],
   "source": [
    "matrix = [\n",
    "    [3, 1, 2, -3, 1],\n",
    "    [-2, 0, 3, 5, 7],\n",
    "    [2, 7, 8, 1, 3],\n",
    "    [0, 2, -1, 9, 3],\n",
    "    [7, 1, 8, -6, 4]\n",
    "]\n",
    "\n",
    "max_multip = float(\"-inf\")  # 초기값을 음의 무한대로 설정\n",
    "\n",
    "for i in range(len(matrix) - 2):  \n",
    "    for j in range(len(matrix[0]) - 2): \n",
    "        multip = 1\n",
    "        for x in range(3): \n",
    "            for y in range(3):\n",
    "                multip *= matrix[i + x][j + y]\n",
    "        if multip > max_multip:\n",
    "            max_multip = multip\n",
    "\n",
    "max_multip"
   ]
  },
  {
   "cell_type": "code",
   "execution_count": 27,
   "id": "95c4068e-fc00-4321-8e65-74ae56629515",
   "metadata": {},
   "outputs": [
    {
     "data": {
      "text/plain": [
       "124416"
      ]
     },
     "execution_count": 27,
     "metadata": {},
     "output_type": "execute_result"
    }
   ],
   "source": [
    "matrix = [\n",
    "    [3, 1, 2, -3, 1],\n",
    "    [-2, 0, 3, 5, 7],\n",
    "    [2, 7, 8, 1, 3],\n",
    "    [0, 2, -1, 9, 3],\n",
    "    [7, 1, 8, -6, 4]\n",
    "]\n",
    "\n",
    "max_multip = float(\"-inf\")  # 초기값을 음의 무한대로 설정\n",
    "num=3 # 3x3행렬\n",
    "for i in range(len(matrix) - num +1):  \n",
    "    for j in range(len(matrix[0]) - num +1): \n",
    "        multip = 1\n",
    "        for x in range(num): \n",
    "            for y in range(num):\n",
    "                multip *= matrix[i + x][j + y]\n",
    "        if multip > max_multip:\n",
    "            max_multip = multip\n",
    "\n",
    "max_multip"
   ]
  },
  {
   "cell_type": "code",
   "execution_count": null,
   "id": "4d904fb0-5b3b-49e0-9f21-1aa64642fc47",
   "metadata": {},
   "outputs": [],
   "source": []
  }
 ],
 "metadata": {
  "kernelspec": {
   "display_name": "Python 3 (ipykernel)",
   "language": "python",
   "name": "python3"
  },
  "language_info": {
   "codemirror_mode": {
    "name": "ipython",
    "version": 3
   },
   "file_extension": ".py",
   "mimetype": "text/x-python",
   "name": "python",
   "nbconvert_exporter": "python",
   "pygments_lexer": "ipython3",
   "version": "3.11.7"
  }
 },
 "nbformat": 4,
 "nbformat_minor": 5
}
