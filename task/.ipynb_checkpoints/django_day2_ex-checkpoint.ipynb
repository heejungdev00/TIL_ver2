{
 "cells": [
  {
   "cell_type": "code",
   "execution_count": 41,
   "id": "3809244c-1e5a-4e08-b676-cfe7386629f8",
   "metadata": {},
   "outputs": [
    {
     "name": "stdout",
     "output_type": "stream",
     "text": [
      "['Article', 'by', 'Richard', 'Cowan', 'In', '2018', '', 'the', 'Mexican', 'Supreme', 'Court', 'found', 'the', 'country’s', 'marijuana', 'laws', 'unconstitutional', 'and', 'ordered', 'Congress', 'to', 'draft', 'new', 'laws', '', 'Congress', 'has', 'had', 'to', 'request', 'several', 'extensions', '', 'but', 'now', 'it', 'has', 'failed', 'to', 'meet', 'another', 'deadline', '', 'just', 'as', 'it', 'seemed', 'close', 'to', 'agreement', 'on', 'new', 'laws', 'See', 'LATIN', 'AMERICA', 'MOVES', 'TOWARD', 'LEGALIZATION', 'FROM', 'ARGENTINA', 'TO', 'MEXICO', '', 'WITH', 'SOME', 'ABSURD', 'EXCEPTIONSFor', 'Americans', '', 'this', 'problem', 'may', 'seem', 'familiar', '', 'but', 'in', 'Mexico', '', 'the', 'stakes', 'are', 'much', 'higher', 'See', 'Don’t', 'Mention', 'The', 'Drug', 'War', 'Or', 'We', 'Might', 'Have', 'To', 'Deal', 'With', 'The', 'Real', '“Crisis', 'At', 'The', 'Border”Of', 'course', '', 'the', 'Pandemic', 'has', 'hit', 'Mexico', 'much', 'harder', 'than', 'the', 'US', '', 'At', 'one', 'point', 'they', 'reportedly', 'ran', 'out', 'of', 'death', 'certificates', '', 'but', 'in', 'a', 'country', 'where', 'thousands', 'of', 'people', 'are', 'killed', 'every', 'year', 'in', 'the', 'Drug', 'War', '', 'and', 'thousands', 'more', 'simply', 'disappear', '', 'it', 'is', 'just', 'another', 'tragedy', 'While', 'the', 'Mexican', 'government', 'still', 'controls', 'the', 'major', 'cities', '', 'there', 'are', 'large', 'areas', 'where', 'the', 'gangs', '(not', '“cartels”)', 'terrorize', 'the', 'people', 'who', 'are', 'not', 'allowed', 'to', 'own', 'guns', '', 'which', 'the', 'gangs', 'get', 'from', 'the', 'US', '', 'financed', 'by', 'selling', 'drugs', '', 'which', 'are', 'illegal', '', 'Etc', 'EtcUnfortunately', '', 'Mexican', 'President', 'Andres', 'Manuel', 'Lopez', 'Obrador', '(AMLO)', '', 'has', 'been', 'a', 'disaster', '', 'He', 'is', 'sort', 'of', 'a', 'left-wing', 'Trump', '', 'Latin', 'America', 'has', 'a', 'word', 'for', 'this:', '“Personalismo”', 'but', 'it', 'is', 'new', 'to', 'Mexico', '', '(And', 'to', 'the', 'US', '', 'until', 'recently', ')', 'In', 'post-Stalin', 'Russia', '', 'it', 'was', 'called', 'The', 'Cult', 'of', 'Personality', 'See', 'Republicans', 'have', 'built', 'a', 'cult', 'of', 'personality', 'around', 'Trump', 'that', 'glosses', 'over', 'his', 'disgraced', 'presidencyWhile', 'AMLO', 'campaigned', 'against', 'Mexico’s', 'deeply', 'embedded', 'corruption', '', 'last', 'year', 'he', 'ignored', 'the', 'Pandemic', 'to', 'meet', 'with', 'the', 'mother', 'of', 'El', 'Chapo', '', 'the', 'gangster', 'now', 'in', 'a', 'US', 'prison', 'See', 'Mexican', 'president', 'ignores', 'coronavirus', 'restrictions', 'to', 'greet', 'El', 'Chapo’s', 'motherAnd', 'while', 'Mexico', '', 'unlike', 'most', 'of', 'Latin', 'America', '', 'has', 'never', 'had', 'a', 'military', 'dictatorship', '', 'last', 'year', 'the', 'government’s', 'dependence', 'on', 'the', 'military', 'became', 'embarrassingly', 'obvious', '', 'Last', 'October', '', 'the', 'US', 'arrested', 'former', 'Mexican', 'defence', 'minister', '', 'Salvador', 'Cienfuegos', '', 'at', 'the', 'Los', 'Angeles', 'airport', '', 'Because', 'the', 'US', 'does', 'not', 'trust', 'the', 'Mexican', 'government', '', 'Washington', 'did', 'not', 'notify', 'Mexico', 'City', 'beforehand', 'Mexico', 'was', '“outraged”', '', 'supposedly', 'because', 'this', 'somehow', 'violated', 'its', 'sovereignty', '', 'etc', '', 'and', 'demanded', 'that', 'the', 'general', 'be', 'sent', 'back', 'to', 'Mexico', 'where', 'he', 'would', 'be', 'tried', 'for', 'corruption', '', 'The', 'US', 'agreed', '', 'perhaps', 'in', 'a', 'deal', 'for', 'Mexico', 'to', 'arrest', 'a', 'major', 'gang', 'leader', 'See', 'Exclusive:', 'Mexico', 'agreed', 'with', 'U', 'S', '', 'Attorney', 'General', 'Barr', 'to', 'arrest', 'drug', 'capo', 'in', 'deal', 'for', 'general', '–', 'sourceAnd', 'US', 'drops', 'case', 'against', 'ex-Mexican', 'general', 'after', 'pressureHowever', '', 'when', 'the', 'general', 'was', 'safely', 'back', 'in', 'Mexico', '', 'he', 'was', '“exonerated”', 'in', 'January', '', 'The', 'US', 'was', 'not', 'pleased', '', 'but', 'this', 'absurdity', 'clearly', 'demonstrated', 'the', 'power', 'of', 'the', 'Mexican', 'military', 'See', 'Mexico', 'Will', 'Not', 'Charge', 'Former', 'Defense', 'Chief', 'With', 'Drug', 'TraffickingNow', 'AMLO', 'faces', 'another', 'embarrassment', 'See', 'Mexico', 'worries', 'about', 'scorn', 'if', 'another', 'drug', 'lord', 'is', 'releasedMeanwhile', 'in', 'the', '“real', 'world”', '', 'the', 'pandemic', 'continues', '', 'so', 'the', 'US', 'is', 'sending', 'vaccines', 'to', 'Mexico', '', 'The', 'Republicans', 'are', 'denouncing', 'Biden’s', '“border', 'crisis”', 'and', 'demanding', 'that', 'VP', 'Harris', 'go', 'to', 'the', 'border', 'for', 'a', 'photo', 'op', 'with', 'the', '“big', '', 'beautiful', 'wall”', 'that', 'Trump', 'repeatedly', 'claimed', 'Mexico', 'would', 'pay', 'for', '', 'And', 'Mexico', 'is', 'caught', 'in', 'the', 'middle', '', 'but', 'it', 'is', 'still', 'struggling', 'with', 'the', 'easiest', 'part', '', 'legalizing', 'marijuana', 'As', 'an', 'old', 'and', 'largely', 'unrepentant', 'Drug', 'Warrior', '', 'Biden', 'cannot', 'recognize', 'the', 'increasing', 'damage', 'being', 'done', 'to', 'our', 'increasingly', 'vulnerable', 'neighbors', '', 'Harris', 'is', 'going', 'to', 'Central', 'America', '', 'even', 'more', 'vulnerable', 'and', 'corrupt', 'than', 'Mexico', '', 'but', 'she', 'cannot', 'even', 'mention', 'the', 'Drug', 'War', '', 'If', 'the', 'Mexican', 'military', 'is', 'deeply', 'corrupt', 'and', 'now', 'effectively', 'controls', 'the', 'national', 'government', 'under', 'the', 'incompetent', 'AMLO', '', 'we', 'are', 'in', 'a', 'new', 'phase', 'of', 'our', 'Latin', 'American', 'disaster', 'Richard', 'Cowan', 'is', 'a', 'former', 'NORML', 'National', 'Director', 'and', 'author', 'of', 'Different', 'CBD', 'Extracts', '', 'What', 'To', 'Choose?']\n"
     ]
    }
   ],
   "source": [
    "# 1. 영어권 뉴스 사이트에 접속하여 기사를 스크랩한 다음, 공백 및 마침표 등으로 구분하여 리스트에 저장하세요.\n",
    "\n",
    "from selenium import webdriver\n",
    "from bs4 import BeautifulSoup\n",
    "import time \n",
    "\n",
    "globe='https://www.globemagazine.com/content/mexico-fails-legalize-marijuana-drug-war-chaos-grows/'\n",
    "\n",
    "driver=webdriver.Chrome()\n",
    "driver.get(globe)\n",
    "time.sleep(3)\n",
    "\n",
    "html=driver.page_source\n",
    "\n",
    "soup=BeautifulSoup(html,'html.parser')\n",
    "\n",
    "news_lst=soup.select('#ami-post-content p')\n",
    "\n",
    "res=''\n",
    "for news in news_lst:\n",
    "    news=news.text\n",
    "    res+=news\n",
    "\n",
    "res1=res.replace('.',' ')\n",
    "\n",
    "res2=res1.replace(',',' ')\n",
    "\n",
    "result=res2.split(' ')\n",
    "\n",
    "print(result)"
   ]
  },
  {
   "cell_type": "code",
   "execution_count": 6,
   "id": "dbaa125a-7179-4d0e-8c1e-2e8d20b1f18a",
   "metadata": {},
   "outputs": [
    {
     "name": "stdout",
     "output_type": "stream",
     "text": [
      "AbCdEfG\n"
     ]
    }
   ],
   "source": [
    "# 2. 영어 알파벳으로 이루어진 문자열 str이 주어집니다. 각 알파벳을 대문자는 소문자로 소문자는 대문자로 변환해서 출력하는 코드를 작성해 보세요.\n",
    "\n",
    "# 제한사항\n",
    "# 1 ≤ str의 길이 ≤ 20\n",
    "# str은 알파벳으로 이루어진 문자열입니다.\n",
    "\n",
    "# 입출력 예\n",
    "# 입력 #1\n",
    "# aBcDeFg\n",
    "\n",
    "# 출력 #1\n",
    "# AbCdEfG\n",
    "\n",
    "A='aBcDeFg'\n",
    "\n",
    "res=''\n",
    "for a in A:\n",
    "    if a.isupper()==True:\n",
    "        a=a.lower()\n",
    "        res+=a\n",
    "    elif a.islower()==True:\n",
    "        a=a.upper()\n",
    "        res+=a\n",
    "print(res)"
   ]
  },
  {
   "cell_type": "code",
   "execution_count": null,
   "id": "e0656ac4-522f-4162-9b70-619978b740b7",
   "metadata": {},
   "outputs": [],
   "source": []
  }
 ],
 "metadata": {
  "kernelspec": {
   "display_name": "Python 3 (ipykernel)",
   "language": "python",
   "name": "python3"
  },
  "language_info": {
   "codemirror_mode": {
    "name": "ipython",
    "version": 3
   },
   "file_extension": ".py",
   "mimetype": "text/x-python",
   "name": "python",
   "nbconvert_exporter": "python",
   "pygments_lexer": "ipython3",
   "version": "3.11.7"
  }
 },
 "nbformat": 4,
 "nbformat_minor": 5
}
