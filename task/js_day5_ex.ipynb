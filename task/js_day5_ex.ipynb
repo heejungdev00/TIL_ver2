{
 "cells": [
  {
   "cell_type": "code",
   "execution_count": null,
   "id": "7773b6ba-6900-4ca4-80b1-ff25665dc8e0",
   "metadata": {},
   "outputs": [],
   "source": [
    "# 3.\n",
    "# 텍스트가 입력으로 주어질 때, 단어의 개수를 세는 프로그램을 작성한다.\n",
    "\n",
    "# 입력\n",
    "# 아래 내용을 가진 텍스트파일을 미리 만들어 두고, 프로그램을 실행하면 파일 내용을 읽어들인다(출처: Wikipedia).\n",
    "text_wiki='As the country became embroiled in a domestic crisis, the first government was dislodged and succeeded by several different administrations. Bolikango served as Deputy Prime Minister in one of the new governments before a partial state of stability was reestablished in 1961. He mediated between warring factions in the Congo and briefly served once again as Deputy Prime Minister in 1962 before returning to the parliamentary opposition. After Joseph-Desire Mobutu took power in 1965, Bolikango became a minister in his government. Mobutu soon dismissed him but appointed him to the political bureau of the Mouvement Populaire de la Revolution. Bolikango left the bureau in 1970. He left Parliament in 1975 and died seven years later. His grandson created the Jean Bolikango Foundation in his memory to promote social progress. The President of the Congo posthumously awarded Bolikango a medal in 2005 for his long career in public service.'\n",
    "# 출력\n",
    "# 구분자(Separator)는 마침표 '.', 쉼표 ',', 공백 ' ' 이다.\n",
    "# 가장 많이 나온 순서대로 단어 10개와 그 단어의 빈도를 출력한다.\n",
    "# 빈도가 같은 단어들 사이의 순서는 무시한다.\n",
    "\n",
    "# in 12\n",
    "# the 10\n",
    "# Bolikango 5\n",
    "# a 4\n",
    "# of 4\n",
    "# and 3\n",
    "# to 3\n",
    "# his 3\n",
    "# became 2\n",
    "# government 2\n",
    "\n",
    "import re\n",
    "from collections import Counter\n",
    "\n",
    "with open('text_wiki.txt','w') as myfile:\n",
    "    myfile.write(text_wiki)\n",
    "\n",
    "with open('text_wiki.txt','r') as myfile_r:\n",
    "    read_t=myfile_r.read()\n",
    "    print(read_t)\n",
    "\n",
    "read_t_1=read_t.replace('.','')\n",
    "\n",
    "read_t_2=read_t_1.replace(',','')\n",
    "\n",
    "read_t_2=read_t_2.lower()\n",
    "\n",
    "word_lst=read_t_2.split(' ')\n",
    "\n",
    "len(word_lst)\n",
    "\n",
    "word_set=list(set(word_lst))\n",
    "\n",
    "count=Counter(word_lst)\n",
    "\n",
    "print(count.most_common(10))"
   ]
  },
  {
   "cell_type": "code",
   "execution_count": null,
   "id": "7769581e-1f2f-4166-bde2-4e35c521c8f3",
   "metadata": {},
   "outputs": [],
   "source": []
  }
 ],
 "metadata": {
  "kernelspec": {
   "display_name": "Python 3 (ipykernel)",
   "language": "python",
   "name": "python3"
  },
  "language_info": {
   "codemirror_mode": {
    "name": "ipython",
    "version": 3
   },
   "file_extension": ".py",
   "mimetype": "text/x-python",
   "name": "python",
   "nbconvert_exporter": "python",
   "pygments_lexer": "ipython3",
   "version": "3.11.7"
  }
 },
 "nbformat": 4,
 "nbformat_minor": 5
}
