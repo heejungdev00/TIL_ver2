{
 "cells": [
  {
   "cell_type": "code",
   "execution_count": 1,
   "id": "882ba9ea-1c0a-49fe-bae8-059292700d99",
   "metadata": {},
   "outputs": [],
   "source": [
    "1. 선분 3개가 평행하게 놓여 있습니다. 세 선분의 시작과 끝 좌표가 [[start, end], [start, end], [start, end]] 형태로 들어있는 \n",
    "2차원 배열 lines가 매개변수로 주어질 때, 두 개 이상의 선분이 겹치는 부분의 길이를 return 하도록 solution 함수를 완성해보세요.\n",
    "\n",
    "​\n",
    "lines가 [[0, 2], [-3, -1], [-2, 1]]일 때 그림으로 나타내면 다음과 같습니다.\n",
    "\n",
    "선분이 두 개 이상 겹친 곳은 [-2, -1], [0, 1]로 길이 2만큼 겹쳐있습니다.\n",
    "\n",
    "\n",
    "제한사항\n",
    "lines의 길이 = 3\n",
    "lines의 원소의 길이 = 2\n",
    "모든 선분은 길이가 1 이상입니다.\n",
    "lines의 원소는 [a, b] 형태이며, a, b는 각각 선분의 양 끝점 입니다.\n",
    "-100 ≤ a < b ≤ 100\n",
    "\n",
    "입출력 예\n",
    "lines result\n",
    "[[0, 1], [2, 5], [3, 9]] 2\n",
    "[[-1, 1], [1, 3], [3, 9]] 0\n",
    "[[0, 5], [3, 9], [1, 10]] 8\n",
    "\n",
    "입출력 예 설명\n",
    "\n",
    "입출력 예 #1\n",
    "​\n",
    "\n",
    "두 번째, 세 번째 선분 [2, 5], [3, 9]가 [3, 5] 구간에 겹쳐있으므로 2를 return 합니다.\n",
    "\n",
    "입출력 예 #2\n",
    "\n",
    "​\n",
    "\n",
    "겹친 선분이 없으므로 0을 return 합니다.\n",
    "\n",
    "입출력 예 #3\n",
    "\n",
    "​\n",
    "첫 번째와 두 번째 선분이 [3, 5] 구간에서 겹칩니다.\n",
    "첫 번째와 세 번째 선분 [1, 5] 구간에서 겹칩니다.\n",
    "두 번째와 세 번째 선분 [3, 9] 구간에서 겹칩니다.\n",
    "\n",
    "따라서 [1, 9] 구간에 두 개 이상의 선분이 겹쳐있으므로, 8을 return 합니다."
   ]
  },
  {
   "cell_type": "code",
   "execution_count": null,
   "id": "6e88bd87-8951-4286-b6c2-922d276cb4fc",
   "metadata": {},
   "outputs": [],
   "source": []
  }
 ],
 "metadata": {
  "kernelspec": {
   "display_name": "Python 3 (ipykernel)",
   "language": "python",
   "name": "python3"
  },
  "language_info": {
   "codemirror_mode": {
    "name": "ipython",
    "version": 3
   },
   "file_extension": ".py",
   "mimetype": "text/x-python",
   "name": "python",
   "nbconvert_exporter": "python",
   "pygments_lexer": "ipython3",
   "version": "3.11.7"
  }
 },
 "nbformat": 4,
 "nbformat_minor": 5
}
