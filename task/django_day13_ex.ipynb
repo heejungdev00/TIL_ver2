{
 "cells": [
  {
   "cell_type": "code",
   "execution_count": 2,
   "id": "d7536061-e391-4736-a9ee-7c2964879611",
   "metadata": {},
   "outputs": [],
   "source": [
    "# 1.\n",
    "# 문제\n",
    "# 문제\n",
    "# 알파벳 대소문자로 된 단어가 주어지면, 이 단어에서 가장 많이 사용된 알파벳이 무엇인지 알아내는 프로그램을 작성하시오. \n",
    "# 단, 대문자와 소문자를 구분하지 않는다.\n",
    "\n",
    "# 입력\n",
    "# 첫째 줄에 알파벳 대소문자로 이루어진 단어가 주어진다. 주어지는 단어의 길이는 1,000,000을 넘지 않는다.\n",
    "\n",
    "# 출력\n",
    "# 첫째 줄에 이 단어에서 가장 많이 사용된 알파벳을 대문자로 출력한다. 단, 가장 많이 사용된 알파벳이 여러 개 존재하는 경우에는 ?를 출력한다.\n",
    "\n",
    "# 예제 입력 1 \n",
    "# Mississipi\n",
    "# 예제 출력 1 \n",
    "# ?\n",
    "# 예제 입력 2 \n",
    "# zZa\n",
    "# 예제 출력 2 \n",
    "# Z\n",
    "# 예제 입력 3 \n",
    "# z\n",
    "# 예제 출력 3 \n",
    "# Z\n",
    "# 예제 입력 4 \n",
    "# baaa\n",
    "# 예제 출력 4 \n",
    "# A\n"
   ]
  },
  {
   "cell_type": "code",
   "execution_count": null,
   "id": "58fed6c5-95ad-483e-a5ea-4a824d54e04c",
   "metadata": {},
   "outputs": [],
   "source": []
  }
 ],
 "metadata": {
  "kernelspec": {
   "display_name": "Python 3 (ipykernel)",
   "language": "python",
   "name": "python3"
  },
  "language_info": {
   "codemirror_mode": {
    "name": "ipython",
    "version": 3
   },
   "file_extension": ".py",
   "mimetype": "text/x-python",
   "name": "python",
   "nbconvert_exporter": "python",
   "pygments_lexer": "ipython3",
   "version": "3.11.7"
  }
 },
 "nbformat": 4,
 "nbformat_minor": 5
}
