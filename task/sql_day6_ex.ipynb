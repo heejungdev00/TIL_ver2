{
 "cells": [
  {
   "cell_type": "code",
   "execution_count": 14,
   "id": "6ba01861-7a68-4b5b-bcea-881baeecf274",
   "metadata": {},
   "outputs": [
    {
     "name": "stdin",
     "output_type": "stream",
     "text": [
      "10000이하 자연수 4\n"
     ]
    },
    {
     "name": "stdout",
     "output_type": "stream",
     "text": [
      "가나가나\n"
     ]
    }
   ],
   "source": [
    "# 1. 길이가 n이고, \"가나가나가나....\"와 같은 패턴을 유지하는 문자열을 리턴하는 함수, solution을 완성하세요. \n",
    "# 예를들어 n이 4이면 \"수박수박\"을 리턴하고 3이라면 \"수박수\"를 리턴하면 됩니다.\n",
    "\n",
    "# 제한 조건\n",
    "# n은 길이 10,000이하인 자연수입니다.\n",
    "# 입출력 예\n",
    "# n\treturn\n",
    "# 3\t\"가나가\"\n",
    "# 4\t\"가나가나\"\n",
    "\n",
    "n=int(input('10000이하 자연수'))\n",
    "\n",
    "lst=['가','나']\n",
    "\n",
    "\n",
    "def solution(n):\n",
    "    res=''\n",
    "    for i in range(n):\n",
    "        if i%2==0:\n",
    "            res+=lst[0]\n",
    "        if i%2==1:\n",
    "            res+=lst[1]\n",
    "    return res\n",
    "\n",
    "print(solution(n))"
   ]
  },
  {
   "cell_type": "code",
   "execution_count": 30,
   "id": "110dc40e-edb1-4256-84b0-2eb6ffd28c65",
   "metadata": {},
   "outputs": [
    {
     "name": "stdout",
     "output_type": "stream",
     "text": [
      "[4, 6]\n"
     ]
    }
   ],
   "source": [
    "# 2. 행렬의 덧셈은 행과 열의 크기가 같은 두 행렬의 같은 행, 같은 열의 값을 서로 더한 결과가 됩니다. \n",
    "# 2개의 행렬 arr1과 arr2를 입력받아, 행렬 덧셈의 결과를 반환하는 함수, solution을 완성해주세요.\n",
    "\n",
    "# 제한 조건\n",
    "# 행렬 arr1, arr2의 행과 열의 길이는 500을 넘지 않습니다.\n",
    "# 입출력 예\n",
    "# arr1\tarr2\treturn\n",
    "# [[1,2],[2,3]]\t[[3,4],[5,6]]\t[[4,6],[7,9]]\n",
    "# [[1],[2]]\t[[3],[4]]\t[[4],[6]]\n",
    "\n",
    "arr1=[[1],[2]]\n",
    "arr2=[[3],[4]]\n",
    "\n",
    "def solution():\n",
    "    res=[]\n",
    "    for i in range(len(arr1)):\n",
    "        for j in range(len(arr1[0])):\n",
    "            res.append(arr1[i][j]+arr2[i][j])\n",
    "    return res\n",
    "\n",
    "print(solution())\n",
    "\n",
    "#리스트를 입력값과 같은 행렬로 만드는 법을 모르겠습니다ㅜㅜ"
   ]
  },
  {
   "cell_type": "code",
   "execution_count": 31,
   "id": "85d04840-d9e7-4494-a782-eb37b07c6674",
   "metadata": {},
   "outputs": [],
   "source": [
    "# 3. 파일명 정렬\n",
    "# 세 차례의 코딩 테스트와 두 차례의 면접이라는 기나긴 블라인드 공채를 무사히 통과해 \n",
    "# 카카오에 입사한 무지는 파일 저장소 서버 관리를 맡게 되었다.\n",
    "\n",
    "# 저장소 서버에는 프로그램의 과거 버전을 모두 담고 있어, 이름 순으로 정렬된 파일 목록은 보기가 불편했다. \n",
    "# 파일을 이름 순으로 정렬하면 나중에 만들어진 ver-10.zip이 ver-9.zip보다 먼저 표시되기 때문이다.\n",
    "\n",
    "# 버전 번호 외에도 숫자가 포함된 파일 목록은 여러 면에서 관리하기 불편했다. \n",
    "# 예컨대 파일 목록이 [\"img12.png\", \"img10.png\", \"img2.png\", \"img1.png\"]일 경우, \n",
    "# 일반적인 정렬은 [\"img1.png\", \"img10.png\", \"img12.png\", \"img2.png\"] 순이 되지만, \n",
    "# 숫자 순으로 정렬된 [\"img1.png\", \"img2.png\", \"img10.png\", img12.png\"] 순이 훨씬 자연스럽다.\n",
    "\n",
    "# 무지는 단순한 문자 코드 순이 아닌, 파일명에 포함된 숫자를 반영한 정렬 기능을 저장소 관리 프로그램에 \n",
    "# 구현하기로 했다.\n",
    "\n",
    "# 소스 파일 저장소에 저장된 파일명은 100 글자 이내로, \n",
    "# 영문 대소문자, 숫자, 공백(\" \"), 마침표(\".\"), 빼기 부호(\"-\")만으로 이루어져 있다. \n",
    "# 파일명은 영문자로 시작하며, 숫자를 하나 이상 포함하고 있다.\n",
    "\n",
    "# 파일명은 크게 HEAD, NUMBER, TAIL의 세 부분으로 구성된다.\n",
    "\n",
    "# HEAD는 숫자가 아닌 문자로 이루어져 있으며, 최소한 한 글자 이상이다.\n",
    "# NUMBER는 한 글자에서 최대 다섯 글자 사이의 연속된 숫자로 이루어져 있으며, 앞쪽에 0이 올 수 있다. \n",
    "# 0부터 99999 사이의 숫자로, 00000이나 0101 등도 가능하다.\n",
    "# TAIL은 그 나머지 부분으로, 여기에는 숫자가 다시 나타날 수도 있으며, 아무 글자도 없을 수 있다.\n",
    "\n",
    "# 파일명\tHEAD\tNUMBER\tTAIL\n",
    "# foo9.txt\tfoo\t9\t.txt\n",
    "# foo010bar020.zip\tfoo\t010\tbar020.zip\n",
    "# F-15\tF-\t15\t(빈 문자열)\n",
    "\n",
    "# 파일명을 세 부분으로 나눈 후, 다음 기준에 따라 파일명을 정렬한다.\n",
    "\n",
    "# 파일명은 우선 HEAD 부분을 기준으로 사전 순으로 정렬한다. \n",
    "# 이때, 문자열 비교 시 대소문자 구분을 하지 않는다. MUZI와 muzi, MuZi는 정렬 시에 같은 순서로 취급된다.\n",
    "\n",
    "# 파일명의 HEAD 부분이 대소문자 차이 외에는 같을 경우, NUMBER의 숫자 순으로 정렬한다. \n",
    "# 9 < 10 < 0011 < 012 < 13 < 014 순으로 정렬된다. \n",
    "# 숫자 앞의 0은 무시되며, 012와 12는 정렬 시에 같은 같은 값으로 처리된다.\n",
    "# 두 파일의 HEAD 부분과, NUMBER의 숫자도 같을 경우, 원래 입력에 주어진 순서를 유지한다. \n",
    "# MUZI01.zip과 muzi1.png가 입력으로 들어오면, 정렬 후에도 입력 시 주어진 두 파일의 순서가 \n",
    "# 바뀌어서는 안 된다.\n",
    "# 무지를 도와 파일명 정렬 프로그램을 구현하라.\n",
    "\n",
    "# 입력 형식\n",
    "# 입력으로 배열 files가 주어진다.\n",
    "\n",
    "# files는 1000 개 이하의 파일명을 포함하는 문자열 배열이다.\n",
    "# 각 파일명은 100 글자 이하 길이로, \n",
    "# 영문 대소문자, 숫자, 공백(\" \"), 마침표(\".\"), 빼기 부호(\"-\")만으로 이루어져 있다. \n",
    "# 파일명은 영문자로 시작하며, 숫자를 하나 이상 포함하고 있다.\n",
    "# 중복된 파일명은 없으나, 대소문자나 숫자 앞부분의 0 차이가 있는 경우는 함께 주어질 수 있다. \n",
    "# (muzi1.txt, MUZI1.txt, muzi001.txt, muzi1.TXT는 함께 입력으로 주어질 수 있다.)\n",
    "\n",
    "# 출력 형식\n",
    "# 위 기준에 따라 정렬된 배열을 출력한다.\n",
    "\n",
    "# 입출력 예제\n",
    "# 입력: [\"img12.png\", \"img10.png\", \"img02.png\", \"img1.png\", \"IMG01.GIF\", \"img2.JPG\"]\n",
    "# 출력: [\"img1.png\", \"IMG01.GIF\", \"img02.png\", \"img2.JPG\", \"img10.png\", \"img12.png\"]\n",
    "\n",
    "# 입력: [\"F-5 Freedom Fighter\", \"B-50 Superfortress\", \"A-10 Thunderbolt II\", \"F-14 Tomcat\"]\n",
    "# 출력: [\"A-10 Thunderbolt II\", \"B-50 Superfortress\", \"F-5 Freedom Fighter\", \"F-14 Tomcat\"]\n",
    "\n"
   ]
  },
  {
   "cell_type": "code",
   "execution_count": 32,
   "id": "6427af29-e04f-47f5-8e3b-84a576002470",
   "metadata": {},
   "outputs": [],
   "source": [
    "files=[\"img12.png\", \"img10.png\", \"img02.png\", \"img1.png\", \"IMG01.GIF\", \"img2.JPG\"]"
   ]
  },
  {
   "cell_type": "code",
   "execution_count": 33,
   "id": "caade21d-d416-4d5b-99fd-b259980d800c",
   "metadata": {},
   "outputs": [
    {
     "name": "stdout",
     "output_type": "stream",
     "text": [
      "0 img12.png\n",
      "1 img10.png\n",
      "2 img02.png\n",
      "3 img1.png\n",
      "4 IMG01.GIF\n",
      "5 img2.JPG\n"
     ]
    }
   ],
   "source": [
    "for i,file in enumerate(files):\n",
    "    for f in file:\n",
    "        if type(evan(f))\n",
    "    "
   ]
  },
  {
   "cell_type": "code",
   "execution_count": 45,
   "id": "e7e05b12-07a3-4c71-91ee-1dc8b0811b5d",
   "metadata": {},
   "outputs": [],
   "source": [
    "aa=['a','A','g','B','b']"
   ]
  },
  {
   "cell_type": "code",
   "execution_count": 46,
   "id": "605a732d-d12d-4257-bda2-1553860054b1",
   "metadata": {},
   "outputs": [
    {
     "data": {
      "text/plain": [
       "['A', 'B', 'a', 'b', 'g']"
      ]
     },
     "execution_count": 46,
     "metadata": {},
     "output_type": "execute_result"
    }
   ],
   "source": [
    "sorted(aa)"
   ]
  },
  {
   "cell_type": "code",
   "execution_count": 47,
   "id": "9715b3d7-3685-43d0-8a6d-13f042a86bd8",
   "metadata": {},
   "outputs": [],
   "source": [
    "lst=[]\n",
    "for a in aa:\n",
    "    a=a.upper()\n",
    "    lst.append(a)"
   ]
  },
  {
   "cell_type": "code",
   "execution_count": 49,
   "id": "fce59d62-537e-4ffa-9cfc-558063c8d0ea",
   "metadata": {},
   "outputs": [
    {
     "data": {
      "text/plain": [
       "['A', 'A', 'B', 'B', 'G']"
      ]
     },
     "execution_count": 49,
     "metadata": {},
     "output_type": "execute_result"
    }
   ],
   "source": [
    "sorted(lst)"
   ]
  },
  {
   "cell_type": "code",
   "execution_count": null,
   "id": "fa3b66d7-a61b-4713-84d6-45c343bc482e",
   "metadata": {},
   "outputs": [],
   "source": []
  }
 ],
 "metadata": {
  "kernelspec": {
   "display_name": "Python 3 (ipykernel)",
   "language": "python",
   "name": "python3"
  },
  "language_info": {
   "codemirror_mode": {
    "name": "ipython",
    "version": 3
   },
   "file_extension": ".py",
   "mimetype": "text/x-python",
   "name": "python",
   "nbconvert_exporter": "python",
   "pygments_lexer": "ipython3",
   "version": "3.11.7"
  }
 },
 "nbformat": 4,
 "nbformat_minor": 5
}
