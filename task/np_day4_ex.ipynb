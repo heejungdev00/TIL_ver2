{
 "cells": [
  {
   "cell_type": "code",
   "execution_count": null,
   "id": "34f60d3e-54a7-450b-90ed-d7ba88d07fe6",
   "metadata": {},
   "outputs": [],
   "source": [
    "# 1.\n",
    "# 실수로 이루어진 5 x 6 형태의 데이터 행렬을 만들고 이 데이터에 대해 다음과 같은 값을 구한다.\n",
    "\n",
    "# 전체의 최댓값\n",
    "\n",
    "# 각 행의 합\n",
    "\n",
    "# 각 행의 최댓값\n",
    "\n",
    "# 각 열의 평균\n",
    "\n",
    "# 각 열의 최솟값\n",
    "\n",
    "import numpy as np\n",
    "arr=np.arange(30).reshape(5,6)\n",
    "\n",
    "arr\n",
    "\n",
    "np.max(arr)\n",
    "\n",
    "np.sum(arr,axis=1)\n",
    "\n",
    "np.max(arr,axis=1)\n",
    "\n",
    "np.mean(arr, axis=0)\n",
    "\n",
    "np.min(arr, axis=0)"
   ]
  },
  {
   "cell_type": "code",
   "execution_count": null,
   "id": "4bb5f6a1-2cf4-4d2a-b759-32bd4a090651",
   "metadata": {},
   "outputs": [],
   "source": [
    "# 2.\n",
    "# 다음 배열은 첫번째 행(row)에 학번, 두번째 행에 영어 성적, 세번째 행에 수학 성적을 적은 배열이다. \n",
    "# 영어 성적을 기준으로 각 열(column)을 재정렬하라.\n",
    "\n",
    "arr=np.array([[  1,    2,    3,    4],\n",
    "       [ 46,   99,  100,   71],\n",
    "       [ 81,   59,   90,  100]])\n",
    "\n",
    "np.sort(arr[2])\n",
    "\n",
    "print(arr[:, arr[2].argsort()])"
   ]
  },
  {
   "cell_type": "code",
   "execution_count": null,
   "id": "ece7a19e-15c0-45be-b9ed-ab64d58fe2a3",
   "metadata": {},
   "outputs": [],
   "source": []
  }
 ],
 "metadata": {
  "kernelspec": {
   "display_name": "Python 3 (ipykernel)",
   "language": "python",
   "name": "python3"
  },
  "language_info": {
   "codemirror_mode": {
    "name": "ipython",
    "version": 3
   },
   "file_extension": ".py",
   "mimetype": "text/x-python",
   "name": "python",
   "nbconvert_exporter": "python",
   "pygments_lexer": "ipython3",
   "version": "3.11.7"
  }
 },
 "nbformat": 4,
 "nbformat_minor": 5
}
