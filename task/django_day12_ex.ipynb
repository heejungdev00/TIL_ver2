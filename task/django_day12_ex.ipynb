{
 "cells": [
  {
   "cell_type": "code",
   "execution_count": 8,
   "id": "e016ed11-a870-4b11-b625-a99132d8beb9",
   "metadata": {},
   "outputs": [
    {
     "name": "stdout",
     "output_type": "stream",
     "text": [
      "AE\n",
      "OO\n",
      "AB\n"
     ]
    }
   ],
   "source": [
    "# 1.문제\n",
    "# 문자열을 입력으로 주면 문자열의 첫 글자와 마지막 글자를 출력하는 프로그램을 작성하시오.\n",
    "\n",
    "# 입력\n",
    "# 입력의 첫 줄에는 테스트 케이스의 개수 T(1 ≤ T ≤ 10)가 주어진다. 각 테스트 케이스는 한 줄에 하나의 문자열이 주어진다. 문자열은 알파벳 A~Z 대문자로 이루어지며 알파벳 사이에 공백은 없으며 문자열의 길이는 1000보다 작다.\n",
    "\n",
    "# 출력\n",
    "# 각 테스트 케이스에 대해서 주어진 문자열의 첫 글자와 마지막 글자를 연속하여 출력한다.\n",
    "\n",
    "# 예제 입력 1 \n",
    "# 3\n",
    "# ACDKJFOWIEGHE\n",
    "# O\n",
    "# AB\n",
    "# 예제 출력 1 \n",
    "# AE\n",
    "# OO\n",
    "# AB\n",
    "\n",
    "\n",
    "input_data='''ACDKJFOWIEGHE\n",
    "O\n",
    "AB'''\n",
    "\n",
    "input_data=input_data.split('\\n')\n",
    "\n",
    "for d in input_data:\n",
    "    print(d[0]+d[-1])"
   ]
  },
  {
   "cell_type": "code",
   "execution_count": 31,
   "id": "c86d7650-17a1-460e-b452-bcd24bee9f11",
   "metadata": {},
   "outputs": [
    {
     "name": "stdin",
     "output_type": "stream",
     "text": [
      " 24\n"
     ]
    },
    {
     "name": "stdout",
     "output_type": "stream",
     "text": [
      "4\n"
     ]
    }
   ],
   "source": [
    "# 2. S대학교 컴퓨터공학과 실습실 R912호에는 현재 N개의 창문이 있고 또 N명의 사람이 있다. 1번째 사람은 1의 배수 번째 창문을 열려 있으면 닫고 닫혀 있으면 연다.  2번째 사람은 2의 배수 번째 창문을 열려 있으면 닫고 닫혀 있으면 연다. 이러한 행동을 N번째 사람까지 진행한 후 열려 있는 창문의 개수를 구하라. 단, 처음에 모든 창문은 닫혀 있다.\n",
    "\n",
    "# 예를 들어 현재 3개의 창문이 있고 3명의 사람이 있을 때,\n",
    "\n",
    "# 1번째 사람은 1의 배수인 1,2,3번 창문을 연다. (1, 1, 1)\n",
    "# 2번째 사람은 2의 배수인 2번 창문을 닫는다. (1, 0, 1)\n",
    "# 3번째 사람은 3의 배수인 3번 창문을 닫는다. (1, 0, 0)\n",
    "# 결과적으로 마지막에 열려 있는 창문의 개수는 1개 이다.\n",
    "\n",
    "# 입력\n",
    "# 첫 번째 줄에는 창문의 개수와 사람의 수 N(1 ≤ N ≤ 2,100,000,000)이 주어진다.\n",
    "\n",
    "# 출력\n",
    "# 마지막에 열려 있는 창문의 개수를 출력한다.\n",
    "\n",
    "# 예제 입력 1 \n",
    "# 3\n",
    "# 예제 출력 1 \n",
    "# 1\n",
    "\n",
    "# 예제 입력 2 \n",
    "# 24\n",
    "# 예제 출력 2 \n",
    "# 4\n",
    "\n",
    "\n",
    "input_N = int(input())\n",
    "\n",
    "window = [0] * input_N\n",
    "\n",
    "for stu in range(1, input_N + 1):\n",
    "    for win in range(1, input_N + 1):\n",
    "        if win % stu == 0:\n",
    "            if window[win - 1] == 0:\n",
    "                window[win - 1] = 1\n",
    "            else:\n",
    "                window[win - 1] = 0\n",
    "\n",
    "open_windows = sum(window)\n",
    "print(open_windows)"
   ]
  },
  {
   "cell_type": "code",
   "execution_count": 32,
   "id": "075ece52-bc1d-4099-9451-feb2f9e52fbd",
   "metadata": {},
   "outputs": [],
   "source": [
    "# 3. 문제 직선으로 되어있는 도로의 한 편에 가로수가 임의의 간격으로 심어져있다. \n",
    "# KOI 시에서는 가로수들이 모두 같은 간격이 되도록 가로수를 추가로 심는 사업을 추진하고 있다. \n",
    "# KOI 시에서는 예산문제로 가능한 한 가장 적은 수의 나무를 심고 싶다.\n",
    "\n",
    "# 편의상 가로수의 위치는 기준점으로 부터 떨어져 있는 거리로 표현되며, 가로수의 위치는 모두 양의 정수이다.\n",
    "\n",
    "# 예를 들어, 가로수가 (1, 3, 7, 13)의 위치에 있다면 (5, 9, 11)의 위치에 가로수를 더 심으면 모든 가로수들의 간격이 같게 된다. \n",
    "# 또한, 가로수가 (2, 6, 12, 18)에 있다면 (4, 8, 10, 14, 16)에 가로수를 더 심어야 한다.\n",
    "\n",
    "# 심어져 있는 가로수의 위치가 주어질 때, 모든 가로수가 같은 간격이 되도록 새로 심어야 하는 가로수의 최소수를 \n",
    "# 구하는 프로그램을 작성하라. 단, 추가되는 나무는 기존의 나무들 사이에만 심을 수 있다.\n",
    "\n",
    "# 입력\n",
    "# 첫째 줄에는 이미 심어져 있는 가로수의 수를 나타내는 하나의 정수 N이 주어진다(3 ≤ N ≤ 100,000). \n",
    "# 둘째 줄부터 N개의 줄에는 각 줄마다 심어져 있는 가로수의 위치가 양의 정수로 주어지며, \n",
    "# 가로수의 위치를 나타내는 정수는 1,000,000,000 이하이다. \n",
    "# 가로수의 위치를 나타내는 정수는 모두 다르고, N개의 가로수는 기준점으로부터 떨어진 거리가 가까운 순서대로 주어진다.\n",
    "\n",
    "# 출력\n",
    "# 모든 가로수가 같은 간격이 되도록 새로 심어야 하는 가로수의 최소수를 첫 번째 줄에 출력한다.\n",
    "\n",
    "# 예제 입력 1 \n",
    "# 4\n",
    "# 1\n",
    "# 3\n",
    "# 7\n",
    "# 13\n",
    "# 예제 출력 1 \n",
    "# 3\n",
    "\n",
    "\n",
    "# 예제 입력 2 \n",
    "# 4\n",
    "# 2\n",
    "# 6\n",
    "# 12\n",
    "# 18\n",
    "# 예제 출력 2 \n",
    "# 5"
   ]
  },
  {
   "cell_type": "code",
   "execution_count": null,
   "id": "23a490de-f6b0-4dc1-a444-c6d1e519591f",
   "metadata": {},
   "outputs": [],
   "source": []
  }
 ],
 "metadata": {
  "kernelspec": {
   "display_name": "Python 3 (ipykernel)",
   "language": "python",
   "name": "python3"
  },
  "language_info": {
   "codemirror_mode": {
    "name": "ipython",
    "version": 3
   },
   "file_extension": ".py",
   "mimetype": "text/x-python",
   "name": "python",
   "nbconvert_exporter": "python",
   "pygments_lexer": "ipython3",
   "version": "3.11.7"
  }
 },
 "nbformat": 4,
 "nbformat_minor": 5
}
