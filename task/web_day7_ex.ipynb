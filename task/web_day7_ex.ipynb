{
 "cells": [
  {
   "cell_type": "code",
   "execution_count": null,
   "id": "20aa1cdd-2e53-4606-8a94-23a1c5e27db7",
   "metadata": {},
   "outputs": [],
   "source": [
    "# 2,시저 암호는, 고대 로마의 황제 줄리어스 시저가 만들어 낸 암호인데, 예를 들어 알파벳 A를 입력했을 때, \n",
    "# 그 알파벳의 n개 뒤에 오는(여기서는 예를 들 때 3으로 지정하였다)알파벳이 출력되는 것이다. \n",
    "# 예를 들어 바꾸려는 단어가 'CAT\"고, n을 5로 지정하였을 때 \"HFY\"가 되는 것이다.\n",
    "\n",
    "# 어떠한 암호를 만들 문장과 n을 입력했을 때 암호를 만들어 출력하는 프로그램을 작성해라.\n",
    "\n",
    "# code='CATY'\n",
    "# n=5\n",
    "code=input()\n",
    "n=int(input())\n",
    "res=''\n",
    "for c in code:\n",
    "    if ord(c)+n > 90:\n",
    "        res+=chr(ord(c)+n-26)\n",
    "    else:\n",
    "        res+=chr(ord(c)+n)\n",
    "\n",
    "print(res)"
   ]
  },
  {
   "cell_type": "code",
   "execution_count": 48,
   "id": "83965ac9-785b-4fc4-9900-b9d8d7607aaf",
   "metadata": {},
   "outputs": [
    {
     "name": "stdout",
     "output_type": "stream",
     "text": [
      "HE SLEEPS EARLY\n"
     ]
    }
   ],
   "source": [
    "# 3.문자열 형식으로 입력 받은 모스코드(dot: . dash:-)를 해독하여 영어 문장으로 출력하는 프로그램을 작성하시오.\n",
    "\n",
    "# 글자와 글자 사이는 공백 하나, 단어와 단어 사이는 공백 두개로 구분한다.\n",
    "\n",
    "# 예를 들어 다음 모스부호는 \"he sleeps early\"로 해석해야 한다.\n",
    "\n",
    "# .... .  ... .-.. . . .--. ...  . .- .-. .-.. -.--\n",
    "# 모스부호 규칙 표\n",
    "\n",
    "# 문자\t부호\t문자\t부호\n",
    "# A\t.-\tN\t-.\n",
    "# B\t-...\tO\t---\n",
    "# C\t-.-.\tP\t.--.\n",
    "# D\t-..\tQ\t--.-\n",
    "# E\t.\tR\t.-.\n",
    "# F\t..-.\tS\t...\n",
    "# G\t--.\tT\t-\n",
    "# H\t....\tU\t..-\n",
    "\n",
    "# I\t..\tV\t...-\n",
    "# J\t.---\tW\t.--\n",
    "# K\t-.-\tX\t-..-\n",
    "# L\t.-..\tY\t-.--\n",
    "# M\t--\tZ\t--..\n",
    "\n",
    "mos_dic={'.-':'A', '-.':'N', '-...':'B', '---':'O', '-.-.':'C', '.--.':'P', '-..':'D', '--.-':'Q', '.':'E', '.-.':'R','..-.':'F', \n",
    "         '...':'S', '--.':'G', '-':'T', '....':'H', '..-':'U', '..':'I', '...-':'V', '.---':'J', '.--':'W', '-.-':'K', '-..-':'X', \n",
    "         '.-..':'L', '-.--':'Y', '--':'M', '--..':'Z'}\n",
    "\n",
    "mos=\".... .  ... .-.. . . .--. ...  . .- .-. .-.. -.--\"\n",
    "mos_list=mos.split(' ')\n",
    "\n",
    "res=''\n",
    "for m in mos_list:\n",
    "    if m=='':  # 빈칸이면 공백 출력\n",
    "        res+=' '\n",
    "    else:\n",
    "        solution=mos_dic.get(m)\n",
    "        res+=solution\n",
    "print(res)"
   ]
  },
  {
   "cell_type": "code",
   "execution_count": 62,
   "id": "91906b83-2d49-4ae2-b253-adcde075d75d",
   "metadata": {},
   "outputs": [
    {
     "name": "stdin",
     "output_type": "stream",
     "text": [
      " 1 10\n"
     ]
    },
    {
     "name": "stdout",
     "output_type": "stream",
     "text": [
      "1\n"
     ]
    }
   ],
   "source": [
    "# 1.A씨는 게시판 프로그램을 작성하고 있다.\n",
    "\n",
    "# A씨는 게시물의 총 건수와 한 페이지에 보여줄 게시물수를 입력으로 주었을 때 총 페이지수를 리턴하는 프로그램이 필요하다고 한다.\n",
    "\n",
    "# 입력 : 총건수(m), 한페이지에 보여줄 게시물수(n) (단 n은 1보다 크거나 같다. n >= 1)\n",
    "# 출력 : 총페이지수\n",
    "\n",
    "# A씨가 필요한 프로그램을 작성하시오.\n",
    "\n",
    "# 예) 프로그램 수행 시 다음과 같은 결과값이 나와야 함.\n",
    "\n",
    "# m\tn\t출력\n",
    "# 0\t1\t0\n",
    "# 1\t1\t1\n",
    "# 2\t1\t2\n",
    "# 1\t10\t1\n",
    "# 10\t10\t1\n",
    "# 11\t10\t2\n",
    "\n",
    "import math\n",
    "\n",
    "m, n = map(int,input().split(' '))\n",
    "\n",
    "if m==0:\n",
    "    res=0\n",
    "else:\n",
    "    res=math.ceil(m/n)\n",
    "print(res)"
   ]
  },
  {
   "cell_type": "code",
   "execution_count": null,
   "id": "4a91cfdd-8f40-4eab-8c30-550665ecaec3",
   "metadata": {},
   "outputs": [],
   "source": []
  }
 ],
 "metadata": {
  "kernelspec": {
   "display_name": "Python 3 (ipykernel)",
   "language": "python",
   "name": "python3"
  },
  "language_info": {
   "codemirror_mode": {
    "name": "ipython",
    "version": 3
   },
   "file_extension": ".py",
   "mimetype": "text/x-python",
   "name": "python",
   "nbconvert_exporter": "python",
   "pygments_lexer": "ipython3",
   "version": "3.11.7"
  }
 },
 "nbformat": 4,
 "nbformat_minor": 5
}
