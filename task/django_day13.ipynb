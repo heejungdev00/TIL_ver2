{
 "cells": [
  {
   "cell_type": "code",
   "execution_count": null,
   "id": "cc622b0c-4b68-48e0-be4d-38b8742c974c",
   "metadata": {},
   "outputs": [],
   "source": [
    "team1=['지승환']\n",
    "team2=['최동현']\n",
    "team3=['추희정']\n",
    "imsi=['김상준', '김선우', '안성진', '유윤태', '윤혜진', '전은채', '조한영', '오승주']\n",
    "# 8명을 랜덤하게 2명씩 뽑아서 team 1~team 3까지 할당\n",
    "# 나머지 2명을 랜덤하게 team1~team3 중에서 2개 팀에 각각 1명씩 할당\n",
    "\n",
    "import random\n",
    "\n",
    "random.shuffle(imsi)\n",
    "\n",
    "team1 += imsi[:2]\n",
    "team2 += imsi[2:4]\n",
    "team3 += imsi[4:6]\n",
    "\n",
    "remain = imsi[6:]\n",
    "\n",
    "team1.append(remain[0])\n",
    "team2.append(remain[1])\n",
    "\n",
    "print(\"Team 1:\", team1)\n",
    "print(\"Team 2:\", team2)\n",
    "print(\"Team 3:\", team3)"
   ]
  },
  {
   "cell_type": "code",
   "execution_count": 12,
   "id": "4e2d17fd-7eb2-48fd-ad37-c788aaa90644",
   "metadata": {},
   "outputs": [
    {
     "name": "stdout",
     "output_type": "stream",
     "text": [
      "Team 1: ['지승환', '오승주', '안성진', '전은채']\n",
      "Team 2: ['최동현', '김선우', '윤혜진', '조한영']\n",
      "Team 3: ['추희정', '유윤태', '김상준']\n"
     ]
    }
   ],
   "source": [
    "import random\n",
    "\n",
    "# 초기 팀원 리스트\n",
    "team1 = ['지승환']\n",
    "team2 = ['최동현']\n",
    "team3 = ['추희정']\n",
    "imsi = ['김상준', '김선우', '안성진', '유윤태', '윤혜진', '전은채', '조한영', '오승주']\n",
    "\n",
    "# 랜덤하게 팀원 선택 및 배정\n",
    "random.shuffle(imsi)\n",
    "team1 += imsi[:2]\n",
    "team2 += imsi[2:4]\n",
    "team3 += imsi[4:6]\n",
    "\n",
    "# 나머지 팀원 중 랜덤하게 2명 선택\n",
    "remaining_members = imsi[6:]\n",
    "extra_members = random.sample(remaining_members, 2)\n",
    "\n",
    "# 선택된 2명을 각 팀에 배정\n",
    "team1.append(extra_members[0])\n",
    "team2.append(extra_members[1])\n",
    "\n",
    "# 결과 출력\n",
    "print(\"Team 1:\", team1)\n",
    "print(\"Team 2:\", team2)\n",
    "print(\"Team 3:\", team3)"
   ]
  },
  {
   "cell_type": "code",
   "execution_count": 21,
   "id": "be94859a-378b-432e-b6f6-fd03e0db356e",
   "metadata": {},
   "outputs": [],
   "source": [
    "def solution(n):\n",
    "    for i in range(1,n+1):\n",
    "        res+=i**2\n",
    "\n",
    "    return res"
   ]
  },
  {
   "cell_type": "code",
   "execution_count": null,
   "id": "4e1bae4e-07b9-449a-ad66-618e1157ef4b",
   "metadata": {},
   "outputs": [],
   "source": [
    "n=[123,44,1,3,123]\n",
    "\n",
    "res=float(\"inf\")\n",
    "for i in n:\n",
    "    if res>i:\n",
    "        res=i"
   ]
  },
  {
   "cell_type": "code",
   "execution_count": 27,
   "id": "6716ecd1-8ae4-4598-bb7e-a47f8950d2f5",
   "metadata": {},
   "outputs": [
    {
     "data": {
      "text/plain": [
       "1"
      ]
     },
     "execution_count": 27,
     "metadata": {},
     "output_type": "execute_result"
    }
   ],
   "source": [
    "res"
   ]
  },
  {
   "cell_type": "code",
   "execution_count": 36,
   "id": "d4cce60d-a0e6-41f3-8641-f861e9455c52",
   "metadata": {},
   "outputs": [],
   "source": [
    "name = [\"Tom\", \"Jerry\", \"Mike\", \"Tom\"]"
   ]
  },
  {
   "cell_type": "code",
   "execution_count": 37,
   "id": "b2afc0ff-b9f6-402d-9b07-cc28621d5542",
   "metadata": {},
   "outputs": [],
   "source": [
    "name2 = [\"Tom\", \"Jerry\", \"Mike\", \"Tom\", \"Mike\"]"
   ]
  },
  {
   "cell_type": "code",
   "execution_count": 42,
   "id": "eb218ff7-2be1-4552-bba2-ab9e2ebd5bd8",
   "metadata": {},
   "outputs": [
    {
     "name": "stdout",
     "output_type": "stream",
     "text": [
      "Tom\n",
      "Tom\n",
      "Mike\n"
     ]
    }
   ],
   "source": [
    "input_lst=[name, name2]\n",
    "\n",
    "for n in input_lst:\n",
    "    res=[]\n",
    "    for i in n:\n",
    "        if i not in res:\n",
    "            res.append(i)\n",
    "        else:\n",
    "            print(i)\n",
    "    "
   ]
  },
  {
   "cell_type": "code",
   "execution_count": 40,
   "id": "5354b663-76be-4809-bc1c-a0ea7e9296e2",
   "metadata": {},
   "outputs": [
    {
     "name": "stdout",
     "output_type": "stream",
     "text": [
      "Tom\n"
     ]
    }
   ],
   "source": [
    "res=[]\n",
    "for i in name:\n",
    "    if i not in res:\n",
    "        res.append(i)\n",
    "    else:\n",
    "        print(i)\n",
    "    "
   ]
  },
  {
   "cell_type": "code",
   "execution_count": 46,
   "id": "30c357fb-64a9-425a-acdb-d7183eae8145",
   "metadata": {},
   "outputs": [
    {
     "name": "stdout",
     "output_type": "stream",
     "text": [
      "Tom-Jerry\n",
      "Tom-Mike\n",
      "Jerry-Mike\n"
     ]
    }
   ],
   "source": [
    "input_l = [\"Tom\", \"Jerry\", \"Mike\"]\n",
    "for i in range(len(input_l)):\n",
    "    for j in range(i+1, len(input_l)):  # i 다음부터 시작\n",
    "        print(input_l[i] + '-' + input_l[j])"
   ]
  },
  {
   "cell_type": "code",
   "execution_count": 47,
   "id": "7abd2ecf-1fd8-4b0f-9f51-bb68ba23ea8f",
   "metadata": {},
   "outputs": [],
   "source": [
    "def fact(n):\n",
    "    if n<=1:\n",
    "        return 1\n",
    "    return n * fact(n-1)"
   ]
  },
  {
   "cell_type": "code",
   "execution_count": 48,
   "id": "92ed9a13-6283-4d55-beb3-0e3d6c2c288e",
   "metadata": {},
   "outputs": [
    {
     "name": "stdout",
     "output_type": "stream",
     "text": [
      "120\n"
     ]
    }
   ],
   "source": [
    "print(fact(5))"
   ]
  },
  {
   "cell_type": "code",
   "execution_count": 54,
   "id": "488bac81-5cee-4578-a70c-15bacc44784b",
   "metadata": {},
   "outputs": [
    {
     "data": {
      "text/plain": [
       "55"
      ]
     },
     "execution_count": 54,
     "metadata": {},
     "output_type": "execute_result"
    }
   ],
   "source": [
    "def solution(n):\n",
    "    if n<=1:\n",
    "        return 1\n",
    "    return n + solution(n-1)\n",
    "\n",
    "solution(10)"
   ]
  },
  {
   "cell_type": "code",
   "execution_count": 52,
   "id": "e9f312a5-67db-4d3c-a515-c8efb6031ca8",
   "metadata": {},
   "outputs": [],
   "source": [
    "hap=0\n",
    "for i in range(1,11):\n",
    "    hap+=i"
   ]
  },
  {
   "cell_type": "code",
   "execution_count": null,
   "id": "755b2041-545e-4ef1-840f-e91b24b1c9e3",
   "metadata": {},
   "outputs": [],
   "source": [
    "max=0\n",
    "for n in list:\n",
    "    if n>max:\n",
    "        max=n"
   ]
  },
  {
   "cell_type": "code",
   "execution_count": 74,
   "id": "400fd84d-042c-40c6-9ec4-42cfd79af08f",
   "metadata": {},
   "outputs": [
    {
     "name": "stdout",
     "output_type": "stream",
     "text": [
      "[37, 56, 15, 16, 23, 100, 12, 13]\n"
     ]
    }
   ],
   "source": [
    "li=[37,24,56,15,16,23,100,12,13]\n",
    "#print(min(li[0], li[1]))\n",
    "li.remove(min(li[0], li[1]))\n",
    "print(li)"
   ]
  },
  {
   "cell_type": "code",
   "execution_count": 79,
   "id": "6c48c0be-4810-4a88-8086-281c53935338",
   "metadata": {},
   "outputs": [],
   "source": [
    "li=[37,24,56,15,16,23,100,12,13]\n",
    "def recursion_max(myList):\n",
    "    if len(myList)==1:\n",
    "        return myList[0]\n",
    "\n",
    "    myList.remove(min(myList[0],myList[1]))\n",
    "    return recursion_max(myList)"
   ]
  },
  {
   "cell_type": "code",
   "execution_count": 80,
   "id": "1cea745f-b5ef-47ee-a152-abc9cd9a54e6",
   "metadata": {},
   "outputs": [
    {
     "name": "stdout",
     "output_type": "stream",
     "text": [
      "100\n"
     ]
    }
   ],
   "source": [
    "print(recursion_max([37,24,56,15,16,23,100,12,13]))"
   ]
  },
  {
   "cell_type": "code",
   "execution_count": null,
   "id": "882ae149-fb8d-47a6-945a-ad932f3bf999",
   "metadata": {},
   "outputs": [],
   "source": []
  }
 ],
 "metadata": {
  "kernelspec": {
   "display_name": "Python 3 (ipykernel)",
   "language": "python",
   "name": "python3"
  },
  "language_info": {
   "codemirror_mode": {
    "name": "ipython",
    "version": 3
   },
   "file_extension": ".py",
   "mimetype": "text/x-python",
   "name": "python",
   "nbconvert_exporter": "python",
   "pygments_lexer": "ipython3",
   "version": "3.11.7"
  }
 },
 "nbformat": 4,
 "nbformat_minor": 5
}
