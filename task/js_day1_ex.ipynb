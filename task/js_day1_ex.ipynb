{
 "cells": [
  {
   "cell_type": "code",
   "execution_count": null,
   "id": "cd1d401e-497c-4153-8ed8-c968b5ff77e8",
   "metadata": {},
   "outputs": [],
   "source": [
    "# 2. 1부터 10까지의 어떤 수로도 나누어 떨어지는 가장 작은 수는 2520입니다.\n",
    "\n",
    "# 그렇다면 1부터 20까지의 어떤 수로도 나누어 떨어지는 가장 작은 수는 얼마입니까?\n",
    "\n",
    "lst=[]\n",
    "lst_2=[]\n",
    "lst_3=[]\n",
    "for i in range(1,21):\n",
    "    if i%2!=0 and i%3!=0:\n",
    "        lst.append(i)\n",
    "        \n",
    "n = 0\n",
    "while 2**n <= 20:\n",
    "    lst_2.append(2**n)\n",
    "    n += 1\n",
    "\n",
    "n = 0\n",
    "while 3**n <= 20:\n",
    "    lst_3.append(3**n)\n",
    "    n += 1\n",
    "\n",
    "lst.append(lst_2[-1])\n",
    "lst.append(lst_3[-1])\n",
    "\n",
    "print(lst)\n",
    "\n",
    "p=1\n",
    "for i in lst:\n",
    "    p=i*p\n",
    "    print(p)\n",
    "\n",
    "print(p)"
   ]
  },
  {
   "cell_type": "code",
   "execution_count": 1,
   "id": "b0b4e77d-bdc0-404b-b4e0-f06cb3d59a23",
   "metadata": {},
   "outputs": [],
   "source": [
    "# 1. 약 2,000년 전에는 전쟁에서 병사들이 적들에 의해 동굴에 갇히게 되는 경우가 종종 있었다고 한다.\n",
    "\n",
    "# 그들은 포로가 되는것을 방지하기 위해 동그랗게 서서 마지막 한 사람이 남을 때 까지 순서대로 돌아가며 세번째에 해당되는 사람을 죽여 나갔다고 한다.\n",
    "\n",
    "# 마지막으로 남게되는 사람은 자살하기로 약속되어 있었지만 보통 적들에게 항복을 하는 경우가 많았다고 한다.\n",
    "\n",
    "# 여러분이 풀어야 할 문제는 총 인원수(N)와 간격(K)이 주어졌을 때 가장 마지막에 살아남는 병사의 위치(the safe position)를 알아내는 것이다.\n",
    "\n",
    "# 예를 들어 병사수가 총 10명이고 돌아가며 세번째에 해당되는 병사를 제거하는 경우는 다음과 같다:\n",
    "\n",
    "# N = 10, K = 3\n",
    "\n",
    "# 위의 경우 다음과 같은 순서로 병사들이 제거된다. (괄호는 제거되는 병사를 의미한다)\n",
    "\n",
    "# 1st round: 1 2 (3) 4 5 (6) 7 8 (9) 10\n",
    "# 2nd round:                            1 (2) 4 5 (7) 8 10\n",
    "# 3rd round:                                                (1) 4 5 (8) 10\n",
    "# 4th round:                                                               4 (5) 10\n",
    "# 5th round:                                                                        4 (10)\n",
    "# 위 예에서 끝가지 살아남는 병사는 4, 즉 4번째 병사이다.\n",
    "\n",
    "# 입력 데이터는 총 병사수 N과 간격 K이다.\n",
    "# 출력 데이터는 마지막까지 살아남는 병사의 위치이다.\n",
    "\n",
    "# (단, 최초 시작은 1번 병사부터이다.)\n",
    "\n",
    "# 입출력 예는 다음과 같다:\n",
    "\n",
    "# initial data:\n",
    "# 10 3\n",
    "\n",
    "# answer:\n",
    "# 4\n"
   ]
  },
  {
   "cell_type": "code",
   "execution_count": 22,
   "id": "2bf153d1-69e6-49dc-b7b0-1fe8b025e4f1",
   "metadata": {},
   "outputs": [
    {
     "name": "stdin",
     "output_type": "stream",
     "text": [
      " 10 3\n"
     ]
    }
   ],
   "source": [
    "N, K= map(int,input().split())"
   ]
  },
  {
   "cell_type": "code",
   "execution_count": 23,
   "id": "220214bf-a99a-4f15-ac5a-3d1e5c827e78",
   "metadata": {},
   "outputs": [
    {
     "data": {
      "text/plain": [
       "10"
      ]
     },
     "execution_count": 23,
     "metadata": {},
     "output_type": "execute_result"
    }
   ],
   "source": [
    "N"
   ]
  },
  {
   "cell_type": "code",
   "execution_count": 24,
   "id": "c492ad30-1342-4903-91ec-f6aff2aa7e15",
   "metadata": {},
   "outputs": [
    {
     "data": {
      "text/plain": [
       "3"
      ]
     },
     "execution_count": 24,
     "metadata": {},
     "output_type": "execute_result"
    }
   ],
   "source": [
    "K"
   ]
  },
  {
   "cell_type": "code",
   "execution_count": 48,
   "id": "a34e1641-6bee-4377-8d90-22c375654f1b",
   "metadata": {},
   "outputs": [],
   "source": [
    "N_lst= [n for n in range(1,N+1)]"
   ]
  },
  {
   "cell_type": "code",
   "execution_count": 49,
   "id": "d4fc8d69-ee52-4e68-9df5-3fbae0ac50ee",
   "metadata": {},
   "outputs": [
    {
     "data": {
      "text/plain": [
       "[1, 2, 3, 4, 5, 6, 7, 8, 9, 10]"
      ]
     },
     "execution_count": 49,
     "metadata": {},
     "output_type": "execute_result"
    }
   ],
   "source": [
    "N_lst"
   ]
  },
  {
   "cell_type": "code",
   "execution_count": 53,
   "id": "0245ee0d-44b8-446c-9800-1556b0a780cc",
   "metadata": {},
   "outputs": [
    {
     "name": "stdout",
     "output_type": "stream",
     "text": [
      "[8]\n"
     ]
    }
   ],
   "source": [
    "s=K-1\n",
    "b=0\n",
    "while len(N_lst)>1:\n",
    "    a= (len(N_lst)+b)%K\n",
    "    del N_lst[s::K]\n",
    "    s=K-1-a\n",
    "print(N_lst)"
   ]
  },
  {
   "cell_type": "code",
   "execution_count": 35,
   "id": "b2d833e3-2860-467f-a8d2-d4413d67fcc6",
   "metadata": {},
   "outputs": [],
   "source": [
    "del N_lst[2::3]"
   ]
  },
  {
   "cell_type": "code",
   "execution_count": 36,
   "id": "d71235b3-6da9-402e-a8f2-b2f35bf644cf",
   "metadata": {},
   "outputs": [
    {
     "data": {
      "text/plain": [
       "[1, 2, 4, 5, 7, 8, 10]"
      ]
     },
     "execution_count": 36,
     "metadata": {},
     "output_type": "execute_result"
    }
   ],
   "source": [
    "N_lst"
   ]
  },
  {
   "cell_type": "code",
   "execution_count": 39,
   "id": "b0440fd1-d378-479c-bcd7-0d351708338a",
   "metadata": {},
   "outputs": [],
   "source": [
    "del N_lst[1::3]"
   ]
  },
  {
   "cell_type": "code",
   "execution_count": 40,
   "id": "1512fb34-034f-4347-a28f-d6d2f11b76c3",
   "metadata": {},
   "outputs": [
    {
     "data": {
      "text/plain": [
       "[1, 4, 5, 8, 10]"
      ]
     },
     "execution_count": 40,
     "metadata": {},
     "output_type": "execute_result"
    }
   ],
   "source": [
    "N_lst"
   ]
  },
  {
   "cell_type": "code",
   "execution_count": 42,
   "id": "071ce812-d7ad-45fd-8edb-cf2d64d84062",
   "metadata": {},
   "outputs": [],
   "source": [
    "del N_lst[0::3]"
   ]
  },
  {
   "cell_type": "code",
   "execution_count": 43,
   "id": "38ecfd91-17c5-46f1-a4c3-231ea868abd3",
   "metadata": {},
   "outputs": [
    {
     "data": {
      "text/plain": [
       "[4, 5, 10]"
      ]
     },
     "execution_count": 43,
     "metadata": {},
     "output_type": "execute_result"
    }
   ],
   "source": [
    "N_lst"
   ]
  },
  {
   "cell_type": "code",
   "execution_count": 45,
   "id": "cc1fe337-fcd1-4745-abde-abc5bd682fc1",
   "metadata": {},
   "outputs": [],
   "source": [
    "del N_lst[1::3]"
   ]
  },
  {
   "cell_type": "code",
   "execution_count": 47,
   "id": "203c2151-2cd2-4933-b3d7-033d1044b1d4",
   "metadata": {},
   "outputs": [
    {
     "data": {
      "text/plain": [
       "[10]"
      ]
     },
     "execution_count": 47,
     "metadata": {},
     "output_type": "execute_result"
    }
   ],
   "source": [
    "N_lst[1::3]"
   ]
  },
  {
   "cell_type": "code",
   "execution_count": null,
   "id": "07376b1b-148e-4ba7-831f-c5dab51406e2",
   "metadata": {},
   "outputs": [],
   "source": []
  }
 ],
 "metadata": {
  "kernelspec": {
   "display_name": "Python 3 (ipykernel)",
   "language": "python",
   "name": "python3"
  },
  "language_info": {
   "codemirror_mode": {
    "name": "ipython",
    "version": 3
   },
   "file_extension": ".py",
   "mimetype": "text/x-python",
   "name": "python",
   "nbconvert_exporter": "python",
   "pygments_lexer": "ipython3",
   "version": "3.11.7"
  }
 },
 "nbformat": 4,
 "nbformat_minor": 5
}
