{
  "nbformat": 4,
  "nbformat_minor": 0,
  "metadata": {
    "colab": {
      "provenance": []
    },
    "kernelspec": {
      "name": "python3",
      "display_name": "Python 3"
    },
    "language_info": {
      "name": "python"
    }
  },
  "cells": [
    {
      "cell_type": "markdown",
      "source": [
        "# 사전"
      ],
      "metadata": {
        "id": "CXCt2cBT2tKw"
      }
    },
    {
      "cell_type": "code",
      "execution_count": null,
      "metadata": {
        "colab": {
          "base_uri": "https://localhost:8080/",
          "height": 35
        },
        "id": "HjfqMSL7HoOW",
        "outputId": "dee06d05-3ce4-4cf8-92d8-85add5e118b2"
      },
      "outputs": [
        {
          "output_type": "execute_result",
          "data": {
            "text/plain": [
              "'사람'"
            ],
            "application/vnd.google.colaboratory.intrinsic+json": {
              "type": "string"
            }
          },
          "metadata": {},
          "execution_count": 5
        }
      ],
      "source": [
        "#dictionary : {key1 : value1, ...}\n",
        "dic = {'people': '사람', 'love' : '사랑'}\n",
        "\n",
        "# dic[0]\n",
        "dic['people']"
      ]
    },
    {
      "cell_type": "code",
      "source": [
        "dic = {'s001':{'이름':'추추', '성별':'여','나이':'25'}}\n",
        "dic2={'a':{10,20,30}}"
      ],
      "metadata": {
        "id": "fhWLfwFCIuOv"
      },
      "execution_count": null,
      "outputs": []
    },
    {
      "cell_type": "code",
      "source": [
        "dic = {1:'a'}"
      ],
      "metadata": {
        "id": "LFD4vq23JaJ0"
      },
      "execution_count": null,
      "outputs": []
    },
    {
      "cell_type": "code",
      "source": [
        "dic[1]"
      ],
      "metadata": {
        "colab": {
          "base_uri": "https://localhost:8080/",
          "height": 35
        },
        "id": "3gRl7MpgJtFR",
        "outputId": "c292614f-abfc-4aa9-b8c2-d2c5e8ccaf3d"
      },
      "execution_count": null,
      "outputs": [
        {
          "output_type": "execute_result",
          "data": {
            "text/plain": [
              "'a'"
            ],
            "application/vnd.google.colaboratory.intrinsic+json": {
              "type": "string"
            }
          },
          "metadata": {},
          "execution_count": 7
        }
      ]
    },
    {
      "cell_type": "code",
      "source": [
        "dic[2] = 'b'\n",
        "\n",
        "dic"
      ],
      "metadata": {
        "colab": {
          "base_uri": "https://localhost:8080/"
        },
        "id": "-3HekMMeJ0Vg",
        "outputId": "13b48f81-fdcd-4f35-e9b4-2ba62a117da1"
      },
      "execution_count": null,
      "outputs": [
        {
          "output_type": "execute_result",
          "data": {
            "text/plain": [
              "{1: 'a', 2: 'b'}"
            ]
          },
          "metadata": {},
          "execution_count": 9
        }
      ]
    },
    {
      "cell_type": "code",
      "source": [
        "dic['name'] = 'hong'\n",
        "dic"
      ],
      "metadata": {
        "colab": {
          "base_uri": "https://localhost:8080/"
        },
        "id": "Z6uYSuZiJ9YZ",
        "outputId": "83dd663c-b75f-4016-c5db-46cd5032323c"
      },
      "execution_count": null,
      "outputs": [
        {
          "output_type": "execute_result",
          "data": {
            "text/plain": [
              "{1: 'a', 2: 'b', 'name': 'hong'}"
            ]
          },
          "metadata": {},
          "execution_count": 10
        }
      ]
    },
    {
      "cell_type": "code",
      "source": [
        "del dic[2]"
      ],
      "metadata": {
        "id": "YOrFgDgdKkom"
      },
      "execution_count": null,
      "outputs": []
    },
    {
      "cell_type": "code",
      "source": [
        "dic"
      ],
      "metadata": {
        "colab": {
          "base_uri": "https://localhost:8080/"
        },
        "id": "QRY9w5u2K_xc",
        "outputId": "322c6585-7ff6-4d40-8b02-9e480bae3cdb"
      },
      "execution_count": null,
      "outputs": [
        {
          "output_type": "execute_result",
          "data": {
            "text/plain": [
              "{1: 'a', 'name': 'hong'}"
            ]
          },
          "metadata": {},
          "execution_count": 12
        }
      ]
    },
    {
      "cell_type": "code",
      "source": [
        "dic[1] = 100      # 동일한 키가 두개이상 존재 불가 덮어 씌어짐. 키는 고유값\n",
        "dic"
      ],
      "metadata": {
        "colab": {
          "base_uri": "https://localhost:8080/"
        },
        "id": "Evem5HxOLAXI",
        "outputId": "931f06e9-3ee5-4e79-bfd4-a5185e9acb1c"
      },
      "execution_count": null,
      "outputs": [
        {
          "output_type": "execute_result",
          "data": {
            "text/plain": [
              "{1: 100, 'name': 'hong'}"
            ]
          },
          "metadata": {},
          "execution_count": 13
        }
      ]
    },
    {
      "cell_type": "code",
      "source": [
        "dic = {}"
      ],
      "metadata": {
        "id": "r2M3_d0dO7bA"
      },
      "execution_count": null,
      "outputs": []
    },
    {
      "cell_type": "code",
      "source": [
        "dic"
      ],
      "metadata": {
        "colab": {
          "base_uri": "https://localhost:8080/"
        },
        "id": "bzodyoDMLJ-H",
        "outputId": "a94e4680-4764-4552-91b2-971361f3d5ef"
      },
      "execution_count": null,
      "outputs": [
        {
          "output_type": "execute_result",
          "data": {
            "text/plain": [
              "{}"
            ]
          },
          "metadata": {},
          "execution_count": 15
        }
      ]
    },
    {
      "cell_type": "code",
      "source": [
        "dic2 = dict()"
      ],
      "metadata": {
        "id": "TjbbVLZSO9i3"
      },
      "execution_count": null,
      "outputs": []
    },
    {
      "cell_type": "code",
      "source": [
        "dic2"
      ],
      "metadata": {
        "colab": {
          "base_uri": "https://localhost:8080/"
        },
        "id": "bdwE9HLBPD0a",
        "outputId": "6efe0210-9dcc-4b05-c13a-65026e20afda"
      },
      "execution_count": null,
      "outputs": [
        {
          "output_type": "execute_result",
          "data": {
            "text/plain": [
              "{}"
            ]
          },
          "metadata": {},
          "execution_count": 18
        }
      ]
    },
    {
      "cell_type": "code",
      "source": [
        "dic=dict(age=25, name='hong')      #{'key':value}"
      ],
      "metadata": {
        "id": "3DYYkfoXPEU6"
      },
      "execution_count": null,
      "outputs": []
    },
    {
      "cell_type": "code",
      "source": [
        "dic"
      ],
      "metadata": {
        "colab": {
          "base_uri": "https://localhost:8080/"
        },
        "id": "Xxa1z_hPPj0z",
        "outputId": "36f36d95-aa03-40d5-f945-baba2e076c7f"
      },
      "execution_count": null,
      "outputs": [
        {
          "output_type": "execute_result",
          "data": {
            "text/plain": [
              "{'age': 25, 'name': 'hong'}"
            ]
          },
          "metadata": {},
          "execution_count": 23
        }
      ]
    },
    {
      "cell_type": "code",
      "source": [
        "dic2 = {'age':25, 'name':'go'}"
      ],
      "metadata": {
        "id": "oF5dA_RbPmUt"
      },
      "execution_count": null,
      "outputs": []
    },
    {
      "cell_type": "code",
      "source": [
        "dic2"
      ],
      "metadata": {
        "colab": {
          "base_uri": "https://localhost:8080/"
        },
        "id": "oUetXhM-QK59",
        "outputId": "3821d001-9970-4109-c93c-f87fc90eaa97"
      },
      "execution_count": null,
      "outputs": [
        {
          "output_type": "execute_result",
          "data": {
            "text/plain": [
              "{'age': 25, 'name': 'go'}"
            ]
          },
          "metadata": {},
          "execution_count": 25
        }
      ]
    },
    {
      "cell_type": "code",
      "source": [
        "dic3 = dict(zip(['age','name'],[25,'hong']))\n",
        "dic3"
      ],
      "metadata": {
        "colab": {
          "base_uri": "https://localhost:8080/"
        },
        "id": "MVe2BfxZQLQo",
        "outputId": "051d57f2-38e3-4f94-9339-264eb0ae3b4b"
      },
      "execution_count": null,
      "outputs": [
        {
          "output_type": "execute_result",
          "data": {
            "text/plain": [
              "{'age': 25, 'name': 'hong'}"
            ]
          },
          "metadata": {},
          "execution_count": 26
        }
      ]
    },
    {
      "cell_type": "code",
      "source": [
        "dic4 = dict([('age',25),('name','hong')])     # ==zip()\n",
        "dic4"
      ],
      "metadata": {
        "colab": {
          "base_uri": "https://localhost:8080/"
        },
        "id": "-BS4Y-J4QrOG",
        "outputId": "8459b881-24cb-43ab-f066-c00ebaca1934"
      },
      "execution_count": null,
      "outputs": [
        {
          "output_type": "execute_result",
          "data": {
            "text/plain": [
              "{'age': 25, 'name': 'hong'}"
            ]
          },
          "metadata": {},
          "execution_count": 28
        }
      ]
    },
    {
      "cell_type": "code",
      "source": [
        "dic5 = dict({'age':25,'name':'hong'})\n",
        "dic5"
      ],
      "metadata": {
        "colab": {
          "base_uri": "https://localhost:8080/"
        },
        "id": "gAI4AtaaRMtD",
        "outputId": "d3dd62b4-b394-47c9-a7a3-e4821eb13ed3"
      },
      "execution_count": null,
      "outputs": [
        {
          "output_type": "execute_result",
          "data": {
            "text/plain": [
              "{'age': 25, 'name': 'hong'}"
            ]
          },
          "metadata": {},
          "execution_count": 29
        }
      ]
    },
    {
      "cell_type": "code",
      "source": [
        "dic2 = {'addr':['seoul','busan']}   # key자리에는 list 불가능, value는 가능\n",
        "dic2"
      ],
      "metadata": {
        "colab": {
          "base_uri": "https://localhost:8080/"
        },
        "id": "8xldun3XRjUj",
        "outputId": "59201956-0b01-4abb-86bf-0b3f6c4d1543"
      },
      "execution_count": null,
      "outputs": [
        {
          "output_type": "execute_result",
          "data": {
            "text/plain": [
              "{'addr': ['seoul', 'busan']}"
            ]
          },
          "metadata": {},
          "execution_count": 33
        }
      ]
    },
    {
      "cell_type": "code",
      "source": [
        "dic={'name':'hong','age':25,'bt':'0'}\n",
        "dic"
      ],
      "metadata": {
        "colab": {
          "base_uri": "https://localhost:8080/"
        },
        "id": "FaRhxGeoSdoR",
        "outputId": "2ad534b9-cbf3-41fe-9579-46c84aa1a763"
      },
      "execution_count": null,
      "outputs": [
        {
          "output_type": "execute_result",
          "data": {
            "text/plain": [
              "{'name': 'hong', 'age': 25, 'bt': '0'}"
            ]
          },
          "metadata": {},
          "execution_count": 34
        }
      ]
    },
    {
      "cell_type": "code",
      "source": [
        "dic.keys()"
      ],
      "metadata": {
        "colab": {
          "base_uri": "https://localhost:8080/"
        },
        "id": "RZPE3R3zS-n_",
        "outputId": "c513c8e5-237e-495a-96b5-3db7e98491ee"
      },
      "execution_count": null,
      "outputs": [
        {
          "output_type": "execute_result",
          "data": {
            "text/plain": [
              "dict_keys(['name', 'age', 'bt'])"
            ]
          },
          "metadata": {},
          "execution_count": 36
        }
      ]
    },
    {
      "cell_type": "code",
      "source": [
        "list(dic.keys())"
      ],
      "metadata": {
        "colab": {
          "base_uri": "https://localhost:8080/"
        },
        "id": "HnqkOzmaTOcA",
        "outputId": "0abe113f-04cc-493a-c385-292722710ef0"
      },
      "execution_count": null,
      "outputs": [
        {
          "output_type": "execute_result",
          "data": {
            "text/plain": [
              "['name', 'age', 'bt']"
            ]
          },
          "metadata": {},
          "execution_count": 37
        }
      ]
    },
    {
      "cell_type": "code",
      "source": [
        "list(dic.values())"
      ],
      "metadata": {
        "colab": {
          "base_uri": "https://localhost:8080/"
        },
        "id": "6WjjuT1_TjSG",
        "outputId": "203d86c2-cdd4-4145-b966-023ab1807e94"
      },
      "execution_count": null,
      "outputs": [
        {
          "output_type": "execute_result",
          "data": {
            "text/plain": [
              "['hong', 25, '0']"
            ]
          },
          "metadata": {},
          "execution_count": 39
        }
      ]
    },
    {
      "cell_type": "code",
      "source": [
        "list(dic.items())"
      ],
      "metadata": {
        "colab": {
          "base_uri": "https://localhost:8080/"
        },
        "id": "JTcZisvXT0QL",
        "outputId": "13729e69-8fc3-45cb-fb5f-0b17d7eb5338"
      },
      "execution_count": null,
      "outputs": [
        {
          "output_type": "execute_result",
          "data": {
            "text/plain": [
              "[('name', 'hong'), ('age', 25), ('bt', '0')]"
            ]
          },
          "metadata": {},
          "execution_count": 41
        }
      ]
    },
    {
      "cell_type": "code",
      "source": [
        "dict(list(dic.items()))"
      ],
      "metadata": {
        "colab": {
          "base_uri": "https://localhost:8080/"
        },
        "id": "64eoI0SMUELK",
        "outputId": "c334ad24-7361-4801-be04-f461852aeb87"
      },
      "execution_count": null,
      "outputs": [
        {
          "output_type": "execute_result",
          "data": {
            "text/plain": [
              "{'name': 'hong', 'age': 25, 'bt': '0'}"
            ]
          },
          "metadata": {},
          "execution_count": 43
        }
      ]
    },
    {
      "cell_type": "code",
      "source": [
        "dic"
      ],
      "metadata": {
        "colab": {
          "base_uri": "https://localhost:8080/"
        },
        "id": "a2IQxuS5UaMx",
        "outputId": "ba11ba12-e362-495e-e542-3a820a856462"
      },
      "execution_count": null,
      "outputs": [
        {
          "output_type": "execute_result",
          "data": {
            "text/plain": [
              "{'name': 'hong', 'age': 25, 'bt': '0'}"
            ]
          },
          "metadata": {},
          "execution_count": 44
        }
      ]
    },
    {
      "cell_type": "code",
      "source": [
        "dic.clear()"
      ],
      "metadata": {
        "id": "w5wts7rHUr0u"
      },
      "execution_count": null,
      "outputs": []
    },
    {
      "cell_type": "code",
      "source": [
        "dic"
      ],
      "metadata": {
        "colab": {
          "base_uri": "https://localhost:8080/"
        },
        "id": "sy0WI9v1U13Q",
        "outputId": "8b44d25e-1c2a-4c28-b59a-86f2eb0fc21d"
      },
      "execution_count": null,
      "outputs": [
        {
          "output_type": "execute_result",
          "data": {
            "text/plain": [
              "{}"
            ]
          },
          "metadata": {},
          "execution_count": 46
        }
      ]
    },
    {
      "cell_type": "code",
      "source": [
        "dic={'name':'hong','age':25,'bt':'0'}\n",
        "dic"
      ],
      "metadata": {
        "colab": {
          "base_uri": "https://localhost:8080/"
        },
        "id": "a-e-tWB2U2jn",
        "outputId": "a1602cc1-e879-4e7d-b2fd-4c0d87558668"
      },
      "execution_count": null,
      "outputs": [
        {
          "output_type": "execute_result",
          "data": {
            "text/plain": [
              "{'name': 'hong', 'age': 25, 'bt': '0'}"
            ]
          },
          "metadata": {},
          "execution_count": 47
        }
      ]
    },
    {
      "cell_type": "code",
      "source": [
        "dic['name']"
      ],
      "metadata": {
        "colab": {
          "base_uri": "https://localhost:8080/",
          "height": 35
        },
        "id": "MAgh5zOrVM_j",
        "outputId": "c3c02c8d-2b04-4646-bcdf-1654ede3ec31"
      },
      "execution_count": null,
      "outputs": [
        {
          "output_type": "execute_result",
          "data": {
            "text/plain": [
              "'hong'"
            ],
            "application/vnd.google.colaboratory.intrinsic+json": {
              "type": "string"
            }
          },
          "metadata": {},
          "execution_count": 48
        }
      ]
    },
    {
      "cell_type": "code",
      "source": [
        "dic.get('name')"
      ],
      "metadata": {
        "colab": {
          "base_uri": "https://localhost:8080/",
          "height": 35
        },
        "id": "si29w8QDVSeo",
        "outputId": "78d75d70-7651-4823-9591-9b7e126514d6"
      },
      "execution_count": null,
      "outputs": [
        {
          "output_type": "execute_result",
          "data": {
            "text/plain": [
              "'hong'"
            ],
            "application/vnd.google.colaboratory.intrinsic+json": {
              "type": "string"
            }
          },
          "metadata": {},
          "execution_count": 50
        }
      ]
    },
    {
      "cell_type": "code",
      "source": [
        "#dic['addr']      # 없으면 error"
      ],
      "metadata": {
        "id": "k0pPY76zVZHz"
      },
      "execution_count": null,
      "outputs": []
    },
    {
      "cell_type": "code",
      "source": [
        "print(dic.get('addr'))"
      ],
      "metadata": {
        "colab": {
          "base_uri": "https://localhost:8080/"
        },
        "id": "tbi0xT-LVsc-",
        "outputId": "80f17888-cc42-4d61-d1cf-b36c9bfde637"
      },
      "execution_count": null,
      "outputs": [
        {
          "output_type": "stream",
          "name": "stdout",
          "text": [
            "None\n"
          ]
        }
      ]
    },
    {
      "cell_type": "code",
      "source": [
        "print(dic.get('addr','seoul'))    # 없는값이면 default값이 seoul이 나오게"
      ],
      "metadata": {
        "colab": {
          "base_uri": "https://localhost:8080/"
        },
        "id": "80DSqpmyVzkT",
        "outputId": "1fc3233f-e32d-490b-cad2-3d32c9e44d66"
      },
      "execution_count": null,
      "outputs": [
        {
          "output_type": "stream",
          "name": "stdout",
          "text": [
            "seoul\n"
          ]
        }
      ]
    },
    {
      "cell_type": "code",
      "source": [
        "'email' not in dic"
      ],
      "metadata": {
        "colab": {
          "base_uri": "https://localhost:8080/"
        },
        "id": "whN94Hp5WpmQ",
        "outputId": "56846d68-68ab-4840-ae6c-ccb711322158"
      },
      "execution_count": null,
      "outputs": [
        {
          "output_type": "execute_result",
          "data": {
            "text/plain": [
              "True"
            ]
          },
          "metadata": {},
          "execution_count": 61
        }
      ]
    },
    {
      "cell_type": "code",
      "source": [
        "'age' in dic"
      ],
      "metadata": {
        "colab": {
          "base_uri": "https://localhost:8080/"
        },
        "id": "GpDniEkQXPij",
        "outputId": "f6747bc2-c3eb-42a5-fd3c-4ffdbe5577cf"
      },
      "execution_count": null,
      "outputs": [
        {
          "output_type": "execute_result",
          "data": {
            "text/plain": [
              "True"
            ]
          },
          "metadata": {},
          "execution_count": 58
        }
      ]
    },
    {
      "cell_type": "code",
      "source": [
        "dic['name']='kim'"
      ],
      "metadata": {
        "id": "L4lP0hubXRjS"
      },
      "execution_count": null,
      "outputs": []
    },
    {
      "cell_type": "code",
      "source": [
        "dic"
      ],
      "metadata": {
        "colab": {
          "base_uri": "https://localhost:8080/"
        },
        "id": "2OPspsYoXe7i",
        "outputId": "d792ed01-2395-4731-8291-c995b578bbc4"
      },
      "execution_count": null,
      "outputs": [
        {
          "output_type": "execute_result",
          "data": {
            "text/plain": [
              "{'name': 'kim', 'age': 25, 'bt': '0'}"
            ]
          },
          "metadata": {},
          "execution_count": 60
        }
      ]
    },
    {
      "cell_type": "code",
      "source": [
        "len(dic)"
      ],
      "metadata": {
        "colab": {
          "base_uri": "https://localhost:8080/"
        },
        "id": "Ef4Pp9FuXffj",
        "outputId": "9a1e162d-8137-4245-b4bc-f8368e0612f5"
      },
      "execution_count": null,
      "outputs": [
        {
          "output_type": "execute_result",
          "data": {
            "text/plain": [
              "3"
            ]
          },
          "metadata": {},
          "execution_count": 62
        }
      ]
    },
    {
      "cell_type": "code",
      "source": [
        "#set : {}, 집합, 순서x, 중복x, indexing불가\n",
        "s1=set([10,1,2,3,1,2,3])\n",
        "s1"
      ],
      "metadata": {
        "colab": {
          "base_uri": "https://localhost:8080/"
        },
        "id": "_GVzAQgpXzR6",
        "outputId": "5f1f15ee-e192-4f3f-f2c7-1ff175c1671c"
      },
      "execution_count": null,
      "outputs": [
        {
          "output_type": "execute_result",
          "data": {
            "text/plain": [
              "{1, 2, 3, 10}"
            ]
          },
          "metadata": {},
          "execution_count": 67
        }
      ]
    },
    {
      "cell_type": "code",
      "source": [
        "s2=set('multicampus ai')"
      ],
      "metadata": {
        "id": "Zw7b_wTzZnYN"
      },
      "execution_count": null,
      "outputs": []
    },
    {
      "cell_type": "code",
      "source": [
        "s2"
      ],
      "metadata": {
        "colab": {
          "base_uri": "https://localhost:8080/"
        },
        "id": "xgjOXvlNZqBQ",
        "outputId": "5e5b4e1c-807e-4439-e2d9-20ea9c0ad1a3"
      },
      "execution_count": null,
      "outputs": [
        {
          "output_type": "execute_result",
          "data": {
            "text/plain": [
              "{' ', 'a', 'c', 'i', 'l', 'm', 'p', 's', 't', 'u'}"
            ]
          },
          "metadata": {},
          "execution_count": 69
        }
      ]
    },
    {
      "cell_type": "code",
      "source": [
        "#s2[0]"
      ],
      "metadata": {
        "id": "hvvVhycfZqU8"
      },
      "execution_count": null,
      "outputs": []
    },
    {
      "cell_type": "code",
      "source": [
        "list(s2)"
      ],
      "metadata": {
        "colab": {
          "base_uri": "https://localhost:8080/"
        },
        "id": "8znZp087Z70K",
        "outputId": "ca8610ec-729e-457a-b60d-c89ba0e9da22"
      },
      "execution_count": null,
      "outputs": [
        {
          "output_type": "execute_result",
          "data": {
            "text/plain": [
              "['a', 's', ' ', 'u', 'l', 'i', 't', 'c', 'm', 'p']"
            ]
          },
          "metadata": {},
          "execution_count": 71
        }
      ]
    },
    {
      "cell_type": "code",
      "source": [
        "tuple(s2)"
      ],
      "metadata": {
        "colab": {
          "base_uri": "https://localhost:8080/"
        },
        "id": "_t4kug_LdDfY",
        "outputId": "fb1f5b45-54c4-4060-c73c-1f7b789bab7a"
      },
      "execution_count": null,
      "outputs": [
        {
          "output_type": "execute_result",
          "data": {
            "text/plain": [
              "('a', 's', ' ', 'u', 'l', 'i', 't', 'c', 'm', 'p')"
            ]
          },
          "metadata": {},
          "execution_count": 72
        }
      ]
    },
    {
      "cell_type": "code",
      "source": [
        "s1 = set([5,4,3,2,1])\n",
        "s2 = set([15,14,13,2,1])"
      ],
      "metadata": {
        "id": "wp3YuetMdEnJ"
      },
      "execution_count": null,
      "outputs": []
    },
    {
      "cell_type": "code",
      "source": [
        "s1"
      ],
      "metadata": {
        "colab": {
          "base_uri": "https://localhost:8080/"
        },
        "id": "ZHDTs2cwdYam",
        "outputId": "1f07fa51-a84c-4021-89fd-13afc7224207"
      },
      "execution_count": null,
      "outputs": [
        {
          "output_type": "execute_result",
          "data": {
            "text/plain": [
              "{1, 2, 3, 4, 5}"
            ]
          },
          "metadata": {},
          "execution_count": 74
        }
      ]
    },
    {
      "cell_type": "code",
      "source": [
        "s2"
      ],
      "metadata": {
        "colab": {
          "base_uri": "https://localhost:8080/"
        },
        "id": "kpPFGHlcdZCU",
        "outputId": "78b1aab5-2046-4815-ca50-601da7a4a360"
      },
      "execution_count": null,
      "outputs": [
        {
          "output_type": "execute_result",
          "data": {
            "text/plain": [
              "{1, 2, 13, 14, 15}"
            ]
          },
          "metadata": {},
          "execution_count": 75
        }
      ]
    },
    {
      "cell_type": "code",
      "source": [
        "s1 & s2   #교집합"
      ],
      "metadata": {
        "colab": {
          "base_uri": "https://localhost:8080/"
        },
        "id": "DakwsVmRdZaY",
        "outputId": "63b9d6b3-b094-4775-f0b4-2eedd84aac1b"
      },
      "execution_count": null,
      "outputs": [
        {
          "output_type": "execute_result",
          "data": {
            "text/plain": [
              "{1, 2}"
            ]
          },
          "metadata": {},
          "execution_count": 77
        }
      ]
    },
    {
      "cell_type": "code",
      "source": [
        "s1.intersection(s2)   #교집합"
      ],
      "metadata": {
        "colab": {
          "base_uri": "https://localhost:8080/"
        },
        "id": "6v-ZP9Cddes8",
        "outputId": "3b5352fc-5f08-4b1c-dd9f-9267075e3d16"
      },
      "execution_count": null,
      "outputs": [
        {
          "output_type": "execute_result",
          "data": {
            "text/plain": [
              "{1, 2}"
            ]
          },
          "metadata": {},
          "execution_count": 79
        }
      ]
    },
    {
      "cell_type": "code",
      "source": [
        "s1 | s2   #합집합"
      ],
      "metadata": {
        "colab": {
          "base_uri": "https://localhost:8080/"
        },
        "id": "wXY-7rzWdode",
        "outputId": "5bbbe783-8a7b-46a8-cd6e-a44a43dfadfc"
      },
      "execution_count": null,
      "outputs": [
        {
          "output_type": "execute_result",
          "data": {
            "text/plain": [
              "{1, 2, 3, 4, 5, 13, 14, 15}"
            ]
          },
          "metadata": {},
          "execution_count": 81
        }
      ]
    },
    {
      "cell_type": "code",
      "source": [
        "s1.union(s2)    #합집합"
      ],
      "metadata": {
        "colab": {
          "base_uri": "https://localhost:8080/"
        },
        "id": "--2d-8D1dt_s",
        "outputId": "1512aed7-3ab3-4aaa-ab0b-dc88516c1206"
      },
      "execution_count": null,
      "outputs": [
        {
          "output_type": "execute_result",
          "data": {
            "text/plain": [
              "{1, 2, 3, 4, 5, 13, 14, 15}"
            ]
          },
          "metadata": {},
          "execution_count": 83
        }
      ]
    },
    {
      "cell_type": "code",
      "source": [
        "s1 - s2   #차집합"
      ],
      "metadata": {
        "colab": {
          "base_uri": "https://localhost:8080/"
        },
        "id": "rg_vNFand1JC",
        "outputId": "fb2132e1-975e-4e29-b0db-4d3876b8f4ca"
      },
      "execution_count": null,
      "outputs": [
        {
          "output_type": "execute_result",
          "data": {
            "text/plain": [
              "{3, 4, 5}"
            ]
          },
          "metadata": {},
          "execution_count": 86
        }
      ]
    },
    {
      "cell_type": "code",
      "source": [
        "s1.difference(s2)   #차집합"
      ],
      "metadata": {
        "colab": {
          "base_uri": "https://localhost:8080/"
        },
        "id": "td4SoBPed5X1",
        "outputId": "0fd9fe50-a11c-46fd-8242-ebc40eb53ae7"
      },
      "execution_count": null,
      "outputs": [
        {
          "output_type": "execute_result",
          "data": {
            "text/plain": [
              "{3, 4, 5}"
            ]
          },
          "metadata": {},
          "execution_count": 87
        }
      ]
    },
    {
      "cell_type": "code",
      "source": [
        "s1"
      ],
      "metadata": {
        "colab": {
          "base_uri": "https://localhost:8080/"
        },
        "id": "sVPeqwPod-YJ",
        "outputId": "14549e22-cc98-44a4-9def-f2f5381c3469"
      },
      "execution_count": null,
      "outputs": [
        {
          "output_type": "execute_result",
          "data": {
            "text/plain": [
              "{1, 2, 3, 4, 5}"
            ]
          },
          "metadata": {},
          "execution_count": 88
        }
      ]
    },
    {
      "cell_type": "code",
      "source": [
        "s1.add(0)     #하나만 추가"
      ],
      "metadata": {
        "id": "41HpxLKBeW8e"
      },
      "execution_count": null,
      "outputs": []
    },
    {
      "cell_type": "code",
      "source": [
        "s1"
      ],
      "metadata": {
        "colab": {
          "base_uri": "https://localhost:8080/"
        },
        "id": "F_6NjsRTegBG",
        "outputId": "1f6b91e3-cd07-4fbb-db30-897a0c4ec945"
      },
      "execution_count": null,
      "outputs": [
        {
          "output_type": "execute_result",
          "data": {
            "text/plain": [
              "{0, 1, 2, 3, 4, 5}"
            ]
          },
          "metadata": {},
          "execution_count": 90
        }
      ]
    },
    {
      "cell_type": "code",
      "source": [
        "s1.update([10,20,30])"
      ],
      "metadata": {
        "id": "cu5sJey9egqh"
      },
      "execution_count": null,
      "outputs": []
    },
    {
      "cell_type": "code",
      "source": [
        "s1"
      ],
      "metadata": {
        "colab": {
          "base_uri": "https://localhost:8080/"
        },
        "id": "dxNaO3YJetD9",
        "outputId": "417a93c0-a02e-439c-afb0-cda9b644c27a"
      },
      "execution_count": null,
      "outputs": [
        {
          "output_type": "execute_result",
          "data": {
            "text/plain": [
              "{0, 1, 2, 3, 4, 5, 10, 20, 30}"
            ]
          },
          "metadata": {},
          "execution_count": 95
        }
      ]
    },
    {
      "cell_type": "code",
      "source": [
        "s1.remove(0)"
      ],
      "metadata": {
        "id": "Hod3GT6De-Zp"
      },
      "execution_count": null,
      "outputs": []
    },
    {
      "cell_type": "code",
      "source": [
        "s1"
      ],
      "metadata": {
        "colab": {
          "base_uri": "https://localhost:8080/"
        },
        "id": "q0IuR--NfHwr",
        "outputId": "705660bc-89a5-474a-c2b4-e8c6ce06dc87"
      },
      "execution_count": null,
      "outputs": [
        {
          "output_type": "execute_result",
          "data": {
            "text/plain": [
              "{1, 2, 3, 4, 5, 10, 20, 30}"
            ]
          },
          "metadata": {},
          "execution_count": 97
        }
      ]
    },
    {
      "cell_type": "code",
      "source": [
        "#참(True)에 해당\n",
        "'test'\n",
        "[1,2,3]\n",
        "(1,2)\n",
        "{'ㅁ':1}\n",
        "1\n",
        "\n",
        "#거짓(False)에 해당\n",
        "''\n",
        "[]\n",
        "()\n",
        "{}\n",
        "0\n",
        "None"
      ],
      "metadata": {
        "id": "-8CVdxeefIEi"
      },
      "execution_count": null,
      "outputs": []
    },
    {
      "cell_type": "code",
      "source": [
        "bool('')"
      ],
      "metadata": {
        "colab": {
          "base_uri": "https://localhost:8080/"
        },
        "id": "QsiG-ySJfkhp",
        "outputId": "36f7ec49-ade9-4d3b-d2a3-9f26b6223085"
      },
      "execution_count": null,
      "outputs": [
        {
          "output_type": "execute_result",
          "data": {
            "text/plain": [
              "False"
            ]
          },
          "metadata": {},
          "execution_count": 101
        }
      ]
    },
    {
      "cell_type": "code",
      "source": [
        "a=[10,20]\n",
        "#[10,20]이 저장된 메모리 주소를 a가 갖는다."
      ],
      "metadata": {
        "id": "9iDany6DgIZ5"
      },
      "execution_count": null,
      "outputs": []
    },
    {
      "cell_type": "code",
      "source": [
        "id(a)   #메모리 136009472922496 주소에 [10,20]가 저장되어있음"
      ],
      "metadata": {
        "colab": {
          "base_uri": "https://localhost:8080/"
        },
        "id": "XlLkec-1giUy",
        "outputId": "22641721-e82f-47d2-e37b-3cc839132905"
      },
      "execution_count": null,
      "outputs": [
        {
          "output_type": "execute_result",
          "data": {
            "text/plain": [
              "136009472922496"
            ]
          },
          "metadata": {},
          "execution_count": 105
        }
      ]
    },
    {
      "cell_type": "code",
      "source": [
        "b=a"
      ],
      "metadata": {
        "id": "nrqqbv_3hk-b"
      },
      "execution_count": null,
      "outputs": []
    },
    {
      "cell_type": "code",
      "source": [
        "id(b)"
      ],
      "metadata": {
        "colab": {
          "base_uri": "https://localhost:8080/"
        },
        "id": "L_9xTyk-hue2",
        "outputId": "b537da81-52ef-403f-b270-749353123e9a"
      },
      "execution_count": null,
      "outputs": [
        {
          "output_type": "execute_result",
          "data": {
            "text/plain": [
              "136009472922496"
            ]
          },
          "metadata": {},
          "execution_count": 107
        }
      ]
    },
    {
      "cell_type": "code",
      "source": [
        "a"
      ],
      "metadata": {
        "colab": {
          "base_uri": "https://localhost:8080/"
        },
        "id": "b4XLkr6Fhvhu",
        "outputId": "a108fa7e-6e79-4a18-f2b6-e80897208b77"
      },
      "execution_count": null,
      "outputs": [
        {
          "output_type": "execute_result",
          "data": {
            "text/plain": [
              "[10, 20]"
            ]
          },
          "metadata": {},
          "execution_count": 108
        }
      ]
    },
    {
      "cell_type": "code",
      "source": [
        "a[0] = 99\n",
        "a"
      ],
      "metadata": {
        "colab": {
          "base_uri": "https://localhost:8080/"
        },
        "id": "QKQaVfh_hv8q",
        "outputId": "4a3c29d1-f9f4-4aa7-8eb6-06d526919c6a"
      },
      "execution_count": null,
      "outputs": [
        {
          "output_type": "execute_result",
          "data": {
            "text/plain": [
              "[99, 20]"
            ]
          },
          "metadata": {},
          "execution_count": 109
        }
      ]
    },
    {
      "cell_type": "code",
      "source": [
        "id(b)"
      ],
      "metadata": {
        "colab": {
          "base_uri": "https://localhost:8080/"
        },
        "id": "Ceyxnhf8h2MS",
        "outputId": "eadadb97-0336-480e-b48a-b91cf920f82a"
      },
      "execution_count": null,
      "outputs": [
        {
          "output_type": "execute_result",
          "data": {
            "text/plain": [
              "136009472922496"
            ]
          },
          "metadata": {},
          "execution_count": 110
        }
      ]
    },
    {
      "cell_type": "code",
      "source": [
        "b"
      ],
      "metadata": {
        "colab": {
          "base_uri": "https://localhost:8080/"
        },
        "id": "vf2a8o8dh5IQ",
        "outputId": "7e1cf92c-5ddc-4e2b-e508-6a5c8e444451"
      },
      "execution_count": null,
      "outputs": [
        {
          "output_type": "execute_result",
          "data": {
            "text/plain": [
              "[99, 20]"
            ]
          },
          "metadata": {},
          "execution_count": 111
        }
      ]
    },
    {
      "cell_type": "code",
      "source": [
        "from copy import copy\n"
      ],
      "metadata": {
        "id": "e8Rs82ynh55p"
      },
      "execution_count": null,
      "outputs": []
    },
    {
      "cell_type": "code",
      "source": [
        "a=[10,20]"
      ],
      "metadata": {
        "id": "-MdcWy3qi901"
      },
      "execution_count": null,
      "outputs": []
    },
    {
      "cell_type": "code",
      "source": [
        "b=copy(a)"
      ],
      "metadata": {
        "id": "9izwhp_TjEY0"
      },
      "execution_count": null,
      "outputs": []
    },
    {
      "cell_type": "code",
      "source": [
        "id(a)"
      ],
      "metadata": {
        "colab": {
          "base_uri": "https://localhost:8080/"
        },
        "id": "wOavvuvujHH0",
        "outputId": "88c74ef8-c84e-4d38-927d-14d91c9d28d0"
      },
      "execution_count": null,
      "outputs": [
        {
          "output_type": "execute_result",
          "data": {
            "text/plain": [
              "136009474007360"
            ]
          },
          "metadata": {},
          "execution_count": 115
        }
      ]
    },
    {
      "cell_type": "code",
      "source": [
        "id(b)"
      ],
      "metadata": {
        "colab": {
          "base_uri": "https://localhost:8080/"
        },
        "id": "KrsMyNubjH50",
        "outputId": "402cd64e-e8af-483b-f108-6bff9f0deb19"
      },
      "execution_count": null,
      "outputs": [
        {
          "output_type": "execute_result",
          "data": {
            "text/plain": [
              "136009473002112"
            ]
          },
          "metadata": {},
          "execution_count": 116
        }
      ]
    },
    {
      "cell_type": "code",
      "source": [
        "a is b"
      ],
      "metadata": {
        "colab": {
          "base_uri": "https://localhost:8080/"
        },
        "id": "Pj_xEarHjIt2",
        "outputId": "9f4cd58e-1452-4657-dc49-27c58df062d7"
      },
      "execution_count": null,
      "outputs": [
        {
          "output_type": "execute_result",
          "data": {
            "text/plain": [
              "False"
            ]
          },
          "metadata": {},
          "execution_count": 118
        }
      ]
    },
    {
      "cell_type": "code",
      "source": [
        "# if, while, for\n",
        "\n",
        "# if 물체 then 멈춤\n",
        "# if 녹색 then 주\n",
        "# ...\n"
      ],
      "metadata": {
        "id": "A0H7YkygjpbS"
      },
      "execution_count": null,
      "outputs": []
    },
    {
      "cell_type": "code",
      "source": [
        "money = 2000"
      ],
      "metadata": {
        "id": "19-8QA4z4e9s"
      },
      "execution_count": null,
      "outputs": []
    },
    {
      "cell_type": "code",
      "source": [
        "if money>=5000:\n",
        "  print('택시')\n",
        "else:\n",
        "  print('버스')"
      ],
      "metadata": {
        "colab": {
          "base_uri": "https://localhost:8080/"
        },
        "id": "nHV0vr5Z4h_b",
        "outputId": "785245bf-f6f4-44c7-a705-6a41a95838bf"
      },
      "execution_count": null,
      "outputs": [
        {
          "output_type": "stream",
          "name": "stdout",
          "text": [
            "버스\n"
          ]
        }
      ]
    },
    {
      "cell_type": "code",
      "source": [
        "money=1000\n",
        "card=True\n",
        "\n",
        "if money>=3000 or card:\n",
        "  print(\"버스\")\n",
        "else:\n",
        "  print('도보')"
      ],
      "metadata": {
        "colab": {
          "base_uri": "https://localhost:8080/"
        },
        "id": "Q-_RdaMe4qAo",
        "outputId": "52d840e4-c2e5-44cb-a142-c66a724bf847"
      },
      "execution_count": null,
      "outputs": [
        {
          "output_type": "stream",
          "name": "stdout",
          "text": [
            "버스\n"
          ]
        }
      ]
    },
    {
      "cell_type": "code",
      "source": [
        "money=1000\n",
        "card=True\n",
        "\n",
        "if money>=3000:\n",
        "  print('bus')\n",
        "elif card:\n",
        "  print('texi')\n",
        "else:\n",
        "  print('walk')"
      ],
      "metadata": {
        "colab": {
          "base_uri": "https://localhost:8080/"
        },
        "id": "mtISTsl46h3C",
        "outputId": "293a6e13-2140-46ab-b16d-31634ed605bb"
      },
      "execution_count": null,
      "outputs": [
        {
          "output_type": "stream",
          "name": "stdout",
          "text": [
            "texi\n"
          ]
        }
      ]
    },
    {
      "cell_type": "code",
      "source": [
        "1 in [10,20,30]"
      ],
      "metadata": {
        "colab": {
          "base_uri": "https://localhost:8080/"
        },
        "id": "iSI2xvcd7gyr",
        "outputId": "5baaa874-effe-4c84-bf5b-008ed10bb096"
      },
      "execution_count": null,
      "outputs": [
        {
          "output_type": "execute_result",
          "data": {
            "text/plain": [
              "False"
            ]
          },
          "metadata": {},
          "execution_count": 128
        }
      ]
    },
    {
      "cell_type": "code",
      "source": [
        "10 in [10,20,30]"
      ],
      "metadata": {
        "colab": {
          "base_uri": "https://localhost:8080/"
        },
        "id": "ww0V0Yfb7uwb",
        "outputId": "a42c7ed8-3673-47d8-c659-57b1ce7e292d"
      },
      "execution_count": null,
      "outputs": [
        {
          "output_type": "execute_result",
          "data": {
            "text/plain": [
              "True"
            ]
          },
          "metadata": {},
          "execution_count": 129
        }
      ]
    },
    {
      "cell_type": "code",
      "source": [
        "1 not in [10,20,30]"
      ],
      "metadata": {
        "colab": {
          "base_uri": "https://localhost:8080/"
        },
        "id": "g3Dw9qr37wxB",
        "outputId": "2f52cc0e-edbf-40c0-a10b-867daa229df3"
      },
      "execution_count": null,
      "outputs": [
        {
          "output_type": "execute_result",
          "data": {
            "text/plain": [
              "True"
            ]
          },
          "metadata": {},
          "execution_count": 131
        }
      ]
    },
    {
      "cell_type": "code",
      "source": [
        "'10' in ('10','20','30')"
      ],
      "metadata": {
        "colab": {
          "base_uri": "https://localhost:8080/"
        },
        "id": "c1arCw7N74KJ",
        "outputId": "d61ec190-3f31-463e-f425-973916dd3ce8"
      },
      "execution_count": null,
      "outputs": [
        {
          "output_type": "execute_result",
          "data": {
            "text/plain": [
              "True"
            ]
          },
          "metadata": {},
          "execution_count": 132
        }
      ]
    },
    {
      "cell_type": "code",
      "source": [
        "'a' not in 'hello'"
      ],
      "metadata": {
        "colab": {
          "base_uri": "https://localhost:8080/"
        },
        "id": "K7ZBtUdu8A9l",
        "outputId": "8d8c7f66-ebf4-449e-c711-dd56733f9d72"
      },
      "execution_count": null,
      "outputs": [
        {
          "output_type": "execute_result",
          "data": {
            "text/plain": [
              "True"
            ]
          },
          "metadata": {},
          "execution_count": 134
        }
      ]
    },
    {
      "cell_type": "code",
      "source": [
        "poc=['card', 'cellphone']"
      ],
      "metadata": {
        "id": "3Z81yJnT8GPa"
      },
      "execution_count": null,
      "outputs": []
    },
    {
      "cell_type": "code",
      "source": [
        "if 'card' in poc:\n",
        "  print('texi')\n",
        "elif 'money' in poc:\n",
        "  print('bus')\n",
        "else:\n",
        "  print('walk')"
      ],
      "metadata": {
        "colab": {
          "base_uri": "https://localhost:8080/"
        },
        "id": "83cWur_k8fgv",
        "outputId": "8a846cca-cc95-4fb5-c249-dc655b51576d"
      },
      "execution_count": null,
      "outputs": [
        {
          "output_type": "stream",
          "name": "stdout",
          "text": [
            "texi\n"
          ]
        }
      ]
    },
    {
      "cell_type": "code",
      "source": [
        "if 'money' in poc:\n",
        "  pass\n",
        "else :\n",
        "  print(\"walk\")"
      ],
      "metadata": {
        "colab": {
          "base_uri": "https://localhost:8080/"
        },
        "id": "Zwexoj218qxW",
        "outputId": "bf7e314e-fa5d-43c7-eacb-6b441847468b"
      },
      "execution_count": null,
      "outputs": [
        {
          "output_type": "stream",
          "name": "stdout",
          "text": [
            "walk\n"
          ]
        }
      ]
    },
    {
      "cell_type": "code",
      "source": [
        "score=90"
      ],
      "metadata": {
        "id": "F4aQYdpZ-ZvL"
      },
      "execution_count": null,
      "outputs": []
    },
    {
      "cell_type": "code",
      "source": [
        "if score >= 60:\n",
        "  res='합격'\n",
        "else:\n",
        "  res='불합'"
      ],
      "metadata": {
        "id": "6ht7EDaI9-Cl"
      },
      "execution_count": null,
      "outputs": []
    },
    {
      "cell_type": "code",
      "source": [
        "res"
      ],
      "metadata": {
        "colab": {
          "base_uri": "https://localhost:8080/",
          "height": 35
        },
        "id": "iCi6BXZp-YHM",
        "outputId": "35ee241f-82c6-4baa-a616-ce7f766155be"
      },
      "execution_count": null,
      "outputs": [
        {
          "output_type": "execute_result",
          "data": {
            "text/plain": [
              "'합격'"
            ],
            "application/vnd.google.colaboratory.intrinsic+json": {
              "type": "string"
            }
          },
          "metadata": {},
          "execution_count": 143
        }
      ]
    },
    {
      "cell_type": "code",
      "source": [
        "res2='합격' if score>=60 else '불합'"
      ],
      "metadata": {
        "id": "dN3277kV-eAh"
      },
      "execution_count": null,
      "outputs": []
    },
    {
      "cell_type": "code",
      "source": [
        "res2"
      ],
      "metadata": {
        "colab": {
          "base_uri": "https://localhost:8080/",
          "height": 35
        },
        "id": "88wGyXEJ-3kL",
        "outputId": "726a0d73-5a47-4dff-ea9e-51cc2f79f608"
      },
      "execution_count": null,
      "outputs": [
        {
          "output_type": "execute_result",
          "data": {
            "text/plain": [
              "'합격'"
            ],
            "application/vnd.google.colaboratory.intrinsic+json": {
              "type": "string"
            }
          },
          "metadata": {},
          "execution_count": 145
        }
      ]
    },
    {
      "cell_type": "code",
      "source": [
        "x=5"
      ],
      "metadata": {
        "id": "Ilemta_S-4gx"
      },
      "execution_count": null,
      "outputs": []
    },
    {
      "cell_type": "code",
      "source": [
        "if x==5:\n",
        "  print(\"x에는\")\n",
        "  print('5가 있다')"
      ],
      "metadata": {
        "colab": {
          "base_uri": "https://localhost:8080/"
        },
        "id": "YcdTZjBF_UM0",
        "outputId": "e77d64e0-f793-413e-a60d-855cceeabb1b"
      },
      "execution_count": null,
      "outputs": [
        {
          "output_type": "stream",
          "name": "stdout",
          "text": [
            "x에는\n",
            "5가 있다\n"
          ]
        }
      ]
    },
    {
      "cell_type": "code",
      "source": [
        "x=1"
      ],
      "metadata": {
        "id": "gUqehJ3fCaPe"
      },
      "execution_count": null,
      "outputs": []
    },
    {
      "cell_type": "code",
      "source": [
        "x=1\n",
        "if x==5:\n",
        "   y=x\n",
        "else:\n",
        "   y=0"
      ],
      "metadata": {
        "id": "XfUPQg5r_aFH"
      },
      "execution_count": null,
      "outputs": []
    },
    {
      "cell_type": "code",
      "source": [
        "y=x if x==5 else 0"
      ],
      "metadata": {
        "id": "vcCtkj4WCBoC"
      },
      "execution_count": null,
      "outputs": []
    },
    {
      "cell_type": "code",
      "source": [
        "if 'test':\n",
        "  print(\"참\")\n",
        "else:\n",
        "  print('거짓')"
      ],
      "metadata": {
        "id": "eP_SyHcsCG5E",
        "colab": {
          "base_uri": "https://localhost:8080/"
        },
        "outputId": "36066d39-4e4a-429e-ab5d-fa224a482037"
      },
      "execution_count": null,
      "outputs": [
        {
          "output_type": "stream",
          "name": "stdout",
          "text": [
            "참\n"
          ]
        }
      ]
    },
    {
      "cell_type": "code",
      "source": [
        "if not '':\n",
        "  print('참')\n",
        "else:\n",
        "  print('거짓')"
      ],
      "metadata": {
        "colab": {
          "base_uri": "https://localhost:8080/"
        },
        "id": "ph34OPo7DF26",
        "outputId": "da5304a1-5dfb-4af1-faf1-0cab6184f184"
      },
      "execution_count": null,
      "outputs": [
        {
          "output_type": "stream",
          "name": "stdout",
          "text": [
            "참\n"
          ]
        }
      ]
    },
    {
      "cell_type": "code",
      "source": [
        "x=1\n",
        "y=2"
      ],
      "metadata": {
        "id": "FAhUD4rLDll_"
      },
      "execution_count": null,
      "outputs": []
    },
    {
      "cell_type": "code",
      "source": [
        "if x>0:\n",
        "  if x<5:\n",
        "    print('5보다 작은 양수')"
      ],
      "metadata": {
        "colab": {
          "base_uri": "https://localhost:8080/"
        },
        "id": "LCqsbHrWG5Z6",
        "outputId": "407feea9-c684-4a12-c806-a938e67a3974"
      },
      "execution_count": null,
      "outputs": [
        {
          "output_type": "stream",
          "name": "stdout",
          "text": [
            "5보다 작은 양수\n"
          ]
        }
      ]
    },
    {
      "cell_type": "code",
      "source": [
        "if x>0 and x<5:\n",
        "  print('5보다 작은 양수')"
      ],
      "metadata": {
        "colab": {
          "base_uri": "https://localhost:8080/"
        },
        "id": "1Rx63GRvG-3T",
        "outputId": "595853ad-1f89-4523-df2c-31e2a64c7a99"
      },
      "execution_count": null,
      "outputs": [
        {
          "output_type": "stream",
          "name": "stdout",
          "text": [
            "5보다 작은 양수\n"
          ]
        }
      ]
    },
    {
      "cell_type": "code",
      "source": [
        "if 0<x<5:\n",
        "  print('5보다 작은 양수')"
      ],
      "metadata": {
        "colab": {
          "base_uri": "https://localhost:8080/"
        },
        "id": "MPJqKxeXHIpt",
        "outputId": "e2cf3c7a-7f43-49a4-9eec-84a1afc816d4"
      },
      "execution_count": null,
      "outputs": [
        {
          "output_type": "stream",
          "name": "stdout",
          "text": [
            "5보다 작은 양수\n"
          ]
        }
      ]
    },
    {
      "cell_type": "code",
      "source": [
        "# for 변수 in range(반복횟수):\n",
        "#   반복수행할 코드"
      ],
      "metadata": {
        "id": "gDbsqbnmHOwf"
      },
      "execution_count": null,
      "outputs": []
    },
    {
      "cell_type": "code",
      "source": [
        "for i in range(10):   #0~9\n",
        "  print(\"hello\",i)"
      ],
      "metadata": {
        "colab": {
          "base_uri": "https://localhost:8080/"
        },
        "id": "ji8aawIIH4ab",
        "outputId": "8e611330-9156-481f-f11b-c0302523e5f6"
      },
      "execution_count": null,
      "outputs": [
        {
          "output_type": "stream",
          "name": "stdout",
          "text": [
            "hello 0\n",
            "hello 1\n",
            "hello 2\n",
            "hello 3\n",
            "hello 4\n",
            "hello 5\n",
            "hello 6\n",
            "hello 7\n",
            "hello 8\n",
            "hello 9\n"
          ]
        }
      ]
    },
    {
      "cell_type": "code",
      "source": [
        "for i in range(10,20):   #0~9\n",
        "  print(\"hello\",i)"
      ],
      "metadata": {
        "colab": {
          "base_uri": "https://localhost:8080/"
        },
        "id": "ZQ2Yk69TH9xi",
        "outputId": "d4209070-a553-41e5-be5a-a218b8fb81b8"
      },
      "execution_count": null,
      "outputs": [
        {
          "output_type": "stream",
          "name": "stdout",
          "text": [
            "hello 10\n",
            "hello 11\n",
            "hello 12\n",
            "hello 13\n",
            "hello 14\n",
            "hello 15\n",
            "hello 16\n",
            "hello 17\n",
            "hello 18\n",
            "hello 19\n"
          ]
        }
      ]
    },
    {
      "cell_type": "code",
      "source": [
        "for i in range(10,20,2):   #0~9\n",
        "  print(\"hello\",i)"
      ],
      "metadata": {
        "colab": {
          "base_uri": "https://localhost:8080/"
        },
        "id": "cMISS7nNI6Gf",
        "outputId": "42025652-a2c2-4fdc-bbdc-7426db88e005"
      },
      "execution_count": null,
      "outputs": [
        {
          "output_type": "stream",
          "name": "stdout",
          "text": [
            "hello 10\n",
            "hello 12\n",
            "hello 14\n",
            "hello 16\n",
            "hello 18\n"
          ]
        }
      ]
    },
    {
      "cell_type": "code",
      "source": [
        "for i in range(10,0,-1):   #0~9\n",
        "  print(\"hello\",i)"
      ],
      "metadata": {
        "colab": {
          "base_uri": "https://localhost:8080/"
        },
        "id": "HQBZkhnMJOhq",
        "outputId": "621fca01-ff07-49af-b123-88e8a95cd7af"
      },
      "execution_count": null,
      "outputs": [
        {
          "output_type": "stream",
          "name": "stdout",
          "text": [
            "hello 10\n",
            "hello 9\n",
            "hello 8\n",
            "hello 7\n",
            "hello 6\n",
            "hello 5\n",
            "hello 4\n",
            "hello 3\n",
            "hello 2\n",
            "hello 1\n"
          ]
        }
      ]
    },
    {
      "cell_type": "code",
      "source": [
        "for i in range(5):\n",
        "  print('hello',i)"
      ],
      "metadata": {
        "colab": {
          "base_uri": "https://localhost:8080/"
        },
        "id": "-YkYcxVTJTET",
        "outputId": "00aceddb-377d-480e-91f0-7a594d5cc570"
      },
      "execution_count": null,
      "outputs": [
        {
          "output_type": "stream",
          "name": "stdout",
          "text": [
            "hello 0\n",
            "hello 1\n",
            "hello 2\n",
            "hello 3\n",
            "hello 4\n"
          ]
        }
      ]
    },
    {
      "cell_type": "code",
      "source": [
        "for i in reversed(range(5)):\n",
        "  print('hello',i)"
      ],
      "metadata": {
        "colab": {
          "base_uri": "https://localhost:8080/"
        },
        "id": "y_iiDuixJgu-",
        "outputId": "d9e71678-2199-4279-bc85-3b63082e7825"
      },
      "execution_count": null,
      "outputs": [
        {
          "output_type": "stream",
          "name": "stdout",
          "text": [
            "hello 4\n",
            "hello 3\n",
            "hello 2\n",
            "hello 1\n",
            "hello 0\n"
          ]
        }
      ]
    },
    {
      "cell_type": "code",
      "source": [
        "for i in reversed(range(5)):\n",
        "  print('hello',i, end=' ')"
      ],
      "metadata": {
        "colab": {
          "base_uri": "https://localhost:8080/"
        },
        "id": "EvdZmzEcJlel",
        "outputId": "9595aaf8-b407-45cf-c05f-06a52bdb8a2e"
      },
      "execution_count": null,
      "outputs": [
        {
          "output_type": "stream",
          "name": "stdout",
          "text": [
            "hello 4 hello 3 hello 2 hello 1 hello 0 "
          ]
        }
      ]
    },
    {
      "cell_type": "code",
      "source": [
        "for i in 'python':\n",
        "  print(i, end=' ')"
      ],
      "metadata": {
        "colab": {
          "base_uri": "https://localhost:8080/"
        },
        "id": "qhi30JoaJxVL",
        "outputId": "0749dc4f-bf0a-4fce-bb22-5ecb2f53809f"
      },
      "execution_count": null,
      "outputs": [
        {
          "output_type": "stream",
          "name": "stdout",
          "text": [
            "p y t h o n "
          ]
        }
      ]
    },
    {
      "cell_type": "code",
      "source": [
        "for i in reversed('python') :\n",
        "  print(i, end=' ')"
      ],
      "metadata": {
        "colab": {
          "base_uri": "https://localhost:8080/"
        },
        "id": "RrPnrUDzMNon",
        "outputId": "3d60073a-f9e5-4c37-e485-9b8c20c22ee9"
      },
      "execution_count": null,
      "outputs": [
        {
          "output_type": "stream",
          "name": "stdout",
          "text": [
            "n o h t y p "
          ]
        }
      ]
    },
    {
      "cell_type": "code",
      "source": [
        "i=0"
      ],
      "metadata": {
        "id": "WyDCOlN8MSUI"
      },
      "execution_count": null,
      "outputs": []
    },
    {
      "cell_type": "code",
      "source": [
        "while i<10:\n",
        "  print('hello')\n",
        "  i=i+1"
      ],
      "metadata": {
        "id": "wF8mGrfRMVmT",
        "colab": {
          "base_uri": "https://localhost:8080/"
        },
        "outputId": "e68bea17-f843-443d-dd74-df3d1c859cbe"
      },
      "execution_count": null,
      "outputs": [
        {
          "output_type": "stream",
          "name": "stdout",
          "text": [
            "hello\n",
            "hello\n",
            "hello\n",
            "hello\n",
            "hello\n",
            "hello\n",
            "hello\n",
            "hello\n",
            "hello\n",
            "hello\n"
          ]
        }
      ]
    },
    {
      "cell_type": "code",
      "source": [
        "score=[90,80,70,60,50,100]\n",
        "num=1"
      ],
      "metadata": {
        "id": "FS1mT7jEM-zp"
      },
      "execution_count": null,
      "outputs": []
    },
    {
      "cell_type": "code",
      "source": [
        "for s in score:\n",
        "  if s>60:\n",
        "      print('%d번 학생 합격입니다.' % num)\n",
        "  num+=1"
      ],
      "metadata": {
        "colab": {
          "base_uri": "https://localhost:8080/"
        },
        "id": "ezRHth5ONGTf",
        "outputId": "e515b7dc-bc6e-450b-8dc9-be3bb63809a6"
      },
      "execution_count": null,
      "outputs": [
        {
          "output_type": "stream",
          "name": "stdout",
          "text": [
            "1번 학생 합격입니다.\n",
            "2번 학생 합격입니다.\n",
            "3번 학생 합격입니다.\n",
            "6번 학생 합격입니다.\n"
          ]
        }
      ]
    },
    {
      "cell_type": "code",
      "source": [
        "for s in range(len(score)):\n",
        "  if score[s]>60:\n",
        "      print('%d번 학생 합격입니다.' % num)\n",
        "  num+=1"
      ],
      "metadata": {
        "colab": {
          "base_uri": "https://localhost:8080/"
        },
        "id": "8p-_vJTUPjPB",
        "outputId": "176f3412-9bad-4821-b134-bbfbefcaf1f3"
      },
      "execution_count": null,
      "outputs": [
        {
          "output_type": "stream",
          "name": "stdout",
          "text": [
            "1번 학생 합격입니다.\n",
            "2번 학생 합격입니다.\n",
            "3번 학생 합격입니다.\n",
            "6번 학생 합격입니다.\n"
          ]
        }
      ]
    },
    {
      "cell_type": "code",
      "source": [
        "num=0                       #continue 아래문장 실행x\n",
        "for s in score:\n",
        "  num+=1\n",
        "  if s<=60:\n",
        "      continue\n",
        "  print('%d번 학생 합격입니다.' % num)\n"
      ],
      "metadata": {
        "colab": {
          "base_uri": "https://localhost:8080/"
        },
        "id": "mg52EwGVN36I",
        "outputId": "85502997-e49e-4d4a-c259-2ce23b526e19"
      },
      "execution_count": null,
      "outputs": [
        {
          "output_type": "stream",
          "name": "stdout",
          "text": [
            "1번 학생 합격입니다.\n",
            "2번 학생 합격입니다.\n",
            "3번 학생 합격입니다.\n",
            "6번 학생 합격입니다.\n"
          ]
        }
      ]
    },
    {
      "cell_type": "code",
      "source": [
        "#2단 출력\n",
        "#2 4 6 7 ... 18"
      ],
      "metadata": {
        "id": "WSBEYdZPO7pv"
      },
      "execution_count": null,
      "outputs": []
    },
    {
      "cell_type": "code",
      "source": [
        "for i in range(1,10):\n",
        "  print(2*i, end=' ')"
      ],
      "metadata": {
        "colab": {
          "base_uri": "https://localhost:8080/"
        },
        "id": "SEh_fZwjQJtG",
        "outputId": "6d6ad703-3f4a-4436-c9c4-1ed0c961559a"
      },
      "execution_count": null,
      "outputs": [
        {
          "output_type": "stream",
          "name": "stdout",
          "text": [
            "2 4 6 8 10 12 14 16 18 "
          ]
        }
      ]
    },
    {
      "cell_type": "code",
      "source": [
        "for i in range(3):\n",
        "  for j in range(2):\n",
        "    print(i,j)"
      ],
      "metadata": {
        "colab": {
          "base_uri": "https://localhost:8080/"
        },
        "id": "Ad5fihQJQSAr",
        "outputId": "b68fe7d9-88a6-46a5-9511-f6c6241c3f6e"
      },
      "execution_count": null,
      "outputs": [
        {
          "output_type": "stream",
          "name": "stdout",
          "text": [
            "0 0\n",
            "0 1\n",
            "1 0\n",
            "1 1\n",
            "2 0\n",
            "2 1\n"
          ]
        }
      ]
    },
    {
      "cell_type": "code",
      "source": [
        "for i in range(2,10):\n",
        "  for j in range(1,10):\n",
        "    print(i*j, end =' ')\n",
        "  print('')"
      ],
      "metadata": {
        "colab": {
          "base_uri": "https://localhost:8080/"
        },
        "id": "2UTMLMl_VJI2",
        "outputId": "6a119d7b-016f-46ad-f553-bb924011c922"
      },
      "execution_count": null,
      "outputs": [
        {
          "output_type": "stream",
          "name": "stdout",
          "text": [
            "2 4 6 8 10 12 14 16 18 \n",
            "3 6 9 12 15 18 21 24 27 \n",
            "4 8 12 16 20 24 28 32 36 \n",
            "5 10 15 20 25 30 35 40 45 \n",
            "6 12 18 24 30 36 42 48 54 \n",
            "7 14 21 28 35 42 49 56 63 \n",
            "8 16 24 32 40 48 56 64 72 \n",
            "9 18 27 36 45 54 63 72 81 \n"
          ]
        }
      ]
    },
    {
      "cell_type": "code",
      "source": [
        "#리스트 컴프리헨션(리스트 내포) : 리스트 내부에 for문 작성하여 리스트를 초기화"
      ],
      "metadata": {
        "id": "c7x9wPrIVsMc"
      },
      "execution_count": null,
      "outputs": []
    },
    {
      "cell_type": "code",
      "source": [
        "x=[1,2,3]\n",
        "res=[]"
      ],
      "metadata": {
        "id": "Guu5ZbxTWyRJ"
      },
      "execution_count": null,
      "outputs": []
    },
    {
      "cell_type": "code",
      "source": [
        "for n in x:\n",
        "  res.append(n*2)\n",
        "res"
      ],
      "metadata": {
        "colab": {
          "base_uri": "https://localhost:8080/"
        },
        "id": "1btuScgSW8St",
        "outputId": "156a7b32-68a7-411e-d2f5-1471baa168a4"
      },
      "execution_count": null,
      "outputs": [
        {
          "output_type": "execute_result",
          "data": {
            "text/plain": [
              "[2, 4, 6]"
            ]
          },
          "metadata": {},
          "execution_count": 36
        }
      ]
    },
    {
      "cell_type": "code",
      "source": [
        "x=[1,2,3]\n",
        "res=[n*2 for n in x]\n",
        "res"
      ],
      "metadata": {
        "colab": {
          "base_uri": "https://localhost:8080/"
        },
        "id": "JESoIdBxXE58",
        "outputId": "6718e960-f74f-47d4-f3f9-13ed8294a1a2"
      },
      "execution_count": null,
      "outputs": [
        {
          "output_type": "execute_result",
          "data": {
            "text/plain": [
              "[2, 4, 6]"
            ]
          },
          "metadata": {},
          "execution_count": 37
        }
      ]
    },
    {
      "cell_type": "code",
      "source": [
        "x=[1,2,3]\n",
        "res2=[n for n in x if n>=2]\n",
        "res2"
      ],
      "metadata": {
        "colab": {
          "base_uri": "https://localhost:8080/"
        },
        "id": "sxfvk-VnXdz2",
        "outputId": "7e3a2d1f-a1eb-477e-d847-dddb6c145c71"
      },
      "execution_count": null,
      "outputs": [
        {
          "output_type": "execute_result",
          "data": {
            "text/plain": [
              "[2, 3]"
            ]
          },
          "metadata": {},
          "execution_count": 39
        }
      ]
    },
    {
      "cell_type": "code",
      "source": [
        "x=list(range(1,101))\n",
        "res=[n for n in x if n%3==0]\n",
        "print(res, end=' ')"
      ],
      "metadata": {
        "colab": {
          "base_uri": "https://localhost:8080/"
        },
        "id": "EbstMAdmYBZ1",
        "outputId": "cda2b4f1-2ece-40d6-94b8-6a565b8aaaa2"
      },
      "execution_count": null,
      "outputs": [
        {
          "output_type": "stream",
          "name": "stdout",
          "text": [
            "[3, 6, 9, 12, 15, 18, 21, 24, 27, 30, 33, 36, 39, 42, 45, 48, 51, 54, 57, 60, 63, 66, 69, 72, 75, 78, 81, 84, 87, 90, 93, 96, 99] "
          ]
        }
      ]
    },
    {
      "cell_type": "code",
      "source": [
        "res=[]\n",
        "for n in range(1,101):\n",
        "  if n%3==0:\n",
        "    res.append(n)\n",
        "print(res, end=' ')"
      ],
      "metadata": {
        "colab": {
          "base_uri": "https://localhost:8080/"
        },
        "id": "CrIOYnFcZLCV",
        "outputId": "4570d399-0f5d-4445-f6db-733f575b3e5d"
      },
      "execution_count": null,
      "outputs": [
        {
          "output_type": "stream",
          "name": "stdout",
          "text": [
            "[3, 6, 9, 12, 15, 18, 21, 24, 27, 30, 33, 36, 39, 42, 45, 48, 51, 54, 57, 60, 63, 66, 69, 72, 75, 78, 81, 84, 87, 90, 93, 96, 99] "
          ]
        }
      ]
    },
    {
      "cell_type": "code",
      "source": [
        "[i*j for i in range(2,10) for j in range(1,10)]"
      ],
      "metadata": {
        "colab": {
          "base_uri": "https://localhost:8080/"
        },
        "id": "4U0eJwPXaRV2",
        "outputId": "fb06340d-d491-4a4f-a618-e4843c12a617"
      },
      "execution_count": null,
      "outputs": [
        {
          "output_type": "execute_result",
          "data": {
            "text/plain": [
              "[2,\n",
              " 4,\n",
              " 6,\n",
              " 8,\n",
              " 10,\n",
              " 12,\n",
              " 14,\n",
              " 16,\n",
              " 18,\n",
              " 3,\n",
              " 6,\n",
              " 9,\n",
              " 12,\n",
              " 15,\n",
              " 18,\n",
              " 21,\n",
              " 24,\n",
              " 27,\n",
              " 4,\n",
              " 8,\n",
              " 12,\n",
              " 16,\n",
              " 20,\n",
              " 24,\n",
              " 28,\n",
              " 32,\n",
              " 36,\n",
              " 5,\n",
              " 10,\n",
              " 15,\n",
              " 20,\n",
              " 25,\n",
              " 30,\n",
              " 35,\n",
              " 40,\n",
              " 45,\n",
              " 6,\n",
              " 12,\n",
              " 18,\n",
              " 24,\n",
              " 30,\n",
              " 36,\n",
              " 42,\n",
              " 48,\n",
              " 54,\n",
              " 7,\n",
              " 14,\n",
              " 21,\n",
              " 28,\n",
              " 35,\n",
              " 42,\n",
              " 49,\n",
              " 56,\n",
              " 63,\n",
              " 8,\n",
              " 16,\n",
              " 24,\n",
              " 32,\n",
              " 40,\n",
              " 48,\n",
              " 56,\n",
              " 64,\n",
              " 72,\n",
              " 9,\n",
              " 18,\n",
              " 27,\n",
              " 36,\n",
              " 45,\n",
              " 54,\n",
              " 63,\n",
              " 72,\n",
              " 81]"
            ]
          },
          "metadata": {},
          "execution_count": 51
        }
      ]
    },
    {
      "cell_type": "code",
      "source": [
        "import random"
      ],
      "metadata": {
        "id": "NUwPjGFkcLOo"
      },
      "execution_count": null,
      "outputs": []
    },
    {
      "cell_type": "code",
      "source": [
        "random.random()"
      ],
      "metadata": {
        "colab": {
          "base_uri": "https://localhost:8080/"
        },
        "id": "l5pmlz9gcW0C",
        "outputId": "e9e32af0-579e-4c36-e2ca-b023dec9adea"
      },
      "execution_count": null,
      "outputs": [
        {
          "output_type": "execute_result",
          "data": {
            "text/plain": [
              "0.0961898682346305"
            ]
          },
          "metadata": {},
          "execution_count": 53
        }
      ]
    },
    {
      "cell_type": "code",
      "source": [
        "#모듈 = 특정기능을 수행하기 위한 함수, 클래스로 구성된 파일\n",
        "random.random()"
      ],
      "metadata": {
        "colab": {
          "base_uri": "https://localhost:8080/"
        },
        "id": "GMZCEqnJcblC",
        "outputId": "0d9049e5-ef75-4829-a982-8c80ed61d4d6"
      },
      "execution_count": null,
      "outputs": [
        {
          "output_type": "execute_result",
          "data": {
            "text/plain": [
              "0.2286961981839315"
            ]
          },
          "metadata": {},
          "execution_count": 56
        }
      ]
    },
    {
      "cell_type": "code",
      "source": [
        "random.randint(1,3)"
      ],
      "metadata": {
        "colab": {
          "base_uri": "https://localhost:8080/"
        },
        "id": "AehKhxmLdB2G",
        "outputId": "ab951c89-b88a-4f32-fb17-86d34b4763ef"
      },
      "execution_count": null,
      "outputs": [
        {
          "output_type": "execute_result",
          "data": {
            "text/plain": [
              "3"
            ]
          },
          "metadata": {},
          "execution_count": 61
        }
      ]
    },
    {
      "cell_type": "code",
      "source": [
        "dice=[1,2,3,4,5,6]"
      ],
      "metadata": {
        "id": "otUTno4Odj8I"
      },
      "execution_count": null,
      "outputs": []
    },
    {
      "cell_type": "code",
      "source": [
        "random.choice(dice)"
      ],
      "metadata": {
        "colab": {
          "base_uri": "https://localhost:8080/"
        },
        "id": "0voz3jLSeVcv",
        "outputId": "d6a1ebec-ef14-4aa2-debb-45754d4c2641"
      },
      "execution_count": null,
      "outputs": [
        {
          "output_type": "execute_result",
          "data": {
            "text/plain": [
              "3"
            ]
          },
          "metadata": {},
          "execution_count": 63
        }
      ]
    },
    {
      "cell_type": "code",
      "source": [
        "i=0\n",
        "while True:\n",
        "  print('hello',i)\n",
        "  i+=1\n",
        "  if i==10:\n",
        "    break\n"
      ],
      "metadata": {
        "colab": {
          "base_uri": "https://localhost:8080/"
        },
        "id": "I3RKUWSmeZL7",
        "outputId": "22f38860-10d6-43ba-fcab-c34529eab917"
      },
      "execution_count": null,
      "outputs": [
        {
          "output_type": "stream",
          "name": "stdout",
          "text": [
            "hello 0\n",
            "hello 1\n",
            "hello 2\n",
            "hello 3\n",
            "hello 4\n",
            "hello 5\n",
            "hello 6\n",
            "hello 7\n",
            "hello 8\n",
            "hello 9\n"
          ]
        }
      ]
    },
    {
      "cell_type": "code",
      "source": [
        "for i in range(10):\n",
        "  print(i)\n",
        "  if i>5:\n",
        "    break"
      ],
      "metadata": {
        "colab": {
          "base_uri": "https://localhost:8080/"
        },
        "id": "zION9SgViJLo",
        "outputId": "00c15f1d-c95e-4096-e094-b8488a48dbde"
      },
      "execution_count": null,
      "outputs": [
        {
          "output_type": "stream",
          "name": "stdout",
          "text": [
            "0\n",
            "1\n",
            "2\n",
            "3\n",
            "4\n",
            "5\n",
            "6\n"
          ]
        }
      ]
    },
    {
      "cell_type": "code",
      "source": [
        "for i in range(10):   #i가 홀수일 경우만 출력\n",
        "  if i%2==1:\n",
        "    print(i)"
      ],
      "metadata": {
        "colab": {
          "base_uri": "https://localhost:8080/"
        },
        "id": "AlwXJ6Uei6kE",
        "outputId": "1df95758-a709-4e50-93fe-54f727cb20b8"
      },
      "execution_count": null,
      "outputs": [
        {
          "output_type": "stream",
          "name": "stdout",
          "text": [
            "1\n",
            "3\n",
            "5\n",
            "7\n",
            "9\n"
          ]
        }
      ]
    },
    {
      "cell_type": "code",
      "source": [
        "for i in range(10):   #i가 홀수일 경우만 출력\n",
        "  if i%2==0:\n",
        "    continue\n",
        "  print(i)"
      ],
      "metadata": {
        "colab": {
          "base_uri": "https://localhost:8080/"
        },
        "id": "vH2lxO7djTUn",
        "outputId": "eb707df5-bbf0-4cc8-f406-722aab2c7a80"
      },
      "execution_count": null,
      "outputs": [
        {
          "output_type": "stream",
          "name": "stdout",
          "text": [
            "1\n",
            "3\n",
            "5\n",
            "7\n",
            "9\n"
          ]
        }
      ]
    },
    {
      "cell_type": "code",
      "source": [
        "#1\n",
        "movie_rank=['닥터스트레인지','스플릿','럭키']\n",
        "\n",
        "#2\n",
        "movie_rank.append('배트맨')\n",
        "\n",
        "#3\n",
        "movie_rank.insert(1,'슈퍼맨')\n",
        "\n",
        "#4\n",
        "del movie_rank[3]\n",
        "\n",
        "#5\n",
        "del movie_rank[2:]\n",
        "\n",
        "#6\n",
        "price = ['20180728', 100, 130, 140, 150, 160, 170]\n",
        "price[1:]\n",
        "\n",
        "#7\n",
        "nums = [1, 2, 3, 4, 5, 6, 7, 8, 9, 10]\n",
        "nums[::2]\n",
        "\n",
        "#8\n",
        "nums = [1, 2, 3, 4, 5]\n",
        "nums[::-1]\n",
        "\n",
        "#9\n",
        "interest = ['삼성전자', 'LG전자', 'Naver']\n",
        "print(interest[0],interest[2])\n",
        "\n",
        "#10\n",
        "interest = ['삼성전자', 'LG전자', 'Naver', 'SK하이닉스', '미래에셋대우']\n",
        "for n in interest:\n",
        "  print(n,end=' ')\n",
        "\n",
        "#11\n",
        "interest = ['삼성전자', 'LG전자', 'Naver', 'SK하이닉스', '미래에셋대우']\n",
        "interest_join = '\\n'.join(interest)\n",
        "print(interest_join)\n",
        "\n",
        "#12\n",
        "data = [2, 4, 3, 1, 5, 10, 9]\n",
        "data.sort()\n",
        "\n",
        "#13\n",
        "hong_pin = '881120-1068234'\n",
        "birth = hong_pin[:6]\n",
        "num = hong_pin[-7:]\n",
        "print(birth,num)\n",
        "\n",
        "#13_1\n",
        "hong_pin = '881120-1068234'\n",
        "birth, num = hong_pin.split('-')\n",
        "print(birth, num)\n",
        "\n",
        "#14\n",
        "tp=(1,2,3)\n",
        "tp=tp+(4,)\n",
        "\n",
        "#14_1\n",
        "tp=(1,2,3)\n",
        "lst=list(tp)\n",
        "lst.append(4)\n",
        "tp=tuple(lst)\n",
        "\n",
        "#15\n",
        "a = {'A':90, 'B':80, 'C':70}\n",
        "a['B']\n",
        "\n",
        "#15_1\n",
        "a.pop('B')\n",
        "\n",
        "#16\n",
        "nums = [1, 2, 3, 4, 5]\n",
        "sum_nums = 0\n",
        "for n in nums:\n",
        "  sum_nums += n\n",
        "avg=sum_nums / len(nums)\n",
        "print(avg)\n",
        "\n",
        "#17\n",
        "nums = [1, 2, 3, 4, 5, 6, 7, 8, 9, 10]\n",
        "res = []\n",
        "for n in nums:\n",
        "  if n%2==1:\n",
        "   res.append(n)\n",
        "print(res)\n",
        "\n",
        "#17_1\n",
        "res = [n for n in nums if n%2==1]\n",
        "\n",
        "#18\n",
        "nums = [1, 2, 3, 4, 5]\n",
        "res = []\n",
        "for n in reversed(nums):\n",
        "  res.append(n)\n",
        "\n",
        "\n",
        "#18_1\n",
        "res = [n for n in reversed(nums)]\n",
        "\n",
        "#19\n",
        "name = ['메로나', '폴라포', '빵빠레']\n",
        "price= [1000, 1200, 1800]\n",
        "menu = dict(zip(name, price))\n",
        "\n",
        "#20\n",
        "menu['죠스바'] = 1200\n",
        "menu['월드콘'] = 1500\n",
        "\n",
        "#21\n",
        "a = [1, 1, 1, 2, 2, 3, 3, 3, 4, 4, 5]\n",
        "a= set(a)\n",
        "\n",
        "#22\n",
        "i=0\n",
        "sum_i = 0\n",
        "while i<1001:\n",
        "  if i%3==0 and i%7==0:\n",
        "    sum_i += i\n",
        "  i+=1\n",
        "print(sum_i)\n",
        "\n",
        "\n",
        "#23\n",
        "numbers = [3,5,45,97,32,22,10,19,39,43]\n",
        "result = [number for number in numbers if number%2==0]\n",
        "\n",
        "#24\n",
        "lst1=[4,54,6,74,104]\n",
        "lst2=[]\n",
        "for n in lst1:\n",
        "  lst2.append(n+6)\n",
        "\n",
        "#24_1\n",
        "lst2 = [n+6 for n in lst1]\n",
        "\n",
        "#25\n",
        "lst1=[4,54,6,74,104]\n",
        "lst2=[]\n",
        "for n in lst1 :\n",
        "  if n*n>50:\n",
        "    lst2.append(n)\n",
        "\n",
        "#25_1\n",
        "lst2 = [n for n in lst1 if n*n>50]"
      ],
      "metadata": {
        "id": "OWAGm67KjfgK"
      },
      "execution_count": null,
      "outputs": []
    },
    {
      "cell_type": "code",
      "source": [],
      "metadata": {
        "colab": {
          "base_uri": "https://localhost:8080/"
        },
        "id": "MVrS1ODRyaqK",
        "outputId": "26cbbf89-d2cb-4066-ff57-ca08b7774bbb"
      },
      "execution_count": null,
      "outputs": [
        {
          "output_type": "execute_result",
          "data": {
            "text/plain": [
              "[32, 22, 10]"
            ]
          },
          "metadata": {},
          "execution_count": 165
        }
      ]
    },
    {
      "cell_type": "code",
      "source": [
        "#26\n",
        "import random\n",
        "lotto1 = []\n",
        "lotto2 = []\n",
        "lotto3 = []\n",
        "lotto4 = []\n",
        "lotto5 = []\n",
        "\n",
        "i=0\n",
        "num=0\n",
        "while i<6:\n",
        "  num = random.randint(1,45)\n",
        "  if num not in lotto1:\n",
        "    lotto1.append(num)\n",
        "    i+=1\n",
        "  else:\n",
        "    pass\n",
        "i=0\n",
        "num=0\n",
        "while i<6:\n",
        "  num = random.randint(1,45)\n",
        "  if num not in lotto2:\n",
        "    lotto2.append(num)\n",
        "    i+=1\n",
        "  else:\n",
        "    pass\n",
        "i=0\n",
        "num=0\n",
        "while i<6:\n",
        "  num = random.randint(1,45)\n",
        "  if num not in lotto3:\n",
        "    lotto3.append(num)\n",
        "    i+=1\n",
        "  else:\n",
        "    pass\n",
        "i=0\n",
        "num=0\n",
        "while i<6:\n",
        "  num = random.randint(1,45)\n",
        "  if num not in lotto4:\n",
        "    lotto4.append(num)\n",
        "    i+=1\n",
        "  else:\n",
        "    pass\n",
        "i=0\n",
        "num=0\n",
        "while i<6:\n",
        "  num = random.randint(1,45)\n",
        "  if num not in lotto5:\n",
        "    lotto5.append(num)\n",
        "    i+=1\n",
        "  else:\n",
        "    pass\n",
        "\n",
        "lotto = [lotto1,lotto2,lotto3,lotto4,lotto5]\n",
        "lotto"
      ],
      "metadata": {
        "colab": {
          "base_uri": "https://localhost:8080/"
        },
        "id": "MjI1lBK00K6h",
        "outputId": "bffa28be-fc82-49af-8609-20749ce61a7b"
      },
      "execution_count": null,
      "outputs": [
        {
          "output_type": "execute_result",
          "data": {
            "text/plain": [
              "[[1, 14, 11, 13, 10, 45],\n",
              " [10, 38, 43, 18, 22, 45],\n",
              " [27, 1, 25, 2, 13, 45],\n",
              " [11, 40, 28, 20, 39, 14],\n",
              " [5, 28, 16, 20, 12, 13]]"
            ]
          },
          "metadata": {},
          "execution_count": 196
        }
      ]
    },
    {
      "cell_type": "code",
      "source": [],
      "metadata": {
        "id": "Nq06Vzvp0rU5"
      },
      "execution_count": null,
      "outputs": []
    }
  ]
}