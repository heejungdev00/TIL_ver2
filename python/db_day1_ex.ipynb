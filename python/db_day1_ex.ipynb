{
 "cells": [
  {
   "cell_type": "code",
   "execution_count": 57,
   "id": "179b2862-2cab-45af-abf6-af0e5df0183f",
   "metadata": {},
   "outputs": [
    {
     "name": "stdin",
     "output_type": "stream",
     "text": [
      "자연수입력: 5000\n"
     ]
    },
    {
     "name": "stdout",
     "output_type": "stream",
     "text": [
      "3\n"
     ]
    }
   ],
   "source": [
    "# 1. 친화수란 a와 b라는 서로 다른 두 자연수가 있을 때, a의 자신을 제외한 약수를 모두 더하면 b가 되고, b의 자신을 제외한 약수를 모두 더하면 a가 \n",
    "# 되는 두 수의 쌍을 말한다. 예로 220, 284을 들면 220의 자신을 제외한 약수는 1, 2, 4, 5, 10, 11, 20, 22, 44, 55, 110이고, 이를 모두 더하면 284이다.\n",
    "#  또한 284의 자신을 제외한 약수는 1, 2, 4, 71, 142이고, 이를 모두 더하면 220이 되므로 220과 284는 친화수이다.\n",
    "# 자연수 A를 입력받았을 때, A 이하의 친화수의 쌍의 개수를 출력하는 프로그램을 만들어라.\n",
    "\n",
    "A=int(input('자연수입력:'))\n",
    "\n",
    "def factors(num):   # 자신을 제외한 약수를 모두 더하는 함수\n",
    "    factor=0\n",
    "    for i in range(1,num):\n",
    "        if num%i ==0:\n",
    "            factor=factor+i  # 약수를 모두 더해줌\n",
    "    return factor\n",
    "\n",
    "def friend_num(num):  # 친화수 구하는 함수\n",
    "    if factors(factors(num))==num and num!=factors(num):\n",
    "        result=[num,factors(num)]\n",
    "    else:\n",
    "        result=False\n",
    "    return result\n",
    "\n",
    "result=[]\n",
    "for a in range(1,A+1):\n",
    "    x=friend_num(a)\n",
    "    if x!=False:\n",
    "        result.append(x)\n",
    "res=int(len(result)/2)  # [220,284],[284,220] 결과가 이런식으로 나오므로 나누기2 해줌.\n",
    "print(res)"
   ]
  },
  {
   "cell_type": "code",
   "execution_count": 79,
   "id": "58066135-7975-490b-9d09-e25a56f62a4b",
   "metadata": {},
   "outputs": [
    {
     "name": "stdout",
     "output_type": "stream",
     "text": [
      "없다\n"
     ]
    }
   ],
   "source": [
    "# 2. 리스트에 있는 숫자들의 최빈값을 구하는 프로그램을 만들어라.\n",
    "# [12, 17, 19, 17, 23] = 17\n",
    "# [26, 37, 26, 37, 91] = 26, 37\n",
    "# [28, 30, 32, 34, 144] = 없다\n",
    "\n",
    "# 최빈값 : 자료의 값 중에서 가장 많이 나타난 값 \n",
    "# ① 자료의 값이 모두 같거나 모두 다르면 최빈값은 없다.\n",
    "# ② 자료의 값이 모두 다를 때, 도수가 가장 큰 값이 1개 이상 있으면 그 값은 모두 최빈값이다.\n",
    "\n",
    "# lst=[12, 17, 19, 17, 23]\n",
    "# lst=[26, 37, 26, 37, 91]\n",
    "lst=[28, 30, 32, 34, 144]\n",
    "\n",
    "factor=list(set(lst))\n",
    "\n",
    "count=0\n",
    "res=[]\n",
    "if len(set(lst))==1 or len(set(lst))==len(lst): #자료의 값이 모두 같거나 모두 다르면 최빈값은 없다.\n",
    "    print('없다')\n",
    "else:\n",
    "    for f in factor:\n",
    "        if count==lst.count(f):\n",
    "            count=lst.count(f)\n",
    "            res.append(f)\n",
    "        elif count<lst.count(f):\n",
    "            res.clear()\n",
    "            count=lst.count(f)\n",
    "            res.append(f)\n",
    "    print(res)"
   ]
  },
  {
   "cell_type": "code",
   "execution_count": null,
   "id": "eaca578d-f02b-42a6-8d68-271893bdb17d",
   "metadata": {},
   "outputs": [],
   "source": []
  }
 ],
 "metadata": {
  "kernelspec": {
   "display_name": "Python 3 (ipykernel)",
   "language": "python",
   "name": "python3"
  },
  "language_info": {
   "codemirror_mode": {
    "name": "ipython",
    "version": 3
   },
   "file_extension": ".py",
   "mimetype": "text/x-python",
   "name": "python",
   "nbconvert_exporter": "python",
   "pygments_lexer": "ipython3",
   "version": "3.11.7"
  }
 },
 "nbformat": 4,
 "nbformat_minor": 5
}
