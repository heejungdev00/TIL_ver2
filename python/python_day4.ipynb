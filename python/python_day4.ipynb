{
  "cells": [
    {
      "cell_type": "code",
      "execution_count": null,
      "metadata": {
        "colab": {
          "base_uri": "https://localhost:8080/"
        },
        "id": "gzvIB9-iz0SO",
        "outputId": "d87ea3cb-735c-499b-8eb3-59125872f3b1"
      },
      "outputs": [
        {
          "name": "stdout",
          "output_type": "stream",
          "text": [
            "{'시가': [100, 200, 300], '종가': [80, 210, 330]}\n"
          ]
        }
      ],
      "source": [
        "stock=[['시가',100,200,300], ['종가',80,210,330]]\n",
        "keys=[stock[0][0],stock[1][0]]\n",
        "values=[stock[0][1:],stock[1][1:]]\n",
        "stock_dic=dict(zip(keys,values))\n",
        "print(stock_dic)"
      ]
    },
    {
      "cell_type": "code",
      "execution_count": null,
      "metadata": {
        "colab": {
          "base_uri": "https://localhost:8080/"
        },
        "id": "VGEsWQoX8-Or",
        "outputId": "19f8e63d-69b8-4293-aac0-716b7ad950f5"
      },
      "outputs": [
        {
          "name": "stdout",
          "output_type": "stream",
          "text": [
            "{'10/10': [80, 110, 70, 90], '10/11': [210, 230, 190, 200]}\n"
          ]
        }
      ],
      "source": [
        "row1 = ['10/10', 80, 110, 70, 90]\n",
        "row2 = ['10/11', 210, 230, 190, 200]\n",
        "key=[row1[0],row2[0]]\n",
        "value=[row1[1:],row2[1:]]\n",
        "stock = dict(zip(key,value))\n",
        "print(stock)"
      ]
    },
    {
      "cell_type": "markdown",
      "source": [
        "# 파일 열기"
      ],
      "metadata": {
        "id": "73dMq_cTnLeE"
      }
    },
    {
      "cell_type": "code",
      "execution_count": null,
      "metadata": {
        "colab": {
          "base_uri": "https://localhost:8080/"
        },
        "id": "frzg7nL2-Mcx",
        "outputId": "e1be585d-0cb5-4bf1-93cf-8226c09bd77f"
      },
      "outputs": [
        {
          "data": {
            "text/plain": [
              "5"
            ]
          },
          "execution_count": 12,
          "metadata": {},
          "output_type": "execute_result"
        }
      ],
      "source": [
        "#파일 읽을때-> open,쓰기,close(안닫으면 메모리를 차지함.)\n",
        "myfile=open('새파일.txt','w') #w:쓰기, r:읽기, a:추가\n",
        "myfile.write('안녕하세여')"
      ]
    },
    {
      "cell_type": "code",
      "execution_count": null,
      "metadata": {
        "id": "gOCBUMcuQX-W"
      },
      "outputs": [],
      "source": [
        "myfile.close()"
      ]
    },
    {
      "cell_type": "code",
      "execution_count": null,
      "metadata": {
        "id": "asGYRmqRRHUX"
      },
      "outputs": [],
      "source": [
        "myfile2=open('새파일.txt','w')  #덮어쓰기됨."
      ]
    },
    {
      "cell_type": "code",
      "execution_count": null,
      "metadata": {
        "colab": {
          "base_uri": "https://localhost:8080/"
        },
        "id": "7a53avq9Rmyl",
        "outputId": "6bfd8329-88c6-47c3-ce19-03ed22a075f8"
      },
      "outputs": [
        {
          "data": {
            "text/plain": [
              "4"
            ]
          },
          "execution_count": 15,
          "metadata": {},
          "output_type": "execute_result"
        }
      ],
      "source": [
        "myfile2.write('잘가세여')"
      ]
    },
    {
      "cell_type": "code",
      "execution_count": null,
      "metadata": {
        "id": "fP3ZHWJXRq0P"
      },
      "outputs": [],
      "source": [
        "myfile2.close()"
      ]
    },
    {
      "cell_type": "code",
      "execution_count": null,
      "metadata": {
        "id": "QifKtw1tRtGM"
      },
      "outputs": [],
      "source": [
        "myfile3=open('새파일.txt','r')"
      ]
    },
    {
      "cell_type": "code",
      "execution_count": null,
      "metadata": {
        "id": "qmHCHb7iSEKg"
      },
      "outputs": [],
      "source": [
        "s=myfile3.read()"
      ]
    },
    {
      "cell_type": "code",
      "execution_count": null,
      "metadata": {
        "colab": {
          "base_uri": "https://localhost:8080/"
        },
        "id": "NGvFMzn9SSc0",
        "outputId": "924cf305-01d8-487b-de84-5aedf0157e7c"
      },
      "outputs": [
        {
          "name": "stdout",
          "output_type": "stream",
          "text": [
            "잘가세여\n"
          ]
        }
      ],
      "source": [
        "print(s)"
      ]
    },
    {
      "cell_type": "code",
      "execution_count": null,
      "metadata": {
        "id": "mAQVvS8VSwfT"
      },
      "outputs": [],
      "source": [
        "myfile3.close()"
      ]
    },
    {
      "cell_type": "code",
      "execution_count": null,
      "metadata": {
        "colab": {
          "base_uri": "https://localhost:8080/"
        },
        "id": "mZ-DVViyS8xF",
        "outputId": "32b81992-93bc-4b95-eca4-804f528caee7"
      },
      "outputs": [
        {
          "name": "stdout",
          "output_type": "stream",
          "text": [
            "잘가세여\n"
          ]
        }
      ],
      "source": [
        "with open('새파일.txt','r') as myfile:      #with as: 자동close()\n",
        "  s=myfile.read()\n",
        "  print(s)"
      ]
    },
    {
      "cell_type": "code",
      "execution_count": null,
      "metadata": {
        "id": "Sq-EofOHTVId"
      },
      "outputs": [],
      "source": [
        "with open(\"여러줄파일.txt\", 'w') as myfile:\n",
        "  for i in range(5):\n",
        "    myfile.write('안녕하세요{0}\\n'.format(i))"
      ]
    },
    {
      "cell_type": "code",
      "execution_count": null,
      "metadata": {
        "id": "NfGIt3GXUcQV"
      },
      "outputs": [],
      "source": [
        "lines=['안녕하세요','잘가세요','파이썬']"
      ]
    },
    {
      "cell_type": "code",
      "execution_count": null,
      "metadata": {
        "id": "oJwVY_leVeWd"
      },
      "outputs": [],
      "source": [
        "with open(\"여러줄파일.txt\", 'w') as myfile:\n",
        "  for i in range(3):\n",
        "    myfile.write(lines[i])"
      ]
    },
    {
      "cell_type": "code",
      "execution_count": null,
      "metadata": {
        "id": "eG3yb30uVoFn"
      },
      "outputs": [],
      "source": [
        "f=open('파일연습.txt','w')"
      ]
    },
    {
      "cell_type": "code",
      "execution_count": null,
      "metadata": {
        "id": "HoJ_IXudoQGK"
      },
      "outputs": [],
      "source": [
        "for i in range(1,11):\n",
        "  txt='%d번째줄\\n' %i\n",
        "  f.write(txt)\n",
        "f.close()"
      ]
    },
    {
      "cell_type": "code",
      "execution_count": null,
      "metadata": {
        "colab": {
          "base_uri": "https://localhost:8080/"
        },
        "id": "_lcEVFXsoqS6",
        "outputId": "9e5340c2-c222-4864-ad3d-f5b9fdc5d2b9"
      },
      "outputs": [
        {
          "name": "stdout",
          "output_type": "stream",
          "text": [
            "1번째줄\n",
            "\n"
          ]
        }
      ],
      "source": [
        "fr=open('파일연습.txt','r')\n",
        "line=fr.readline()\n",
        "print(line)\n",
        "fr.close()"
      ]
    },
    {
      "cell_type": "code",
      "execution_count": null,
      "metadata": {
        "colab": {
          "base_uri": "https://localhost:8080/"
        },
        "id": "k88nRAShqJfA",
        "outputId": "6719ad2d-03fe-412c-9cff-fe2f412d2d75"
      },
      "outputs": [
        {
          "name": "stdout",
          "output_type": "stream",
          "text": [
            "1번째줄\n",
            "\n",
            "2번째줄\n",
            "\n",
            "3번째줄\n",
            "\n",
            "4번째줄\n",
            "\n",
            "5번째줄\n",
            "\n",
            "6번째줄\n",
            "\n",
            "7번째줄\n",
            "\n",
            "8번째줄\n",
            "\n",
            "9번째줄\n",
            "\n",
            "10번째줄\n",
            "\n"
          ]
        }
      ],
      "source": [
        "fr=open('파일연습.txt','r')\n",
        "while True:\n",
        "  line=fr.readline()    #파일의 줄을 읽음\n",
        "  if not line:break\n",
        "  print(line)\n",
        "\n",
        "fr.close()"
      ]
    },
    {
      "cell_type": "code",
      "execution_count": null,
      "metadata": {
        "colab": {
          "base_uri": "https://localhost:8080/"
        },
        "id": "QuZZQT-Op4SC",
        "outputId": "17c8079b-9e26-429f-a93d-f694729aac76"
      },
      "outputs": [
        {
          "name": "stdout",
          "output_type": "stream",
          "text": [
            "1번째줄\n",
            "2번째줄\n",
            "3번째줄\n",
            "4번째줄\n",
            "5번째줄\n",
            "6번째줄\n",
            "7번째줄\n",
            "8번째줄\n",
            "9번째줄\n",
            "10번째줄\n"
          ]
        }
      ],
      "source": [
        "fr=open('파일연습.txt','r')\n",
        "lines=fr.readlines()\n",
        "lines\n",
        "\n",
        "for line in lines:\n",
        "  line=line.strip()   #줄바꿈 문자 제거(공백뿐만아니라 줄바꿈 제)\n",
        "  print(line)"
      ]
    },
    {
      "cell_type": "code",
      "execution_count": null,
      "metadata": {
        "colab": {
          "base_uri": "https://localhost:8080/",
          "height": 54
        },
        "id": "LvdzRMCVrfzU",
        "outputId": "508bfd03-2181-4882-c9e0-b8488edab931"
      },
      "outputs": [
        {
          "data": {
            "application/vnd.google.colaboratory.intrinsic+json": {
              "type": "string"
            },
            "text/plain": [
              "'1번째줄\\n2번째줄\\n3번째줄\\n4번째줄\\n5번째줄\\n6번째줄\\n7번째줄\\n8번째줄\\n9번째줄\\n10번째줄\\n'"
            ]
          },
          "execution_count": 54,
          "metadata": {},
          "output_type": "execute_result"
        }
      ],
      "source": [
        "fr=open('파일연습.txt','r')\n",
        "data=fr.read()      #전체내용이 하나의 문자열에 담김\n",
        "data"
      ]
    },
    {
      "cell_type": "code",
      "execution_count": null,
      "metadata": {
        "colab": {
          "base_uri": "https://localhost:8080/"
        },
        "id": "ZxJPiAlfsQoU",
        "outputId": "d69f5617-2613-431b-ab76-31db5e73c614"
      },
      "outputs": [
        {
          "name": "stdout",
          "output_type": "stream",
          "text": [
            "1번째줄\n",
            "2번째줄\n",
            "3번째줄\n",
            "4번째줄\n",
            "5번째줄\n",
            "6번째줄\n",
            "7번째줄\n",
            "8번째줄\n",
            "9번째줄\n",
            "10번째줄\n",
            "\n"
          ]
        }
      ],
      "source": [
        "print(data)"
      ]
    },
    {
      "cell_type": "code",
      "execution_count": null,
      "metadata": {
        "colab": {
          "base_uri": "https://localhost:8080/"
        },
        "id": "2EZ_iiJtsZ6h",
        "outputId": "6b29c7a0-dcc2-49b9-acba-871dbaa0fc37"
      },
      "outputs": [
        {
          "name": "stdout",
          "output_type": "stream",
          "text": [
            "1번째줄\n",
            "2번째줄\n",
            "3번째줄\n",
            "4번째줄\n",
            "5번째줄\n",
            "6번째줄\n",
            "7번째줄\n",
            "8번째줄\n",
            "9번째줄\n",
            "10번째줄\n"
          ]
        }
      ],
      "source": [
        "fr=open('파일연습.txt','r')\n",
        "for line in fr:\n",
        "  line=line.strip()\n",
        "  print(line)\n",
        "fr.close()"
      ]
    },
    {
      "cell_type": "code",
      "execution_count": null,
      "metadata": {
        "id": "1ZTvmRBFsyvn"
      },
      "outputs": [],
      "source": [
        "fr=open('파일연습.txt','a')\n",
        "for i in range(11,20):\n",
        "  data='%d번째 줄\\n' %i\n",
        "  fr.write(data)\n",
        "\n",
        "fr.close()"
      ]
    },
    {
      "cell_type": "code",
      "execution_count": null,
      "metadata": {
        "id": "pgqAgNgkutQ3"
      },
      "outputs": [],
      "source": [
        "#파이썬 객체를 저장\n",
        "\n",
        "#클래스(틀,템플릿,사람) = 공통점이 잇는 객체들의 집합\n",
        "#객체(실체,사람1,사람2..)\n",
        "\n",
        "#피클링 : 파이썬 객체를 파일로 저장\n",
        "#언피클링 : 파일로부터 파이썬 객체를 읽기"
      ]
    },
    {
      "cell_type": "code",
      "execution_count": null,
      "metadata": {
        "id": "LtuEZOYewFWA"
      },
      "outputs": [],
      "source": [
        "name='홍길동'\n",
        "age=25\n",
        "addr='장성군'\n",
        "job=['학생','취업준비생']   #속성들\n",
        "\n"
      ]
    },
    {
      "cell_type": "markdown",
      "source": [
        "# pickle"
      ],
      "metadata": {
        "id": "kOLkkCPNErMa"
      }
    },
    {
      "cell_type": "code",
      "execution_count": null,
      "metadata": {
        "id": "sGvmy4mCxRhq"
      },
      "outputs": [],
      "source": [
        "import pickle   #pickle 모듈가져오기"
      ]
    },
    {
      "cell_type": "code",
      "execution_count": null,
      "metadata": {
        "id": "crV97ao9xTVT"
      },
      "outputs": [],
      "source": [
        "with open('hgd.p','wb') as f:\n",
        "  pickle.dump(name,f)     #dump함수로 객체를 저장(객체의 속성들을)\n",
        "  pickle.dump(age,f)\n",
        "  pickle.dump(addr,f)\n",
        "  pickle.dump(job,f)\n"
      ]
    },
    {
      "cell_type": "code",
      "execution_count": null,
      "metadata": {
        "colab": {
          "base_uri": "https://localhost:8080/"
        },
        "id": "PguXjnZXxgX0",
        "outputId": "31b2c8fe-880f-442b-a8f9-e494ad8767c1"
      },
      "outputs": [
        {
          "name": "stdout",
          "output_type": "stream",
          "text": [
            "홍길동\n",
            "25\n"
          ]
        }
      ],
      "source": [
        "with open('hgd.p','rb') as f:     #b=바이너리\n",
        " name = pickle.load(f)\n",
        " addr=pickle.load(f)\n",
        " job=pickle.load(f)\n",
        "\n",
        "print(name)\n",
        "print(age)\n"
      ]
    },
    {
      "cell_type": "markdown",
      "source": [
        "#회문"
      ],
      "metadata": {
        "id": "msFOoPiEEtjY"
      }
    },
    {
      "cell_type": "code",
      "execution_count": null,
      "metadata": {
        "id": "bVcdLMAk3VxA"
      },
      "outputs": [],
      "source": [
        "#회운: 제대로 읽거나 거꾸로 읽어도 동일한 단어(문장)\n",
        "#ex)level, nurse run\n",
        "# f = open('test1.txt','w')\n",
        "# f.write('level')\n",
        "# f.close()\n",
        "\n",
        "with open('test1.txt','w') as f:\n",
        "  f.write('level')"
      ]
    },
    {
      "cell_type": "code",
      "execution_count": null,
      "metadata": {
        "id": "lhXtGw-M5ULQ"
      },
      "outputs": [],
      "source": [
        "# f = open('test1.txt','r')\n",
        "# line = f.readline()\n",
        "# f.close()\n",
        "with open('test1.txt','r') as f:\n",
        "  data = f.read()\n"
      ]
    },
    {
      "cell_type": "code",
      "execution_count": null,
      "metadata": {
        "colab": {
          "base_uri": "https://localhost:8080/"
        },
        "id": "hAoOA-YM5cKQ",
        "outputId": "264a1c67-5ac0-4a12-e006-c2f219f28cc6"
      },
      "outputs": [
        {
          "name": "stdout",
          "output_type": "stream",
          "text": [
            "회문아님\n"
          ]
        }
      ],
      "source": [
        "line='abcka'\n",
        "def pal(line):\n",
        "  eq=True\n",
        "  for i in range(len(line)//2):\n",
        "    if line[i] != line[-i-1]:\n",
        "     eq=False\n",
        "  return eq\n",
        "\n",
        "result = pal(line)\n",
        "if result==True:\n",
        "    print(\"회문\")\n",
        "else:\n",
        "    print('회문아님')"
      ]
    },
    {
      "cell_type": "code",
      "execution_count": null,
      "metadata": {
        "colab": {
          "base_uri": "https://localhost:8080/"
        },
        "id": "2EVbVHGn7jgF",
        "outputId": "736b38cc-b29d-420d-a8c7-1054643a88aa"
      },
      "outputs": [
        {
          "name": "stdout",
          "output_type": "stream",
          "text": [
            "회문\n"
          ]
        }
      ],
      "source": [
        "l=open(\"test1.txt\", 'w')\n",
        "l.write(\"abccba\")\n",
        "l.close()\n",
        "with open(\"test1.txt\", \"r\") as f:\n",
        "    f=f.readline()\n",
        "    if f==f[::-1]:\n",
        "        print(\"회문\")\n",
        "    else:\n",
        "        print(\"회문 아님\")\n",
        "\n",
        "# 전체를 뒤집은게 전체와 같으면 회문"
      ]
    },
    {
      "cell_type": "code",
      "execution_count": null,
      "metadata": {
        "colab": {
          "base_uri": "https://localhost:8080/"
        },
        "id": "lQMJeNdt_VPh",
        "outputId": "ed3f31dd-a98d-4dc4-8753-e808b04febd4"
      },
      "outputs": [
        {
          "data": {
            "text/plain": [
              "['l', 'e', 'v', 'e', 'l']"
            ]
          },
          "execution_count": 102,
          "metadata": {},
          "output_type": "execute_result"
        }
      ],
      "source": [
        "w='level'\n",
        "list(w)"
      ]
    },
    {
      "cell_type": "code",
      "execution_count": null,
      "metadata": {
        "colab": {
          "base_uri": "https://localhost:8080/"
        },
        "id": "LoJBAuOT_-3l",
        "outputId": "c6d7b316-0ce7-4629-e115-036ad120fd99"
      },
      "outputs": [
        {
          "data": {
            "text/plain": [
              "['l', 'e', 'v', 'e', 'l']"
            ]
          },
          "execution_count": 103,
          "metadata": {},
          "output_type": "execute_result"
        }
      ],
      "source": [
        "list(reversed(w))"
      ]
    },
    {
      "cell_type": "code",
      "execution_count": null,
      "metadata": {
        "colab": {
          "base_uri": "https://localhost:8080/"
        },
        "id": "_bWtIsPcAE-O",
        "outputId": "ca84b7bb-b9e6-4be9-bbf3-889db6f1377b"
      },
      "outputs": [
        {
          "data": {
            "text/plain": [
              "True"
            ]
          },
          "execution_count": 104,
          "metadata": {},
          "output_type": "execute_result"
        }
      ],
      "source": [
        "list(w)==list((reversed(w)))"
      ]
    },
    {
      "cell_type": "markdown",
      "source": [
        "# n-gram"
      ],
      "metadata": {
        "id": "Kf_zHEqiEw34"
      }
    },
    {
      "cell_type": "code",
      "execution_count": null,
      "metadata": {
        "id": "SfMUjyoyALKx"
      },
      "outputs": [],
      "source": [
        "#문자열처리(n-gram 기법:문자열에서 n개의 연속된 문자 추출)\n",
        "# 대한민국\n",
        "# 2-gram:대한.한민.민국(바이그)"
      ]
    },
    {
      "cell_type": "code",
      "execution_count": null,
      "metadata": {
        "colab": {
          "base_uri": "https://localhost:8080/"
        },
        "id": "9hrN-NYZGtvD",
        "outputId": "0e841047-16a4-419f-82b2-c64afaa4300d"
      },
      "outputs": [
        {
          "name": "stdout",
          "output_type": "stream",
          "text": [
            "가위\n",
            "위바\n",
            "바위\n",
            "위보\n"
          ]
        },
        {
          "data": {
            "text/plain": [
              "list"
            ]
          },
          "execution_count": 139,
          "metadata": {},
          "output_type": "execute_result"
        }
      ],
      "source": [
        "txt = \"가위바위보\"\n",
        "for i in range(len(txt)-1):\n",
        "    print(txt[i:i+2])\n",
        "\n",
        "type(txt[i:i+2])\n",
        "type([txt[i:i+2]])"
      ]
    },
    {
      "cell_type": "code",
      "execution_count": null,
      "metadata": {
        "colab": {
          "base_uri": "https://localhost:8080/"
        },
        "id": "qXYQUdivHa3W",
        "outputId": "d3eecc79-d2e9-49ef-8c3e-46e0c48c7bc7"
      },
      "outputs": [
        {
          "data": {
            "text/plain": [
              "['this', 'is', 'pthon', 'script']"
            ]
          },
          "execution_count": 122,
          "metadata": {},
          "output_type": "execute_result"
        }
      ],
      "source": [
        "#두문장간 유사도\n",
        "#나는 오늘 멀티캠퍼스에서 문자열 처리를 공부합니다.\n",
        "#멀티캠퍼스에서 나는 문자열 처리를 공부합니다.\n",
        "#원문 -> n-gram\n",
        "#원문 -> 전처리 -> n-gram\n",
        "\n",
        "txt = 'this is pthon script'\n",
        "words=txt.split()\n",
        "words"
      ]
    },
    {
      "cell_type": "code",
      "execution_count": null,
      "metadata": {
        "colab": {
          "base_uri": "https://localhost:8080/"
        },
        "id": "KJmqCB1sJ5c3",
        "outputId": "defb793f-f5df-475e-caa4-58eb72e9ec96"
      },
      "outputs": [
        {
          "name": "stdout",
          "output_type": "stream",
          "text": [
            "this is\n",
            "is pthon\n",
            "pthon script\n"
          ]
        }
      ],
      "source": [
        "for i in range(len(words)-1):  #i in range(3)\n",
        "  print(words[i],words[i+1])\n"
      ]
    },
    {
      "cell_type": "code",
      "execution_count": null,
      "metadata": {
        "id": "O3wcrV4wKFLB"
      },
      "outputs": [],
      "source": []
    },
    {
      "cell_type": "markdown",
      "metadata": {
        "id": "WQSXoQyFK4ZG"
      },
      "source": [
        "1)2-gram 글자 방식으로 두 문장의 유사도 :'나는', '는 '...'니다'\n",
        "<br><br>\n",
        "2)2-gram 단어 방식으로 두 문장의 유사도: '오늘', '늘에', ...'니다'"
      ]
    },
    {
      "cell_type": "code",
      "execution_count": null,
      "metadata": {
        "colab": {
          "base_uri": "https://localhost:8080/"
        },
        "id": "q-LWA_6hKmRG",
        "outputId": "0e34b3d0-177b-4fef-f1dd-8cc073cf618a"
      },
      "outputs": [
        {
          "name": "stdout",
          "output_type": "stream",
          "text": [
            "[['나는'], ['는 '], [' 오'], ['오늘'], ['늘 '], [' 파'], ['파이'], ['이썬'], ['썬 '], [' 문'], ['문자'], ['자열'], ['열 '], [' 공'], ['공부'], ['부를'], ['를 '], [' 했'], ['했습'], ['습니'], ['니다']]\n",
            "[['오늘'], ['늘에'], ['에서'], ['서야'], ['야 '], [' 파'], ['파이'], ['이썬'], ['썬 '], [' 문'], ['문자'], ['자열'], ['열관'], ['관련'], ['련 '], [' 공'], ['공부'], ['부를'], ['를 '], [' 했'], ['했습'], ['습니'], ['니다']]\n",
            "16\n",
            "76.19047619047619\n"
          ]
        }
      ],
      "source": [
        "#총 22글자 =>21개 2-gram (유사도 = 일치하는개수/요소의 개수)\n",
        "#대한민국 => 3개\n",
        "txt1 = '나는 오늘 파이썬 문자열 공부를 했습니다'\n",
        "txt2 = '오늘에서야 파이썬 문자열관련 공부를 했습니다'\n",
        "txt1_2_gram = []\n",
        "txt2_2_gram = []\n",
        "\n",
        "for i in range(len(txt1)-1):\n",
        "    word1 = [txt1[i:i+2]]\n",
        "    txt1_2_gram.append(word1)\n",
        "for i in range(len(txt2)-1):\n",
        "    word2 = [txt2[i:i+2]]\n",
        "    txt2_2_gram.append(word2)\n",
        "\n",
        "print(txt1_2_gram)\n",
        "print(txt2_2_gram)\n",
        "\n",
        "count=0\n",
        "for i in txt1_2_gram:\n",
        "  for j in txt2_2_gram:\n",
        "    if i==j:\n",
        "      count +=1\n",
        "print(count)\n",
        "#유사도\n",
        "similar = count/len(txt1_2_gram)*100\n",
        "print(similar)"
      ]
    },
    {
      "cell_type": "code",
      "execution_count": null,
      "metadata": {
        "colab": {
          "base_uri": "https://localhost:8080/"
        },
        "id": "9Ly_OTfHVAOZ",
        "outputId": "5ffa8c9e-8efd-4f65-aa03-dabe1d12c49b"
      },
      "outputs": [
        {
          "name": "stdout",
          "output_type": "stream",
          "text": [
            "['나는', '는 ', ' 오', '오늘', '늘 ', ' 파', '파이', '이썬', '썬 ', ' 문', '문자', '자열', '열 ', ' 공', '공부', '부를', '를 ', ' 했', '했습', '습니', '니다']\n",
            "35.714285714285715\n"
          ]
        }
      ],
      "source": [
        "def sep_gram_2(str_x, sep='글자'):\n",
        "  if sep=='글자':\n",
        "    txt_x_list = [str_x[i:i+2]for i in range(len(str_x)-1)]\n",
        "  return txt_x_list\n",
        "def calculate_similarity(x_list, y_list):\n",
        "  sim_count=0\n",
        "  for x in x_list:\n",
        "    for y in y_list:\n",
        "      if x == y:\n",
        "        sim_count = sim_count+1\n",
        "  sim_count = sim_count/2\n",
        "  return sim_count\n",
        "txt_1_list = sep_gram_2(txt1)\n",
        "txt_2_list = sep_gram_2(txt2)\n",
        "sim_count = calculate_similarity(txt_1_list,txt_2_list)\n",
        "sim_score = (sim_count/len(txt_1_list))*100\n",
        "print(txt_1_list)\n",
        "print(sim_score)"
      ]
    },
    {
      "cell_type": "markdown",
      "source": [
        "# 과제"
      ],
      "metadata": {
        "id": "EO57xBwFE3VH"
      }
    },
    {
      "cell_type": "code",
      "execution_count": null,
      "metadata": {
        "colab": {
          "background_save": true,
          "base_uri": "https://localhost:8080/",
          "height": 35
        },
        "id": "8O4DMwY5aKuG",
        "outputId": "cd9ad696-3da9-4076-ab57-684d557707a4"
      },
      "outputs": [
        {
          "name": "stdout",
          "output_type": "stream",
          "text": [
            "비트코인\n",
            "비트코인\n",
            "비트코인\n",
            "비트코인\n",
            "비트코인\n",
            "비트코인\n",
            "비트코인\n",
            "비트코인\n",
            "비트코인\n",
            "비트코인\n",
            "비트코인\n",
            "비트코인\n",
            "비트코인\n",
            "비트코인\n",
            "비트코인\n",
            "비트코인\n",
            "비트코인\n",
            "비트코인\n",
            "비트코인\n",
            "비트코인\n",
            "비트코인\n",
            "비트코인\n",
            "비트코인\n",
            "비트코인\n",
            "비트코인\n",
            "비트코인\n",
            "비트코인\n",
            "비트코인\n",
            "비트코인\n",
            "비트코인\n",
            "비트코인\n",
            "비트코인\n",
            "비트코인\n",
            "비트코인\n",
            "비트코인\n",
            "비트코인\n",
            "비트코인\n",
            "비트코인\n",
            "비트코인\n",
            "비트코인\n",
            "비트코인\n",
            "비트코인\n",
            "비트코인\n",
            "비트코인\n",
            "비트코인\n",
            "비트코인\n",
            "비트코인\n",
            "비트코인\n",
            "비트코인\n",
            "비트코인\n",
            "비트코인\n",
            "비트코인\n",
            "비트코인\n",
            "비트코인\n",
            "비트코인\n",
            "비트코인\n",
            "비트코인\n",
            "비트코인\n",
            "비트코인\n",
            "비트코인\n",
            "비트코인\n",
            "비트코인\n",
            "비트코인\n",
            "비트코인\n",
            "비트코인\n",
            "비트코인\n",
            "비트코인\n",
            "비트코인\n",
            "비트코인\n",
            "비트코인\n",
            "비트코인\n",
            "비트코인\n",
            "비트코인\n",
            "비트코인\n",
            "비트코인\n",
            "비트코인\n",
            "비트코인\n",
            "비트코인\n",
            "비트코인\n",
            "비트코인\n",
            "비트코인\n",
            "비트코인\n",
            "비트코인\n",
            "비트코인\n",
            "비트코인\n",
            "비트코인\n",
            "비트코인\n",
            "비트코인\n",
            "비트코인\n",
            "비트코인\n",
            "비트코인\n",
            "비트코인\n",
            "비트코인\n",
            "비트코인\n",
            "비트코인\n",
            "비트코인\n",
            "비트코인\n",
            "비트코인\n",
            "비트코인\n",
            "비트코인\n",
            "비트코인\n",
            "비트코인\n",
            "비트코인\n",
            "비트코인\n",
            "비트코인\n",
            "비트코인\n",
            "비트코인\n",
            "비트코인\n",
            "비트코인\n",
            "비트코인\n",
            "비트코인\n",
            "비트코인\n",
            "비트코인\n",
            "비트코인\n",
            "비트코인\n",
            "비트코인\n",
            "비트코인\n",
            "비트코인\n",
            "비트코인\n",
            "비트코인\n",
            "비트코인\n",
            "비트코인\n",
            "비트코인\n",
            "비트코인\n",
            "비트코인\n",
            "비트코인\n",
            "비트코인\n",
            "비트코인\n",
            "비트코인\n",
            "비트코인\n",
            "비트코인\n",
            "비트코인\n",
            "비트코인\n",
            "비트코인\n",
            "비트코인\n",
            "비트코인\n",
            "비트코인\n",
            "비트코인\n",
            "비트코인\n",
            "비트코인\n",
            "비트코인\n",
            "비트코인\n",
            "비트코인\n",
            "비트코인\n",
            "비트코인\n",
            "비트코인\n",
            "비트코인\n",
            "비트코인\n",
            "비트코인\n",
            "비트코인\n",
            "비트코인\n",
            "비트코인\n",
            "비트코인\n",
            "비트코인\n",
            "비트코인\n",
            "비트코인\n",
            "비트코인\n",
            "비트코인\n",
            "비트코인\n",
            "비트코인\n",
            "비트코인\n",
            "비트코인\n",
            "비트코인\n",
            "비트코인\n",
            "비트코인\n",
            "비트코인\n",
            "비트코인\n",
            "비트코인\n",
            "비트코인\n",
            "비트코인\n",
            "비트코인\n",
            "비트코인\n",
            "비트코인\n",
            "비트코인\n",
            "비트코인\n",
            "비트코인\n",
            "비트코인\n",
            "비트코인\n",
            "비트코인\n",
            "비트코인\n",
            "비트코인\n",
            "비트코인\n",
            "비트코인\n",
            "비트코인\n",
            "비트코인\n",
            "비트코인\n",
            "비트코인\n",
            "비트코인\n",
            "비트코인\n",
            "비트코인\n",
            "비트코인\n",
            "비트코인\n",
            "비트코인\n",
            "비트코인\n",
            "비트코인\n",
            "비트코인\n",
            "비트코인\n",
            "비트코인\n",
            "비트코인\n",
            "비트코인\n",
            "비트코인\n"
          ]
        },
        {
          "data": {
            "application/vnd.google.colaboratory.intrinsic+json": {
              "type": "string"
            },
            "text/plain": [
              "'\\nB\\nC\\nB\\nC\\nB\\nC\\nA\\n'"
            ]
          },
          "execution_count": 233,
          "metadata": {},
          "output_type": "execute_result"
        }
      ],
      "source": [
        "#1\n",
        "#\"비트코인\" 문자열을 화면에 출력하는 print_coin() 함수를 정의하라.\n",
        "def print_coin():\n",
        "  print('비트코인')\n",
        "\n",
        "\n",
        "# 2\n",
        "# 1 번에서 정의한 함수를 호출하라.\n",
        "print_coin()\n",
        "\n",
        "\n",
        "# 3\n",
        "# 1 번에서 정의한 함수를 100번호출하라.\n",
        "for i in range(100):\n",
        "  print_coin()\n",
        "\n",
        "\n",
        "# 4\n",
        "# \"비트코인\" 문자열을 100번 화면에 출력하는 print_coins() 함수를 정의하라. 한 라인에 하나씩 \"비트코인\" 문자열을 출력한다.\n",
        "def print_coins():\n",
        "  for i in range(100):\n",
        "    print_coin()\n",
        "print_coins()\n",
        "\n",
        "\n",
        "# 5\n",
        "# 아래의 에러가 발생하는 이유에 대해 설명하라.\n",
        "\n",
        "# hello()\n",
        "# def hello():\n",
        "#     print(\"Hi\")\n",
        "# NameError: name 'hello' is not defined\n",
        "\n",
        "#함수가 정의되기전에 호출했기 때문\n",
        "\n",
        "\n",
        "# 6\n",
        "# 아래 코드의 실행 결과를 예측하라.\n",
        "\n",
        "# def message() :\n",
        "#     print(\"A\")\n",
        "#     print(\"B\")\n",
        "\n",
        "# message()\n",
        "# print(\"C\")\n",
        "# message()\n",
        "\n",
        "'''\n",
        "A\n",
        "B\n",
        "C\n",
        "A\n",
        "B\n",
        "'''\n",
        "\n",
        "\n",
        "# 7\n",
        "# 아래 코드의 실행 결과를 예측하라.\n",
        "# print(\"A\")\n",
        "\n",
        "# def message() :\n",
        "#     print(\"B\")\n",
        "\n",
        "# print(\"C\")\n",
        "# message()\n",
        "'''\n",
        "A\n",
        "C\n",
        "B\n",
        "'''\n",
        "\n",
        "\n",
        "# 8\n",
        "# 아래 코드의 실행 결과를 예측하라.\n",
        "\n",
        "# print(\"A\")\n",
        "# def messages1() :\n",
        "#     print(\"B\")\n",
        "# print(\"C\")\n",
        "# def messages2() :\n",
        "#     print(\"D\")\n",
        "# messages1()\n",
        "# print(\"E\")\n",
        "# messages2()\n",
        "\n",
        "'''\n",
        "A\n",
        "C\n",
        "B\n",
        "E\n",
        "D\n",
        "'''\n",
        "\n",
        "# 9\n",
        "# 아래 코드의 실행 결과를 예측하라.\n",
        "\n",
        "# def message1():\n",
        "#     print(\"A\")\n",
        "\n",
        "# def message2():\n",
        "#     print(\"B\")\n",
        "#     message1()\n",
        "\n",
        "# message2()\n",
        "\n",
        "'''\n",
        "B\n",
        "A\n",
        "'''\n",
        "\n",
        "\n",
        "# 10\n",
        "# 아래 코드의 실행 결과를 예측하라.\n",
        "\n",
        "# def message1():\n",
        "#     print(\"A\")\n",
        "\n",
        "# def message2():\n",
        "#     print(\"B\")\n",
        "\n",
        "\n",
        "# def message3():\n",
        "#     for i in range (3) :\n",
        "#         message2()\n",
        "#         print(\"C\")\n",
        "#     message1()\n",
        "\n",
        "# message3()\n",
        "\n",
        "'''\n",
        "B\n",
        "C\n",
        "B\n",
        "C\n",
        "B\n",
        "C\n",
        "A\n",
        "'''\n"
      ]
    },
    {
      "cell_type": "code",
      "execution_count": null,
      "metadata": {
        "colab": {
          "base_uri": "https://localhost:8080/",
          "height": 35
        },
        "id": "tgjfIqQHaUFf",
        "outputId": "4e69111a-691a-43a0-d715-3d59f53fa0e5"
      },
      "outputs": [
        {
          "data": {
            "application/vnd.google.colaboratory.intrinsic+json": {
              "type": "string"
            },
            "text/plain": [
              "'\\nB\\nA\\n'"
            ]
          },
          "execution_count": 202,
          "metadata": {},
          "output_type": "execute_result"
        }
      ],
      "source": [
        "\n"
      ]
    },
    {
      "cell_type": "code",
      "execution_count": null,
      "metadata": {
        "colab": {
          "base_uri": "https://localhost:8080/",
          "height": 35
        },
        "id": "JEXEsKxQae_J",
        "outputId": "f35bbd43-cd8f-408f-b097-6ba4b3b54b11"
      },
      "outputs": [
        {
          "data": {
            "application/vnd.google.colaboratory.intrinsic+json": {
              "type": "string"
            },
            "text/plain": [
              "'\\nB\\nC\\nB\\nC\\nB\\nC\\nA\\n'"
            ]
          },
          "execution_count": 205,
          "metadata": {},
          "output_type": "execute_result"
        }
      ],
      "source": []
    },
    {
      "cell_type": "code",
      "execution_count": null,
      "metadata": {
        "colab": {
          "background_save": true,
          "base_uri": "https://localhost:8080/"
        },
        "id": "xSoa6y9td5vq",
        "outputId": "70059d88-1068-4240-d312-17f967bf5770"
      },
      "outputs": [
        {
          "name": "stdout",
          "output_type": "stream",
          "text": [
            "안녕하세요 :D\n"
          ]
        }
      ],
      "source": [
        "# 11\n",
        "# 함수의 호출 결과를 예측하라.\n",
        "\n",
        "# def 함수(문자열) :\n",
        "#     print(문자열)\n",
        "\n",
        "# 함수(\"안녕\")\n",
        "# 함수(\"Hi\")\n",
        "\n",
        "'''\n",
        "안녕\n",
        "Hi\n",
        "'''\n",
        "\n",
        "\n",
        "\n",
        "# 12\n",
        "# 함수의 호출 결과를 예측하라.\n",
        "\n",
        "# def 함수(a, b) :\n",
        "#     print(a + b)\n",
        "\n",
        "# 함수(3, 4)\n",
        "# 함수(7, 8)\n",
        "'''\n",
        "7\n",
        "15\n",
        "'''\n",
        "\n",
        "\n",
        "\n",
        "# 13\n",
        "# 아래와 같은 에러가 발생하는 원인을 설명하라.\n",
        "\n",
        "# def 함수(문자열) :\n",
        "#     print(문자열)\n",
        "# 함수()\n",
        "# TypeError: 함수() missing 1 required positional argument: '문자열'\n",
        "\n",
        "'''\n",
        "호출된 함수의 인자에 문자열을 넣지 않았기때문\n",
        "'''\n",
        "\n",
        "\n",
        "# 14\n",
        "# 아래와 같은 에러가 발생하는 원인을 설명하라.\n",
        "\n",
        "# def 함수(a, b) :\n",
        "#     print(a + b)\n",
        "\n",
        "# 함수(\"안녕\", 3)\n",
        "# TypeError: must be str, not int\n",
        "'''\n",
        "a인자의 자료형은 str이고 b인자의 자료형은 int라서 '+'연산자가 적용안된다. b의 인자자료형을 str로 변경하면 된다.\n",
        "'''\n",
        "\n",
        "\n",
        "# 15\n",
        "# 하나의 문자를 입력받아 문자열 끝에 \":D\" 스마일 문자열을 이어 붙여 출력하는 print_with_smile 함수를 정의하라.\n",
        "\n",
        "def print_with_smile(s):\n",
        "  print(s,':D')\n",
        "\n",
        "\n",
        "# 16\n",
        "# 015에서 정의한 함수를 호출하라. 파라미터는 \"안녕하세요\"로 입력하라.\n",
        "\n",
        "print_with_smile('안녕하세요')\n",
        "\n",
        "\n",
        "# 17\n",
        "# 현재 가격을 입력 받아 상한가 (30%)를 출력하는 print_upper_price 함수를 정의하라.\n",
        "def print_upper_price():\n",
        "  price = int(input('현재가격'))\n",
        "  upper=price*1.3\n",
        "  print('상한가',upper)\n",
        "print_upper_price()\n",
        "\n",
        "\n",
        "# 18\n",
        "# 두 개의 숫자를 입력받아 두 수의 합을 출력하는 print_sum 함수를 정의하라.\n",
        "def print_sum():\n",
        "  num1,num2=map(int,input('두개의 숫자').split())\n",
        "  print(num1+num2)\n",
        "print_sum()\n",
        "\n",
        "\n",
        "# 19\n",
        "# 두 개의 숫자를 입력받아 합/차/곱/나눗셈을 출력하는 print_arithmetic_operation 함수를 작성하라.\n",
        "\n",
        "# print_arithmetic_operation(3, 4)\n",
        "# 3 + 4 = 7\n",
        "# 3 - 4 = -1\n",
        "# 3 * 4 = 12\n",
        "# 3 / 4 = 0.75\n",
        "def print_arithmetic_operation():\n",
        "  num1,num2=map(int,input('두개의 숫자').split())\n",
        "  print(f\"{num1} + {num2} = {num1+num2}\")\n",
        "  print(f\"{num1} - {num2} = {num1-num2}\")\n",
        "  print(f\"{num1} * {num2} = {num1*num2}\")\n",
        "  print(f\"{num1} / {num2} = {num1/num2}\")\n",
        "print_arithmetic_operation()\n",
        "\n",
        "# 20\n",
        "# 세 개의 숫자를 입력받아 가장 큰수를 출력하는 print_max 함수를 정의하라. 단 if 문을 사용해서 수를 비교하라.\n",
        "def print_max():\n",
        "  num1,num2, num3=map(int,input('세개의 숫자').split())\n",
        "  nums = [num1,num2,num3]\n",
        "  print(sorted(nums)[len(nums)-1])      #정렬후 제일 오른쪽 숫자 출력\n",
        "print_max()"
      ]
    }
  ],
  "metadata": {
    "colab": {
      "provenance": []
    },
    "kernelspec": {
      "display_name": "Python 3",
      "name": "python3"
    },
    "language_info": {
      "name": "python"
    }
  },
  "nbformat": 4,
  "nbformat_minor": 0
}