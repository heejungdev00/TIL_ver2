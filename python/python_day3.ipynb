{
  "nbformat": 4,
  "nbformat_minor": 0,
  "metadata": {
    "colab": {
      "provenance": []
    },
    "kernelspec": {
      "name": "python3",
      "display_name": "Python 3"
    },
    "language_info": {
      "name": "python"
    }
  },
  "cells": [
    {
      "cell_type": "markdown",
      "source": [
        "# 함수"
      ],
      "metadata": {
        "id": "DjD_X_lJFEQZ"
      }
    },
    {
      "cell_type": "code",
      "execution_count": null,
      "metadata": {
        "id": "s7sDzRPeC6BK"
      },
      "outputs": [],
      "source": [
        "#함수 : y=ax+b"
      ]
    },
    {
      "cell_type": "code",
      "source": [
        "x=0"
      ],
      "metadata": {
        "id": "4aJHm9T0Dl68"
      },
      "execution_count": null,
      "outputs": []
    },
    {
      "cell_type": "code",
      "source": [
        "x=x+1"
      ],
      "metadata": {
        "id": "s76ofPaPFnXC"
      },
      "execution_count": null,
      "outputs": []
    },
    {
      "cell_type": "code",
      "source": [
        "print(x)"
      ],
      "metadata": {
        "colab": {
          "base_uri": "https://localhost:8080/"
        },
        "id": "KX26Nte0FoLs",
        "outputId": "a2749933-4fb4-45c2-b5d1-35fb30240d89"
      },
      "execution_count": null,
      "outputs": [
        {
          "output_type": "stream",
          "name": "stdout",
          "text": [
            "1\n"
          ]
        }
      ]
    },
    {
      "cell_type": "code",
      "source": [
        "def 함수이름():\n",
        "  코드"
      ],
      "metadata": {
        "id": "ITL-slYhFo_Z"
      },
      "execution_count": null,
      "outputs": []
    },
    {
      "cell_type": "code",
      "source": [
        "#함수정의\n",
        "def getMSG():\n",
        "  print('hi hello')\n",
        "  #return"
      ],
      "metadata": {
        "id": "97kYksEFG1F5"
      },
      "execution_count": null,
      "outputs": []
    },
    {
      "cell_type": "code",
      "source": [
        "#함수 호출\n",
        "getMSG()"
      ],
      "metadata": {
        "colab": {
          "base_uri": "https://localhost:8080/"
        },
        "id": "4MC3b_uhHh6d",
        "outputId": "726472a6-490b-4a4b-b330-51471d6e7ee8"
      },
      "execution_count": null,
      "outputs": [
        {
          "output_type": "stream",
          "name": "stdout",
          "text": [
            "hi hello\n"
          ]
        }
      ]
    },
    {
      "cell_type": "code",
      "source": [
        "def getJuice(s):    #매개변수\n",
        "  #mix\n",
        "  return s+'juice'"
      ],
      "metadata": {
        "id": "-xubgo8LHj1c"
      },
      "execution_count": null,
      "outputs": []
    },
    {
      "cell_type": "code",
      "source": [
        "v=getJuice('딸기')\n",
        "print(v)"
      ],
      "metadata": {
        "colab": {
          "base_uri": "https://localhost:8080/"
        },
        "id": "Gl9-bTnMIDh1",
        "outputId": "b64d5f2e-fcf6-4b36-a001-bd9f4194f6ab"
      },
      "execution_count": null,
      "outputs": [
        {
          "output_type": "stream",
          "name": "stdout",
          "text": [
            "딸기juice\n"
          ]
        }
      ]
    },
    {
      "cell_type": "code",
      "source": [
        "def imsiFunc():\n",
        "  pass"
      ],
      "metadata": {
        "id": "cc4WXnBwJo4H"
      },
      "execution_count": null,
      "outputs": []
    },
    {
      "cell_type": "code",
      "source": [
        "imsiFunc()"
      ],
      "metadata": {
        "id": "dZnd_aotLfoI"
      },
      "execution_count": null,
      "outputs": []
    },
    {
      "cell_type": "code",
      "source": [
        "def add(a,b):\n",
        "  return a+b"
      ],
      "metadata": {
        "id": "8FhSLM_sLqIy"
      },
      "execution_count": null,
      "outputs": []
    },
    {
      "cell_type": "code",
      "source": [
        "x=1\n",
        "y=2\n",
        "add(x,y)"
      ],
      "metadata": {
        "colab": {
          "base_uri": "https://localhost:8080/"
        },
        "id": "jO51mBDMPxrz",
        "outputId": "07e4868f-24fe-40bb-a26f-a4acc59a48b3"
      },
      "execution_count": null,
      "outputs": [
        {
          "output_type": "execute_result",
          "data": {
            "text/plain": [
              "3"
            ]
          },
          "metadata": {},
          "execution_count": 13
        }
      ]
    },
    {
      "cell_type": "code",
      "source": [
        "# #함수유형\n",
        "# 입력이 없는 함수\n",
        "# 리턴이 없는 함수\n",
        "# 입력, 리턴 모두 없는 함수\n",
        "# 매개변수를 지정하여 호출하는 함수"
      ],
      "metadata": {
        "id": "97thXuWXP0Ru"
      },
      "execution_count": null,
      "outputs": []
    },
    {
      "cell_type": "code",
      "source": [
        "def abc(x,y,z=10) :\n",
        "  return z-x-y\n",
        "\n",
        "abc(y=3, x=1, z=5)"
      ],
      "metadata": {
        "colab": {
          "base_uri": "https://localhost:8080/"
        },
        "id": "Usn1SDKkRez4",
        "outputId": "83621830-0a6b-4cb4-bc21-c8d3329d8288"
      },
      "execution_count": null,
      "outputs": [
        {
          "output_type": "execute_result",
          "data": {
            "text/plain": [
              "1"
            ]
          },
          "metadata": {},
          "execution_count": 15
        }
      ]
    },
    {
      "cell_type": "code",
      "source": [
        "help(abc)"
      ],
      "metadata": {
        "colab": {
          "base_uri": "https://localhost:8080/"
        },
        "id": "3GEYVyy7Tbgz",
        "outputId": "d4fa1317-f80e-4f52-efb6-93ebb452c7f8"
      },
      "execution_count": null,
      "outputs": [
        {
          "output_type": "stream",
          "name": "stdout",
          "text": [
            "Help on function abc in module __main__:\n",
            "\n",
            "abc(x, y, z=10)\n",
            "\n"
          ]
        }
      ]
    },
    {
      "cell_type": "code",
      "source": [
        "def myfunc():\n",
        "  return 100"
      ],
      "metadata": {
        "id": "T7kSnGvCUEdv"
      },
      "execution_count": null,
      "outputs": []
    },
    {
      "cell_type": "code",
      "source": [
        "h = myfunc()\n",
        "h"
      ],
      "metadata": {
        "colab": {
          "base_uri": "https://localhost:8080/"
        },
        "id": "FR-eGSImUTCP",
        "outputId": "c3a7f1a3-ddb3-451e-bd73-0e41a5341dae"
      },
      "execution_count": null,
      "outputs": [
        {
          "output_type": "execute_result",
          "data": {
            "text/plain": [
              "100"
            ]
          },
          "metadata": {},
          "execution_count": 18
        }
      ]
    },
    {
      "cell_type": "code",
      "source": [
        "def acc(x,y):\n",
        "  hap=f'합:{x+y}'\n",
        "  cha=f'차:{x-y}'\n",
        "  gop=f'곱:{x*y}'\n",
        "  na=f'나눔:{x/y}'\n",
        "  print(hap,cha,gop,na,sep='\\n')\n",
        "\n",
        "a,b=map(int,input('두수를 입력하세요 :').split())\n",
        "acc(a,b)"
      ],
      "metadata": {
        "id": "zZ6kmozmUUiU"
      },
      "execution_count": null,
      "outputs": []
    },
    {
      "cell_type": "code",
      "source": [
        "def add(*v):    # 인수개수 정해지지않을떄\n",
        "  print(v)\n",
        "  res=0\n",
        "  for i in v:\n",
        "    res+=1\n",
        "  return res\n"
      ],
      "metadata": {
        "id": "ZAmOTfZaXJLb"
      },
      "execution_count": null,
      "outputs": []
    },
    {
      "cell_type": "code",
      "source": [
        "print(add(1,2,3))"
      ],
      "metadata": {
        "id": "p8m5AjMlgOzq",
        "colab": {
          "base_uri": "https://localhost:8080/"
        },
        "outputId": "0a2a1157-008e-42e4-ce4d-62b6f151eb9e"
      },
      "execution_count": null,
      "outputs": [
        {
          "output_type": "stream",
          "name": "stdout",
          "text": [
            "(1, 2, 3)\n",
            "3\n"
          ]
        }
      ]
    },
    {
      "cell_type": "code",
      "source": [
        "def addOrsub(op,*v) :\n",
        "  res=0\n",
        "  if op=='add':\n",
        "    for i in v:\n",
        "      res+=i\n",
        "  elif op=='sub':\n",
        "    for i in v:\n",
        "      res-=i\n",
        "  return res"
      ],
      "metadata": {
        "id": "XdPPcrc7gSWs"
      },
      "execution_count": null,
      "outputs": []
    },
    {
      "cell_type": "code",
      "source": [
        "addOrsub('add',1,2,3,4)"
      ],
      "metadata": {
        "id": "13ELtQudg1oU"
      },
      "execution_count": null,
      "outputs": []
    },
    {
      "cell_type": "code",
      "source": [
        "addOrsub('sub',1,2,2,2,3,4,)"
      ],
      "metadata": {
        "id": "j18LR1tuhdYj"
      },
      "execution_count": null,
      "outputs": []
    },
    {
      "cell_type": "code",
      "source": [
        "def myfunc2(n, a, man=True):\n",
        "  print('이름:%s' %n)\n",
        "  print('나이:%d' %a)\n",
        "  if man:\n",
        "    print('남')\n",
        "  else:\n",
        "    print('여')\n"
      ],
      "metadata": {
        "id": "NnTHzrAdhtX0"
      },
      "execution_count": null,
      "outputs": []
    },
    {
      "cell_type": "code",
      "source": [
        "myfunc2('hong', 20, True)"
      ],
      "metadata": {
        "id": "oDfDRh_WiG9c"
      },
      "execution_count": null,
      "outputs": []
    },
    {
      "cell_type": "code",
      "source": [
        "myfunc2('hong', 20, False)"
      ],
      "metadata": {
        "id": "bv3cViZNiOiK"
      },
      "execution_count": null,
      "outputs": []
    },
    {
      "cell_type": "code",
      "source": [
        "def prn_nums(a,b,c):\n",
        "  print(a)\n",
        "  print(b)\n",
        "  print(c)\n"
      ],
      "metadata": {
        "id": "8LgYR3RriRTM"
      },
      "execution_count": null,
      "outputs": []
    },
    {
      "cell_type": "code",
      "source": [
        "prn_nums(1,2,3)"
      ],
      "metadata": {
        "id": "aR3jqyFJjqA3",
        "colab": {
          "base_uri": "https://localhost:8080/",
          "height": 147
        },
        "outputId": "ba8688b5-104a-420c-bc69-c5a9fcb70778"
      },
      "execution_count": null,
      "outputs": [
        {
          "output_type": "error",
          "ename": "NameError",
          "evalue": "name 'prn_nums' is not defined",
          "traceback": [
            "\u001b[0;31m---------------------------------------------------------------------------\u001b[0m",
            "\u001b[0;31mNameError\u001b[0m                                 Traceback (most recent call last)",
            "\u001b[0;32m<ipython-input-2-6ce0bd66600c>\u001b[0m in \u001b[0;36m<cell line: 1>\u001b[0;34m()\u001b[0m\n\u001b[0;32m----> 1\u001b[0;31m \u001b[0mprn_nums\u001b[0m\u001b[0;34m(\u001b[0m\u001b[0;36m1\u001b[0m\u001b[0;34m,\u001b[0m\u001b[0;36m2\u001b[0m\u001b[0;34m,\u001b[0m\u001b[0;36m3\u001b[0m\u001b[0;34m)\u001b[0m\u001b[0;34m\u001b[0m\u001b[0;34m\u001b[0m\u001b[0m\n\u001b[0m",
            "\u001b[0;31mNameError\u001b[0m: name 'prn_nums' is not defined"
          ]
        }
      ]
    },
    {
      "cell_type": "code",
      "source": [
        "n=[1,2,3]\n",
        "prn_nums(*n)"
      ],
      "metadata": {
        "id": "8E_KsZftkEd7",
        "colab": {
          "base_uri": "https://localhost:8080/",
          "height": 165
        },
        "outputId": "88dafecf-ab3d-4653-fea5-d975a971bab7"
      },
      "execution_count": null,
      "outputs": [
        {
          "output_type": "error",
          "ename": "NameError",
          "evalue": "name 'prn_nums' is not defined",
          "traceback": [
            "\u001b[0;31m---------------------------------------------------------------------------\u001b[0m",
            "\u001b[0;31mNameError\u001b[0m                                 Traceback (most recent call last)",
            "\u001b[0;32m<ipython-input-3-a2d71311dcce>\u001b[0m in \u001b[0;36m<cell line: 2>\u001b[0;34m()\u001b[0m\n\u001b[1;32m      1\u001b[0m \u001b[0mn\u001b[0m\u001b[0;34m=\u001b[0m\u001b[0;34m[\u001b[0m\u001b[0;36m1\u001b[0m\u001b[0;34m,\u001b[0m\u001b[0;36m2\u001b[0m\u001b[0;34m,\u001b[0m\u001b[0;36m3\u001b[0m\u001b[0;34m]\u001b[0m\u001b[0;34m\u001b[0m\u001b[0;34m\u001b[0m\u001b[0m\n\u001b[0;32m----> 2\u001b[0;31m \u001b[0mprn_nums\u001b[0m\u001b[0;34m(\u001b[0m\u001b[0;34m*\u001b[0m\u001b[0mn\u001b[0m\u001b[0;34m)\u001b[0m\u001b[0;34m\u001b[0m\u001b[0;34m\u001b[0m\u001b[0m\n\u001b[0m",
            "\u001b[0;31mNameError\u001b[0m: name 'prn_nums' is not defined"
          ]
        }
      ]
    },
    {
      "cell_type": "code",
      "source": [
        "def myfunc(odd,*n):\n",
        "  if odd=='add':\n",
        "    res=0\n",
        "    for i in n:\n",
        "      res+=i\n",
        "  else:\n",
        "    res=0\n",
        "    for i in n:\n",
        "      res-=i\n",
        "  return res\n",
        "\n",
        "myfunc('add',1,2,3)\n",
        "myfunc('sub',1,2,3,4)"
      ],
      "metadata": {
        "id": "w71CZ_YukJIR",
        "colab": {
          "base_uri": "https://localhost:8080/"
        },
        "outputId": "70117584-fb5d-495d-b502-fa56e0a0c474"
      },
      "execution_count": null,
      "outputs": [
        {
          "output_type": "execute_result",
          "data": {
            "text/plain": [
              "-10"
            ]
          },
          "metadata": {},
          "execution_count": 4
        }
      ]
    },
    {
      "cell_type": "code",
      "source": [
        "#딕셔너리\n",
        "def per(n, a, addr):\n",
        "  print('이름', n)\n",
        "  print('나이', a)\n",
        "  print('주소', addr)"
      ],
      "metadata": {
        "id": "GWnUTr76mTyL"
      },
      "execution_count": null,
      "outputs": []
    },
    {
      "cell_type": "code",
      "source": [
        "dic={'n':'hong','a':'20','addr':'seoul'}"
      ],
      "metadata": {
        "id": "ZHsxO0kYnRE_"
      },
      "execution_count": null,
      "outputs": []
    },
    {
      "cell_type": "code",
      "source": [
        "per(**dic)"
      ],
      "metadata": {
        "id": "Qu3RhjsunbGP",
        "colab": {
          "base_uri": "https://localhost:8080/"
        },
        "outputId": "ba3f098b-1316-4a8e-f30f-addc34d5b82a"
      },
      "execution_count": null,
      "outputs": [
        {
          "output_type": "stream",
          "name": "stdout",
          "text": [
            "이름 hong\n",
            "나이 20\n",
            "주소 seoul\n"
          ]
        }
      ]
    },
    {
      "cell_type": "code",
      "source": [
        "per(**{'n':'hong','a':'20','addr':'seoul'})"
      ],
      "metadata": {
        "id": "R0-g7H6jnf9e"
      },
      "execution_count": null,
      "outputs": []
    },
    {
      "cell_type": "markdown",
      "source": [
        "# 과제"
      ],
      "metadata": {
        "id": "rI2xiZ7u2R6Z"
      }
    },
    {
      "cell_type": "code",
      "source": [
        "# 1. 표준 입력으로 문자열 여러 개와 숫자(실수) 여러 개가 두 줄로 입력됩니다.\n",
        "# 입력된 첫 번째 줄은 키, 두 번째 줄은 값으로 하여 딕셔너리를 생성한 뒤 딕셔너리를 출력하는 프로그램을\n",
        "# 만드세요.\n",
        "# input().split()의 결과를 변수 한 개에 저장하면 리스트로 저장됩니다.\n",
        "# 예)\n",
        "# 입력\n",
        "# health health_regen mana mana_regen\n",
        "# 575.6 1.7 338.8 1.63\n",
        "# 결과\n",
        "# {'health': 575.6, 'health_regen': 1.7, 'mana': 338.8, 'mana_regen': 1.63}\n",
        "# 입력\n",
        "# health mana melee attack_speed magic_resistance\n",
        "# 573.6 308.8 600 0.625 35.7\n",
        "# 결과\n",
        "# {'health': 573.6, 'mana': 308.8, 'melee': 600.0, 'attack_speed': 0.625, 'magic_resistance': 35.7}\n",
        "\n",
        "key_lst=input().split()\n",
        "value_lst=input().split()\n",
        "res = dict(zip(key_lst,value_lst))\n",
        "print(res)"
      ],
      "metadata": {
        "id": "MISeEkOMnsCm",
        "colab": {
          "base_uri": "https://localhost:8080/"
        },
        "outputId": "9bcceb96-db89-455e-b58a-0bf74e76bc3e"
      },
      "execution_count": null,
      "outputs": [
        {
          "output_type": "stream",
          "name": "stdout",
          "text": [
            "a b c \n",
            "1 2 3\n",
            "{'a': '1', 'b': '2', 'c': '3'}\n"
          ]
        }
      ]
    },
    {
      "cell_type": "code",
      "source": [],
      "metadata": {
        "colab": {
          "base_uri": "https://localhost:8080/",
          "height": 256
        },
        "id": "Nfb1XR6oryFR",
        "outputId": "2df2689c-4776-4d62-c819-7ceb2b5ae804"
      },
      "execution_count": null,
      "outputs": [
        {
          "name": "stdout",
          "output_type": "stream",
          "text": [
            "python\n",
            "python\n"
          ]
        },
        {
          "output_type": "error",
          "ename": "TypeError",
          "evalue": "'str' object does not support item assignment",
          "traceback": [
            "\u001b[0;31m---------------------------------------------------------------------------\u001b[0m",
            "\u001b[0;31mTypeError\u001b[0m                                 Traceback (most recent call last)",
            "\u001b[0;32m<ipython-input-114-7c75b2ba84d9>\u001b[0m in \u001b[0;36m<cell line: 19>\u001b[0;34m()\u001b[0m\n\u001b[1;32m     17\u001b[0m \u001b[0mfirst_str\u001b[0m\u001b[0;34m=\u001b[0m\u001b[0minput\u001b[0m\u001b[0;34m(\u001b[0m\u001b[0;34m)\u001b[0m\u001b[0;34m\u001b[0m\u001b[0;34m\u001b[0m\u001b[0m\n\u001b[1;32m     18\u001b[0m \u001b[0msecon_str\u001b[0m\u001b[0;34m=\u001b[0m\u001b[0minput\u001b[0m\u001b[0;34m(\u001b[0m\u001b[0;34m)\u001b[0m\u001b[0;34m\u001b[0m\u001b[0;34m\u001b[0m\u001b[0m\n\u001b[0;32m---> 19\u001b[0;31m \u001b[0;32mfor\u001b[0m \u001b[0mfirst_str\u001b[0m\u001b[0;34m[\u001b[0m\u001b[0mi\u001b[0m\u001b[0;34m]\u001b[0m \u001b[0;32min\u001b[0m \u001b[0mrange\u001b[0m\u001b[0;34m(\u001b[0m\u001b[0mlen\u001b[0m\u001b[0;34m(\u001b[0m\u001b[0mfirst_str\u001b[0m\u001b[0;34m)\u001b[0m\u001b[0;34m)\u001b[0m\u001b[0;34m:\u001b[0m\u001b[0;34m\u001b[0m\u001b[0;34m\u001b[0m\u001b[0m\n\u001b[0m\u001b[1;32m     20\u001b[0m   \u001b[0;32mif\u001b[0m \u001b[0mi\u001b[0m\u001b[0;34m%\u001b[0m\u001b[0;36m2\u001b[0m\u001b[0;34m==\u001b[0m\u001b[0;36m1\u001b[0m\u001b[0;34m:\u001b[0m\u001b[0;34m\u001b[0m\u001b[0;34m\u001b[0m\u001b[0m\n\u001b[1;32m     21\u001b[0m     \u001b[0mprint\u001b[0m\u001b[0;34m(\u001b[0m\u001b[0mfirst_str\u001b[0m\u001b[0;34m[\u001b[0m\u001b[0mi\u001b[0m\u001b[0;34m]\u001b[0m\u001b[0;34m)\u001b[0m\u001b[0;34m\u001b[0m\u001b[0;34m\u001b[0m\u001b[0m\n",
            "\u001b[0;31mTypeError\u001b[0m: 'str' object does not support item assignment"
          ]
        }
      ]
    },
    {
      "cell_type": "code",
      "source": [
        "# 3. 점수 구간에 해당하는 학점이 아래와 같이 정의되어 있다.\n",
        "# 사용자로부터 score를 입력받아 학점을 출력하라.\n",
        "\n",
        "# 점수\t학점\n",
        "# 81~100\tA\n",
        "# 61~80\tB\n",
        "# 41~60\tC\n",
        "# 21~40\tD\n",
        "# 0~20\tE\n",
        "# >> score: 83\n",
        "# grade is A\n",
        "score=int(input('score:'))\n",
        "if 81<=score<=100:\n",
        "  print(f'grade is A')\n",
        "elif 61<=score<=80:\n",
        "  print(f'grade is B')\n",
        "elif 41<=score<=60:\n",
        "  print(f'grade is C')\n",
        "elif 21<=score<=40:\n",
        "  print(f'grade is D')\n",
        "elif 0<=score<=20:\n",
        "  print(f'grade is E')\n",
        "\n",
        "#4. for문을 사용해 1부터 100까지의 숫자를 출력해 보자.\n",
        "for i in range(1,101):\n",
        "  print(i)\n",
        "\n",
        "# 5.\n",
        "# A 학급에 총 10명의 학생이 있다. 이 학생들의 중간고사 점수는 다음과 같다.\n",
        "# [70, 60, 55, 75, 95, 90, 80, 80, 85, 100]\n",
        "# for문을 사용하여 A 학급의 평균 점수를 구해 보자.\n",
        "\n",
        "score = [70, 60, 55, 75, 95, 90, 80, 80, 85, 100]\n",
        "hap=0\n",
        "for s in score:\n",
        "  hap+=s\n",
        "A_avg = hap/len(score)\n",
        "print(A_avg)\n",
        "\n",
        "# 6.\n",
        "# 사용자로부터 달러, 엔, 유로, 또는 위안 금액을 입력받은 후 이를 원으로 변환하는 프로그램을 작성하라.\n",
        "# 각 통화별 환율은 다음과 같다. 사용자는 100 달러, 1000 엔, 13 유로, 100 위안과 같이 금액과 통화명 사이에\n",
        "#  공백을 넣어 입력한다고 가정한다.\n",
        "\n",
        "# 통화명\t환율\n",
        "# 달러\t1367\n",
        "# 엔\t1.196\n",
        "# 유로\t1368\n",
        "# 위안\t181\n",
        "# >> 입력: 100 달러\n",
        "# 136700.00 원\n",
        "\n",
        "money, unit = input('입력: ').split()\n",
        "if unit == '달러':\n",
        "  print(float(money)*1367,'원')\n",
        "elif unit == '엔':\n",
        "  print(float(money)*1196,'원')\n",
        "elif unit == '유로':\n",
        "  print(float(money)*1368,'원')\n",
        "elif unit == '위안':\n",
        "  print(float(money)*181,'원')\n",
        "\n",
        "\n",
        "# 7.\n",
        "# 사용자로부터 세 개의 숫자를 입력 받은 후 가장 큰 숫자를 출력하라.\n",
        "\n",
        "# >> input number1: 10\n",
        "# >> input number2: 9\n",
        "# >> input number3: 20\n",
        "# 20\n",
        "\n",
        "number1 = int(input('input number1: '))\n",
        "number2 = int(input('input number2: '))\n",
        "number3 = int(input('input number3: '))\n",
        "num = [number1,number2,number3]\n",
        "num.sort()\n",
        "print(num[2])\n",
        "\n",
        "# 8.\n",
        "# 파일 이름이 저장된 리스트에서 확장자를 제거하고 파일 이름만 화면에 출력하라. (힌트: split() 메서드)\n",
        "\n",
        "# 리스트 = ['hello.py', 'ex01.py', 'intro.hwp']\n",
        "# hello\n",
        "# ex01\n",
        "# intro\n",
        "filename = ['hello.py', 'ex01.py', 'intro.hwp']\n",
        "for n in filename:\n",
        "  name,_ = n.split('.')\n",
        "  print(name)\n",
        "\n",
        "\n",
        "# 9.\n",
        "# 파일 이름이 저장된 리스트에서 확장자가 .h인 파일 이름을 출력하라.\n",
        "\n",
        "# 리스트 = ['intra.h', 'intra.c', 'define.h', 'run.py']\n",
        "# intra.h\n",
        "# define.h\n",
        "\n",
        "filename = ['intra.h', 'intra.c', 'define.h', 'run.py']\n",
        "for n in filename:\n",
        "  _,ex = n.split('.')\n",
        "  if ex == 'h':\n",
        "    print(n)\n",
        "\n",
        "\n",
        "# 10.\n",
        "# 파일 이름이 저장된 리스트에서 확장자가 .h나 .c인 파일을 화면에 출력하라.\n",
        "\n",
        "# 리스트 = ['intra.h', 'intra.c', 'define.h', 'run.py']\n",
        "# intra.h\n",
        "# intra.c\n",
        "# define.h\n",
        "\n",
        "filename = ['intra.h', 'intra.c', 'define.h', 'run.py']\n",
        "for n in filename:\n",
        "  _,ex = n.split('.')\n",
        "  if ex=='h' or ex=='c':\n",
        "    print(n)\n",
        "\n",
        "# 11. 자판기(pro, 커피 한 잔에 300원이라 가정, 초기 커피는 10개)\n",
        "# 돈을 넣어 주세요: 500\n",
        "# 거스름돈 200를 주고 커피를 줍니다.\n",
        "# 돈을 넣어 주세요: 300\n",
        "# 커피를 줍니다.\n",
        "# 돈을 넣어 주세요: 100\n",
        "# 돈을 다시 돌려주고 커피를 주지 않습니다.\n",
        "# 돈을 넣어 주세요: 0\n",
        "# 종료합니다\n",
        "coffee=10\n",
        "\n",
        "while coffee>0:\n",
        "  x = int(input('돈을 넣어주세요:'))\n",
        "  if x>300:\n",
        "    x=x-300\n",
        "    print(f'거스름돈 %d을 주고 커피를 줍니다.' %x)\n",
        "    coffee-=1\n",
        "  elif x==300:\n",
        "    print('커피를 줍니다.')\n",
        "    coffee-=1\n",
        "  else:\n",
        "    print('돈을 다시 돌려주고 커피를 주지 않습니다.')\n",
        "print('종료합니다.')\n",
        "\n",
        "\n",
        "# 12. while문을 사용하여 다음과 같이 별(*)을 표시하는 프로그램을 작성해 보자.\n",
        "# *\n",
        "# **\n",
        "# ***\n",
        "# ****\n",
        "# *****\n",
        "for i in range(1,6):\n",
        "  print('*'*i,sep='\\n')\n",
        "\n",
        "# 13\n",
        "# 아래 표에서 하나의 행을 하나의 리스트로, 총 2개의 리스트를 갖는 이차원 리스트 apart를 정의하라.\n",
        "\n",
        "# 101호\t102호\t103호\n",
        "# 201호\t202호\t203호\n",
        "\n",
        "# aprt=[[101호,102호,103호],[201호,202호,203호]]\n",
        "\n",
        "# 14\n",
        "# 아래 표에서 하나의 열을 하나의 리스트로, 총 2개의 리스트를 갖는 이차원 리스트 stock을 정의하라.\n",
        "\n",
        "# 시가\t종가\n",
        "# 100\t80\n",
        "# 200\t210\n",
        "# 300\t330\n",
        "# stock=[['시가',100,200,300], ['종가',80,210,330]]\n",
        "\n",
        "# 15\n",
        "# 아래 표를 stock 이름의 딕셔너리로 표현하라. 시가를 key로 저장하고, 나머지 같은 열의 데이터를 리스트로 저장해서 value로 저장한다. 종가를 key로 저장하고 나머지 같은 열의 데이터를 리스트로 저장해서 value로 저장한다.\n",
        "\n",
        "# 시가\t종가\n",
        "# 100\t80\n",
        "# 200\t210\n",
        "# 300\t330\n",
        "\n",
        "col1 = ['시가',100,200,300]\n",
        "col2 = ['종가',80,210,330]\n",
        "stock = dict(zip(col1,col2))\n",
        "print(stock)\n",
        "\n",
        "\n",
        "# 16\n",
        "# 아래 표를 stock 이름의 딕셔너리로 표현하라. 날짜를 key로 저장하고, 나머지 같은 행의 데이터를 리스트로 저장해서 value로 저장한다. 첫 열이 날짜이다.\n",
        "\n",
        "# 10/10\t80\t110\t70\t90\n",
        "# 10/11\t210\t230\t190\t200\n",
        "\n",
        "row1 = [10/10, 80, 110, 70, 90]\n",
        "row2 = [10/11, 210, 230, 190, 200]\n",
        "\n",
        "\n",
        "# 17\n",
        "# 리스트에 저장된 데이터를 아래와 같이 출력하라.\n",
        "\n",
        "# apart = [ [101, 102], [201, 202], [301, 302] ]\n",
        "# 101 호\n",
        "# 102 호\n",
        "# 201 호\n",
        "# 202 호\n",
        "# 301 호\n",
        "# 302 호\n",
        "apart = [ [101, 102], [201, 202], [301, 302] ]\n",
        "for n in apart:\n",
        "  for s in n:\n",
        "    print(s,'호')\n",
        "\n",
        "# 18\n",
        "# 리스트에 저장된 데이터를 아래와 같이 출력하라.\n",
        "\n",
        "# apart = [ [101, 102], [201, 202], [301, 302] ]\n",
        "# 301 호\n",
        "# 302 호\n",
        "# 201 호\n",
        "# 202 호\n",
        "# 101 호\n",
        "# 102 호\n",
        "apart = [ [101, 102], [201, 202], [301, 302] ]\n",
        "for n in reversed(apart):\n",
        "  for s in n:\n",
        "    print(s,'호')\n",
        "\n",
        "# 19\n",
        "# 리스트에 저장된 데이터를 아래와 같이 출력하라.\n",
        "\n",
        "# apart = [ [101, 102], [201, 202], [301, 302] ]\n",
        "# 302 호\n",
        "# 301 호\n",
        "# 202 호\n",
        "# 201 호\n",
        "# 102 호\n",
        "# 101 호\n",
        "\n",
        "apart = [ [101, 102], [201, 202], [301, 302] ]\n",
        "for n in reversed(apart):\n",
        "  for s in reversed(n):\n",
        "    print(s,'호')\n",
        "\n",
        "# 20\n",
        "# 리스트에 저장된 데이터를 아래와 같이 출력하라.\n",
        "\n",
        "# apart = [ [101, 102], [201, 202], [301, 302] ]\n",
        "# 101 호\n",
        "# -----\n",
        "# 102 호\n",
        "# -----\n",
        "# 201 호\n",
        "# -----\n",
        "# 202 호\n",
        "# -----\n",
        "# 301 호\n",
        "# -----\n",
        "# 302 호\n",
        "\n",
        "apart = [ [101, 102], [201, 202], [301, 302] ]\n",
        "for n in apart:\n",
        "  for s in n:\n",
        "    print(s,'호')\n",
        "    print('-----')\n",
        "\n",
        "\n",
        "# 21\n",
        "# 리스트에 저장된 데이터를 아래와 같이 출력하라.\n",
        "\n",
        "# apart = [ [101, 102], [201, 202], [301, 302] ]\n",
        "# 101 호\n",
        "# 102 호\n",
        "# -----\n",
        "# 201 호\n",
        "# 202 호\n",
        "# -----\n",
        "# 301 호\n",
        "# 302 호\n",
        "\n",
        "apart = [ [101, 102], [201, 202], [301, 302] ]\n",
        "for n in apart:\n",
        "  for s in n:\n",
        "    print(s,'호')\n",
        "    print('-----')\n"
      ],
      "metadata": {
        "colab": {
          "base_uri": "https://localhost:8080/"
        },
        "id": "7x-P8Gz3r67i",
        "outputId": "851163cd-680f-4c5d-ed16-78067192ecc4"
      },
      "execution_count": null,
      "outputs": [
        {
          "output_type": "stream",
          "name": "stdout",
          "text": [
            "score:60\n",
            "grade is C\n"
          ]
        }
      ]
    },
    {
      "cell_type": "code",
      "source": [
        "str = '이유덕,이재영,권종표,이재영,박민호,강상희,이재영,김지완,최승혁,이성연,박영서,박민호,전경헌,송정환,김재성,이유덕,전경헌'"
      ],
      "metadata": {
        "id": "maTpfB9_tXNN"
      },
      "execution_count": null,
      "outputs": []
    },
    {
      "cell_type": "code",
      "source": [
        "# 2. 표준 입력으로 문자열 두 개가 각 줄에 입력됩니다(문자열의 길이는 정해져 있지 않음).\n",
        "# 첫 번째 문자열에서 인덱스가 홀수인 문자와 두 번째 문자열에서 인덱스가 짝수인 문자를 연결하여\n",
        "# 출력하는 프로그램을 만드세요(input에서 안내 문자열은 출력하지 않아야 합니다). 연결 순서는 첫 번째 문자열, 두 번째 문자열 순입니다. 그리고 0은 짝수로 처리합니다.\n",
        "\n",
        "# 예\n",
        "# 입력\n",
        "# python\n",
        "# python\n",
        "# 결과\n",
        "# yhnpto\n",
        "# 입력\n",
        "# apple\n",
        "# strawberry\n",
        "# 결과\n",
        "# plsrwer\n",
        "\n",
        "first_str=input()\n",
        "secon_str=input()\n",
        "lst_f_str = list(first_str)\n",
        "lst_s_str = list(secon_str)\n",
        "res1=[]\n",
        "res2=[]\n",
        "for i in range(len(lst_f_str)):\n",
        "  if i%2==1:\n",
        "    res1.append(lst_f_str[i])\n",
        "\n",
        "for j in range(len(lst_s_str)):\n",
        "  if j%2==0:\n",
        "    res2.append(lst_s_str[j])\n",
        "res=res1+res2\n",
        "print(''.join(res))"
      ],
      "metadata": {
        "colab": {
          "base_uri": "https://localhost:8080/"
        },
        "id": "rl2gU1rhPAcl",
        "outputId": "7d4464b4-fdda-4b69-d60a-4096261084d5"
      },
      "execution_count": null,
      "outputs": [
        {
          "output_type": "stream",
          "name": "stdout",
          "text": [
            "python\n",
            "python\n",
            "yhnpto\n"
          ]
        }
      ]
    },
    {
      "cell_type": "code",
      "source": [
        "# 21\n",
        "# 리스트에 저장된 데이터를 아래와 같이 출력하라.\n",
        "\n",
        "# apart = [ [101, 102], [201, 202], [301, 302] ]\n",
        "# 101 호\n",
        "# 102 호\n",
        "# -----\n",
        "# 201 호\n",
        "# 202 호\n",
        "# -----\n",
        "# 301 호\n",
        "# 302 호\n",
        "\n",
        "apart = [ [101, 102], [201, 202], [301, 302] ]\n",
        "for n in apart:\n",
        "  for s in n:\n",
        "    print(s,'호')\n",
        "  print('-----')"
      ],
      "metadata": {
        "id": "_vBnQWPhPcxF",
        "colab": {
          "base_uri": "https://localhost:8080/"
        },
        "outputId": "1537937d-043b-42ad-b28e-fad92a448d46"
      },
      "execution_count": null,
      "outputs": [
        {
          "output_type": "stream",
          "name": "stdout",
          "text": [
            "101 호\n",
            "102 호\n",
            "-----\n",
            "201 호\n",
            "202 호\n",
            "-----\n",
            "301 호\n",
            "302 호\n",
            "-----\n"
          ]
        }
      ]
    },
    {
      "cell_type": "code",
      "source": [],
      "metadata": {
        "id": "ImO6gloHDcXN"
      },
      "execution_count": null,
      "outputs": []
    }
  ]
}