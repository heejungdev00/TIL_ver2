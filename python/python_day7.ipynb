{
  "nbformat": 4,
  "nbformat_minor": 0,
  "metadata": {
    "colab": {
      "provenance": []
    },
    "kernelspec": {
      "name": "python3",
      "display_name": "Python 3"
    },
    "language_info": {
      "name": "python"
    }
  },
  "cells": [
    {
      "cell_type": "code",
      "execution_count": null,
      "metadata": {
        "colab": {
          "base_uri": "https://localhost:8080/"
        },
        "id": "c_JlsYuekJXT",
        "outputId": "0f2e24cc-7bcf-420c-b9d9-5cd3bc297fc7"
      },
      "outputs": [
        {
          "output_type": "stream",
          "name": "stdout",
          "text": [
            "a3b2c5a1\n"
          ]
        }
      ],
      "source": [
        "# data = input()\n",
        "data='aaabbccccca'\n",
        "count = 1\n",
        "result = ''\n",
        "data=data+'1'\n",
        "\n",
        "for i in range(len(data)-1):\n",
        "\n",
        "  if data[i] ==data[i+1]:\n",
        "    count += 1\n",
        "  else:\n",
        "    result += data[i]+str(count)\n",
        "    count = 1\n",
        "  if(i == len(data)-1):\n",
        "        result+= str(count)\n",
        "\n",
        "\n",
        "print(result)"
      ]
    },
    {
      "cell_type": "markdown",
      "source": [
        "# 정규표현식"
      ],
      "metadata": {
        "id": "j_GtU9Jzm6rW"
      }
    },
    {
      "cell_type": "markdown",
      "source": [
        "정규식(regular expressions;re) : 복잡한 문자열을 처리\n"
      ],
      "metadata": {
        "id": "B4Ih3uygoRLB"
      }
    },
    {
      "cell_type": "code",
      "source": [
        "import re"
      ],
      "metadata": {
        "id": "Z6jXzHDFk4d_"
      },
      "execution_count": null,
      "outputs": []
    },
    {
      "cell_type": "code",
      "source": [
        "data=\"hgd 990101-1234567\""
      ],
      "metadata": {
        "id": "zoPGgk6FobSF"
      },
      "execution_count": null,
      "outputs": []
    },
    {
      "cell_type": "code",
      "source": [
        "s_data=data.split(' ')\n",
        "if len(s_data[1])==14 and s_data[1][:6].isdigit() and s_data[1][7:].isdigit():\n",
        "  jumin=s_data[1][:6]+'-'+'*'*7\n",
        "print(jumin)\n",
        "# s_data[1][:6].isdigit()   #문자열안에 있는게 숫자인지 아닌지"
      ],
      "metadata": {
        "colab": {
          "base_uri": "https://localhost:8080/"
        },
        "id": "IuP4lMs5sENF",
        "outputId": "abadba5d-af88-4202-853f-adda4dc25dc2"
      },
      "execution_count": null,
      "outputs": [
        {
          "output_type": "stream",
          "name": "stdout",
          "text": [
            "990101-*******\n"
          ]
        }
      ]
    },
    {
      "cell_type": "code",
      "source": [
        "data=\"\"\"\n",
        "hgd 990101-1234567\n",
        "kgd 950101-1567222\n",
        "\"\"\""
      ],
      "metadata": {
        "id": "MBhjSNiKsF-1"
      },
      "execution_count": null,
      "outputs": []
    },
    {
      "cell_type": "code",
      "source": [
        "print(data)"
      ],
      "metadata": {
        "colab": {
          "base_uri": "https://localhost:8080/"
        },
        "id": "sx7M4QCyt1To",
        "outputId": "571c0904-109d-4b2a-fbdd-14383633f7df"
      },
      "execution_count": null,
      "outputs": [
        {
          "output_type": "stream",
          "name": "stdout",
          "text": [
            "\n",
            "hgd 990101-1234567\n",
            "kgd 950101-1567222\n",
            "\n"
          ]
        }
      ]
    },
    {
      "cell_type": "code",
      "source": [
        "for line in data.split('\\n'):\n",
        "  for w in line.split(' '):\n",
        "    if len(w)==14 and w[:6].isdigit() and w[7:].isdigit():\n",
        "        jumin=w[:6]+'-'+'*'*7\n",
        "        print(jumin)"
      ],
      "metadata": {
        "colab": {
          "base_uri": "https://localhost:8080/"
        },
        "id": "nn0azwIdt12_",
        "outputId": "b2833d4c-be8a-4fe5-d3a1-c968b8399500"
      },
      "execution_count": null,
      "outputs": [
        {
          "output_type": "stream",
          "name": "stdout",
          "text": [
            "990101-*******\n",
            "950101-*******\n"
          ]
        }
      ]
    },
    {
      "cell_type": "code",
      "source": [
        "# import re\n",
        "# pat=re.compile('Wd{6}[-]\\d{7}')\n",
        "# print(pat.sub('\\g<1>-*******',data))\n",
        "import re\n",
        "pat=re.compile(\"(\\d{6})[-]\\d{7}\")\n",
        "print(pat.sub(\"\\g<1>-********\",data))"
      ],
      "metadata": {
        "colab": {
          "base_uri": "https://localhost:8080/"
        },
        "id": "8UJ7K64GuPoM",
        "outputId": "28290b81-8301-4c51-f865-18740ee65680"
      },
      "execution_count": null,
      "outputs": [
        {
          "output_type": "stream",
          "name": "stdout",
          "text": [
            "\n",
            "hgd 990101-********\n",
            "kgd 950101-********\n",
            "\n"
          ]
        }
      ]
    },
    {
      "cell_type": "markdown",
      "source": [
        "## match,search"
      ],
      "metadata": {
        "id": "bPagfAFoPoJZ"
      }
    },
    {
      "cell_type": "code",
      "source": [
        "# re.match(패턴식, 문자열)\n",
        "#문자열의 왼쪽부터 시작하여 패턴이 있는지 판단\n",
        "\n",
        "re.match('h','hello') #출력이 되면 hello문자열에 h패턴이 존재, span=인덱스\n",
        "re.match('s','hello') #존재x\n",
        "re.match('e','hello') #존재x\n",
        "re.match('he','hello')"
      ],
      "metadata": {
        "colab": {
          "base_uri": "https://localhost:8080/"
        },
        "id": "7topKCzcwE2r",
        "outputId": "cf69f057-eb51-4855-d935-99774c82b343"
      },
      "execution_count": null,
      "outputs": [
        {
          "output_type": "execute_result",
          "data": {
            "text/plain": [
              "<re.Match object; span=(0, 2), match='he'>"
            ]
          },
          "metadata": {},
          "execution_count": 33
        }
      ]
    },
    {
      "cell_type": "code",
      "source": [
        "# re.search(패턴식,문자열)\n",
        "# 문자열의 왼쪽부터 시작하여 패턴이 있는지 판단,패턴이 발견될때까지 찾음(한번만)\n",
        "\n",
        "re.search('h','hello') #출력이 되면 hello문자열에 h패턴이 존재, span=인덱스\n",
        "re.search('s','hello') #존재x\n",
        "re.search('e','hello') #존재\n",
        "re.search('e','hellohello') #존재.\n",
        "re.search('hi','hellohi') #존재\n",
        "\n",
        "# ^문자열:반드시 특정문자열로 시작, 문자열$: 특정문자열로 끝\n",
        "re.search('^he','hello world')  #존재\n",
        "re.search('^he','hi, hello world')    #존재x\n",
        "re.search('he','hi, hello world')     #존재\n",
        "re.search('world$','hi, hello world')#존재\n",
        "re.search('world$','hi, hello world ff') #존재x"
      ],
      "metadata": {
        "id": "s6uudJoTxkoU"
      },
      "execution_count": null,
      "outputs": []
    },
    {
      "cell_type": "code",
      "source": [
        "re.match('hi|bye', 'hihello') # |: 여러 패턴 중에 어느 하나의 패턴에 매칭(처음에 없으면 끝)\n",
        "re.search('hi|bye', 'hihello') # |: 여러 패턴 중에 어느 하나의 패턴에 매칭(끝까지 찾음)"
      ],
      "metadata": {
        "colab": {
          "base_uri": "https://localhost:8080/"
        },
        "id": "R4PEWQQNyTa5",
        "outputId": "76efe7cf-fd41-4e70-da35-93bb8742b51f"
      },
      "execution_count": null,
      "outputs": [
        {
          "output_type": "execute_result",
          "data": {
            "text/plain": [
              "<re.Match object; span=(0, 2), match='hi'>"
            ]
          },
          "metadata": {},
          "execution_count": 45
        }
      ]
    },
    {
      "cell_type": "code",
      "source": [
        "re.search('hi|bye', 'hihello') # |: 여러 패턴 중에 어느 하나의 패턴에 매칭(끝까지 찾음)"
      ],
      "metadata": {
        "colab": {
          "base_uri": "https://localhost:8080/"
        },
        "id": "bgE2OZ8gH3Oh",
        "outputId": "41b0460e-4a50-4a9f-b554-4533df0935b3"
      },
      "execution_count": null,
      "outputs": [
        {
          "output_type": "execute_result",
          "data": {
            "text/plain": [
              "<re.Match object; span=(0, 2), match='hi'>"
            ]
          },
          "metadata": {},
          "execution_count": 46
        }
      ]
    },
    {
      "cell_type": "code",
      "source": [
        "#문자열에 숫자 패턴?\n",
        "# []: '['와 ']'사이의 문자들과 매치\n",
        "\n",
        "re.match('h','hi')\n",
        "re.match('h','hhhhi')\n",
        "re.match('[h]','hhhhi')\n",
        "\n",
        "re.match('hh', 'hhhi')  # 문자열에 패턴이 존재?\n",
        "re.match('hhh', 'hhhi')  # 문자열에 패턴이 존재?\n",
        "\n",
        "# h문자가 1개이상 있으면 패턴 (+구문)\n",
        "re.match('h+', 'hhhi')\n",
        "re.match('h+', 'hhhhhhhhhhhhhi')"
      ],
      "metadata": {
        "colab": {
          "base_uri": "https://localhost:8080/"
        },
        "id": "VhMoiPRMIL2X",
        "outputId": "6f5c3948-9f1c-4b47-a582-2e2f5e69f0fa"
      },
      "execution_count": null,
      "outputs": [
        {
          "output_type": "execute_result",
          "data": {
            "text/plain": [
              "<re.Match object; span=(0, 13), match='hhhhhhhhhhhhh'>"
            ]
          },
          "metadata": {},
          "execution_count": 56
        }
      ]
    },
    {
      "cell_type": "code",
      "source": [
        "re.match('h+i', 'hhhhi') # h문자가 1개 이상있으며, 이어서 i문자가 등장하면 패턴 존재\n",
        "re.match('h+i', 'hihello')\n",
        "re.match('h+i', 'hhhhhhhhhkhhhhihello')"
      ],
      "metadata": {
        "id": "SAPa_6E0IyZu"
      },
      "execution_count": null,
      "outputs": []
    },
    {
      "cell_type": "code",
      "source": [
        "re.match('h+i+k', 'hhhiikkk')\n",
        "re.match('h+i+k+', 'hhhiikkk')"
      ],
      "metadata": {
        "colab": {
          "base_uri": "https://localhost:8080/"
        },
        "id": "YKYzbAnbKaPf",
        "outputId": "1757814f-ad31-476e-c0d0-aab7826ce491"
      },
      "execution_count": null,
      "outputs": [
        {
          "output_type": "execute_result",
          "data": {
            "text/plain": [
              "<re.Match object; span=(0, 8), match='hhhiikkk'>"
            ]
          },
          "metadata": {},
          "execution_count": 61
        }
      ]
    },
    {
      "cell_type": "code",
      "source": [
        "# h문자가 0개이상 있으면 패턴 존재\n",
        "re.match('h*','hhhi')   #매치 가능\n",
        "re.match('h*','ahhhi')   #매치가능(h문자가 0개 나온것에 매치됨.)"
      ],
      "metadata": {
        "colab": {
          "base_uri": "https://localhost:8080/"
        },
        "id": "1HBiTKytK6T1",
        "outputId": "16e42396-ca66-4f7e-ec57-43f9a7c20019"
      },
      "execution_count": null,
      "outputs": [
        {
          "output_type": "execute_result",
          "data": {
            "text/plain": [
              "<re.Match object; span=(0, 0), match=''>"
            ]
          },
          "metadata": {},
          "execution_count": 66
        }
      ]
    },
    {
      "cell_type": "code",
      "source": [
        "re.match('a*b','b')   # a0개 b1개 매치\n",
        "re.match('a*b','aabbc') #aab가 매치\n",
        "re.match('a*b+','aabbc') #aabb가 매치\n",
        "re.match('a*b*','aabbc') #aabb가 매치"
      ],
      "metadata": {
        "colab": {
          "base_uri": "https://localhost:8080/"
        },
        "id": "7iRY8xdpLo0i",
        "outputId": "00446a90-22f2-4aa5-9900-fc95d2eee039"
      },
      "execution_count": null,
      "outputs": [
        {
          "output_type": "execute_result",
          "data": {
            "text/plain": [
              "<re.Match object; span=(0, 4), match='aabb'>"
            ]
          },
          "metadata": {},
          "execution_count": 73
        }
      ]
    },
    {
      "cell_type": "code",
      "source": [
        "re.match('5','5') #매치\n",
        "re.match('5','56')    #매치\n",
        "re.match('5','456')   #매치X\n",
        "re.match('5|4','456')   #4매치\n",
        "\n",
        "#같은 의미\n",
        "re.match('6|5|4','6456')   #6매치\n",
        "re.match('[4-6]','6456')   #6매치\n",
        "\n",
        "re.match('[0-9]','1234')      #1매치\n",
        "re.match('[0-9]+','1234')      #1234매치\n",
        "re.match('[0-9]*','1234')      #1234매치"
      ],
      "metadata": {
        "colab": {
          "base_uri": "https://localhost:8080/"
        },
        "id": "vEWOJK8TMDY_",
        "outputId": "a67e08e3-88fb-4f3a-a3c5-45d0daea17da"
      },
      "execution_count": null,
      "outputs": [
        {
          "output_type": "execute_result",
          "data": {
            "text/plain": [
              "<re.Match object; span=(0, 4), match='1234'>"
            ]
          },
          "metadata": {},
          "execution_count": 86
        }
      ]
    },
    {
      "cell_type": "code",
      "source": [
        "re.match('[0-9]+', 'abcd')"
      ],
      "metadata": {
        "id": "yrqfYWQXNKO5"
      },
      "execution_count": null,
      "outputs": []
    },
    {
      "cell_type": "code",
      "source": [
        "re.match('[a]', 'abcd')\n",
        "re.match('a', 'abcd')"
      ],
      "metadata": {
        "colab": {
          "base_uri": "https://localhost:8080/"
        },
        "id": "-LVy1y2jPAit",
        "outputId": "6f806930-e60d-4c45-cb02-5efaa8e37ea9"
      },
      "execution_count": null,
      "outputs": [
        {
          "output_type": "execute_result",
          "data": {
            "text/plain": [
              "<re.Match object; span=(0, 1), match='a'>"
            ]
          },
          "metadata": {},
          "execution_count": 89
        }
      ]
    },
    {
      "cell_type": "code",
      "source": [
        "re.match('a*', 'bcda')    #a0개 매치\n",
        "re.match('a+', 'bcda')    #매치x\n",
        "\n",
        "re.match('a*b', 'bcda')   #a0개, b매치"
      ],
      "metadata": {
        "colab": {
          "base_uri": "https://localhost:8080/"
        },
        "id": "yA5w4WaLPDBX",
        "outputId": "c95c2d17-0d70-480b-b148-6137d60867f4"
      },
      "execution_count": null,
      "outputs": [
        {
          "output_type": "execute_result",
          "data": {
            "text/plain": [
              "<re.Match object; span=(0, 1), match='b'>"
            ]
          },
          "metadata": {},
          "execution_count": 95
        }
      ]
    },
    {
      "cell_type": "code",
      "source": [
        "re.match('a*b+c*','bcda')   #a0, b1c1 매치"
      ],
      "metadata": {
        "colab": {
          "base_uri": "https://localhost:8080/"
        },
        "id": "NKpaI95tPM9S",
        "outputId": "e33cfc96-4cf3-40a1-c47f-a1d6dfcc45cf"
      },
      "execution_count": null,
      "outputs": [
        {
          "output_type": "execute_result",
          "data": {
            "text/plain": [
              "<re.Match object; span=(0, 2), match='bc'>"
            ]
          },
          "metadata": {},
          "execution_count": 97
        }
      ]
    },
    {
      "cell_type": "code",
      "source": [
        "# 3도 #매치\n",
        "# 28도 #매치\n",
        "# -7도 #매치\n",
        "# 30mm  #매치x\n",
        "\n",
        "re.match('[0-9]+도','3도')\n",
        "re.match('[0-9]+도','28도')   #+여야, 왜냐면 앞에 숫자가 하나라도 있어야되기때문\n",
        "re.match('[0-9]+도','100도')\n",
        "# re.match('[0-9]*도','-7도')\n",
        "# re.match('[0-9]*도','3도')\n",
        "# re.match('[0-9]*도','3도')\n"
      ],
      "metadata": {
        "colab": {
          "base_uri": "https://localhost:8080/"
        },
        "id": "mzLQOw8tPydm",
        "outputId": "3ba25e51-4856-4dcc-d3e9-c9d6970b7e57"
      },
      "execution_count": null,
      "outputs": [
        {
          "output_type": "execute_result",
          "data": {
            "text/plain": [
              "<re.Match object; span=(0, 4), match='100도'>"
            ]
          },
          "metadata": {},
          "execution_count": 104
        }
      ]
    },
    {
      "cell_type": "code",
      "source": [
        "res=re.match('코리아','대한민국')"
      ],
      "metadata": {
        "id": "dEvxaEX-QcwV"
      },
      "execution_count": null,
      "outputs": []
    },
    {
      "cell_type": "code",
      "source": [
        "if res:\n",
        "  print('매치됐습니다.')\n",
        "else:\n",
        "  print('매치 x')"
      ],
      "metadata": {
        "colab": {
          "base_uri": "https://localhost:8080/"
        },
        "id": "eSHn29MPVc65",
        "outputId": "010f01ae-a377-4630-c1c4-a25f293e20a3"
      },
      "execution_count": null,
      "outputs": [
        {
          "output_type": "stream",
          "name": "stdout",
          "text": [
            "매치 x\n"
          ]
        }
      ]
    },
    {
      "cell_type": "code",
      "source": [
        "re.match('[가-힣]+','대한민국')"
      ],
      "metadata": {
        "colab": {
          "base_uri": "https://localhost:8080/"
        },
        "id": "CNiq2HfxVl35",
        "outputId": "dc73b9b8-b4ea-4ab4-d96d-6f9f5df6da89"
      },
      "execution_count": null,
      "outputs": [
        {
          "output_type": "execute_result",
          "data": {
            "text/plain": [
              "<re.Match object; span=(0, 4), match='대한민국'>"
            ]
          },
          "metadata": {},
          "execution_count": 110
        }
      ]
    },
    {
      "cell_type": "code",
      "source": [
        "re.match('[가-힣]+','ㅋㅋㅋ대한민국')   # ㅋ자음이니 매치x"
      ],
      "metadata": {
        "id": "yx9JtDyLWO5p"
      },
      "execution_count": null,
      "outputs": []
    },
    {
      "cell_type": "code",
      "source": [
        "re.match('[가-힣ㄱ-ㅎ]+','ㅋㅋㅋ대한민국ㅎㅎㅎㅎ')"
      ],
      "metadata": {
        "colab": {
          "base_uri": "https://localhost:8080/"
        },
        "id": "mHul18xsWRxk",
        "outputId": "c1b0292f-b7a6-4ecd-f6b3-870ffb8a5360"
      },
      "execution_count": null,
      "outputs": [
        {
          "output_type": "execute_result",
          "data": {
            "text/plain": [
              "<re.Match object; span=(0, 11), match='ㅋㅋㅋ대한민국ㅎㅎㅎㅎ'>"
            ]
          },
          "metadata": {},
          "execution_count": 114
        }
      ]
    },
    {
      "cell_type": "code",
      "source": [
        "#전부매치 (a-z가능, A-Z 가능,(공백)가능)"
      ],
      "metadata": {
        "id": "JU8l195fWdis"
      },
      "execution_count": null,
      "outputs": []
    },
    {
      "cell_type": "code",
      "source": [
        "# ?: 앞의 문자가 0개 또는 1개 오면 매치\n",
        "# .: .이 있는 위치에 문자(숫자)1개 오면 매치"
      ],
      "metadata": {
        "id": "jU_fSPzlWmXY"
      },
      "execution_count": null,
      "outputs": []
    },
    {
      "cell_type": "code",
      "source": [
        "re.match('abc?d','abd') # ?앞에 문자가 없거나 1개 잇거나"
      ],
      "metadata": {
        "colab": {
          "base_uri": "https://localhost:8080/"
        },
        "id": "LzBBdEpiXzfw",
        "outputId": "e400c4bd-9edd-4740-80b5-521accdb8f3c"
      },
      "execution_count": null,
      "outputs": [
        {
          "output_type": "execute_result",
          "data": {
            "text/plain": [
              "<re.Match object; span=(0, 3), match='abd'>"
            ]
          },
          "metadata": {},
          "execution_count": 118
        }
      ]
    },
    {
      "cell_type": "code",
      "source": [
        "re.match('ab[0-9]?c','ab3c')"
      ],
      "metadata": {
        "colab": {
          "base_uri": "https://localhost:8080/"
        },
        "id": "tYmg0GffX_4a",
        "outputId": "e4982cad-7175-49f0-b85e-bce9de291b1b"
      },
      "execution_count": null,
      "outputs": [
        {
          "output_type": "execute_result",
          "data": {
            "text/plain": [
              "<re.Match object; span=(0, 4), match='ab3c'>"
            ]
          },
          "metadata": {},
          "execution_count": 119
        }
      ]
    },
    {
      "cell_type": "code",
      "source": [
        "re.match('ab[0-9]?c','ab34c')   # 앞에 문자가 2개라서 매치x"
      ],
      "metadata": {
        "id": "qvsEUW6WYPrz"
      },
      "execution_count": null,
      "outputs": []
    },
    {
      "cell_type": "code",
      "source": [
        "re.match('ab.d', 'abkd')"
      ],
      "metadata": {
        "colab": {
          "base_uri": "https://localhost:8080/"
        },
        "id": "3_09YD4CYhPR",
        "outputId": "f51537b4-ab35-4380-8441-959e2ea23b00"
      },
      "execution_count": null,
      "outputs": [
        {
          "output_type": "execute_result",
          "data": {
            "text/plain": [
              "<re.Match object; span=(0, 4), match='abkd'>"
            ]
          },
          "metadata": {},
          "execution_count": 122
        }
      ]
    },
    {
      "cell_type": "code",
      "source": [
        "re.match('ab.d', 'ab3d')"
      ],
      "metadata": {
        "colab": {
          "base_uri": "https://localhost:8080/"
        },
        "id": "C7MqSbCSYth0",
        "outputId": "6a72573d-1d58-4474-a8a2-68ba23c6208b"
      },
      "execution_count": null,
      "outputs": [
        {
          "output_type": "execute_result",
          "data": {
            "text/plain": [
              "<re.Match object; span=(0, 4), match='ab3d'>"
            ]
          },
          "metadata": {},
          "execution_count": 123
        }
      ]
    },
    {
      "cell_type": "code",
      "source": [
        "# 파일명 검증 정규식\n",
        "# 잘못된 경우\n",
        "# abc\n",
        "# 제대로 작성한 경우\n",
        "# abc.def\n",
        "re.match('[a-zA-Z]+[.][a-z]+', 'abc.def') #매치됨\n",
        "re.match('[a-zA-Z]+[.][a-z]+', 'abc')   #매치x\n"
      ],
      "metadata": {
        "id": "Wc2-PEtHYv-h"
      },
      "execution_count": null,
      "outputs": []
    },
    {
      "cell_type": "code",
      "source": [
        "# '.': 모든 문자 1개\n",
        "# '[.]': 특수문자 마침표를 의미."
      ],
      "metadata": {
        "id": "Beggx_CaZgAd"
      },
      "execution_count": null,
      "outputs": []
    },
    {
      "cell_type": "code",
      "source": [
        "#010-1234-5678\n",
        "#3자리-4자리-4자리 {개수}\n",
        "re.match('[0-9]{3}[-][0-9]{4}[-][0-9]{4}','010-1234-5678')"
      ],
      "metadata": {
        "colab": {
          "base_uri": "https://localhost:8080/"
        },
        "id": "G6G-9ruub4_Z",
        "outputId": "23896054-b98e-4fa0-b9b1-1a45ec4d269b"
      },
      "execution_count": null,
      "outputs": [
        {
          "output_type": "execute_result",
          "data": {
            "text/plain": [
              "<re.Match object; span=(0, 13), match='010-1234-5678'>"
            ]
          },
          "metadata": {},
          "execution_count": 128
        }
      ]
    },
    {
      "cell_type": "code",
      "source": [
        "weather=\"\"\"\n",
        "계절은 봄으로 바뀌었지만, 이번 주 내내 흐린 하늘에 눈비 소식이 잦습니다.\n",
        "오늘까지 강원 산간에는 최고 5cm의 눈이 추가로 내려 쌓이겠고요,\n",
        "수도권을 비롯한 중부와 영남 곳곳에도 산발적인 비나 눈이 지나겠습니다.\n",
        "여기에 퇴근길에는 찬 바람이 불면서 다시 추워지겠고, 미끄럼 사고도 우려된다는 점 염두에 두시기 바랍니다.\n",
        "자세한 레이더 화면부터 살펴보겠습니다.\n",
        "강원 산간에는 '대설주의보'가 내려진 가운데, 현재 경기와 강원 지역을 중심으로 비나 눈이 이어지고 있는 모습인데요.\n",
        "앞으로 수도권을 비롯한 그 밖의 중부와 영남에도 비가 지나는 곳이 있겠고, 기온이 낮은 지역에서는 진눈깨비나 눈으로 바뀌어 내리기도 하겠습니다.\n",
        "이미 많은 눈이 쌓인 강원 산간에는 오늘 밤까지 최고 5cm의 눈이 더 내리겠고요,\n",
        "그 밖의 내륙에 내리는 비의 양은 1~5mm, 눈의 양은 1~3cm가 예상됩니다.\n",
        "\"\"\""
      ],
      "metadata": {
        "id": "6xW9je2Uce_s"
      },
      "execution_count": null,
      "outputs": []
    },
    {
      "cell_type": "code",
      "source": [
        "#비 또는 눈 단어가 존재하면 매치\n",
        "re.search('비|눈',weather)"
      ],
      "metadata": {
        "colab": {
          "base_uri": "https://localhost:8080/"
        },
        "id": "XN5PtDb8dAfJ",
        "outputId": "2bb3047b-46ce-4d10-d5bd-cd49238f1aba"
      },
      "execution_count": null,
      "outputs": [
        {
          "output_type": "execute_result",
          "data": {
            "text/plain": [
              "<re.Match object; span=(31, 32), match='눈'>"
            ]
          },
          "metadata": {},
          "execution_count": 132
        }
      ]
    },
    {
      "cell_type": "markdown",
      "source": [
        "# 과제\n"
      ],
      "metadata": {
        "id": "PaZ-pL_-p0pt"
      }
    },
    {
      "cell_type": "code",
      "source": [
        "# 21\n",
        "# 입력된 문자열을 역순으로 출력하는 print_reverse 함수를 정의하라.\n",
        "\n",
        "# print_reverse(\"python\")\n",
        "# nohtyp\n",
        "\n",
        "def print_reverse(s):\n",
        "  res=''\n",
        "  s=list(reversed(s))\n",
        "  for i in s:\n",
        "    res+=i\n",
        "  return res\n",
        "\n",
        "print_reverse(\"python\")\n",
        "\n",
        "# 22\n",
        "# 성적 리스트를 입력 받아 평균을 출력하는 print_score 함수를 정의하라.\n",
        "\n",
        "# print_score ([1, 2, 3])\n",
        "# 2.0\n",
        "\n",
        "def print_score(lst):\n",
        "  hap=0\n",
        "  for i in lst:\n",
        "    hap+=i\n",
        "  avg=hap/len(lst)\n",
        "  return avg\n",
        "\n",
        "print_score ([1, 2, 3])\n",
        "\n",
        "\n",
        "# 23\n",
        "# 하나의 리스트를 입력받아 짝수만 화면에 출력하는 print_even 함수를 정의하라.\n",
        "\n",
        "# print_even ([1, 3, 2, 10, 12, 11, 15])\n",
        "# 2\n",
        "# 10\n",
        "# 12\n",
        "\n",
        "def print_even(lst):\n",
        "  for i in lst:\n",
        "    if i%2==0:\n",
        "      print(i)\n",
        "\n",
        "print_even ([1, 3, 2, 10, 12, 11, 15])\n",
        "\n",
        "\n",
        "# 24\n",
        "# 하나의 딕셔너리를 입력받아 딕셔너리의 key 값을 화면에 출력하는 print_keys 함수를 정의하라.\n",
        "\n",
        "# print_keys ({\"이름\":\"김말똥\", \"나이\":30, \"성별\":0})\n",
        "# 이름\n",
        "# 나이\n",
        "# 성별\n",
        "\n",
        "def print_keys(dic):\n",
        "  dic_key=list(dic.keys())\n",
        "  for i in dic_key:\n",
        "    print(i)\n",
        "\n",
        "print_keys ({\"이름\":\"김말똥\", \"나이\":30, \"성별\":0})\n",
        "\n",
        "\n",
        "# 25\n",
        "# my_dict에는 날짜를 키값으로 OHLC가 리스트로 저장돼 있다.\n",
        "\n",
        "my_dict = {\"10/26\" : [100, 130, 100, 100],\n",
        "           \"10/27\" : [10, 12, 10, 11]}\n",
        "# my_dict와 날짜 키값을 입력받아 OHLC 리스트를 출력하는 print_value_by_key 함수를 정의하라.\n",
        "\n",
        "# print_value_by_key  (my_dict, \"10/26\")\n",
        "# [100, 130, 100, 100]\n",
        "\n",
        "def print_value_by_key(dic,weather):\n",
        "  return dic[weather]\n",
        "\n",
        "print_value_by_key  (my_dict, \"10/26\")\n",
        "\n",
        "\n",
        "# 26\n",
        "# 입력 문자열을 한 줄에 다섯글자씩 출력하는 print_5xn(string) 함수를 작성하라.\n",
        "\n",
        "# print_5xn(\"아이엠어보이유알어걸\")\n",
        "# 아이엠어보\n",
        "# 이유알어걸\n",
        "\n",
        "def print_5xn(ss):\n",
        "  while len(ss)>0:\n",
        "    if len(ss)>=5:    #입력받은 문자열이 5이상이면\n",
        "      s_5=''\n",
        "      for s in ss[:5]:    #문자열의 처음부터 5개를 s_5에 담아 출력\n",
        "        s_5+=s\n",
        "      print(s_5)\n",
        "      ss=ss[5:]       #출력된 5글자를 제외한 나머지 글자를 ss에 저장\n",
        "\n",
        "    else:             #남은 문자열이 5미만이면\n",
        "      s_namuzi=''\n",
        "      for s in ss:\n",
        "        s_namuzi+=s     #남은 문자열을 s_namuzi에 담아 출력 후 ss는 빈문자열이됨.\n",
        "      print(s_namuzi)\n",
        "      ss=''\n",
        "\n",
        "print_5xn(\"아이엠어보이유알어걸\")\n",
        "\n",
        "\n",
        "# 27\n",
        "# 문자열과 한줄에 출력될 글자 수를 입력을 받아 한 줄에 입력된 글자 수만큼 출력하는 print_mxn(string) 함수를 작성하라.\n",
        "\n",
        "# printmxn(\"아이엠어보이유알어걸\", 3)\n",
        "# 아이엠\n",
        "# 어보이\n",
        "# 유알어\n",
        "# 걸\n",
        "\n",
        "def print_mxn(ss,i):\n",
        "  while len(ss)>0:\n",
        "    if len(ss)>=i:      #입력받은 문자열이 i이상이면\n",
        "      s_i=''\n",
        "      for s in ss[:i]:    #문자열의 처음부터 i개를 s_i에 담아 출력\n",
        "        s_i+=s\n",
        "      print(s_i)\n",
        "      ss=ss[i:]         #출력된 i글자를 제외한 나머지 글자를 ss에 저장\n",
        "\n",
        "    else:               #남은 문자열이 i미만이면\n",
        "      s_namuzi=''\n",
        "      for s in ss:\n",
        "        s_namuzi+=s         #남은 문자열을 s_namuzi에 담아 출력 후 ss는 빈문자열이됨.\n",
        "      print(s_namuzi)\n",
        "      ss=''\n",
        "\n",
        "print_mxn(\"아이엠어보이유알어걸\", 3)\n",
        "\n",
        "\n",
        "\n",
        "\n",
        "# 28\n",
        "# 연봉을 입력받아 월급을 계산하는 calc_monthly_salary(annual_salary) 함수를 정의하라. 회사는 연봉을 12개월로 나누어 분할 지급하며, 이 때 1원 미만은 버림한다.\n",
        "\n",
        "# calc_monthly_salary(12000000)\n",
        "# 1000000\n",
        "\n",
        "def calc_monthly_salary(annual_salary):\n",
        "  return int(annual_salary/12)\n",
        "\n",
        "calc_monthly_salary(12000000)"
      ],
      "metadata": {
        "id": "0x1Cj1bSdVNr",
        "colab": {
          "base_uri": "https://localhost:8080/",
          "height": 35
        },
        "outputId": "12f2a4ea-4a5c-4866-cd41-d15ba9cb7115"
      },
      "execution_count": null,
      "outputs": [
        {
          "output_type": "execute_result",
          "data": {
            "text/plain": [
              "'nohtyp'"
            ],
            "application/vnd.google.colaboratory.intrinsic+json": {
              "type": "string"
            }
          },
          "metadata": {},
          "execution_count": 146
        }
      ]
    },
    {
      "cell_type": "code",
      "source": [
        "# 29\n",
        "# 아래 코드의 실행 결과를 예측하라.\n",
        "\n",
        "# def my_print (a, b) :\n",
        "#     print(\"왼쪽:\", a)\n",
        "#     print(\"오른쪽:\", b)\n",
        "\n",
        "# my_print(a=100, b=200)\n",
        "\n",
        "'''\n",
        "왼쪽: 100\n",
        "오른쪽: 200\n",
        "'''\n",
        "\n",
        "#30\n",
        "#같은문제\n",
        "\n",
        "\n",
        "\n",
        "# 31\n",
        "# 아래 코드를 실행한 결과를 예상하라.\n",
        "\n",
        "# def n_plus_1 (n) :\n",
        "#     result = n + 1\n",
        "\n",
        "# n_plus_1(3)\n",
        "# print (result)\n",
        "'''\n",
        "error: 이유는 모르겟음\n",
        "'''\n",
        "\n",
        "\n",
        "\n",
        "# 32\n",
        "# 문자열 하나를 입력받아 인터넷 주소를 반환하는 make_url 함수를 정의하라.\n",
        "\n",
        "# make_url(\"naver\")\n",
        "# www.naver.com\n",
        "\n",
        "def make_url(s):\n",
        "  print('www.{}.com'.format(s))\n",
        "\n",
        "make_url(\"naver\")\n",
        "\n",
        "\n",
        "\n",
        "# 33\n",
        "# 문자열을 입력받아 각 문자들로 구성된 리스트로 반환하는 make_list 함수를 정의하라.\n",
        "\n",
        "# make_list(\"abcd\")\n",
        "# ['a', 'b', 'c', 'd']\n",
        "\n",
        "def make_list(s):\n",
        "  lst=[n for n in s]\n",
        "\n",
        "  return lst\n",
        "\n",
        "make_list(\"abcd\")\n",
        "\n",
        "\n",
        "# 34\n",
        "# 숫자로 구성된 하나의 리스트를 입력받아, 짝수들을 추출하여 리스트로 반환하는 pickup_even 함수를 구현하라.\n",
        "\n",
        "# pickup_even([3, 4, 5, 6, 7, 8])\n",
        "# [4, 6, 8]'\n",
        "\n",
        "def pickup_even(lst):\n",
        "  res=[l for l in lst if l%2==0]\n",
        "  return res\n",
        "\n",
        "pickup_even([3, 4, 5, 6, 7, 8])\n",
        "\n",
        "\n",
        "\n",
        "# 35\n",
        "# 콤마가 포함된 문자열 숫자를 입력받아 정수로 변환하는 convert_int 함수를 정의하라.\n",
        "\n",
        "# convert_int(\"1,234,567\")\n",
        "# 1234567\n",
        "\n",
        "def convert_int(s):\n",
        "  s=s.split(',')\n",
        "  s=''.join(s)\n",
        "  return int(s)\n",
        "\n",
        "convert_int(\"1,234,567\")\n",
        "\n",
        "\n",
        "\n",
        "# 36\n",
        "# 아래 코드의 실행 결과를 예측하라.\n",
        "\n",
        "# def 함수(num) :\n",
        "#     return num + 4\n",
        "\n",
        "# a = 함수(10)\n",
        "# b = 함수(a)\n",
        "# c = 함수(b)\n",
        "# print(c)\n",
        "'''\n",
        "22\n",
        "'''\n",
        "\n",
        "\n",
        "\n",
        "# 37\n",
        "# 아래 코드의 실행 결과를 예측하라.\n",
        "\n",
        "# def 함수(num) :\n",
        "#     return num + 4\n",
        "\n",
        "# c = 함수(함수(함수(10)))\n",
        "# print(c)\n",
        "\n",
        "'''\n",
        "22\n",
        "'''\n",
        "\n",
        "\n",
        "# 38\n",
        "# 아래 코드의 실행 결과를 예측하라.\n",
        "\n",
        "# def 함수1(num) :\n",
        "#     return num + 4\n",
        "\n",
        "# def 함수2(num) :\n",
        "#     return num * 10\n",
        "\n",
        "# a = 함수1(10)\n",
        "# c = 함수2(a)\n",
        "# print(c)\n",
        "'''\n",
        "140\n",
        "'''\n",
        "\n",
        "\n",
        "# 39\n",
        "# 아래 코드의 실행 결과를 예측하라.\n",
        "\n",
        "# def 함수1(num) :\n",
        "#     return num + 4\n",
        "\n",
        "# def 함수2(num) :\n",
        "#     num = num + 2\n",
        "#     return 함수1(num)\n",
        "\n",
        "# c = 함수2(10)\n",
        "# print(c)\n",
        "\n",
        "'''\n",
        "16\n",
        "'''\n",
        "\n",
        "# 40\n",
        "# 아래 코드의 실행 결과를 예측하라.\n",
        "\n",
        "# def 함수0(num) :\n",
        "#     return num * 2\n",
        "\n",
        "# def 함수1(num) :\n",
        "#     return 함수0(num + 2)\n",
        "\n",
        "# def 함수2(num) :\n",
        "#     num = num + 10\n",
        "#     return 함수1(num)\n",
        "\n",
        "# c = 함수2(2)\n",
        "print(c)\n",
        "\n",
        "'''\n",
        "28\n",
        "'''\n",
        "\n",
        "\n"
      ],
      "metadata": {
        "colab": {
          "base_uri": "https://localhost:8080/",
          "height": 72
        },
        "id": "-3sxCZjPwsfw",
        "outputId": "ccb7b79f-f743-43e0-da2b-72e89612cf87"
      },
      "execution_count": null,
      "outputs": [
        {
          "output_type": "stream",
          "name": "stdout",
          "text": [
            "www.naver.com\n",
            "28\n"
          ]
        },
        {
          "output_type": "execute_result",
          "data": {
            "text/plain": [
              "'\\n28\\n'"
            ],
            "application/vnd.google.colaboratory.intrinsic+json": {
              "type": "string"
            }
          },
          "metadata": {},
          "execution_count": 197
        }
      ]
    },
    {
      "cell_type": "code",
      "source": [
        "# 8 문자열 압축하기\n",
        "# 문자열을 입력받아 같은 문자가 연속적으로 반복되는 경우에 그 반복 횟수를 표시해 문자열을 압축하여 표시하시오.\n",
        "\n",
        "# 입력 예시: aaabbcccccca\n",
        "# 출력 예시: a3b2c6a1\n",
        "\n",
        "ss='aaabbcccccca'\n",
        "count=1\n",
        "res=''\n",
        "ss=ss+'0'   #불필요한 인자를 추가하여 문자열끝까지 반복문이 돌수 있게.\n",
        "\n",
        "try:\n",
        "  for i in range(len(ss)):\n",
        "    if ss[i]==ss[i+1]:\n",
        "      count+=1\n",
        "    elif ss[i]!=ss[i+1]:\n",
        "      res+=ss[i]+str(count)\n",
        "      count=1\n",
        "\n",
        "except IndexError:\n",
        "  pass\n",
        "\n",
        "res"
      ],
      "metadata": {
        "colab": {
          "base_uri": "https://localhost:8080/",
          "height": 35
        },
        "id": "OC8d4B44_R1l",
        "outputId": "ff6a2635-0557-4ac6-a418-2b5935b28a52"
      },
      "execution_count": null,
      "outputs": [
        {
          "output_type": "execute_result",
          "data": {
            "text/plain": [
              "'a3b2c6a1'"
            ],
            "application/vnd.google.colaboratory.intrinsic+json": {
              "type": "string"
            }
          },
          "metadata": {},
          "execution_count": 223
        }
      ]
    },
    {
      "cell_type": "code",
      "source": [],
      "metadata": {
        "id": "sI_p0daECnH1"
      },
      "execution_count": null,
      "outputs": []
    }
  ]
}