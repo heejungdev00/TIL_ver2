{
  "nbformat": 4,
  "nbformat_minor": 0,
  "metadata": {
    "colab": {
      "provenance": []
    },
    "kernelspec": {
      "name": "python3",
      "display_name": "Python 3"
    },
    "language_info": {
      "name": "python"
    }
  },
  "cells": [
    {
      "cell_type": "code",
      "execution_count": null,
      "metadata": {
        "id": "M_ajOzKH76fd"
      },
      "outputs": [],
      "source": [
        "def bit():\n",
        "  for i in range(100):\n",
        "    print('bit')    #print함수가 100번호출+ bitcoin함수를 1번호출 => 메모리에 더 이득"
      ]
    },
    {
      "cell_type": "code",
      "source": [
        "def bitcoin2():\n",
        "  print('bit')    #print함수가 100번호출"
      ],
      "metadata": {
        "id": "XjAkYsFp8Wtw"
      },
      "execution_count": null,
      "outputs": []
    },
    {
      "cell_type": "code",
      "source": [
        "for i in range(100):\n",
        "  bitcoin2()\n",
        "# bitcoin2()함수를 100번호출"
      ],
      "metadata": {
        "colab": {
          "base_uri": "https://localhost:8080/"
        },
        "id": "uxFAB8ko8aQ8",
        "outputId": "4bcadeeb-1f94-4233-e4a0-e253e70e4fdb"
      },
      "execution_count": null,
      "outputs": [
        {
          "output_type": "stream",
          "name": "stdout",
          "text": [
            "bit\n",
            "bit\n",
            "bit\n",
            "bit\n",
            "bit\n",
            "bit\n",
            "bit\n",
            "bit\n",
            "bit\n",
            "bit\n",
            "bit\n",
            "bit\n",
            "bit\n",
            "bit\n",
            "bit\n",
            "bit\n",
            "bit\n",
            "bit\n",
            "bit\n",
            "bit\n",
            "bit\n",
            "bit\n",
            "bit\n",
            "bit\n",
            "bit\n",
            "bit\n",
            "bit\n",
            "bit\n",
            "bit\n",
            "bit\n",
            "bit\n",
            "bit\n",
            "bit\n",
            "bit\n",
            "bit\n",
            "bit\n",
            "bit\n",
            "bit\n",
            "bit\n",
            "bit\n",
            "bit\n",
            "bit\n",
            "bit\n",
            "bit\n",
            "bit\n",
            "bit\n",
            "bit\n",
            "bit\n",
            "bit\n",
            "bit\n",
            "bit\n",
            "bit\n",
            "bit\n",
            "bit\n",
            "bit\n",
            "bit\n",
            "bit\n",
            "bit\n",
            "bit\n",
            "bit\n",
            "bit\n",
            "bit\n",
            "bit\n",
            "bit\n",
            "bit\n",
            "bit\n",
            "bit\n",
            "bit\n",
            "bit\n",
            "bit\n",
            "bit\n",
            "bit\n",
            "bit\n",
            "bit\n",
            "bit\n",
            "bit\n",
            "bit\n",
            "bit\n",
            "bit\n",
            "bit\n",
            "bit\n",
            "bit\n",
            "bit\n",
            "bit\n",
            "bit\n",
            "bit\n",
            "bit\n",
            "bit\n",
            "bit\n",
            "bit\n",
            "bit\n",
            "bit\n",
            "bit\n",
            "bit\n",
            "bit\n",
            "bit\n",
            "bit\n",
            "bit\n",
            "bit\n",
            "bit\n"
          ]
        }
      ]
    },
    {
      "cell_type": "markdown",
      "source": [
        "#재귀호출?\n",
        "<br>\n",
        "자기자신을 호출하는 함수\n",
        "-> 모든 경우의 수를 구현가능"
      ],
      "metadata": {
        "id": "JPndBQ4aB8I0"
      }
    },
    {
      "cell_type": "code",
      "source": [
        "def hi():\n",
        "  print('hi')\n",
        "  hi()"
      ],
      "metadata": {
        "id": "05MlMbQWBRIh"
      },
      "execution_count": null,
      "outputs": []
    },
    {
      "cell_type": "code",
      "source": [
        "# hi()"
      ],
      "metadata": {
        "id": "INo7yGoqDvkC"
      },
      "execution_count": null,
      "outputs": []
    },
    {
      "cell_type": "code",
      "source": [
        "def hi(cnt):      #cnt=3\n",
        "    if cnt==0:\n",
        "        return    #함수를 호출한 곳으로 되돌아가라\n",
        "    print(\"(before)hi\", cnt)\n",
        "    cnt-=1\n",
        "    hi(cnt)\n",
        "    print('(after)hi',cnt)\n",
        "\n",
        "'''\n",
        "hi(3) -> hi(2) -> hi(1) -> hi(0)\n",
        "'''"
      ],
      "metadata": {
        "id": "xNHg9iAMDwTO"
      },
      "execution_count": null,
      "outputs": []
    },
    {
      "cell_type": "code",
      "source": [
        "hi(3)"
      ],
      "metadata": {
        "colab": {
          "base_uri": "https://localhost:8080/"
        },
        "id": "Hdn9uPeMFkEH",
        "outputId": "1b3420b1-8bee-41d7-ffed-86ff66325f57"
      },
      "execution_count": null,
      "outputs": [
        {
          "output_type": "stream",
          "name": "stdout",
          "text": [
            "(before)hi 3\n",
            "(before)hi 2\n",
            "(before)hi 1\n",
            "(after)hi 0\n",
            "(after)hi 1\n",
            "(after)hi 2\n"
          ]
        }
      ]
    },
    {
      "cell_type": "code",
      "source": [
        "def factorial(n): #5 -> 4 -> 3 -> 2 -> 1\n",
        "  if n==1:\n",
        "    return 1\n",
        "  return n*factorial(n-1)   # return(3) 변수값(2)*재귀호출함수(1)\n",
        "'''\n",
        "return 5*factorial(4)\n",
        "return 4*factorial(3)\n",
        "return 3*factorial(2) =3*2=6 -> return\n",
        "return 2*factorial(1) =2"
      ],
      "metadata": {
        "id": "2H5655_vFm0_"
      },
      "execution_count": null,
      "outputs": []
    },
    {
      "cell_type": "code",
      "source": [
        "print(factorial(5))"
      ],
      "metadata": {
        "colab": {
          "base_uri": "https://localhost:8080/"
        },
        "id": "VQfudFO7MC4-",
        "outputId": "be0c7890-15f7-4393-84b8-4d129d6488cd"
      },
      "execution_count": null,
      "outputs": [
        {
          "output_type": "stream",
          "name": "stdout",
          "text": [
            "120\n"
          ]
        }
      ]
    },
    {
      "cell_type": "code",
      "source": [
        "#리스트, 딕셔너리(내포) [i**2 for i in a if~]  {}\n",
        "#함수, 람다 표현식"
      ],
      "metadata": {
        "id": "kmMd0JORMHBW"
      },
      "execution_count": null,
      "outputs": []
    },
    {
      "cell_type": "markdown",
      "source": [
        "#람다"
      ],
      "metadata": {
        "id": "noMF4WQjmu06"
      }
    },
    {
      "cell_type": "code",
      "source": [
        "#def 함수명():\n",
        "def func1(x):\n",
        "  return x+1\n",
        "#람다식(익명)으로 함수 정의\n",
        "# lambda x: x+1\n",
        "\n",
        "#람다식으로 함수정의\n",
        "func2 = lambda x: x+1\n",
        "\n",
        "#람다식 기본 형식(새로운 변수생성불가능)\n",
        "(lambda 매개변수들 : 수식)(인수들)"
      ],
      "metadata": {
        "id": "wem-QIELSc4-"
      },
      "execution_count": null,
      "outputs": []
    },
    {
      "cell_type": "code",
      "source": [
        "print(func1(5))"
      ],
      "metadata": {
        "colab": {
          "base_uri": "https://localhost:8080/"
        },
        "id": "xiJzR3-yTt9X",
        "outputId": "9fe0a071-2f66-4aae-8351-2cad816a0aa7"
      },
      "execution_count": null,
      "outputs": [
        {
          "output_type": "stream",
          "name": "stdout",
          "text": [
            "6\n"
          ]
        }
      ]
    },
    {
      "cell_type": "code",
      "source": [
        "print(func2(5))"
      ],
      "metadata": {
        "colab": {
          "base_uri": "https://localhost:8080/"
        },
        "id": "X_HStlgzTvsI",
        "outputId": "7a29039f-2780-43bb-f098-a91853b4b612"
      },
      "execution_count": null,
      "outputs": [
        {
          "output_type": "stream",
          "name": "stdout",
          "text": [
            "6\n"
          ]
        }
      ]
    },
    {
      "cell_type": "code",
      "source": [
        "(lambda x: x+1)(5)"
      ],
      "metadata": {
        "colab": {
          "base_uri": "https://localhost:8080/"
        },
        "id": "X3G_WAmxTxCs",
        "outputId": "74b24ed7-efba-4f48-d445-d9a1bef1cb0c"
      },
      "execution_count": null,
      "outputs": [
        {
          "output_type": "execute_result",
          "data": {
            "text/plain": [
              "6"
            ]
          },
          "metadata": {},
          "execution_count": 21
        }
      ]
    },
    {
      "cell_type": "code",
      "source": [
        "y=10\n",
        "(lambda x: x+y)(5)"
      ],
      "metadata": {
        "colab": {
          "base_uri": "https://localhost:8080/"
        },
        "id": "LDI1hCSSTzh6",
        "outputId": "8bdb40f9-33d9-4018-bbb9-7c90447c9e6e"
      },
      "execution_count": null,
      "outputs": [
        {
          "output_type": "execute_result",
          "data": {
            "text/plain": [
              "15"
            ]
          },
          "metadata": {},
          "execution_count": 23
        }
      ]
    },
    {
      "cell_type": "code",
      "source": [
        "#람다식을 인수로 사용, 대표적으로 map함수에서 사용"
      ],
      "metadata": {
        "id": "gsqia6ylY_Fa"
      },
      "execution_count": null,
      "outputs": []
    },
    {
      "cell_type": "code",
      "source": [
        "def add_one(x):\n",
        "  res=[]\n",
        "  for i in x:\n",
        "    res.append(i)\n",
        "  return res"
      ],
      "metadata": {
        "id": "2IroytqNadTI"
      },
      "execution_count": null,
      "outputs": []
    },
    {
      "cell_type": "code",
      "source": [
        "# add_one(10)"
      ],
      "metadata": {
        "id": "SlKbQZUzan6n"
      },
      "execution_count": null,
      "outputs": []
    },
    {
      "cell_type": "code",
      "source": [
        "l=[10,20,30]\n",
        "# add_one(10)\n",
        "add_one(l)"
      ],
      "metadata": {
        "colab": {
          "base_uri": "https://localhost:8080/"
        },
        "id": "WV7LKnBqap8e",
        "outputId": "86373d27-4d41-4eea-c765-7171bbdae217"
      },
      "execution_count": null,
      "outputs": [
        {
          "output_type": "execute_result",
          "data": {
            "text/plain": [
              "[10, 20, 30]"
            ]
          },
          "metadata": {},
          "execution_count": 31
        }
      ]
    },
    {
      "cell_type": "code",
      "source": [
        "def add_one2(x):\n",
        "  return x+1"
      ],
      "metadata": {
        "id": "lvdCXbKIa0qO"
      },
      "execution_count": null,
      "outputs": []
    },
    {
      "cell_type": "code",
      "source": [
        "list(map(add_one2,l))"
      ],
      "metadata": {
        "colab": {
          "base_uri": "https://localhost:8080/"
        },
        "id": "80mBuAPvbfxx",
        "outputId": "12c93c10-c8b3-49dc-b0a3-40c9b0352ca6"
      },
      "execution_count": null,
      "outputs": [
        {
          "output_type": "execute_result",
          "data": {
            "text/plain": [
              "[11, 21, 31]"
            ]
          },
          "metadata": {},
          "execution_count": 36
        }
      ]
    },
    {
      "cell_type": "code",
      "source": [
        "list(map(lambda x: x+1,l))"
      ],
      "metadata": {
        "colab": {
          "base_uri": "https://localhost:8080/"
        },
        "id": "Kdo4g02VboZB",
        "outputId": "df17834d-11f4-4ccb-e3c1-a64419dd8a8d"
      },
      "execution_count": null,
      "outputs": [
        {
          "output_type": "execute_result",
          "data": {
            "text/plain": [
              "[11, 21, 31]"
            ]
          },
          "metadata": {},
          "execution_count": 37
        }
      ]
    },
    {
      "cell_type": "code",
      "source": [
        "x=5\n",
        "(lambda :x)()"
      ],
      "metadata": {
        "colab": {
          "base_uri": "https://localhost:8080/"
        },
        "id": "RmeVsypPcRYI",
        "outputId": "96dac9c6-4689-4ee6-a0da-c22d24379602"
      },
      "execution_count": null,
      "outputs": [
        {
          "output_type": "execute_result",
          "data": {
            "text/plain": [
              "5"
            ]
          },
          "metadata": {},
          "execution_count": 38
        }
      ]
    },
    {
      "cell_type": "code",
      "source": [
        "#람다식에 조건식을 사용"
      ],
      "metadata": {
        "id": "KTCnVqfOdMKB"
      },
      "execution_count": null,
      "outputs": []
    },
    {
      "cell_type": "code",
      "source": [
        "a=list(range(1,11))\n",
        "a"
      ],
      "metadata": {
        "colab": {
          "base_uri": "https://localhost:8080/"
        },
        "id": "xkpZ1BurdWJN",
        "outputId": "c6236020-2e43-4363-8feb-c2e37249d457"
      },
      "execution_count": null,
      "outputs": [
        {
          "output_type": "execute_result",
          "data": {
            "text/plain": [
              "[1, 2, 3, 4, 5, 6, 7, 8, 9, 10]"
            ]
          },
          "metadata": {},
          "execution_count": 42
        }
      ]
    },
    {
      "cell_type": "code",
      "source": [
        "list(map(lambda x: x+1,a))"
      ],
      "metadata": {
        "colab": {
          "base_uri": "https://localhost:8080/"
        },
        "id": "1zp_ydQSdb3A",
        "outputId": "9216aea4-ecad-48c1-8f51-64efb29e8e17"
      },
      "execution_count": null,
      "outputs": [
        {
          "output_type": "execute_result",
          "data": {
            "text/plain": [
              "[2, 3, 4, 5, 6, 7, 8, 9, 10, 11]"
            ]
          },
          "metadata": {},
          "execution_count": 45
        }
      ]
    },
    {
      "cell_type": "code",
      "source": [
        "list(map(lambda x: str(x),a))"
      ],
      "metadata": {
        "colab": {
          "base_uri": "https://localhost:8080/"
        },
        "id": "1c9zE_eWd-7g",
        "outputId": "e945a6f6-0914-47f8-b94f-965d33109f15"
      },
      "execution_count": null,
      "outputs": [
        {
          "output_type": "execute_result",
          "data": {
            "text/plain": [
              "['1', '2', '3', '4', '5', '6', '7', '8', '9', '10']"
            ]
          },
          "metadata": {},
          "execution_count": 46
        }
      ]
    },
    {
      "cell_type": "code",
      "source": [
        "list(map(lambda x: str(x) if x%2==0 else x, a))\n",
        "\n",
        "\n",
        "# a에 저장된 리스트의 각 요소를 x에 전달한 다음\n",
        "# x에 저장된 값이 짝수 이면 str함수를 홀수이면 x값을 출력\n"
      ],
      "metadata": {
        "colab": {
          "base_uri": "https://localhost:8080/"
        },
        "id": "09uiNoSOe-Pj",
        "outputId": "56aebf90-8293-491a-88b8-f3b5d7ffc85e"
      },
      "execution_count": null,
      "outputs": [
        {
          "output_type": "execute_result",
          "data": {
            "text/plain": [
              "[1, '2', 3, '4', 5, '6', 7, '8', 9, '10']"
            ]
          },
          "metadata": {},
          "execution_count": 48
        }
      ]
    },
    {
      "cell_type": "code",
      "source": [
        "list(map(lambda x: x*2 if x>5 else x, a))"
      ],
      "metadata": {
        "colab": {
          "base_uri": "https://localhost:8080/"
        },
        "id": "OcVyiEIzffnl",
        "outputId": "10f68883-012a-4a30-9242-ea7e2119c46b"
      },
      "execution_count": null,
      "outputs": [
        {
          "output_type": "execute_result",
          "data": {
            "text/plain": [
              "[1, 2, 3, 4, 5, 12, 14, 16, 18, 20]"
            ]
          },
          "metadata": {},
          "execution_count": 50
        }
      ]
    },
    {
      "cell_type": "code",
      "source": [
        "list(map(lambda x: x if x!=3 else float(3),a))"
      ],
      "metadata": {
        "colab": {
          "base_uri": "https://localhost:8080/"
        },
        "id": "NOJULe58gDUU",
        "outputId": "3a8842fb-48c6-4867-a02a-0f3ede976602"
      },
      "execution_count": null,
      "outputs": [
        {
          "output_type": "execute_result",
          "data": {
            "text/plain": [
              "[1, 2, 3.0, 4, 5, 6, 7, 8, 9, 10]"
            ]
          },
          "metadata": {},
          "execution_count": 53
        }
      ]
    },
    {
      "cell_type": "code",
      "source": [
        "# lambda 매개변수들: 식1 if 조건식1 else 식2 if 조건식2 else 식3"
      ],
      "metadata": {
        "id": "zGW5XTFXg-HS"
      },
      "execution_count": null,
      "outputs": []
    },
    {
      "cell_type": "code",
      "source": [
        "list(map(lambda x: str(x) if x==1 else float(x) if x==2 else x+10, a))"
      ],
      "metadata": {
        "colab": {
          "base_uri": "https://localhost:8080/"
        },
        "id": "QrW2tmOEh1wE",
        "outputId": "37afddf1-8352-4c5e-9344-77c72bbe13d9"
      },
      "execution_count": null,
      "outputs": [
        {
          "output_type": "execute_result",
          "data": {
            "text/plain": [
              "['1', 2.0, 13, 14, 15, 16, 17, 18, 19, 20]"
            ]
          },
          "metadata": {},
          "execution_count": 56
        }
      ]
    },
    {
      "cell_type": "code",
      "source": [
        "#리스트2개 -> 입력 -> 람다함수연산 -> 리스트1개출력\n",
        "a = list(range(1,6))\n",
        "b = list(range(11,16))"
      ],
      "metadata": {
        "id": "aW-7kX8eii1_"
      },
      "execution_count": null,
      "outputs": []
    },
    {
      "cell_type": "code",
      "source": [
        "list(map(lambda x,y: x+y,a,b))"
      ],
      "metadata": {
        "colab": {
          "base_uri": "https://localhost:8080/"
        },
        "id": "inrk1sLL0MvG",
        "outputId": "ed6c16d7-b22d-4600-bc42-20d750b48dd4"
      },
      "execution_count": null,
      "outputs": [
        {
          "output_type": "execute_result",
          "data": {
            "text/plain": [
              "[12, 14, 16, 18, 20]"
            ]
          },
          "metadata": {},
          "execution_count": 61
        }
      ]
    },
    {
      "cell_type": "markdown",
      "source": [
        "#filter"
      ],
      "metadata": {
        "id": "7xB_dXR3mySP"
      }
    },
    {
      "cell_type": "code",
      "source": [
        "#filter(조건에 맞는 데이터요소만 추출)\n",
        "#filter(함수, 리스트.,,)\n",
        "#map(함수, 리스트)"
      ],
      "metadata": {
        "id": "Oesyteht05SO"
      },
      "execution_count": null,
      "outputs": []
    },
    {
      "cell_type": "code",
      "source": [
        "def cum(x,y):\n",
        "  return x+y\n",
        "from functools import reduce\n",
        "\n",
        "reduce(cum,a)"
      ],
      "metadata": {
        "colab": {
          "base_uri": "https://localhost:8080/"
        },
        "id": "UWFum2sh2Ie0",
        "outputId": "45a27419-0597-483e-de2e-ef37aa441629"
      },
      "execution_count": null,
      "outputs": [
        {
          "output_type": "execute_result",
          "data": {
            "text/plain": [
              "15"
            ]
          },
          "metadata": {},
          "execution_count": 65
        }
      ]
    },
    {
      "cell_type": "code",
      "source": [
        "a=[i for i in a if 10<=i<=14]\n",
        "list(filter(lambda x:10 <=x<=14, a))\n",
        "\n",
        "# [10, 12, 14] 출력\n",
        "list(filter(lambda x: x > 8 and x < 16 , a))"
      ],
      "metadata": {
        "colab": {
          "base_uri": "https://localhost:8080/"
        },
        "id": "XvgeCLzE7Lb9",
        "outputId": "f0579ec6-0039-4bcc-a0f9-86f6cf59362b"
      },
      "execution_count": null,
      "outputs": [
        {
          "output_type": "execute_result",
          "data": {
            "text/plain": [
              "[]"
            ]
          },
          "metadata": {},
          "execution_count": 70
        }
      ]
    },
    {
      "cell_type": "code",
      "source": [
        "#filter함수\n",
        "#list내포 []"
      ],
      "metadata": {
        "id": "yvZuAtLE4RJM"
      },
      "execution_count": null,
      "outputs": []
    },
    {
      "cell_type": "code",
      "source": [
        "x=1   #전역변수: 함수 바깥에서 선언된 변수, 전체코드에서 참조 가능\n",
        "def aaa():\n",
        "  print(x)\n",
        "aaa()\n",
        "print(x)\n",
        "#변수를 선언하면 함수 내부에서도 사용가능"
      ],
      "metadata": {
        "colab": {
          "base_uri": "https://localhost:8080/"
        },
        "id": "agVqbTJv7he4",
        "outputId": "eb1c2b34-e360-411c-c160-eb89ca437a18"
      },
      "execution_count": null,
      "outputs": [
        {
          "output_type": "stream",
          "name": "stdout",
          "text": [
            "1\n",
            "1\n"
          ]
        }
      ]
    },
    {
      "cell_type": "code",
      "source": [
        "def bbb():\n",
        "  k=5   #지역변수\n",
        "  print(k)\n",
        "bbb()\n",
        "#print(k)"
      ],
      "metadata": {
        "colab": {
          "base_uri": "https://localhost:8080/"
        },
        "id": "mrVbu_T17rzZ",
        "outputId": "31bd45d6-cd89-4f39-ea59-d9567fc200b5"
      },
      "execution_count": null,
      "outputs": [
        {
          "output_type": "stream",
          "name": "stdout",
          "text": [
            "5\n"
          ]
        }
      ]
    },
    {
      "cell_type": "code",
      "source": [
        "def ccc():\n",
        "  global k\n",
        "  k=5   #지역변수\n",
        "  print(k)\n",
        "ccc()\n",
        "print(k)"
      ],
      "metadata": {
        "colab": {
          "base_uri": "https://localhost:8080/"
        },
        "id": "vTOy2ZKB8PpJ",
        "outputId": "5f0b73f0-9243-4cac-d660-ba8b2da7357b"
      },
      "execution_count": null,
      "outputs": [
        {
          "output_type": "stream",
          "name": "stdout",
          "text": [
            "5\n",
            "5\n"
          ]
        }
      ]
    },
    {
      "cell_type": "code",
      "source": [
        "def ddd():\n",
        "  msg='hello'\n",
        "  def eee():\n",
        "    print(msg)\n",
        "  eee()"
      ],
      "metadata": {
        "id": "FOwwQWEK89ek"
      },
      "execution_count": null,
      "outputs": []
    },
    {
      "cell_type": "code",
      "source": [
        "ddd()"
      ],
      "metadata": {
        "colab": {
          "base_uri": "https://localhost:8080/"
        },
        "id": "ScM-Xv3B9kSU",
        "outputId": "4e52cd3b-7852-418a-c5d2-749d8b093d78"
      },
      "execution_count": null,
      "outputs": [
        {
          "output_type": "stream",
          "name": "stdout",
          "text": [
            "hello\n"
          ]
        }
      ]
    },
    {
      "cell_type": "markdown",
      "source": [],
      "metadata": {
        "id": "QChiTGjpnEXa"
      }
    },
    {
      "cell_type": "markdown",
      "source": [
        "# class"
      ],
      "metadata": {
        "id": "l1y0L6sXm6PG"
      }
    },
    {
      "cell_type": "code",
      "source": [
        "class Car:\n",
        "  def drive(self):\n",
        "    print('붕붕')\n",
        "  hp=4000"
      ],
      "metadata": {
        "id": "mPmAXOXG9lIh"
      },
      "execution_count": null,
      "outputs": []
    },
    {
      "cell_type": "code",
      "source": [
        "gran=Car()"
      ],
      "metadata": {
        "id": "_70TF1PtFGIi"
      },
      "execution_count": null,
      "outputs": []
    },
    {
      "cell_type": "code",
      "source": [
        "gran.hp"
      ],
      "metadata": {
        "colab": {
          "base_uri": "https://localhost:8080/"
        },
        "id": "ZgpCxJPQFIGo",
        "outputId": "fb2aa9ce-d2cc-4db7-e3d2-d8375f793db1"
      },
      "execution_count": null,
      "outputs": [
        {
          "output_type": "execute_result",
          "data": {
            "text/plain": [
              "3000"
            ]
          },
          "metadata": {},
          "execution_count": 86
        }
      ]
    },
    {
      "cell_type": "code",
      "source": [
        "type(gran)"
      ],
      "metadata": {
        "colab": {
          "base_uri": "https://localhost:8080/"
        },
        "id": "dgD2chGHFU4c",
        "outputId": "1273a924-5959-4d87-f950-6f482d72060e"
      },
      "execution_count": null,
      "outputs": [
        {
          "output_type": "execute_result",
          "data": {
            "text/plain": [
              "__main__.Car"
            ]
          },
          "metadata": {},
          "execution_count": 83
        }
      ]
    },
    {
      "cell_type": "code",
      "source": [
        "#클래스 정의\n",
        "class  Car:\n",
        "    def drive(self):\n",
        "        print(\"자동차가 달립니다\")\n",
        "    def print_msg(self):\n",
        "        self.drive()\n",
        "    hp=3000"
      ],
      "metadata": {
        "id": "8nVN1ujfF7w5"
      },
      "execution_count": null,
      "outputs": []
    },
    {
      "cell_type": "code",
      "source": [
        "gran.drive()\n",
        "gran.print_msg()"
      ],
      "metadata": {
        "colab": {
          "base_uri": "https://localhost:8080/"
        },
        "id": "OO4pSIrpGH2d",
        "outputId": "ad07792c-2a8a-4b1d-8ea0-dfcfd364b269"
      },
      "execution_count": null,
      "outputs": [
        {
          "output_type": "stream",
          "name": "stdout",
          "text": [
            "자동차가 달립니다\n",
            "자동차가 달립니다\n"
          ]
        }
      ]
    },
    {
      "cell_type": "code",
      "source": [
        "class Person:\n",
        "  def hello(self):\n",
        "    print('hello 함수를 호출함')"
      ],
      "metadata": {
        "id": "Wkxj-UzTGlpg"
      },
      "execution_count": null,
      "outputs": []
    },
    {
      "cell_type": "code",
      "source": [
        "print(Person())"
      ],
      "metadata": {
        "colab": {
          "base_uri": "https://localhost:8080/"
        },
        "id": "r8qxd3ySHiY2",
        "outputId": "0eefb133-6b40-4f1b-fed0-c64e53d44e29"
      },
      "execution_count": null,
      "outputs": [
        {
          "output_type": "stream",
          "name": "stdout",
          "text": [
            "<__main__.Person object at 0x7c1e1df5e110>\n"
          ]
        }
      ]
    },
    {
      "cell_type": "code",
      "source": [
        "class Person:\n",
        "    def hello(self):    #객체를 생성한 다음, 객체를 통해 호출\n",
        "        print(\"hello 함수를 호출했습니다\")\n",
        "    def __init__(self):#객체가 생성되는 시점에 자동호출\n",
        "        self.mymsg=\"반갑습니다\"\n",
        "        print('잘가세')"
      ],
      "metadata": {
        "id": "n41bjvWCHmqH"
      },
      "execution_count": null,
      "outputs": []
    },
    {
      "cell_type": "code",
      "source": [
        "ikj = Person()      #person클래스로부터 객체가 생성되면 자동으로 __init__메서드호출"
      ],
      "metadata": {
        "colab": {
          "base_uri": "https://localhost:8080/"
        },
        "id": "IIHF20XYJchY",
        "outputId": "33778fff-af67-4e12-c269-d2e84889f8a4"
      },
      "execution_count": null,
      "outputs": [
        {
          "output_type": "stream",
          "name": "stdout",
          "text": [
            "잘가\n"
          ]
        }
      ]
    },
    {
      "cell_type": "code",
      "source": [
        "ikj.mymsg()"
      ],
      "metadata": {
        "colab": {
          "base_uri": "https://localhost:8080/",
          "height": 147
        },
        "id": "0iCwp3HjJhzW",
        "outputId": "6786af89-94e4-446d-9f34-b8c8b69e5b65"
      },
      "execution_count": null,
      "outputs": [
        {
          "output_type": "error",
          "ename": "TypeError",
          "evalue": "'str' object is not callable",
          "traceback": [
            "\u001b[0;31m---------------------------------------------------------------------------\u001b[0m",
            "\u001b[0;31mTypeError\u001b[0m                                 Traceback (most recent call last)",
            "\u001b[0;32m<ipython-input-104-98a5c5d2bb6a>\u001b[0m in \u001b[0;36m<cell line: 1>\u001b[0;34m()\u001b[0m\n\u001b[0;32m----> 1\u001b[0;31m \u001b[0mikj\u001b[0m\u001b[0;34m.\u001b[0m\u001b[0mmymsg\u001b[0m\u001b[0;34m(\u001b[0m\u001b[0;34m)\u001b[0m\u001b[0;34m\u001b[0m\u001b[0;34m\u001b[0m\u001b[0m\n\u001b[0m",
            "\u001b[0;31mTypeError\u001b[0m: 'str' object is not callable"
          ]
        }
      ]
    },
    {
      "cell_type": "code",
      "source": [
        "p=Person()\n",
        "p.hello()"
      ],
      "metadata": {
        "colab": {
          "base_uri": "https://localhost:8080/"
        },
        "id": "sKLMULBCJpWA",
        "outputId": "74f33cbb-bb82-46c2-e55d-c6a17f0594c3"
      },
      "execution_count": null,
      "outputs": [
        {
          "output_type": "stream",
          "name": "stdout",
          "text": [
            "잘가\n",
            "hello 함수를 호출했습니다\n"
          ]
        }
      ]
    },
    {
      "cell_type": "code",
      "source": [
        "class Person:\n",
        "    def hello(self):    #메서드(함수)\n",
        "        print(\"hello 함수를 호출했습니다\")\n",
        "        print('저의 이름은 {0}이며, 나이는 {1}입니다.'.format(self.name,self.age))\n",
        "    def __init__(self, na,ag,addr):   #자동호출\n",
        "        self.mymsg=\"반갑습니다\"\n",
        "        print('잘가세요')\n",
        "        self.name=na      #속성\n",
        "        self.age=ag\n",
        "        self.address=addr"
      ],
      "metadata": {
        "id": "QPWknUoHKrs4"
      },
      "execution_count": null,
      "outputs": []
    },
    {
      "cell_type": "code",
      "source": [
        "hgd = Person('홍길동', 25, '서울시')    #객체생성"
      ],
      "metadata": {
        "colab": {
          "base_uri": "https://localhost:8080/"
        },
        "id": "gol79j6TOZrk",
        "outputId": "757729e5-796c-4315-d4a5-b799b56e7ee9"
      },
      "execution_count": null,
      "outputs": [
        {
          "output_type": "stream",
          "name": "stdout",
          "text": [
            "잘가세요\n"
          ]
        }
      ]
    },
    {
      "cell_type": "code",
      "source": [
        "hgd.hello()"
      ],
      "metadata": {
        "colab": {
          "base_uri": "https://localhost:8080/"
        },
        "id": "DaA218yePN1T",
        "outputId": "db31dd73-9836-468c-c5b1-0cca063c98f0"
      },
      "execution_count": null,
      "outputs": [
        {
          "output_type": "stream",
          "name": "stdout",
          "text": [
            "hello 함수를 호출했습니다\n",
            "저의 이름은 홍길동이며, 나이는 25입니다.\n"
          ]
        }
      ]
    },
    {
      "cell_type": "code",
      "source": [
        "hgd.address"
      ],
      "metadata": {
        "colab": {
          "base_uri": "https://localhost:8080/",
          "height": 35
        },
        "id": "rjUnIvslPsw9",
        "outputId": "256780e4-4bce-440a-fc14-cdb5f0f1553b"
      },
      "execution_count": null,
      "outputs": [
        {
          "output_type": "execute_result",
          "data": {
            "text/plain": [
              "'서울시'"
            ],
            "application/vnd.google.colaboratory.intrinsic+json": {
              "type": "string"
            }
          },
          "metadata": {},
          "execution_count": 111
        }
      ]
    },
    {
      "cell_type": "code",
      "source": [
        "class Animal:\n",
        "  def __init__(self,nl,ag,sp):\n",
        "    self.num_leg=nl\n",
        "    self.age=ag\n",
        "    self.species=sp\n",
        "    print('객체 초기화 함수init가 호출되었습니다')\n",
        "  def sleep(self):\n",
        "    print('{} 종류의 동물이며 {}개의 다리를 가지고 있습니다.'.format(self.species,self.num_leg))"
      ],
      "metadata": {
        "id": "4HiELlbMP7cB"
      },
      "execution_count": null,
      "outputs": []
    },
    {
      "cell_type": "code",
      "source": [
        "puppy=Animal(4, 20, 'Mammalia')   #puppy객체 호출"
      ],
      "metadata": {
        "colab": {
          "base_uri": "https://localhost:8080/"
        },
        "id": "9UU9uQqgRHAr",
        "outputId": "b5f2b5d6-08fc-46ad-c347-ba73dcc250db"
      },
      "execution_count": null,
      "outputs": [
        {
          "output_type": "stream",
          "name": "stdout",
          "text": [
            "객체 초기화 함수init가 호출되었습니다\n"
          ]
        }
      ]
    },
    {
      "cell_type": "code",
      "source": [
        "puppy.sleep()"
      ],
      "metadata": {
        "colab": {
          "base_uri": "https://localhost:8080/"
        },
        "id": "2wKQn_gwRZWA",
        "outputId": "a7a53537-7867-4420-be99-2573c44713c5"
      },
      "execution_count": null,
      "outputs": [
        {
          "output_type": "stream",
          "name": "stdout",
          "text": [
            "Mammalia 종류의 동물이며 4개의 다리를 가지고 있습니다.\n"
          ]
        }
      ]
    },
    {
      "cell_type": "code",
      "source": [
        "baduki=Animal(4,20,'Mammalia')"
      ],
      "metadata": {
        "colab": {
          "base_uri": "https://localhost:8080/"
        },
        "id": "iJ5UcNs_SK_q",
        "outputId": "99754349-c86f-4ba9-967b-09e7aa22699c"
      },
      "execution_count": null,
      "outputs": [
        {
          "output_type": "stream",
          "name": "stdout",
          "text": [
            "객체 초기화 함수init가 호출되었습니다\n"
          ]
        }
      ]
    },
    {
      "cell_type": "code",
      "source": [
        "baduki.sleep()"
      ],
      "metadata": {
        "colab": {
          "base_uri": "https://localhost:8080/"
        },
        "id": "PIsPuSRJShNh",
        "outputId": "13e217b5-0969-42f6-a071-494cfdc42752"
      },
      "execution_count": null,
      "outputs": [
        {
          "output_type": "stream",
          "name": "stdout",
          "text": [
            "Mammalia 종류의 동물이며 4개의 다리를 가지고 있습니다.\n"
          ]
        }
      ]
    },
    {
      "cell_type": "code",
      "source": [],
      "metadata": {
        "id": "7Ak31BJhSjsv"
      },
      "execution_count": null,
      "outputs": []
    },
    {
      "cell_type": "markdown",
      "source": [
        "# 과제"
      ],
      "metadata": {
        "id": "B1LRaKT9WYfE"
      }
    },
    {
      "cell_type": "code",
      "source": [
        "# 1\n",
        "# for문과 range 구문을 사용해서 0~99까지 한 라인에 하나씩 순차적으로 출력하는 프로그램을 작성하라.\n",
        "\n",
        "for i in range(100):\n",
        "  print(i,sep='\\n')\n",
        "\n",
        "\n",
        "# 2\n",
        "# 월드컵은 4년에 한 번 개최된다. range()를 사용하여 2002~2050년까지 중 월드컵이 개최되는 연도를 출력하라.\n",
        "\n",
        "# 2002\n",
        "# 2006\n",
        "# 2010\n",
        "# ...\n",
        "# 2042\n",
        "# 2046\n",
        "# 2050\n",
        "# 참고) range의 세번 째 파라미터는 증감폭을 결정합니다.\n",
        "\n",
        "# >> print(list(range(0, 10, 2)))\n",
        "# [0, 2, 4, 6, 8]\n",
        "\n",
        "lst = [i for i in range(2002,2051) if ((i-2002)%4==0)]\n",
        "lst\n",
        "\n",
        "\n",
        "# 3\n",
        "# for문을 사용해서 아래와 같이 출력하라.\n",
        "\n",
        "# 0.0\n",
        "# 0.1\n",
        "# 0.2\n",
        "# 0.3\n",
        "# 0.4\n",
        "# 0.5\n",
        "# ...\n",
        "# 0.9\n",
        "\n",
        "for i in range (10):\n",
        "  num=0.1*i\n",
        "  print(f'{num:0.1f}')\n",
        "\n",
        "\n",
        "# 4\n",
        "# 구구단 3단을 출력하라.\n",
        "\n",
        "# 3x1 = 3\n",
        "# 3x2 = 6\n",
        "# 3x3 = 9\n",
        "# 3x4 = 12\n",
        "# 3x5 = 15\n",
        "# 3x6 = 18\n",
        "# 3x7 = 21\n",
        "# 3x8 = 24\n",
        "# 3x9 = 27\n",
        "\n",
        "for i in range(1,10):\n",
        "  print('3x{}={}'.format(i,i*3))\n",
        "\n",
        "\n",
        "# 5\n",
        "# 구구단 3단을 출력하라. 단 홀수 번째만 출력한다.\n",
        "\n",
        "# 3x1 = 3\n",
        "# 3x3 = 9\n",
        "# 3x5 = 15\n",
        "# 3x7 = 21\n",
        "# 3x9 = 27\n",
        "\n",
        "for i in range(1,10):\n",
        "  if i%2==1:\n",
        "    print('3x{}={}'.format(i,i*3))\n",
        "\n",
        "# 6\n",
        "# my_list를 아래와 같이 출력하라.\n",
        "\n",
        "# my_list = [\"가\", \"나\", \"다\", \"라\"]\n",
        "# 가 나\n",
        "# 나 다\n",
        "# 다 라\n",
        "\n",
        "my_list = [\"가\", \"나\", \"다\", \"라\"]\n",
        "for i in range(len(my_list)-1):\n",
        "  print(my_list[i],my_list[i+1])\n",
        "\n",
        "\n",
        "# 7\n",
        "# 리스트를 아래와 같이 출력하라.\n",
        "\n",
        "# my_list = [\"가\", \"나\", \"다\", \"라\", \"마\"]\n",
        "# 가 나 다\n",
        "# 나 다 라\n",
        "# 다 라 마\n",
        "\n",
        "my_list = [\"가\", \"나\", \"다\", \"라\", \"마\"]\n",
        "for i in range(len(my_list)-2):\n",
        "  print(my_list[i],my_list[i+1],my_list[i+2])\n",
        "\n",
        "\n",
        "# 8\n",
        "# 반복문과 range 함수를 사용해서 my_list를 아래와 같이 출력하라.\n",
        "\n",
        "# my_list = [\"가\", \"나\", \"다\", \"라\"]\n",
        "# 라 다\n",
        "# 다 나\n",
        "# 나 가\n",
        "\n",
        "\n",
        "my_list = [\"가\", \"나\", \"다\", \"라\"]\n",
        "re = list(reversed(my_list))      #리스트를 역순으로 바꾼 뒤 6번과 같은 패턴\n",
        "for i in range(len(my_list)-1):\n",
        "  print(re[i],re[i+1])\n",
        "\n",
        "\n",
        "# 9\n",
        "# 리스트에는 네 개의 정수가 저장되어 있다. 각각의 데이터에 대해서 자신과 우측값과의 차분값을 화면에 출력하라.\n",
        "\n",
        "# my_list = [100, 200, 400, 800]\n",
        "# 예를들어 100을 기준으로 우측에 위치한 200과의 차분 값를 화면에 출력하고, 200을 기준으로 우측에 위치한 400과의 차분값을 화면에 출력한다.\n",
        "# 이어서 400을 기준으로 우측에 위치한 800과의 차분값을 화면에 출력한다.\n",
        "\n",
        "# 100\n",
        "# 200\n",
        "# 400\n",
        "\n",
        "my_list = [100, 200, 400, 800]\n",
        "for i in range(len(my_list)-1):\n",
        "  print(my_list[i+1]-my_list[i])\n",
        "\n",
        "# 10\n",
        "# 리스트에는 6일 간의 종가 데이터가 저장되어 있다. 종가 데이터의 3일 이동 평균을 계산하고 이를 화면에 출력하라.\n",
        "\n",
        "# my_list = [100, 200, 400, 800, 1000, 1300]\n",
        "# 첫 번째 줄에는 100, 200, 400의 평균값이 출력된다. 두 번째 줄에는 200, 400, 800의 평균값이 출력된다. 같은 방식으로 나머지 데이터의 평균을 출력한다.\n",
        "\n",
        "# 233.33333333333334\n",
        "# 466.6666666666667\n",
        "# 733.3333333333334\n",
        "# 1033.3333333333333\n",
        "\n",
        "my_list = [100, 200, 400, 800, 1000, 1300]\n",
        "for i in range(len(my_list)-2):\n",
        "  avg=(my_list[i]+my_list[i+1]+my_list[i+2])/3\n",
        "  print(avg)\n",
        "\n",
        "# 11\n",
        "# 리스트에 5일간의 저가, 고가 정보가 저장돼 있다. 고가와 저가의 차를 변동폭이라고 정의할 때, low, high 두 개의 리스트를 사용해서 5일간의 변동폭을\n",
        "# volatility 리스트에 저장하라.\n",
        "\n",
        "low_prices  = [100, 200, 400, 800, 1000]\n",
        "high_prices = [150, 300, 430, 880, 1000]\n",
        "\n",
        "volatility = list(map(lambda x,y :y-x,low_prices,high_prices))\n",
        "volatility\n",
        "\n",
        "\n",
        "# 12\n",
        "# data에는 매수한 종목들의 OHLC (open/high/low/close) 가격 정보가 바인딩 되어있다.\n",
        "\n",
        "data = [\n",
        "    [ 2000,  3050,  2050,  1980],\n",
        "    [ 7500,  2050,  2050,  1980],\n",
        "    [15450, 15050, 15550, 14900]\n",
        "]\n",
        "# 주식 매매 수수료를 0.014 %로 가정할 때, 수수료를 포함한 가격을 한라인에 하나씩 출력하라.\n",
        "\n",
        "# 2000.28\n",
        "# 3050.427\n",
        "# 2050.2870000000003\n",
        "# ...\n",
        "\n",
        "for i in range(len(data)):\n",
        "  for j in range(len(data[i][:])):\n",
        "    print(data[i][j]*1.00014)\n",
        "\n",
        "\n",
        "# 13\n",
        "# 12번의 출력 결과에 행단위로 \"----\" 구분자를 추가하라.\n",
        "\n",
        "# 2000.28\n",
        "# 3050.427\n",
        "# 2050.2870000000003\n",
        "# 1980.2772\n",
        "# ----\n",
        "# 7501.05\n",
        "# 2050.2870000000003\n",
        "# 2050.2870000000003\n",
        "# 1980.2772\n",
        "# ----\n",
        "# 15452.163\n",
        "# 15052.107\n",
        "# 15552.177\n",
        "# 14902.086000000001\n",
        "# ----\n",
        "\n",
        "for i in range(len(data)):\n",
        "  for j in range(len(data[i][:])):\n",
        "    print(data[i][j]*1.00014)\n",
        "  print(\"----\")\n",
        "\n",
        "\n",
        "# 14\n",
        "# 12 번 문제의 결괏값을 result 이름의 리스트에 1차원 배열로 저장하라.\n",
        "\n",
        "# >> print(result)\n",
        "# [2000.28, 3050.427, 2050.2870000000003, 1980.2772, 7501.05, 2050.2870000000003, 2050.2870000000003, ...]\n",
        "\n",
        "result = []\n",
        "for i in range(len(data)):\n",
        "  for j in range(len(data[i][:])):\n",
        "    result.append(data[i][j]*1.00014)\n",
        "result"
      ],
      "metadata": {
        "colab": {
          "base_uri": "https://localhost:8080/"
        },
        "id": "SP2EpwxQcll6",
        "outputId": "702787dc-ea13-472e-9a26-325c53ef4e3e"
      },
      "execution_count": null,
      "outputs": [
        {
          "output_type": "stream",
          "name": "stdout",
          "text": [
            "3x1=3\n",
            "3x3=9\n",
            "3x5=15\n",
            "3x7=21\n",
            "3x9=27\n"
          ]
        }
      ]
    },
    {
      "cell_type": "code",
      "source": [],
      "metadata": {
        "colab": {
          "base_uri": "https://localhost:8080/"
        },
        "id": "myNZSd7SdiIJ",
        "outputId": "75b1b99e-5f76-4c15-e767-a4ad50ff0b2a"
      },
      "execution_count": null,
      "outputs": [
        {
          "output_type": "stream",
          "name": "stdout",
          "text": [
            "라 다\n",
            "다 나\n",
            "나 가\n"
          ]
        }
      ]
    },
    {
      "cell_type": "code",
      "source": [
        "\n",
        "\n"
      ],
      "metadata": {
        "id": "qTeRDRlNvMnK"
      },
      "execution_count": null,
      "outputs": []
    },
    {
      "cell_type": "code",
      "source": [
        "# 15\n",
        "# ohlc 리스트에는 시가(open), 고가 (high), 저가 (low) , 종가(close)가 날짜별로 저장돼 있다. 화면에 종가를 출력하라.\n",
        "\n",
        "ohlc = [[\"open\", \"high\", \"low\", \"close\"],\n",
        "        [100, 110, 70, 100],\n",
        "        [200, 210, 180, 190],\n",
        "        [300, 310, 300, 310]]\n",
        "# 100\n",
        "# 190\n",
        "# 310\n",
        "\n",
        "for i in range(len(ohlc)):\n",
        "  for j in range(len(ohlc[i][:])):\n",
        "    if i!=0 and j==3:\n",
        "      print(ohlc[i][j])\n",
        "\n",
        "\n",
        "# 16\n",
        "# ohlc 리스트에는 시가(open), 고가 (high), 저가 (low) , 종가(close)가 날짜별로 저장돼 있다. 종가가 150원보다 큰경우에만 종가를 출력하라.\n",
        "\n",
        "# ohlc = [[\"open\", \"high\", \"low\", \"close\"],\n",
        "#         [100, 110, 70, 100],\n",
        "#         [200, 210, 180, 190],\n",
        "#         [300, 310, 300, 310]]\n",
        "# 190\n",
        "# 310\n",
        "\n",
        "for i in range(1,len(ohlc)):\n",
        "  if ohlc[i][3]>150:\n",
        "        print(ohlc[i][3])\n",
        "\n",
        "\n",
        "# 17\n",
        "# ohlc 리스트에는 시가(open), 고가 (high), 저가 (low) , 종가(close)가 날짜별로 저장돼 있다.\n",
        "# 종가가 시가 보다 크거나 같은 경우에만 종가를 출력하라.\n",
        "\n",
        "# ohlc = [[\"open\", \"high\", \"low\", \"close\"],\n",
        "#         [100, 110, 70, 100],\n",
        "#         [200, 210, 180, 190],\n",
        "#         [300, 310, 300, 310]]\n",
        "# 100\n",
        "# 310\n",
        "\n",
        "for i in range(1,len(ohlc)):\n",
        "  if ohlc[i][3]>=ohlc[i][0]:\n",
        "    print(ohlc[i][3])\n",
        "\n",
        "\n",
        "# 18\n",
        "# ohlc 리스트에는 시가(open), 고가 (high), 저가 (low) , 종가(close)가 날짜별로 저장돼 있다.\n",
        "# 고가와 저가의 차이를 변동폭으로 정의할 때 변동폭을 volatility 이름의 리스트에 저장하라.\n",
        "\n",
        "# ohlc = [[\"open\", \"high\", \"low\", \"close\"],\n",
        "#         [100, 110, 70, 100],\n",
        "#         [200, 210, 180, 190],\n",
        "#         [300, 310, 300, 310]]\n",
        "# >> print(volatility)\n",
        "# [40, 30, 10]\n",
        "\n",
        "\n",
        "volatility = []\n",
        "for i in range(1,len(ohlc)):\n",
        "    cha =ohlc[i][1]-ohlc[i][2]\n",
        "    volatility.append(cha)\n",
        "print(volatility)\n",
        "\n",
        "\n",
        "# 19\n",
        "# 리스트에는 3일 간의 ohlc 데이터가 저장돼 있다. 종가가 시가보다 높은 날의 변동성 (고가 - 저가)을 화면에 출력하라.\n",
        "\n",
        "# ohlc = [[\"open\", \"high\", \"low\", \"close\"],\n",
        "#         [100, 110, 70, 100],\n",
        "#         [200, 210, 180, 190],\n",
        "#         [300, 310, 300, 310]]\n",
        "# 종가가 시가보다 높은 날은 [300, 310, 300, 310] 이다. 이때 변동성은 10 (310 - 300)이다.\n",
        "\n",
        "for i in range(1,len(ohlc)):\n",
        "    if ohlc[i][3]>ohlc[i][0]:\n",
        "      print('변동성 {}({}-{})'.format(ohlc[i][3]-ohlc[i][0],ohlc[i][3],ohlc[i][0]))\n",
        "\n",
        "\n",
        "# 20\n",
        "# 리스트에는 3일 간의 ohlc 데이터가 저장돼 있다. 시가에 매수해서 종가에 매도 했을 경우 수익금을 계산하라.\n",
        "\n",
        "# ohlc = [[\"open\", \"high\", \"low\", \"close\"],\n",
        "#         [100, 110, 70, 100],\n",
        "#         [200, 210, 180, 190],\n",
        "#         [300, 310, 300, 310]]\n",
        "# 1일차 수익 0원 (100 - 100), 2일차 수익 -10원 (190 - 200), 3일차 수익 10원 (310 - 300) 이다.\n",
        "\n",
        "for i in range(1,len(ohlc)):\n",
        "  print('{}일차 수익 {}원 ({}-{})'.format(i,ohlc[i][3]-ohlc[i][0],ohlc[i][3],ohlc[i][0]))\n",
        "print('이다')\n",
        "\n",
        "\n",
        "# 21\n",
        "# 파이스탁의 주가가 1,000원이다. 50일 연속 상한가 (30%)를 기록했을 때의 금액을 출력하라.\n",
        "# 단, 문제를 간단히 하기 위해 원단위 절사는 하지 않는다.\n",
        "\n",
        "# 497929222.9791276\n",
        "\n",
        "pyst = 1000\n",
        "for i in range(50):\n",
        "   pyst=pyst*1.3\n",
        "print(pyst)\n",
        "\n",
        "\n",
        "# 22\n",
        "# 리스트에 저장된 수 중에서 짝수들의 합을 출력하라.\n",
        "\n",
        "my_list = [20, 38, 41, 50, 2, 4, 3, 4, 5, 8, 9, 10]\n",
        "# 136\n",
        "\n",
        "hap = 0\n",
        "for n in my_list:\n",
        "  if n%2==0:\n",
        "    hap+=n\n",
        "hap\n",
        "\n",
        "\n",
        "# 23\n",
        "# 리스트에 저장된 수 중에서 짝수들의 합을 출력하라.\n",
        "\n",
        "my_list = [ [20, 38], [41, 50], [2, 4], [3, 4], [5, 8], [9, 10] ]\n",
        "# 136\n",
        "\n",
        "hap = 0\n",
        "for i in range(len(my_list)):\n",
        "  for j in  range(len(my_list[0])):\n",
        "    if my_list[i][j]%2==0:\n",
        "      hap+=my_list[i][j]\n",
        "\n",
        "hap\n",
        "\n",
        "# 24\n",
        "# For문을 사용하여 아래와 같은 패턴의 별(*)을 출력하는 프로그램을 작성하라.\n",
        "\n",
        "# ***\n",
        "#  **\n",
        "#   *\n",
        "\n",
        "for i in range(3):\n",
        "  print(' '*i,'*'*(3-i))\n",
        "\n",
        "\n",
        "# 25\n",
        "# 다음과 같은 패턴의 별(*)을 출력하는 프로그램을 작성하라.\n",
        "\n",
        "# *\n",
        "# **\n",
        "# ***\n",
        "# ****\n",
        "# *****\n",
        "# ****\n",
        "# ***\n",
        "# **\n",
        "# *\n",
        "\n",
        "def star(s):\n",
        "  if s==0:\n",
        "    return\n",
        "  print('*'*(5-s))\n",
        "  s-=1\n",
        "  star(s)\n",
        "  print('*'*(5-s))\n",
        "\n",
        "star(5)\n",
        "\n",
        "\n",
        "# 26\n",
        "# 다음과 같은 패턴의 별(*)을 출력하는 프로그램을 작성하라.\n",
        "\n",
        "# *****\n",
        "#  ****\n",
        "#   ***\n",
        "#    **\n",
        "#     *\n",
        "#     *\n",
        "#    **\n",
        "#   ***\n",
        "#  ****\n",
        "# *****\n",
        "\n",
        "def star(s):\n",
        "  if s==0:\n",
        "    return\n",
        "  print(' '*(5-s),'*'*s)\n",
        "  s-=1\n",
        "  star(s)\n",
        "  print(' '*(4-s),'*'*(s+1))\n",
        "\n",
        "star(5)"
      ],
      "metadata": {
        "colab": {
          "base_uri": "https://localhost:8080/"
        },
        "id": "-JQMX70Qd7_a",
        "outputId": "5d31c320-f3c8-4b1b-ac6c-56344663ed40"
      },
      "execution_count": null,
      "outputs": [
        {
          "output_type": "stream",
          "name": "stdout",
          "text": [
            "100\n",
            "200\n",
            "400\n",
            "233.33333333333334\n",
            "466.6666666666667\n",
            "733.3333333333334\n",
            "1033.3333333333333\n",
            "2000.28\n",
            "3050.427\n",
            "2050.2870000000003\n",
            "1980.2772\n",
            "7501.05\n",
            "2050.2870000000003\n",
            "2050.2870000000003\n",
            "1980.2772\n",
            "15452.163\n",
            "15052.107\n",
            "15552.177\n",
            "14902.086000000001\n",
            "2000.28\n",
            "3050.427\n",
            "2050.2870000000003\n",
            "1980.2772\n",
            "----\n",
            "7501.05\n",
            "2050.2870000000003\n",
            "2050.2870000000003\n",
            "1980.2772\n",
            "----\n",
            "15452.163\n",
            "15052.107\n",
            "15552.177\n",
            "14902.086000000001\n",
            "----\n",
            "100\n",
            "190\n",
            "310\n",
            "190\n",
            "310\n"
          ]
        }
      ]
    },
    {
      "cell_type": "code",
      "source": [
        "# 특별문제\n",
        "# 상자 최대 낙차를 출력하시오.\n",
        "# gravity=[7,4,2,0,0,6,0,7,0]\n",
        "# 답:7\n",
        "\n",
        "gravity=[7,4,2,0,0,6,0,7,0]\n",
        "num_count = 0\n",
        "i=7\n",
        "fall\n",
        "f_fall=0\n",
        "for n in gravity:\n",
        "  if n>=i:\n",
        "    num_count+=1\n",
        "fall = len(gravity)-num_count\n",
        "if fall>f_fall:\n",
        "  f_fall=fall\n",
        "\n",
        "print(f_fall)"
      ],
      "metadata": {
        "colab": {
          "base_uri": "https://localhost:8080/"
        },
        "id": "iWR-m8g53ZkY",
        "outputId": "2d4d4442-8c4b-442b-a29c-52fb70c85cdb"
      },
      "execution_count": null,
      "outputs": [
        {
          "output_type": "stream",
          "name": "stdout",
          "text": [
            "7\n"
          ]
        }
      ]
    },
    {
      "cell_type": "code",
      "source": [
        "gravity=[7,4,2,0,0,6,0,7,0]\n",
        "f_fall=0      #최대낙차\n",
        "for i in range(1,8):    # i는 상자의 높이\n",
        "  if i in gravity:      # i가 gravity의 인자라면\n",
        "    num_count = 0    # 높이가 i인 인자개수\n",
        "    for n in gravity:     # n = gravity 인자\n",
        "      if n>=i:\n",
        "        num_count+=1\n",
        "    fall = len(gravity)-num_count   #그 층의 낙차\n",
        "    if fall>f_fall:\n",
        "      f_fall=fall    #낙차중 최대낙차\n",
        "print(f_fall)"
      ],
      "metadata": {
        "id": "2cAjr6_G48S9",
        "colab": {
          "base_uri": "https://localhost:8080/"
        },
        "outputId": "38150181-a6e2-49b9-a685-9d023efc8d21"
      },
      "execution_count": null,
      "outputs": [
        {
          "output_type": "stream",
          "name": "stdout",
          "text": [
            "7\n"
          ]
        }
      ]
    },
    {
      "cell_type": "code",
      "source": [],
      "metadata": {
        "id": "-k8CGCrRwGhF"
      },
      "execution_count": null,
      "outputs": []
    }
  ]
}