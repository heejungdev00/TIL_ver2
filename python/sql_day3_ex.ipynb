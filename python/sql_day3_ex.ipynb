{
 "cells": [
  {
   "cell_type": "code",
   "execution_count": 10,
   "id": "1c32dff0-aedd-435a-ae8b-5c5e64691f1e",
   "metadata": {},
   "outputs": [],
   "source": [
    "cards1=[\"i\", \"water\", \"drink\"]"
   ]
  },
  {
   "cell_type": "code",
   "execution_count": 11,
   "id": "0437889e-d925-49a7-a697-bf4eafb7e1a3",
   "metadata": {},
   "outputs": [],
   "source": [
    "cards2=[\"want\", \"to\"]"
   ]
  },
  {
   "cell_type": "code",
   "execution_count": 12,
   "id": "c2333975-75fa-4744-8e1d-eb115781e671",
   "metadata": {},
   "outputs": [],
   "source": [
    "goal=[\"i\", \"want\", \"to\", \"drink\", \"water\"]"
   ]
  },
  {
   "cell_type": "code",
   "execution_count": 24,
   "id": "6e85e2a1-6985-40c1-8e57-177c6a5f3172",
   "metadata": {},
   "outputs": [
    {
     "name": "stdin",
     "output_type": "stream",
     "text": [
      "카드 뭉치 1을 입력하세요 (단어 사이에는 공백을 넣어주세요):  i drink water\n",
      "카드 뭉치 2를 입력하세요 (단어 사이에는 공백을 넣어주세요):  want to\n",
      "목표 단어 배열을 입력하세요 (단어 사이에는 공백을 넣어주세요):  i want to drink water\n"
     ]
    },
    {
     "name": "stdout",
     "output_type": "stream",
     "text": [
      "Yes\n"
     ]
    }
   ],
   "source": [
    "def check_goal(cards1,cards2,goal):\n",
    "    i = 0\n",
    "    j = 0\n",
    "\n",
    "    for g in range(len(goal)):\n",
    "        if i < len(cards1) and goal[g] == cards1[i]:\n",
    "            i += 1\n",
    "        elif j < len(cards2) and goal[g] == cards2[j]:\n",
    "            j += 1\n",
    "        else:\n",
    "            print('No')\n",
    "            return\n",
    "    else:\n",
    "        if i == len(cards1) and j == len(cards2):\n",
    "            print('Yes')\n",
    "            return\n",
    "        else:\n",
    "            print('No')\n",
    "            return\n",
    "\n",
    "cards1 = input(\"카드 뭉치 1을 입력하세요 (단어 사이에는 공백을 넣어주세요): \").split()\n",
    "cards2 = input(\"카드 뭉치 2를 입력하세요 (단어 사이에는 공백을 넣어주세요): \").split()\n",
    "goal = input(\"목표 단어 배열을 입력하세요 (단어 사이에는 공백을 넣어주세요): \").split()\n",
    "\n",
    "check_goal(cards1,cards2,goal)"
   ]
  },
  {
   "cell_type": "code",
   "execution_count": 20,
   "id": "4d2a746f-76b4-425b-b29c-cf7c38548ae7",
   "metadata": {},
   "outputs": [
    {
     "name": "stdin",
     "output_type": "stream",
     "text": [
      "카드 뭉치 1을 입력하세요 (단어 사이에는 공백을 넣어주세요):  i drink water\n"
     ]
    }
   ],
   "source": [
    "cards1 = input(\"카드 뭉치 1을 입력하세요 (단어 사이에는 공백을 넣어주세요): \").split()"
   ]
  },
  {
   "cell_type": "code",
   "execution_count": 21,
   "id": "bf918479-2e96-4a6b-af76-086b5ea9985d",
   "metadata": {},
   "outputs": [
    {
     "data": {
      "text/plain": [
       "['i', 'drink', 'water']"
      ]
     },
     "execution_count": 21,
     "metadata": {},
     "output_type": "execute_result"
    }
   ],
   "source": [
    "cards1"
   ]
  },
  {
   "cell_type": "code",
   "execution_count": null,
   "id": "d2ae7306-08c2-4f63-a5a4-5ecf94b97908",
   "metadata": {},
   "outputs": [],
   "source": []
  }
 ],
 "metadata": {
  "kernelspec": {
   "display_name": "Python 3 (ipykernel)",
   "language": "python",
   "name": "python3"
  },
  "language_info": {
   "codemirror_mode": {
    "name": "ipython",
    "version": 3
   },
   "file_extension": ".py",
   "mimetype": "text/x-python",
   "name": "python",
   "nbconvert_exporter": "python",
   "pygments_lexer": "ipython3",
   "version": "3.11.7"
  }
 },
 "nbformat": 4,
 "nbformat_minor": 5
}
