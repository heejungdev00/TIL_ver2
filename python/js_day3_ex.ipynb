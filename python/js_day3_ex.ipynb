{
 "cells": [
  {
   "cell_type": "code",
   "execution_count": 13,
   "id": "9120c2d9-bcb9-4040-9bf4-2808fb7ba1ab",
   "metadata": {},
   "outputs": [
    {
     "name": "stdin",
     "output_type": "stream",
     "text": [
      "3개의 숫자 6 8 1\n"
     ]
    },
    {
     "name": "stdout",
     "output_type": "stream",
     "text": [
      "6\n"
     ]
    }
   ],
   "source": [
    "# 1. 3개의 숫자를 입력으로 받고 3개의 숫자 중에 중간값을 가지는 숫자를 출력하세요. ex1) 2, 5, 3 => 3 ex2) 4, 6, 4 => 4\n",
    "\n",
    "a, b, c = map(int,input('3개의 숫자').split())\n",
    "\n",
    "lst=[a,b,c]\n",
    "\n",
    "print(sorted(lst)[1])"
   ]
  },
  {
   "cell_type": "code",
   "execution_count": 78,
   "id": "0ed19fc6-abab-4328-a362-dbdeaa518f37",
   "metadata": {},
   "outputs": [
    {
     "name": "stdin",
     "output_type": "stream",
     "text": [
      " 2000\n"
     ]
    },
    {
     "name": "stdout",
     "output_type": "stream",
     "text": [
      "2,000\n"
     ]
    }
   ],
   "source": [
    "# 2.\n",
    "# 숫자 형태의 문자열을 콤마가 포함된 금액 표기식 문자열로 바꾸어주는 프로그램을 작성하시오.\n",
    "\n",
    "# ※ 단, 프로그래밍 언어에서 지원하는 금액변환 라이브러리는 사용하지 말것\n",
    "\n",
    "# 예)\n",
    "\n",
    "# 숫자\t금액\n",
    "# 1000\t1,000\n",
    "# 20000000\t20,000,000\n",
    "# -3245.24\t-3,245.24\n",
    "\n",
    "\n",
    "n=input()\n",
    "\n",
    "nn=n.split('.')[0]\n",
    "\n",
    "reversed_nn=nn[::-1]\n",
    "\n",
    "reversed_nn=[n for n in reversed_nn]\n",
    "reversed_nn\n",
    "\n",
    "res=[]\n",
    "for i in range(len(reversed_nn)):\n",
    "    if i%3==2:\n",
    "        res.append(reversed_nn[i]+',')\n",
    "    else:\n",
    "        res.append(reversed_nn[i])\n",
    "\n",
    "res=''.join(res)[::-1]\n",
    "\n",
    "try:\n",
    "    print(res+'.'+n.split('.')[1])\n",
    "except IndexError as er:\n",
    "    print(res)\n"
   ]
  },
  {
   "cell_type": "code",
   "execution_count": null,
   "id": "e82b8783-d07c-4515-8c92-280502b7e25b",
   "metadata": {},
   "outputs": [],
   "source": []
  }
 ],
 "metadata": {
  "kernelspec": {
   "display_name": "Python 3 (ipykernel)",
   "language": "python",
   "name": "python3"
  },
  "language_info": {
   "codemirror_mode": {
    "name": "ipython",
    "version": 3
   },
   "file_extension": ".py",
   "mimetype": "text/x-python",
   "name": "python",
   "nbconvert_exporter": "python",
   "pygments_lexer": "ipython3",
   "version": "3.11.7"
  }
 },
 "nbformat": 4,
 "nbformat_minor": 5
}
