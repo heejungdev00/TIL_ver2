{
 "cells": [
  {
   "cell_type": "code",
   "execution_count": 83,
   "id": "27fe14c9-dcd2-4aed-9a6e-6ee3d41c886c",
   "metadata": {},
   "outputs": [
    {
     "name": "stdin",
     "output_type": "stream",
     "text": [
      "num, total 입력 3 12\n"
     ]
    },
    {
     "name": "stdout",
     "output_type": "stream",
     "text": [
      "str: cmia ho\n",
      "int: 91061\n"
     ]
    }
   ],
   "source": [
    "# 1. 연속된 세 개의 정수를 더해 12가 되는 경우는 3, 4, 5입니다. 두 정수 num과 total이 주어집니다. \n",
    "# 연속된 수 num개를 더한 값이 total이 될 때, 정수 배열을 오름차순으로 담아 return하도록 solution함수를 완성해보세요.\n",
    "\n",
    "# 제한사항\n",
    "# 1 ≤ num ≤ 10\n",
    "# 0 ≤ total ≤ 100\n",
    "# num개의 연속된 수를 더하여 total이 될 수 없는 테스트 케이스는 없습니다.\n",
    "# 입출력 예\n",
    "# num\ttotal\tresult\n",
    "# 3\t12\t[3, 4, 5]\n",
    "# 5\t15\t[1, 2, 3, 4, 5]\n",
    "# 4\t14\t[2, 3, 4, 5]\n",
    "# 5\t5\t[-1, 0, 1, 2, 3]\n",
    "# 2\t7\t[3,4]\n",
    "# 1\t5\t[5]\n",
    "\n",
    "\n",
    "num, total = map(int,input('num, total 입력').split(' '))\n",
    "\n",
    "'''\n",
    "min=(total-hap)/num     # min+min+1+min+2+...=total -> 0+1+2+...=hap\n",
    "'''\n",
    "\n",
    "result=[]\n",
    "def solution(num,total):\n",
    "    hap=0\n",
    "    for i in range(num):\n",
    "        hap+=i\n",
    "    min=(total-hap)/num\n",
    "    hap=0\n",
    "    result=[n for n in range(int(min),int(min)+num)]\n",
    "    return result\n",
    "\n",
    "solution(num,total)\n",
    "\n",
    "# 2. 네이버 글자수세기 등 특정 글의 글자를 세는 프로그램은 일반적으로 공백을 제외한 글자수만을 세는 기능도 가지고 있다.\n",
    "# 어떠한 문자열을 입력받았을 때 줄바꿈과 공백을 제외한 글자수만을 리턴하는 코드를 작성하시오.\n",
    "\n",
    "# 입력 예시\n",
    "A='''\n",
    "공백을 제외한\n",
    "글자수만을 세는 코드 테스트\n",
    "'''\n",
    "# 출력 예시\n",
    "# 18\n",
    "\n",
    "def str_count(A):\n",
    "    A=A.split(' ')\n",
    "    A=''.join(A)\n",
    "    A=A.split('\\n')\n",
    "    A=''.join(A)\n",
    "    return len(A)\n",
    "\n",
    "str_count(A)\n",
    "\n",
    "# 3. 문자와 숫자가섞인 문자열을 입력받을때 구별하여출력해라\n",
    "\n",
    "# 입력 예시\n",
    "ss=\"c910m6ia 1ho\"\n",
    "\n",
    "# 출력 예시\n",
    "# str : cma ho\n",
    "# int : 91061\n",
    "\n",
    "int_str=''\n",
    "str_str=''\n",
    "for s in ss:\n",
    "    if s.isdigit()==True:\n",
    "        int_str+=s\n",
    "    else:\n",
    "        str_str+=s\n",
    "print('str: {}'.format(str_str))\n",
    "print('int: {}'.format(int_str))"
   ]
  },
  {
   "cell_type": "code",
   "execution_count": null,
   "id": "230be1cb-01bc-4f62-92f2-18f225b8977b",
   "metadata": {},
   "outputs": [],
   "source": []
  }
 ],
 "metadata": {
  "kernelspec": {
   "display_name": "Python 3 (ipykernel)",
   "language": "python",
   "name": "python3"
  },
  "language_info": {
   "codemirror_mode": {
    "name": "ipython",
    "version": 3
   },
   "file_extension": ".py",
   "mimetype": "text/x-python",
   "name": "python",
   "nbconvert_exporter": "python",
   "pygments_lexer": "ipython3",
   "version": "3.11.7"
  }
 },
 "nbformat": 4,
 "nbformat_minor": 5
}
