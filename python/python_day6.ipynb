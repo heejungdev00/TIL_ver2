{
  "nbformat": 4,
  "nbformat_minor": 0,
  "metadata": {
    "colab": {
      "provenance": []
    },
    "kernelspec": {
      "name": "python3",
      "display_name": "Python 3"
    },
    "language_info": {
      "name": "python"
    }
  },
  "cells": [
    {
      "cell_type": "markdown",
      "source": [
        "# 클래스"
      ],
      "metadata": {
        "id": "5I2B9tEam3US"
      }
    },
    {
      "cell_type": "code",
      "execution_count": null,
      "metadata": {
        "id": "xG3FYr0oE5nN"
      },
      "outputs": [],
      "source": [
        "class Person:\n",
        "  bag=[]    #가방은 여러물건이 저장(속성), 클래스 속성\n",
        "  def put_bag(self, stuff):\n",
        "    # self.bag.append(stuff)  #클래스 속성 접근할때는 클래스 이름으로 접근\n",
        "    Person.bag.append(stuff)\n"
      ]
    },
    {
      "cell_type": "code",
      "source": [
        "hgd =Person()   #홍길동 객체생성"
      ],
      "metadata": {
        "id": "zzMMpWZBiC9o"
      },
      "execution_count": null,
      "outputs": []
    },
    {
      "cell_type": "code",
      "source": [
        "hgd.bag"
      ],
      "metadata": {
        "colab": {
          "base_uri": "https://localhost:8080/"
        },
        "id": "bVC3l6PliPod",
        "outputId": "a20a8f31-afb2-4bab-a1da-74d7b49649fa"
      },
      "execution_count": null,
      "outputs": [
        {
          "output_type": "execute_result",
          "data": {
            "text/plain": [
              "[]"
            ]
          },
          "metadata": {},
          "execution_count": 14
        }
      ]
    },
    {
      "cell_type": "code",
      "source": [
        "hgd.put_bag('wallet')"
      ],
      "metadata": {
        "id": "7cBoEh5oijjS"
      },
      "execution_count": null,
      "outputs": []
    },
    {
      "cell_type": "code",
      "source": [
        "hgd.bag"
      ],
      "metadata": {
        "colab": {
          "base_uri": "https://localhost:8080/"
        },
        "id": "ZQzU2Iwvivyk",
        "outputId": "d86dec2f-b9ce-4d9c-c96a-c8c7e2440f35"
      },
      "execution_count": null,
      "outputs": [
        {
          "output_type": "execute_result",
          "data": {
            "text/plain": [
              "['wallet']"
            ]
          },
          "metadata": {},
          "execution_count": 16
        }
      ]
    },
    {
      "cell_type": "code",
      "source": [
        "hgd.put_bag('phone')"
      ],
      "metadata": {
        "id": "BpbfmnGFi0fW"
      },
      "execution_count": null,
      "outputs": []
    },
    {
      "cell_type": "code",
      "source": [
        "hgd.bag"
      ],
      "metadata": {
        "colab": {
          "base_uri": "https://localhost:8080/"
        },
        "id": "nEKV2PGWi8xX",
        "outputId": "386d54dc-2a30-4645-bf69-0b833e50a307"
      },
      "execution_count": null,
      "outputs": [
        {
          "output_type": "execute_result",
          "data": {
            "text/plain": [
              "['wallet', 'phone']"
            ]
          },
          "metadata": {},
          "execution_count": 18
        }
      ]
    },
    {
      "cell_type": "code",
      "source": [
        "iss=Person()      #이순신객체생성"
      ],
      "metadata": {
        "id": "iA5bzY6Wi95i"
      },
      "execution_count": null,
      "outputs": []
    },
    {
      "cell_type": "code",
      "source": [
        "iss.put_bag('knife')"
      ],
      "metadata": {
        "id": "4bes5XkXjIpf"
      },
      "execution_count": null,
      "outputs": []
    },
    {
      "cell_type": "code",
      "source": [
        "iss.bag"
      ],
      "metadata": {
        "colab": {
          "base_uri": "https://localhost:8080/"
        },
        "id": "Y_Gv8mdzjWeM",
        "outputId": "ccdde3cf-47f0-440e-c069-bbb88e71e650"
      },
      "execution_count": null,
      "outputs": [
        {
          "output_type": "execute_result",
          "data": {
            "text/plain": [
              "['wallet', 'phone', 'knife']"
            ]
          },
          "metadata": {},
          "execution_count": 21
        }
      ]
    },
    {
      "cell_type": "code",
      "source": [
        "#iss and hgd 가방을 공유\n",
        "#클래스 속성(bag)은 클래스에 속해있으면서도 모든객체가 공유"
      ],
      "metadata": {
        "id": "__Tca3HtjYpF"
      },
      "execution_count": null,
      "outputs": []
    },
    {
      "cell_type": "code",
      "source": [
        "class Person:\n",
        "  def __init__(self):\n",
        "    self.bag=[]     #인스턴스(객체) 속성\n",
        "  def put_bag(self, stuff):\n",
        "    self.bag.append(stuff)  #객체가 가지고 있는 bag에 stuff을 추가\n",
        "    # Person.bag.append(stuff) #클래스 속성 접근할때는 클래스 이름으로 접근\n"
      ],
      "metadata": {
        "id": "FgNuhOG2k4sk"
      },
      "execution_count": null,
      "outputs": []
    },
    {
      "cell_type": "code",
      "source": [
        "hgd2=Person()"
      ],
      "metadata": {
        "id": "0vLwbYu0laDQ"
      },
      "execution_count": null,
      "outputs": []
    },
    {
      "cell_type": "code",
      "source": [
        "hgd2.put_bag('phone')"
      ],
      "metadata": {
        "id": "49k9nXc_leuz"
      },
      "execution_count": null,
      "outputs": []
    },
    {
      "cell_type": "code",
      "source": [
        "hgd2.bag"
      ],
      "metadata": {
        "colab": {
          "base_uri": "https://localhost:8080/"
        },
        "id": "FOYiYYOslozL",
        "outputId": "71aa28ac-d577-486b-977b-6327e6efcfef"
      },
      "execution_count": null,
      "outputs": [
        {
          "output_type": "execute_result",
          "data": {
            "text/plain": [
              "['phone']"
            ]
          },
          "metadata": {},
          "execution_count": 26
        }
      ]
    },
    {
      "cell_type": "code",
      "source": [
        "iss2=Person()"
      ],
      "metadata": {
        "id": "fagUZE-slrip"
      },
      "execution_count": null,
      "outputs": []
    },
    {
      "cell_type": "code",
      "source": [
        "iss2.put_bag('knife')"
      ],
      "metadata": {
        "id": "jbKEteg6l7Kd"
      },
      "execution_count": null,
      "outputs": []
    },
    {
      "cell_type": "code",
      "source": [
        "iss2.bag"
      ],
      "metadata": {
        "colab": {
          "base_uri": "https://localhost:8080/"
        },
        "id": "sOMw_lqZl9em",
        "outputId": "5b95b788-b6a6-460c-bc5e-c1cb0aebdbc1"
      },
      "execution_count": null,
      "outputs": [
        {
          "output_type": "execute_result",
          "data": {
            "text/plain": [
              "['knife']"
            ]
          },
          "metadata": {},
          "execution_count": 29
        }
      ]
    },
    {
      "cell_type": "code",
      "source": [
        "#예외(exception) : 코드가 실행중에 발생한 에러"
      ],
      "metadata": {
        "id": "irZXsWOel-yg"
      },
      "execution_count": null,
      "outputs": []
    },
    {
      "cell_type": "code",
      "source": [
        "def mydiv(a):\n",
        "  try:\n",
        "    return 5/a    #예외 발생할 여지가 있는 코드\n",
        "  except:  #예외가 발행했을 때 실\n",
        "    print('예외상황이 발생. 입력값을 확인해보세요')"
      ],
      "metadata": {
        "id": "oN4Py-xNnCA3"
      },
      "execution_count": null,
      "outputs": []
    },
    {
      "cell_type": "code",
      "source": [
        "mydiv(10)"
      ],
      "metadata": {
        "colab": {
          "base_uri": "https://localhost:8080/"
        },
        "id": "rN_y2kKrnG3x",
        "outputId": "80b13a03-f183-4975-eb46-52c0db5412c2"
      },
      "execution_count": null,
      "outputs": [
        {
          "output_type": "execute_result",
          "data": {
            "text/plain": [
              "0.5"
            ]
          },
          "metadata": {},
          "execution_count": 36
        }
      ]
    },
    {
      "cell_type": "code",
      "source": [
        "mydiv(0)    #실행중인 코드에서 에러 발생(예외)"
      ],
      "metadata": {
        "colab": {
          "base_uri": "https://localhost:8080/"
        },
        "id": "6XREkw5GnIuX",
        "outputId": "f02ff165-ef4d-446d-f7c3-18d669e5a989"
      },
      "execution_count": null,
      "outputs": [
        {
          "output_type": "stream",
          "name": "stdout",
          "text": [
            "예외상황이 발생. 입력값을 확인해보세요\n"
          ]
        }
      ]
    },
    {
      "cell_type": "code",
      "source": [
        "f=open('파일명.txt','r')\n"
      ],
      "metadata": {
        "colab": {
          "base_uri": "https://localhost:8080/",
          "height": 147
        },
        "id": "Fct_cQTznMZh",
        "outputId": "8c2198fa-28ac-48bb-b24d-bdd37f3c8be5"
      },
      "execution_count": null,
      "outputs": [
        {
          "output_type": "error",
          "ename": "FileNotFoundError",
          "evalue": "[Errno 2] No such file or directory: '파일명.txt'",
          "traceback": [
            "\u001b[0;31m---------------------------------------------------------------------------\u001b[0m",
            "\u001b[0;31mFileNotFoundError\u001b[0m                         Traceback (most recent call last)",
            "\u001b[0;32m<ipython-input-39-e2538217e972>\u001b[0m in \u001b[0;36m<cell line: 1>\u001b[0;34m()\u001b[0m\n\u001b[0;32m----> 1\u001b[0;31m \u001b[0mf\u001b[0m\u001b[0;34m=\u001b[0m\u001b[0mopen\u001b[0m\u001b[0;34m(\u001b[0m\u001b[0;34m'파일명.txt'\u001b[0m\u001b[0;34m,\u001b[0m\u001b[0;34m'r'\u001b[0m\u001b[0;34m)\u001b[0m\u001b[0;34m\u001b[0m\u001b[0;34m\u001b[0m\u001b[0m\n\u001b[0m",
            "\u001b[0;31mFileNotFoundError\u001b[0m: [Errno 2] No such file or directory: '파일명.txt'"
          ]
        }
      ]
    },
    {
      "cell_type": "code",
      "source": [
        "# 2/0"
      ],
      "metadata": {
        "id": "F2Ssov-m8BSz"
      },
      "execution_count": null,
      "outputs": []
    },
    {
      "cell_type": "code",
      "source": [
        "x=[10,20,30]\n",
        "x[3]"
      ],
      "metadata": {
        "colab": {
          "base_uri": "https://localhost:8080/",
          "height": 165
        },
        "id": "p6iN9qLV88gD",
        "outputId": "c3348f24-66a3-49b8-bd4a-edcb3a53a8d4"
      },
      "execution_count": null,
      "outputs": [
        {
          "output_type": "error",
          "ename": "IndexError",
          "evalue": "list index out of range",
          "traceback": [
            "\u001b[0;31m---------------------------------------------------------------------------\u001b[0m",
            "\u001b[0;31mIndexError\u001b[0m                                Traceback (most recent call last)",
            "\u001b[0;32m<ipython-input-41-9298a9ea1f8e>\u001b[0m in \u001b[0;36m<cell line: 2>\u001b[0;34m()\u001b[0m\n\u001b[1;32m      1\u001b[0m \u001b[0mx\u001b[0m\u001b[0;34m=\u001b[0m\u001b[0;34m[\u001b[0m\u001b[0;36m10\u001b[0m\u001b[0;34m,\u001b[0m\u001b[0;36m20\u001b[0m\u001b[0;34m,\u001b[0m\u001b[0;36m30\u001b[0m\u001b[0;34m]\u001b[0m\u001b[0;34m\u001b[0m\u001b[0;34m\u001b[0m\u001b[0m\n\u001b[0;32m----> 2\u001b[0;31m \u001b[0mx\u001b[0m\u001b[0;34m[\u001b[0m\u001b[0;36m3\u001b[0m\u001b[0;34m]\u001b[0m\u001b[0;34m\u001b[0m\u001b[0;34m\u001b[0m\u001b[0m\n\u001b[0m",
            "\u001b[0;31mIndexError\u001b[0m: list index out of range"
          ]
        }
      ]
    },
    {
      "cell_type": "code",
      "source": [
        "try:\n",
        "  2/0\n",
        "except:\n",
        "  print('0으로 나눈면 안되요')"
      ],
      "metadata": {
        "colab": {
          "base_uri": "https://localhost:8080/"
        },
        "id": "h86OCRN38_ZO",
        "outputId": "26f65c54-972a-4c1d-aadb-530e4a314a36"
      },
      "execution_count": null,
      "outputs": [
        {
          "output_type": "stream",
          "name": "stdout",
          "text": [
            "0으로 나눈면 안되요\n"
          ]
        }
      ]
    },
    {
      "cell_type": "code",
      "source": [
        "try:\n",
        "  2/0\n",
        "  x=[10,20,30]\n",
        "  print(x[3])\n",
        "except:\n",
        "  print('0으로 나눈면 안되요')"
      ],
      "metadata": {
        "colab": {
          "base_uri": "https://localhost:8080/"
        },
        "id": "aFzs8_fW9YRu",
        "outputId": "3ed5cf43-9158-4947-8feb-cea169c2b994"
      },
      "execution_count": null,
      "outputs": [
        {
          "output_type": "stream",
          "name": "stdout",
          "text": [
            "0으로 나눈면 안되요\n"
          ]
        }
      ]
    },
    {
      "cell_type": "code",
      "source": [
        "try:\n",
        "    print(\"1\")\n",
        "    2/0 #print(\"0으로 나누면 안돼요\")\n",
        "    print(\"2\")\n",
        "    print(\"3\")\n",
        "    print(\"4\")\n",
        "except:\n",
        "    print(\"0으로 나누면 안돼요\")\n",
        "\n",
        "try:\n",
        "    print(\"1\")\n",
        "    print(\"2\")\n",
        "    x=[10,20,30]\n",
        "    print(\"3\")\n",
        "    print(x[3])#print(\"인덱스 번호를 확인하세요\")\n",
        "    print(\"4\")\n",
        "except:\n",
        "    print(\"인덱스 번호를 확인하세요\")"
      ],
      "metadata": {
        "colab": {
          "base_uri": "https://localhost:8080/"
        },
        "id": "3Sfnj8PO9ywY",
        "outputId": "e89837e9-ea15-4865-dcf9-67f4b08c908a"
      },
      "execution_count": null,
      "outputs": [
        {
          "output_type": "stream",
          "name": "stdout",
          "text": [
            "1\n",
            "0으로 나누면 안돼요\n",
            "1\n",
            "2\n",
            "3\n",
            "인덱스 번호를 확인하세요\n"
          ]
        }
      ]
    },
    {
      "cell_type": "code",
      "source": [
        "try:\n",
        "  print(2/3)\n",
        "  x=[10,20,30]\n",
        "  print(x[3])\n",
        "except ZeroDivisionError as e:\n",
        "  print(e)\n",
        "except IndexError as e:\n",
        "  print(e)"
      ],
      "metadata": {
        "colab": {
          "base_uri": "https://localhost:8080/"
        },
        "id": "PDtH7VbE-4H6",
        "outputId": "febf336c-16dc-4664-f622-ebe995366fec"
      },
      "execution_count": null,
      "outputs": [
        {
          "output_type": "stream",
          "name": "stdout",
          "text": [
            "0.6666666666666666\n",
            "list index out of range\n"
          ]
        }
      ]
    },
    {
      "cell_type": "code",
      "source": [
        "try:\n",
        "  age =int(input('나이입력'))\n",
        "except:\n",
        "  print('숫자만')\n",
        "else:\n",
        "  print('방가')\n",
        "print('안녕')\n",
        "#try문 수행중에 오류발생->except 수행, 그렇지 않으면 else 수행"
      ],
      "metadata": {
        "colab": {
          "base_uri": "https://localhost:8080/"
        },
        "id": "YBzJaC6y_ZvB",
        "outputId": "d9e679a5-cd79-4fe4-f81e-a7b0add626ab"
      },
      "execution_count": null,
      "outputs": [
        {
          "output_type": "stream",
          "name": "stdout",
          "text": [
            "나이입력12\n",
            "방가\n",
            "안녕\n"
          ]
        }
      ]
    },
    {
      "cell_type": "code",
      "source": [
        "try:\n",
        "  age =int(input('나이입력'))\n",
        "except:\n",
        "  print('숫자만')\n",
        "else:\n",
        "  if 조건식:\n",
        "    print('방가')\n",
        "  else:\n",
        "    수행문장\n",
        "print('안녕')\n",
        "#try문 수행중에 오류발생->except 수행, 그렇지 않으면 else 수행"
      ],
      "metadata": {
        "id": "Y7oCqTVSAcTn"
      },
      "execution_count": null,
      "outputs": []
    },
    {
      "cell_type": "code",
      "source": [
        "'''\n",
        "나이를 입력받는다.\n",
        "나이를 잘못입력하면 입력오류출력\n",
        "나이가 18세이하면 미자\n",
        "그렇지 않고 18세초과면 환영 출력\n",
        "'''\n",
        "try:\n",
        "  na_e=int(input())\n",
        "except ValueError as e:\n",
        "  print(e)\n",
        "else:\n",
        "  if na_e<=18:\n",
        "    print('미성년자')\n",
        "  else:\n",
        "    print('환영')\n",
        "\n"
      ],
      "metadata": {
        "colab": {
          "base_uri": "https://localhost:8080/"
        },
        "id": "16Dnz4D9CRI_",
        "outputId": "9aac90c2-0e41-4eef-b05a-d763fddb8184"
      },
      "execution_count": null,
      "outputs": [
        {
          "output_type": "stream",
          "name": "stdout",
          "text": [
            "ㄴㅇ\n",
            "invalid literal for int() with base 10: 'ㄴㅇ'\n"
          ]
        }
      ]
    },
    {
      "cell_type": "code",
      "source": [
        "#finally : 예외 발생 여부와 상관없이 무조건 실행하는 문장\n",
        "try:\n",
        "  x=int(input())\n",
        "  y=1/x\n",
        "except:\n",
        "  print('0으로 나누지 못함')\n",
        "else:\n",
        "  print(y)\n",
        "print('코드실행종료')"
      ],
      "metadata": {
        "colab": {
          "base_uri": "https://localhost:8080/"
        },
        "id": "61mt1Nm6C-Ot",
        "outputId": "127873c9-e27d-4908-8cd4-116627120e46"
      },
      "execution_count": null,
      "outputs": [
        {
          "output_type": "stream",
          "name": "stdout",
          "text": [
            "0\n",
            "0으로 나누지 못함\n",
            "코드실행종료\n"
          ]
        }
      ]
    },
    {
      "cell_type": "code",
      "source": [
        "#finally : 예외 발생 여부와 상관없이 무조건 실행하는 문장\n",
        "try:\n",
        "  x=int(input())\n",
        "  y=1/x\n",
        "except:\n",
        "  print('0으로 나누지 못함')\n",
        "else:\n",
        "  print(y)\n",
        "finally:\n",
        "  print('코드실행종료')"
      ],
      "metadata": {
        "colab": {
          "base_uri": "https://localhost:8080/"
        },
        "id": "nwYO9OZQEeYx",
        "outputId": "ef476d6f-86d9-448d-e45a-b6292a3495fb"
      },
      "execution_count": null,
      "outputs": [
        {
          "output_type": "stream",
          "name": "stdout",
          "text": [
            "0\n",
            "0으로 나누지 못함\n",
            "코드실행종료\n"
          ]
        }
      ]
    },
    {
      "cell_type": "code",
      "source": [
        "#내장함수: 기본적으로 메모리에 적재되는 함수\n",
        "\n",
        "#외장함수: 메모리에 적재한 다음 사용할 수 있는 함수\n",
        "import random #random module"
      ],
      "metadata": {
        "id": "qpMUKxA0Euiq"
      },
      "execution_count": null,
      "outputs": []
    },
    {
      "cell_type": "code",
      "source": [
        "random.random() #random module.random func()\n"
      ],
      "metadata": {
        "colab": {
          "base_uri": "https://localhost:8080/"
        },
        "id": "4xfeV7N_Fasn",
        "outputId": "955ff6df-8704-4009-8cd5-1e3720321c08"
      },
      "execution_count": null,
      "outputs": [
        {
          "output_type": "execute_result",
          "data": {
            "text/plain": [
              "0.4107025005871523"
            ]
          },
          "metadata": {},
          "execution_count": 69
        }
      ]
    },
    {
      "cell_type": "markdown",
      "source": [
        "#모듈?\n",
        "특정기능과 관련된 함수, 클래스들로 구성된 파일\n"
      ],
      "metadata": {
        "id": "Q3ndCbKZFyGJ"
      }
    },
    {
      "cell_type": "code",
      "source": [
        "abs(-5)"
      ],
      "metadata": {
        "colab": {
          "base_uri": "https://localhost:8080/"
        },
        "id": "A6NvTUY0FnJ8",
        "outputId": "78ba67b5-632c-4388-b98d-662b1c8a3a34"
      },
      "execution_count": null,
      "outputs": [
        {
          "output_type": "execute_result",
          "data": {
            "text/plain": [
              "5"
            ]
          },
          "metadata": {},
          "execution_count": 70
        }
      ]
    },
    {
      "cell_type": "code",
      "source": [
        "#all :리스트(튜플)의 모든요소가 true->true\n",
        "all([10,20])"
      ],
      "metadata": {
        "colab": {
          "base_uri": "https://localhost:8080/"
        },
        "id": "KoNalu6FLYxD",
        "outputId": "ec1c5a1a-5ae6-4c95-d58f-0d6660ee131d"
      },
      "execution_count": null,
      "outputs": [
        {
          "output_type": "execute_result",
          "data": {
            "text/plain": [
              "True"
            ]
          },
          "metadata": {},
          "execution_count": 71
        }
      ]
    },
    {
      "cell_type": "code",
      "source": [
        "#비어있는 리스트 :거짓\n",
        "if []:\n",
        "  print('참')\n",
        "else:\n",
        "  print('거짓')"
      ],
      "metadata": {
        "colab": {
          "base_uri": "https://localhost:8080/"
        },
        "id": "rvJNFG0fLjPX",
        "outputId": "65f72a43-20e4-48f1-e55c-cd8e96bf89a7"
      },
      "execution_count": null,
      "outputs": [
        {
          "output_type": "stream",
          "name": "stdout",
          "text": [
            "거짓\n"
          ]
        }
      ]
    },
    {
      "cell_type": "code",
      "source": [
        "#any: 리스트(튜플)의 요소 중에서 하나라도 참 -> 참, 모두 거짓 -> 거짓\n",
        "any([1,2,0])"
      ],
      "metadata": {
        "colab": {
          "base_uri": "https://localhost:8080/"
        },
        "id": "GurGnuBZLxg1",
        "outputId": "fa67b851-cb27-4c3c-fdb4-0fe3a1fb1881"
      },
      "execution_count": null,
      "outputs": [
        {
          "output_type": "execute_result",
          "data": {
            "text/plain": [
              "True"
            ]
          },
          "metadata": {},
          "execution_count": 75
        }
      ]
    },
    {
      "cell_type": "code",
      "source": [
        "any([0,0,0,])"
      ],
      "metadata": {
        "colab": {
          "base_uri": "https://localhost:8080/"
        },
        "id": "pVcSjkvcM0GC",
        "outputId": "fd274e57-397d-4ede-f983-eec32462f128"
      },
      "execution_count": null,
      "outputs": [
        {
          "output_type": "execute_result",
          "data": {
            "text/plain": [
              "False"
            ]
          },
          "metadata": {},
          "execution_count": 76
        }
      ]
    },
    {
      "cell_type": "code",
      "source": [
        "any([0,0,0,''])"
      ],
      "metadata": {
        "colab": {
          "base_uri": "https://localhost:8080/"
        },
        "id": "uXZiJPL5M6Ae",
        "outputId": "9e107615-31c3-48ab-ebbb-0274b1f10acc"
      },
      "execution_count": null,
      "outputs": [
        {
          "output_type": "execute_result",
          "data": {
            "text/plain": [
              "False"
            ]
          },
          "metadata": {},
          "execution_count": 77
        }
      ]
    },
    {
      "cell_type": "code",
      "source": [
        "#chr() :유니코드(전세계 문자코드) -> 문자\n",
        "#ord() :문자 -> 유니코드(전세계 문자코드)"
      ],
      "metadata": {
        "id": "kiMUtUIFM82h"
      },
      "execution_count": null,
      "outputs": []
    },
    {
      "cell_type": "code",
      "source": [
        "chr(65)\n",
        "chr(44032)\n",
        "\n",
        "ord('가')\n",
        "ord('대')"
      ],
      "metadata": {
        "colab": {
          "base_uri": "https://localhost:8080/"
        },
        "id": "EzOq-BQVNfcX",
        "outputId": "6187f5bd-43b3-49f4-ad0d-9265a740f24f"
      },
      "execution_count": null,
      "outputs": [
        {
          "output_type": "execute_result",
          "data": {
            "text/plain": [
              "45824"
            ]
          },
          "metadata": {},
          "execution_count": 84
        }
      ]
    },
    {
      "cell_type": "code",
      "source": [
        "x=[10,20]"
      ],
      "metadata": {
        "id": "Tu-Vh7vENjbR"
      },
      "execution_count": null,
      "outputs": []
    },
    {
      "cell_type": "code",
      "source": [
        "dir(x)    #사용가능한 함수 목록이 나옴"
      ],
      "metadata": {
        "colab": {
          "base_uri": "https://localhost:8080/"
        },
        "id": "xdLrUCT5ORN4",
        "outputId": "c9485a29-ced0-4813-ef87-a5f74eae1419"
      },
      "execution_count": null,
      "outputs": [
        {
          "output_type": "execute_result",
          "data": {
            "text/plain": [
              "['__add__',\n",
              " '__class__',\n",
              " '__class_getitem__',\n",
              " '__contains__',\n",
              " '__delattr__',\n",
              " '__delitem__',\n",
              " '__dir__',\n",
              " '__doc__',\n",
              " '__eq__',\n",
              " '__format__',\n",
              " '__ge__',\n",
              " '__getattribute__',\n",
              " '__getitem__',\n",
              " '__gt__',\n",
              " '__hash__',\n",
              " '__iadd__',\n",
              " '__imul__',\n",
              " '__init__',\n",
              " '__init_subclass__',\n",
              " '__iter__',\n",
              " '__le__',\n",
              " '__len__',\n",
              " '__lt__',\n",
              " '__mul__',\n",
              " '__ne__',\n",
              " '__new__',\n",
              " '__reduce__',\n",
              " '__reduce_ex__',\n",
              " '__repr__',\n",
              " '__reversed__',\n",
              " '__rmul__',\n",
              " '__setattr__',\n",
              " '__setitem__',\n",
              " '__sizeof__',\n",
              " '__str__',\n",
              " '__subclasshook__',\n",
              " 'append',\n",
              " 'clear',\n",
              " 'copy',\n",
              " 'count',\n",
              " 'extend',\n",
              " 'index',\n",
              " 'insert',\n",
              " 'pop',\n",
              " 'remove',\n",
              " 'reverse',\n",
              " 'sort']"
            ]
          },
          "metadata": {},
          "execution_count": 87
        }
      ]
    },
    {
      "cell_type": "code",
      "source": [
        "divmod(5,3)     # 몫,나머지"
      ],
      "metadata": {
        "colab": {
          "base_uri": "https://localhost:8080/"
        },
        "id": "6295-vteOcRF",
        "outputId": "94eeef63-ed3c-494b-d32d-56a36afe1a0f"
      },
      "execution_count": null,
      "outputs": [
        {
          "output_type": "execute_result",
          "data": {
            "text/plain": [
              "(1, 2)"
            ]
          },
          "metadata": {},
          "execution_count": 89
        }
      ]
    },
    {
      "cell_type": "code",
      "source": [
        "5//3"
      ],
      "metadata": {
        "colab": {
          "base_uri": "https://localhost:8080/"
        },
        "id": "d9xW2aXgOudm",
        "outputId": "d7948979-e1b7-4a49-8045-913234c4a7cf"
      },
      "execution_count": null,
      "outputs": [
        {
          "output_type": "execute_result",
          "data": {
            "text/plain": [
              "1"
            ]
          },
          "metadata": {},
          "execution_count": 90
        }
      ]
    },
    {
      "cell_type": "code",
      "source": [
        "5%3"
      ],
      "metadata": {
        "colab": {
          "base_uri": "https://localhost:8080/"
        },
        "id": "wtvxQsdTO81n",
        "outputId": "3cf86c64-5efd-4786-9127-e9a4ee20146f"
      },
      "execution_count": null,
      "outputs": [
        {
          "output_type": "execute_result",
          "data": {
            "text/plain": [
              "2"
            ]
          },
          "metadata": {},
          "execution_count": 91
        }
      ]
    },
    {
      "cell_type": "code",
      "source": [
        "5/3"
      ],
      "metadata": {
        "colab": {
          "base_uri": "https://localhost:8080/"
        },
        "id": "pzQR-CMjO-LF",
        "outputId": "ed058772-2ae4-468c-81e8-6fddeb52dc0b"
      },
      "execution_count": null,
      "outputs": [
        {
          "output_type": "execute_result",
          "data": {
            "text/plain": [
              "1.6666666666666667"
            ]
          },
          "metadata": {},
          "execution_count": 92
        }
      ]
    },
    {
      "cell_type": "code",
      "source": [
        "# enumerate(나열하다, 열거하다) : list, 문자열을 입력받아 열거\n",
        "for i, n in enumerate(['hi','hello','bye']):\n",
        "  print(i,n)"
      ],
      "metadata": {
        "colab": {
          "base_uri": "https://localhost:8080/"
        },
        "id": "bnAKQgNfO_VI",
        "outputId": "79c83672-8dd8-4364-e131-96d604b57f1a"
      },
      "execution_count": null,
      "outputs": [
        {
          "output_type": "stream",
          "name": "stdout",
          "text": [
            "0 hi\n",
            "1 hello\n",
            "2 bye\n"
          ]
        }
      ]
    },
    {
      "cell_type": "code",
      "source": [
        "for i, n in enumerate('multicampus'):\n",
        "  print(i,n)"
      ],
      "metadata": {
        "colab": {
          "base_uri": "https://localhost:8080/"
        },
        "id": "Wl9UxyixPhlK",
        "outputId": "4a89e696-4c93-4f0a-bfe0-a36b951f8c59"
      },
      "execution_count": null,
      "outputs": [
        {
          "output_type": "stream",
          "name": "stdout",
          "text": [
            "0 m\n",
            "1 u\n",
            "2 l\n",
            "3 t\n",
            "4 i\n",
            "5 c\n",
            "6 a\n",
            "7 m\n",
            "8 p\n",
            "9 u\n",
            "10 s\n"
          ]
        }
      ]
    },
    {
      "cell_type": "code",
      "source": [
        "#eval()\n",
        "\n",
        "# 문자열로된 수식, 함수 등\n",
        "eval('1+2')\n",
        "eval('abs(-5)')\n",
        "\n",
        "'hi'+'hello'\n",
        "eval(\"'hi'+'hello'\")\n",
        "eval('divmod(5,3)')"
      ],
      "metadata": {
        "colab": {
          "base_uri": "https://localhost:8080/"
        },
        "id": "ndSMSRwGQL5I",
        "outputId": "dcc7cfca-627a-4c37-e273-bd8b56ad29e6"
      },
      "execution_count": null,
      "outputs": [
        {
          "output_type": "execute_result",
          "data": {
            "text/plain": [
              "(1, 2)"
            ]
          },
          "metadata": {},
          "execution_count": 110
        }
      ]
    },
    {
      "cell_type": "code",
      "source": [
        "x=[1,-2,3,-4,0,5]\n",
        "#x에 저장된 요소들중에서 양수만 추출 [1,3,5]\n",
        "y = [n for n in x if n>0]\n",
        "y"
      ],
      "metadata": {
        "colab": {
          "base_uri": "https://localhost:8080/"
        },
        "id": "ObWcQNgfQaB9",
        "outputId": "34fce2b3-14f9-4881-9636-9fe715504660"
      },
      "execution_count": null,
      "outputs": [
        {
          "output_type": "execute_result",
          "data": {
            "text/plain": [
              "[1, 3, 5]"
            ]
          },
          "metadata": {},
          "execution_count": 112
        }
      ]
    },
    {
      "cell_type": "code",
      "source": [
        "#filter함수\n",
        "list(filter(lambda x : x>0, x))"
      ],
      "metadata": {
        "colab": {
          "base_uri": "https://localhost:8080/"
        },
        "id": "adHmsZPXSG-d",
        "outputId": "58fc2506-42cf-44c3-eb55-0e4a67d7b83e"
      },
      "execution_count": null,
      "outputs": [
        {
          "output_type": "execute_result",
          "data": {
            "text/plain": [
              "[1, 3, 5]"
            ]
          },
          "metadata": {},
          "execution_count": 113
        }
      ]
    },
    {
      "cell_type": "code",
      "source": [
        "list(filter(lambda k:k>0,x))"
      ],
      "metadata": {
        "colab": {
          "base_uri": "https://localhost:8080/"
        },
        "id": "NR8MZ1-PTHAH",
        "outputId": "606d350e-0695-41cb-f176-0465576bb977"
      },
      "execution_count": null,
      "outputs": [
        {
          "output_type": "execute_result",
          "data": {
            "text/plain": [
              "[1, 3, 5]"
            ]
          },
          "metadata": {},
          "execution_count": 116
        }
      ]
    },
    {
      "cell_type": "code",
      "source": [
        "def f_func(data): #[1,-2,3,-4,0,5]\n",
        "  return data>0   #[True,False, ...]\n",
        "\n",
        "list(filter(f_func,x))\n",
        "#x에 저장된 각각의 요소를 f_func함수로 전달하여,\n",
        "#조건에 부합되는 요소만 추출하시오."
      ],
      "metadata": {
        "colab": {
          "base_uri": "https://localhost:8080/"
        },
        "id": "syLCllVPTdZE",
        "outputId": "f2d65e0c-8a72-4e75-fc92-114706db0b12"
      },
      "execution_count": null,
      "outputs": [
        {
          "output_type": "execute_result",
          "data": {
            "text/plain": [
              "[1, 3, 5]"
            ]
          },
          "metadata": {},
          "execution_count": 117
        }
      ]
    },
    {
      "cell_type": "code",
      "source": [
        "#1~10까지의 수 중에서 4의 배수만 추출하시오.\n",
        "num = [i for i in range(1,11)]\n",
        "result=list(filter(lambda x:x%4==0,num))\n",
        "result\n",
        "\n"
      ],
      "metadata": {
        "colab": {
          "base_uri": "https://localhost:8080/"
        },
        "id": "Gjr-kEPWU0Xv",
        "outputId": "0196ca20-3ae4-4dd6-dd88-737cad0bc6a8"
      },
      "execution_count": null,
      "outputs": [
        {
          "output_type": "execute_result",
          "data": {
            "text/plain": [
              "[4, 8]"
            ]
          },
          "metadata": {},
          "execution_count": 118
        }
      ]
    },
    {
      "cell_type": "code",
      "source": [
        "def four(x):\n",
        "  return x%4==0\n",
        "res=list(filter(four,num))\n",
        "res"
      ],
      "metadata": {
        "colab": {
          "base_uri": "https://localhost:8080/"
        },
        "id": "ZrCsuPqjVvkh",
        "outputId": "04561e55-f7f3-4a82-f93c-e187e1c07d4f"
      },
      "execution_count": null,
      "outputs": [
        {
          "output_type": "execute_result",
          "data": {
            "text/plain": [
              "[4, 8]"
            ]
          },
          "metadata": {},
          "execution_count": 120
        }
      ]
    },
    {
      "cell_type": "code",
      "source": [
        "hex(17)   #16진수\n",
        "hex(255)"
      ],
      "metadata": {
        "colab": {
          "base_uri": "https://localhost:8080/",
          "height": 35
        },
        "id": "_7MAGpRNWBd0",
        "outputId": "73581b42-7390-4880-f7b2-6eccd7797338"
      },
      "execution_count": null,
      "outputs": [
        {
          "output_type": "execute_result",
          "data": {
            "text/plain": [
              "'0xff'"
            ],
            "application/vnd.google.colaboratory.intrinsic+json": {
              "type": "string"
            }
          },
          "metadata": {},
          "execution_count": 122
        }
      ]
    },
    {
      "cell_type": "code",
      "source": [
        "max([1,2,3])    #최댓값"
      ],
      "metadata": {
        "colab": {
          "base_uri": "https://localhost:8080/"
        },
        "id": "tHzizTAlaFxf",
        "outputId": "809f552d-5371-4618-bf7a-fb6e597fd67f"
      },
      "execution_count": null,
      "outputs": [
        {
          "output_type": "execute_result",
          "data": {
            "text/plain": [
              "3"
            ]
          },
          "metadata": {},
          "execution_count": 123
        }
      ]
    },
    {
      "cell_type": "code",
      "source": [
        "min([1,2,3])    #최솟값"
      ],
      "metadata": {
        "colab": {
          "base_uri": "https://localhost:8080/"
        },
        "id": "U0Bl2Bz6aM0a",
        "outputId": "8562ed2c-f319-4075-d488-c0c36a8263f8"
      },
      "execution_count": null,
      "outputs": [
        {
          "output_type": "execute_result",
          "data": {
            "text/plain": [
              "1"
            ]
          },
          "metadata": {},
          "execution_count": 124
        }
      ]
    },
    {
      "cell_type": "code",
      "source": [
        "pow(2,3)  #2**3 (2의3승)"
      ],
      "metadata": {
        "colab": {
          "base_uri": "https://localhost:8080/"
        },
        "id": "fAAuDtOCaSbL",
        "outputId": "017f7918-ac09-46ec-dccc-0e0fcc28f287"
      },
      "execution_count": null,
      "outputs": [
        {
          "output_type": "execute_result",
          "data": {
            "text/plain": [
              "8"
            ]
          },
          "metadata": {},
          "execution_count": 126
        }
      ]
    },
    {
      "cell_type": "code",
      "source": [
        "12345**10"
      ],
      "metadata": {
        "colab": {
          "base_uri": "https://localhost:8080/"
        },
        "id": "mG1Db8o3an6A",
        "outputId": "15a9293a-483c-4a0d-8c5a-de5ebe6df0de"
      },
      "execution_count": null,
      "outputs": [
        {
          "output_type": "execute_result",
          "data": {
            "text/plain": [
              "82207405646327461794954634291560556640625"
            ]
          },
          "metadata": {},
          "execution_count": 128
        }
      ]
    },
    {
      "cell_type": "code",
      "source": [
        "round(4.36,1)   #반올림함수"
      ],
      "metadata": {
        "colab": {
          "base_uri": "https://localhost:8080/"
        },
        "id": "--ULftjUaul-",
        "outputId": "b9312a7e-5a3e-4697-c4ce-4ed9a2172342"
      },
      "execution_count": null,
      "outputs": [
        {
          "output_type": "execute_result",
          "data": {
            "text/plain": [
              "4.4"
            ]
          },
          "metadata": {},
          "execution_count": 131
        }
      ]
    },
    {
      "cell_type": "code",
      "source": [
        "round(4.55947)"
      ],
      "metadata": {
        "colab": {
          "base_uri": "https://localhost:8080/"
        },
        "id": "1Yw89bxba3Su",
        "outputId": "7bf148c0-d3fc-4398-e96d-990eac99f7bb"
      },
      "execution_count": null,
      "outputs": [
        {
          "output_type": "execute_result",
          "data": {
            "text/plain": [
              "5"
            ]
          },
          "metadata": {},
          "execution_count": 132
        }
      ]
    },
    {
      "cell_type": "code",
      "source": [
        "sum([1,2,3])"
      ],
      "metadata": {
        "colab": {
          "base_uri": "https://localhost:8080/"
        },
        "id": "k-umMulVbFce",
        "outputId": "0f9164c7-2aaa-4968-fc84-2c5654b6a887"
      },
      "execution_count": null,
      "outputs": [
        {
          "output_type": "execute_result",
          "data": {
            "text/plain": [
              "6"
            ]
          },
          "metadata": {},
          "execution_count": 133
        }
      ]
    },
    {
      "cell_type": "code",
      "source": [
        "list(zip([1,2],[3,4],[5,6]))"
      ],
      "metadata": {
        "colab": {
          "base_uri": "https://localhost:8080/"
        },
        "id": "pFVrYqODbNGy",
        "outputId": "00dbc607-7dc6-40b6-ec63-c84d171fc2f8"
      },
      "execution_count": null,
      "outputs": [
        {
          "output_type": "execute_result",
          "data": {
            "text/plain": [
              "[(1, 3, 5), (2, 4, 6)]"
            ]
          },
          "metadata": {},
          "execution_count": 135
        }
      ]
    },
    {
      "cell_type": "code",
      "source": [
        "list(zip('abc','def'))"
      ],
      "metadata": {
        "colab": {
          "base_uri": "https://localhost:8080/"
        },
        "id": "yu2k6V2BbV-w",
        "outputId": "c9b9baf6-0033-4484-8432-e510a8a88acd"
      },
      "execution_count": null,
      "outputs": [
        {
          "output_type": "execute_result",
          "data": {
            "text/plain": [
              "[('a', 'd'), ('b', 'e'), ('c', 'f')]"
            ]
          },
          "metadata": {},
          "execution_count": 136
        }
      ]
    },
    {
      "cell_type": "markdown",
      "source": [
        "# datetime 모듈"
      ],
      "metadata": {
        "id": "qvMT1akiz0nr"
      }
    },
    {
      "cell_type": "code",
      "source": [
        "# 2024년 3월 6일 - 2024년 2월 26일\n",
        "import datetime"
      ],
      "metadata": {
        "id": "EKJX8r9ubff1"
      },
      "execution_count": null,
      "outputs": []
    },
    {
      "cell_type": "code",
      "source": [
        "today=datetime.date(2024,3,6)\n",
        "start_day=datetime.date(2024,2,26)"
      ],
      "metadata": {
        "id": "Cvfctu3ZcDmw"
      },
      "execution_count": null,
      "outputs": []
    },
    {
      "cell_type": "code",
      "source": [
        "ex_day=today-start_day"
      ],
      "metadata": {
        "id": "mI1kExDJc1Tr"
      },
      "execution_count": null,
      "outputs": []
    },
    {
      "cell_type": "code",
      "source": [
        "ex_day.days"
      ],
      "metadata": {
        "colab": {
          "base_uri": "https://localhost:8080/"
        },
        "id": "BZ-xR-Oac4sj",
        "outputId": "9c89bb74-f81d-4dd0-ef8a-03b37435b1c9"
      },
      "execution_count": null,
      "outputs": [
        {
          "output_type": "execute_result",
          "data": {
            "text/plain": [
              "9"
            ]
          },
          "metadata": {},
          "execution_count": 142
        }
      ]
    },
    {
      "cell_type": "code",
      "source": [
        "d3=datetime.date(2024,8,19)"
      ],
      "metadata": {
        "id": "c2q0dNumdB2p"
      },
      "execution_count": null,
      "outputs": []
    },
    {
      "cell_type": "code",
      "source": [
        "ex_day=d3-today\n",
        "ex_day.days"
      ],
      "metadata": {
        "colab": {
          "base_uri": "https://localhost:8080/"
        },
        "id": "_VttKwnndVnp",
        "outputId": "bfbaac9e-f83a-4af5-83e3-6603becd654d"
      },
      "execution_count": null,
      "outputs": [
        {
          "output_type": "execute_result",
          "data": {
            "text/plain": [
              "166"
            ]
          },
          "metadata": {},
          "execution_count": 144
        }
      ]
    },
    {
      "cell_type": "code",
      "source": [
        "d4=datetime.date(2024,3,6)\n",
        "d4.weekday()    #0:월,1:화,...6:일"
      ],
      "metadata": {
        "colab": {
          "base_uri": "https://localhost:8080/"
        },
        "id": "lkOfqJ4MdaHC",
        "outputId": "5abf00c0-8c96-49e7-a275-0261e108ac60"
      },
      "execution_count": null,
      "outputs": [
        {
          "output_type": "execute_result",
          "data": {
            "text/plain": [
              "2"
            ]
          },
          "metadata": {},
          "execution_count": 146
        }
      ]
    },
    {
      "cell_type": "code",
      "source": [
        "import time"
      ],
      "metadata": {
        "id": "BmCl2jARdqKB"
      },
      "execution_count": null,
      "outputs": []
    },
    {
      "cell_type": "code",
      "source": [
        "time.time()     #1970.1.1~현재까지를 초로 환산"
      ],
      "metadata": {
        "colab": {
          "base_uri": "https://localhost:8080/"
        },
        "id": "oK5FflJAeEk0",
        "outputId": "3807db50-f052-4c40-b37d-df75c1aafca6"
      },
      "execution_count": null,
      "outputs": [
        {
          "output_type": "execute_result",
          "data": {
            "text/plain": [
              "1709706913.921397"
            ]
          },
          "metadata": {},
          "execution_count": 151
        }
      ]
    },
    {
      "cell_type": "code",
      "source": [
        "time.ctime()"
      ],
      "metadata": {
        "colab": {
          "base_uri": "https://localhost:8080/",
          "height": 35
        },
        "id": "MgLZ9S_-eJRl",
        "outputId": "470de151-3e97-4bef-fff4-129491337c13"
      },
      "execution_count": null,
      "outputs": [
        {
          "output_type": "execute_result",
          "data": {
            "text/plain": [
              "'Wed Mar  6 06:35:58 2024'"
            ],
            "application/vnd.google.colaboratory.intrinsic+json": {
              "type": "string"
            }
          },
          "metadata": {},
          "execution_count": 152
        }
      ]
    },
    {
      "cell_type": "code",
      "source": [
        "time.asctime(time.localtime(time.time()))"
      ],
      "metadata": {
        "colab": {
          "base_uri": "https://localhost:8080/",
          "height": 35
        },
        "id": "B1l0Xjr2edm1",
        "outputId": "a87f2eb6-0ee5-450d-f4ae-e973b208496c"
      },
      "execution_count": null,
      "outputs": [
        {
          "output_type": "execute_result",
          "data": {
            "text/plain": [
              "'Wed Mar  6 06:37:10 2024'"
            ],
            "application/vnd.google.colaboratory.intrinsic+json": {
              "type": "string"
            }
          },
          "metadata": {},
          "execution_count": 153
        }
      ]
    },
    {
      "cell_type": "code",
      "source": [
        "time.strftime('%c',time.localtime(time.time()))"
      ],
      "metadata": {
        "colab": {
          "base_uri": "https://localhost:8080/",
          "height": 35
        },
        "id": "PdFl2jBtevBr",
        "outputId": "d4a3c403-2286-422c-ae93-b43637cf9f4d"
      },
      "execution_count": null,
      "outputs": [
        {
          "output_type": "execute_result",
          "data": {
            "text/plain": [
              "'Wed Mar  6 06:38:36 2024'"
            ],
            "application/vnd.google.colaboratory.intrinsic+json": {
              "type": "string"
            }
          },
          "metadata": {},
          "execution_count": 154
        }
      ]
    },
    {
      "cell_type": "code",
      "source": [
        "time.sleep(1)\n",
        "print('1초 쉰 후에 출력')"
      ],
      "metadata": {
        "colab": {
          "base_uri": "https://localhost:8080/"
        },
        "id": "sagatj7KfEAB",
        "outputId": "2cc03a22-a835-4560-87d1-b25558309856"
      },
      "execution_count": null,
      "outputs": [
        {
          "output_type": "stream",
          "name": "stdout",
          "text": [
            "1초 쉰 후에 출력\n"
          ]
        }
      ]
    },
    {
      "cell_type": "code",
      "source": [
        "f=open('test1.txt','w')\n",
        "f.write('안녕')\n",
        "f.close()"
      ],
      "metadata": {
        "id": "AdubM-pRfRDg"
      },
      "execution_count": null,
      "outputs": []
    },
    {
      "cell_type": "code",
      "source": [
        "import shutil   #파일 이동, 복사"
      ],
      "metadata": {
        "id": "FnkKqKCGfmUw"
      },
      "execution_count": null,
      "outputs": []
    },
    {
      "cell_type": "code",
      "source": [
        "shutil.copy('test1.txt','test2.txt')"
      ],
      "metadata": {
        "colab": {
          "base_uri": "https://localhost:8080/",
          "height": 35
        },
        "id": "g9EXbMUZfy8i",
        "outputId": "c6a7308d-a627-4add-f02c-4ff457fa3e61"
      },
      "execution_count": null,
      "outputs": [
        {
          "output_type": "execute_result",
          "data": {
            "text/plain": [
              "'test2.txt'"
            ],
            "application/vnd.google.colaboratory.intrinsic+json": {
              "type": "string"
            }
          },
          "metadata": {},
          "execution_count": 165
        }
      ]
    },
    {
      "cell_type": "code",
      "source": [
        "import glob"
      ],
      "metadata": {
        "id": "4dJhEv9EgBIW"
      },
      "execution_count": null,
      "outputs": []
    },
    {
      "cell_type": "code",
      "source": [
        "#glob.glob('c:/')    #c드라이브에 있는 파일/폴더 검색\n",
        "import pickle"
      ],
      "metadata": {
        "id": "1nhorgXagVUO"
      },
      "execution_count": null,
      "outputs": []
    },
    {
      "cell_type": "code",
      "source": [
        "f=open('test.txt','wb')\n",
        "data={1:'python',2:'vs'}\n",
        "pickle.dump(data,f)"
      ],
      "metadata": {
        "id": "NT3y1t87gtDm"
      },
      "execution_count": null,
      "outputs": []
    },
    {
      "cell_type": "code",
      "source": [
        "f=open('test.txt','rb')\n",
        "pickle.load(f)"
      ],
      "metadata": {
        "colab": {
          "base_uri": "https://localhost:8080/"
        },
        "id": "lcJ8kDlDg94A",
        "outputId": "b35dd987-2e05-410b-8f6b-57c890b76bf7"
      },
      "execution_count": null,
      "outputs": [
        {
          "output_type": "execute_result",
          "data": {
            "text/plain": [
              "{1: 'python', 2: 'vs'}"
            ]
          },
          "metadata": {},
          "execution_count": 175
        }
      ]
    },
    {
      "cell_type": "code",
      "source": [
        "import zipfile"
      ],
      "metadata": {
        "id": "InvjXn_9hLPU"
      },
      "execution_count": null,
      "outputs": []
    },
    {
      "cell_type": "code",
      "source": [
        "with zipfile.ZipFile('ziptext.zip','w') as zf:#압축해주는\n",
        "  zf.write('test.txt')\n",
        "  zf.write('test1.txt')\n",
        "  zf.write('test2.txt')"
      ],
      "metadata": {
        "id": "tXfy2e4Ths3-"
      },
      "execution_count": null,
      "outputs": []
    },
    {
      "cell_type": "code",
      "source": [
        "with zipfile.ZipFile('ziptext.zip') as mz:    #압축해제\n",
        "  mz.extractall()"
      ],
      "metadata": {
        "id": "K2_TlvnViKFV"
      },
      "execution_count": null,
      "outputs": []
    },
    {
      "cell_type": "markdown",
      "source": [
        "# 과제"
      ],
      "metadata": {
        "id": "iK6ZpWLswfJ8"
      }
    },
    {
      "cell_type": "code",
      "source": [
        "# 1\n",
        "#  \"test.txt\"라는 파일에 \"Life is too short\" 문자열을 저장한 후 다시 그 파일을 읽어서 출력하는 프로그램을 작성해 보자.\n",
        "\n",
        "\n",
        "with open('test.txt','w') as myfile:\n",
        "  line = 'Life is too short'\n",
        "  w=myfile.write(line)\n",
        "with open('test.txt','r') as myfile_r:\n",
        "  r=myfile_r.read()\n",
        "  print(r)\n",
        "\n",
        "# 2\n",
        "# 다음과 같은 내용을 지닌 파일 test.txt가 있다. 이 파일의 내용 중 \"java\"라는 문자열을 \"python\"으로 바꾸어서 저장해 보자.\n",
        "\n",
        "# Life is too short\n",
        "# you need java\n",
        "# ※ replace 함수를 사용해 보자\n",
        "\n",
        "with open('test.txt','w') as myfile:\n",
        "  lines=['Life is too short','you need java']\n",
        "  for i in range(2):\n",
        "    myfile.write(lines[i])\n",
        "    myfile.write('\\n')\n",
        "\n",
        "with open('test.txt','r') as myfile_r:\n",
        "  r=myfile_r.read()\n",
        "  print(r)\n",
        "\n",
        "r=r.replace('java','python')\n",
        "\n",
        "with open('test.txt','w') as myfile_r:\n",
        "  myfile_r.write(r)\n",
        "  print(r)\n",
        "\n",
        "# 3\n",
        "# 369 게임은 숫자에 3, 6, 9가 들어가면 박수를 치고, 나머지 숫자는 그대로 이야기하는 게임입니다. 369 게임을 시뮬레이션하는 game_369 함수를 정의하라. 함수는 숫자의 리스트를 입력받는다. 리스트에는 0 ~ 9 까지의 숫자가 들어있다. 입력된 숫자에 3/6/9가 포함되면 \"짝\" 문자열을 그렇지 않을 경우 숫자를 그대로 리스트에 저장한다. * 함수는 변환된 리스트를 반환한다.\n",
        "\n",
        "# game_369( [1, 2, 3, 4, 5, 6, 7, 8, 9] )\n",
        "# [1, 2, \"짝\", 4, 5, \"짝\", 7, 8, \"짝\"]\n",
        "\n",
        "def game_369(lst):\n",
        "  res = []\n",
        "  for n in lst:\n",
        "    if n%3!=0:\n",
        "      res.append(n)\n",
        "    else:\n",
        "      res.append('짝')\n",
        "  print(res)\n",
        "game_369( [1, 2, 3, 4, 5, 6, 7, 8, 9] )\n",
        "\n",
        "\n",
        "# 4\n",
        "# 3번에 정의한 함수를 0~99 까지 정상동작하도록 수정하라.\n",
        "\n",
        "# game_369( [31, 32, 33, 34] )\n",
        "# [\"짝\", \"짝\", \"짝\", \"짝\"]\n",
        "\n",
        "def game_369(lst):\n",
        "  res = []\n",
        "  for n in lst:\n",
        "    if ('3' in str(n)) or ('6' in str(n)) or ('9' in str(n)): #인자에 3or6or9가 잇으면\n",
        "      res.append('짝')\n",
        "    else:\n",
        "      res.append(n)\n",
        "  print(res)\n",
        "\n",
        "num0_99=list(n for n in range(100))    # 0~99숫자\n",
        "game_369(num0_99)\n",
        "\n",
        "\n",
        "# 5\n",
        "# 아래 코드는 임의의 수를 생성하는 코드이다. randint(1, 10)은 1부터 10사이의 수를 임의로 생성한다.\n",
        "# 코드를 실행할 때마다 다른 숫자가 출력된다.\n",
        "\n",
        "# import random\n",
        "# print(random.randint(1, 10))\n",
        "# 중복되는 수가 없이 6개의 로또 번호를 생성하는 make_lotto_without_replacement 함수를 정의하라.\n",
        "\n",
        "import random\n",
        "def make_lotto_without_replacement():\n",
        "  nums =[]\n",
        "  while len(nums)<6:\n",
        "    num=random.randint(1,45)\n",
        "    if num not in nums:\n",
        "      nums.append(num)\n",
        "  return nums\n",
        "\n",
        "make_lotto_without_replacement()\n",
        "\n",
        "\n",
        "# 6       #.zfill() 기용가\n",
        "# 표준 입력으로 숫자.확장자 형식으로 된 파일 이름 여러 개가 입력됩니다.\n",
        "# 파일 이름이 숫자 3개이면서 앞에 0이 들어가는 형식으로 출력되게 만드세요.\n",
        "# 예를 들어 1.png는 001.png, 99.docx는 099.docx, 100.xlsx는 100.xlsx처럼 출력되어야 합니다.\n",
        "# 그리고 람다 표현식을 사용해야 하며 출력 결과는 리스트 형태라야 합니다.\n",
        "# 람다 표현식에서 파일명을 처리할 때는 문자열 포매팅과 문자열 메서드를 활용하세요.\n",
        "\n",
        "# 예\n",
        "# 입력\n",
        "# 1.jpg 10.png 11.png 2.jpg 3.png\n",
        "# 결과\n",
        "# ['001.jpg', '010.png', '011.png', '002.jpg', '003.png']\n",
        "# 입력\n",
        "# 97.xlsx 98.docx 99.docx 100.xlsx 101.docx 102.docx\n",
        "# 결과\n",
        "# ['097.xlsx', '098.docx', '099.docx', '100.xlsx', '101.docx', '102.docx']\n",
        "\n",
        "x=list(input().split(' '))\n",
        "\n",
        "num_list=[]   #최종 숫자\n",
        "ex_list=[]    #최종 확장자\n",
        "for n in x:\n",
        "  num,ex = n.split('.')\n",
        "  if len(num)==1:   #숫자의 개수에 따라 '0'추가, 확장자리스트생성\n",
        "    num='00'+num\n",
        "    num_list.append(num)\n",
        "    ex_list.append(ex)\n",
        "  elif len(num)==2:\n",
        "    num='0'+num\n",
        "    num_list.append(num)\n",
        "    ex_list.append(ex)\n",
        "  else:\n",
        "    num_list.append(num)\n",
        "    ex_list.append(ex)\n",
        "result=list(map(lambda x,y:x+'.'+y,num_list,ex_list)) #숫자와 확장자 합치기\n",
        "print(result)\n",
        "\n",
        "\n",
        "# 7  DashInsert 함수\n",
        "# DashInsert 함수는 숫자로 구성된 문자열을 입력받은 뒤 문자열 안에서 홀수가 연속되면 두 수 사이에 - 를 추가하고,\n",
        "# 짝수가 연속되면 * 를 추가하는 기능을 갖고 있다. DashInsert 함수를 완성하시오.\n",
        "\n",
        "# 입력 예시: 4546793\n",
        "# 출력 예시: 454*67-9-3\n",
        "\n",
        "def DashInsert():\n",
        "  s=str(input('숫자입력'))\n",
        "  res=''\n",
        "  for i in range(len(s)-1):\n",
        "    if eval(s[i])%2==1 and eval(s[i+1])%2==1:   #연속된숫자가 홀수이면\n",
        "      res=res+s[i]+'-'\n",
        "    elif eval(s[i])%2==0 and eval(s[i+1])%2==0:   #연속된숫자가 짝수이면\n",
        "      res=res+s[i]+'*'\n",
        "    else:\n",
        "      res=res+s[i]\n",
        "  return res+s[-1]  #입력된 마지막 숫자를 추가\n",
        "\n",
        "DashInsert()"
      ],
      "metadata": {
        "colab": {
          "base_uri": "https://localhost:8080/"
        },
        "id": "3HnoUMC4imHt",
        "outputId": "9de09511-0a54-49a4-e715-f919e98cf23a"
      },
      "execution_count": null,
      "outputs": [
        {
          "output_type": "stream",
          "name": "stdout",
          "text": [
            "Life is too short\n"
          ]
        }
      ]
    },
    {
      "cell_type": "code",
      "source": [
        "# 8 문자열 압축하기(.bmp 파일 압축법-run length기)\n",
        "# 문자열을 입력받아 같은 문자가 연속적으로 반복되는 경우에 그 반복 횟수를 표시해 문자열을 압축하여 표시하시오.\n",
        "\n",
        "# 입력 예시: aaabbcccccca\n",
        "# 출력 예시: a3b2c6a1\n",
        "\n",
        "s=str(input('문자열 입력'))\n",
        "count=0\n",
        "i=0\n",
        "while s[i]!=s[i+1]:\n",
        "  count+=1\n",
        "  i+=1\n",
        "print(s[i],str(count))\n"
      ],
      "metadata": {
        "colab": {
          "base_uri": "https://localhost:8080/"
        },
        "id": "inSkvm7cwY5k",
        "outputId": "a56f39b2-4508-4c7a-b275-471625993463"
      },
      "execution_count": null,
      "outputs": [
        {
          "output_type": "stream",
          "name": "stdout",
          "text": [
            "문자열 입력aaaav\n",
            "a 0\n"
          ]
        }
      ]
    },
    {
      "cell_type": "code",
      "source": [
        "s='aaabbcccccca'\n",
        "i=0\n",
        "if s[i]==s[i+1]:\n",
        "  count=0\n",
        "  while s[i+1]!=s[i+2]:\n",
        "    print(s[i])\n",
        "    count+=1\n",
        "    i+=1\n",
        "  print(s[i],count)"
      ],
      "metadata": {
        "colab": {
          "base_uri": "https://localhost:8080/"
        },
        "id": "MZjrG9pm1APG",
        "outputId": "c1b672df-3d03-4aa3-be82-7c37f62bc22e"
      },
      "execution_count": null,
      "outputs": [
        {
          "output_type": "stream",
          "name": "stdout",
          "text": [
            "a 0\n"
          ]
        }
      ]
    },
    {
      "cell_type": "code",
      "source": [
        "nums =[]\n",
        "while len(nums)!=6:\n",
        "  num=random.randint(1,45)\n",
        "  if num not in nums:\n",
        "    nums.append(num)\n",
        "nums"
      ],
      "metadata": {
        "colab": {
          "base_uri": "https://localhost:8080/"
        },
        "id": "oxbibn03YE7n",
        "outputId": "08b0fe95-c365-47f7-b3f8-3c0e0ed43a1a"
      },
      "execution_count": null,
      "outputs": [
        {
          "output_type": "execute_result",
          "data": {
            "text/plain": [
              "[13, 22, 38, 14, 9, 17]"
            ]
          },
          "metadata": {},
          "execution_count": 362
        }
      ]
    },
    {
      "cell_type": "code",
      "source": [
        "s='aaabbcccccca'\n",
        "s_list=''\n",
        "def s_count(i):\n",
        "  count=1\n",
        "  while s[i]==s[i+1]:\n",
        "    i+=1\n",
        "    count+=1\n",
        "  return i,count\n",
        "\n",
        "i=0\n",
        "s_list+=s[i]\n",
        "s_list\n"
      ],
      "metadata": {
        "colab": {
          "base_uri": "https://localhost:8080/",
          "height": 35
        },
        "id": "C9MdhuU2YQay",
        "outputId": "6cd3b299-c323-4391-f2ba-f7860f35e878"
      },
      "execution_count": null,
      "outputs": [
        {
          "output_type": "execute_result",
          "data": {
            "text/plain": [
              "'a'"
            ],
            "application/vnd.google.colaboratory.intrinsic+json": {
              "type": "string"
            }
          },
          "metadata": {},
          "execution_count": 398
        }
      ]
    },
    {
      "cell_type": "code",
      "source": [
        "text ='aaabbcccccca'\n",
        "count = 1\n",
        "result = ''\n",
        "for i in range(len(text)):\n",
        "    if(result == ''):\n",
        "        result+=text[i]\n",
        "    elif(result[-1] == text[i]):\n",
        "        count += 1\n",
        "    else:\n",
        "        result += str(count) + text[i]\n",
        "        count = 1\n",
        "    if(i == len(text)-1):\n",
        "        result+= str(count)\n",
        "result"
      ],
      "metadata": {
        "colab": {
          "base_uri": "https://localhost:8080/",
          "height": 35
        },
        "id": "Fud4Zu5WZSyk",
        "outputId": "8119986c-7eb7-481d-bb3c-df9a95ef4ca5"
      },
      "execution_count": null,
      "outputs": [
        {
          "output_type": "execute_result",
          "data": {
            "text/plain": [
              "'a3b2c6a1'"
            ],
            "application/vnd.google.colaboratory.intrinsic+json": {
              "type": "string"
            }
          },
          "metadata": {},
          "execution_count": 386
        }
      ]
    },
    {
      "cell_type": "code",
      "source": [
        "# 7  DashInsert 함수\n",
        "# DashInsert 함수는 숫자로 구성된 문자열을 입력받은 뒤 문자열 안에서 홀수가 연속되면 두 수 사이에 - 를 추가하고,\n",
        "# 짝수가 연속되면 * 를 추가하는 기능을 갖고 있다. DashInsert 함수를 완성하시오.\n",
        "\n",
        "# 입력 예시: 4546793\n",
        "# 출력 예시: 454*67-9-3\n",
        "\n",
        "def DashInsert():\n",
        "  s=str(input('숫자입력'))\n",
        "  res=''\n",
        "  for i in range(len(s)-1):\n",
        "    if eval(s[i])%2==1 and eval(s[i+1])%2==1:   #연속된숫자가 홀수이면\n",
        "      res=res+s[i]+'-'\n",
        "    elif eval(s[i])%2==0 and eval(s[i+1])%2==0:   #연속된숫자가 짝수이면\n",
        "      res=res+s[i]+'*'\n",
        "    else:\n",
        "      res=res+s[i]\n",
        "  return res+s[-1]  #입력된 마지막 숫자를 추가\n",
        "\n",
        "DashInsert()"
      ],
      "metadata": {
        "colab": {
          "base_uri": "https://localhost:8080/",
          "height": 54
        },
        "id": "uekHmPHDpoaJ",
        "outputId": "c0f9dde0-6075-4510-fdcf-d46ec8be2049"
      },
      "execution_count": null,
      "outputs": [
        {
          "name": "stdout",
          "output_type": "stream",
          "text": [
            "숫자입력4546793\n"
          ]
        },
        {
          "output_type": "execute_result",
          "data": {
            "text/plain": [
              "'454*67-9-3'"
            ],
            "application/vnd.google.colaboratory.intrinsic+json": {
              "type": "string"
            }
          },
          "metadata": {},
          "execution_count": 1
        }
      ]
    },
    {
      "cell_type": "code",
      "source": [],
      "metadata": {
        "id": "gS4honSne6LD"
      },
      "execution_count": null,
      "outputs": []
    }
  ]
}