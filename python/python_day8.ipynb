{
  "nbformat": 4,
  "nbformat_minor": 0,
  "metadata": {
    "colab": {
      "provenance": []
    },
    "kernelspec": {
      "name": "python3",
      "display_name": "Python 3"
    },
    "language_info": {
      "name": "python"
    }
  },
  "cells": [
    {
      "cell_type": "code",
      "execution_count": null,
      "metadata": {
        "id": "0gbY_zxSH3wv"
      },
      "outputs": [],
      "source": [
        "# [0-9]*\n",
        "# [0-9a-z]*\n",
        "# 문자?\n",
        "# [0-9]?\n",
        "# abc?d"
      ]
    },
    {
      "cell_type": "code",
      "source": [
        "import re"
      ],
      "metadata": {
        "id": "3R417wAyRxji"
      },
      "execution_count": null,
      "outputs": []
    },
    {
      "cell_type": "code",
      "source": [
        "re.match('abc?d', 'abd')\n",
        "re.match('abc?d', 'abcd')"
      ],
      "metadata": {
        "colab": {
          "base_uri": "https://localhost:8080/"
        },
        "id": "2XY6bK2xSAqu",
        "outputId": "a5c27e29-b803-4288-fd0b-366e323b8c7a"
      },
      "execution_count": null,
      "outputs": [
        {
          "output_type": "execute_result",
          "data": {
            "text/plain": [
              "<re.Match object; span=(0, 4), match='abcd'>"
            ]
          },
          "metadata": {},
          "execution_count": 5
        }
      ]
    },
    {
      "cell_type": "code",
      "source": [
        "re.match('abc?d', 'abccd')"
      ],
      "metadata": {
        "id": "D7uEA2RFSGmF"
      },
      "execution_count": null,
      "outputs": []
    },
    {
      "cell_type": "code",
      "source": [
        "re.match('ab.d', 'ab')"
      ],
      "metadata": {
        "id": "URtQp9EuSSch"
      },
      "execution_count": null,
      "outputs": []
    },
    {
      "cell_type": "code",
      "source": [
        "#a{3} : a문자가 정확하게 3개\n",
        "re.match(\"a{3}\", \"aaa\")\n",
        "re.match(\"a{3}\", \"aaaa\")\n",
        "re.match(\"a{3}\", \"baaaa\")\n",
        "re.match(\"a{3}\", \"aabaa\")\n",
        "re.match(\"abc{3}\", \"abccc\")\n",
        "re.match(\"abc{3}\", \"ccc\")"
      ],
      "metadata": {
        "id": "QCvlBK0ASXuM"
      },
      "execution_count": null,
      "outputs": []
    },
    {
      "cell_type": "code",
      "source": [
        "re.match('[0-9]','5')\n",
        "re.match('[0-9]*','5')    # 0개이상\n",
        "re.match('[0-9]+','5')    # 1개이"
      ],
      "metadata": {
        "colab": {
          "base_uri": "https://localhost:8080/"
        },
        "id": "jHwpUapPTeOp",
        "outputId": "d4179bc2-2dfb-40c5-cb40-70046f6ec2da"
      },
      "execution_count": null,
      "outputs": [
        {
          "output_type": "execute_result",
          "data": {
            "text/plain": [
              "<re.Match object; span=(0, 1), match='5'>"
            ]
          },
          "metadata": {},
          "execution_count": 17
        }
      ]
    },
    {
      "cell_type": "code",
      "source": [
        "re.match(\"010-[0-9]{4}-[0-9]{4}\",\"010-1234-56778\")"
      ],
      "metadata": {
        "colab": {
          "base_uri": "https://localhost:8080/"
        },
        "id": "XJNEw1QOTkAD",
        "outputId": "4a269de6-f51d-45ee-aebb-5dbdf3a0d64d"
      },
      "execution_count": null,
      "outputs": [
        {
          "output_type": "execute_result",
          "data": {
            "text/plain": [
              "<re.Match object; span=(0, 13), match='010-1234-5677'>"
            ]
          },
          "metadata": {},
          "execution_count": 18
        }
      ]
    },
    {
      "cell_type": "code",
      "source": [
        "tel=\"010-1234-56778\"\n",
        "res=re.match(\"[0-9]{2,3}-[0-9]{3,4}-[0-9]{4}\",tel)   #{0,0}:0이상, 0"
      ],
      "metadata": {
        "id": "hwZyObmxWVlh"
      },
      "execution_count": null,
      "outputs": []
    },
    {
      "cell_type": "code",
      "source": [
        "res"
      ],
      "metadata": {
        "colab": {
          "base_uri": "https://localhost:8080/"
        },
        "id": "049ejN2GbTsx",
        "outputId": "107a7729-fab8-4573-c86a-afb8171dcf18"
      },
      "execution_count": null,
      "outputs": [
        {
          "output_type": "execute_result",
          "data": {
            "text/plain": [
              "<re.Match object; span=(0, 13), match='010-1234-5677'>"
            ]
          },
          "metadata": {},
          "execution_count": 25
        }
      ]
    },
    {
      "cell_type": "code",
      "source": [
        "res.span()[0]\n",
        "res.span()[1]\n",
        "tel[res.span()[0]:res.span()[1]]      #res.group()"
      ],
      "metadata": {
        "colab": {
          "base_uri": "https://localhost:8080/",
          "height": 35
        },
        "id": "Nv0e8Zmfbf6W",
        "outputId": "712f9a7e-af49-44f8-8064-6b2334efa989"
      },
      "execution_count": null,
      "outputs": [
        {
          "output_type": "execute_result",
          "data": {
            "text/plain": [
              "'010-1234-5677'"
            ],
            "application/vnd.google.colaboratory.intrinsic+json": {
              "type": "string"
            }
          },
          "metadata": {},
          "execution_count": 29
        }
      ]
    },
    {
      "cell_type": "code",
      "source": [
        "res.group()"
      ],
      "metadata": {
        "colab": {
          "base_uri": "https://localhost:8080/",
          "height": 35
        },
        "id": "6Yfyg9Zmbnvx",
        "outputId": "54f4bc87-0c97-4b48-c932-84bbdee0f833"
      },
      "execution_count": null,
      "outputs": [
        {
          "output_type": "execute_result",
          "data": {
            "text/plain": [
              "'010-1234-5677'"
            ],
            "application/vnd.google.colaboratory.intrinsic+json": {
              "type": "string"
            }
          },
          "metadata": {},
          "execution_count": 31
        }
      ]
    },
    {
      "cell_type": "code",
      "source": [
        "re.match(\"[A-Z][a-z]+[0-9]+\",\"Hello123\")"
      ],
      "metadata": {
        "colab": {
          "base_uri": "https://localhost:8080/"
        },
        "id": "Jeaqyd5qcLfE",
        "outputId": "2e97e83f-ee1e-4511-f8f8-9434a9842cad"
      },
      "execution_count": null,
      "outputs": [
        {
          "output_type": "execute_result",
          "data": {
            "text/plain": [
              "<re.Match object; span=(0, 8), match='Hello123'>"
            ]
          },
          "metadata": {},
          "execution_count": 32
        }
      ]
    },
    {
      "cell_type": "code",
      "source": [
        "# A :65\n",
        "# Z:90\n",
        "# a:97\n",
        "# z:122"
      ],
      "metadata": {
        "id": "7w8qbU34hqHh"
      },
      "execution_count": null,
      "outputs": []
    },
    {
      "cell_type": "code",
      "source": [
        "re.match('[가-힣]+','딥러닝')"
      ],
      "metadata": {
        "colab": {
          "base_uri": "https://localhost:8080/"
        },
        "id": "s2bzaE57eskX",
        "outputId": "6c914647-d921-43ee-e8bd-110448a0be39"
      },
      "execution_count": null,
      "outputs": [
        {
          "output_type": "execute_result",
          "data": {
            "text/plain": [
              "<re.Match object; span=(0, 3), match='딥러닝'>"
            ]
          },
          "metadata": {},
          "execution_count": 35
        }
      ]
    },
    {
      "cell_type": "code",
      "source": [
        "re.match('[^가-힣]+','딥러닝')    # ^:제외"
      ],
      "metadata": {
        "id": "9ySPALyahyc7"
      },
      "execution_count": null,
      "outputs": []
    },
    {
      "cell_type": "code",
      "source": [
        "re.match('[^0-9]+','딥러닝')"
      ],
      "metadata": {
        "colab": {
          "base_uri": "https://localhost:8080/"
        },
        "id": "XCQhLv2Rh5ld",
        "outputId": "f14d5b67-2668-4b2b-ed3b-0918d969926d"
      },
      "execution_count": null,
      "outputs": [
        {
          "output_type": "execute_result",
          "data": {
            "text/plain": [
              "<re.Match object; span=(0, 3), match='딥러닝'>"
            ]
          },
          "metadata": {},
          "execution_count": 39
        }
      ]
    },
    {
      "cell_type": "code",
      "source": [
        "re.match('[^0-9a-z]+','오늘의 환율은 1300원입니다')"
      ],
      "metadata": {
        "colab": {
          "base_uri": "https://localhost:8080/"
        },
        "id": "hn1NXLn6iAMm",
        "outputId": "21a635f6-99ea-41cb-f133-83adb019f235"
      },
      "execution_count": null,
      "outputs": [
        {
          "output_type": "execute_result",
          "data": {
            "text/plain": [
              "<re.Match object; span=(0, 8), match='오늘의 환율은 '>"
            ]
          },
          "metadata": {},
          "execution_count": 40
        }
      ]
    },
    {
      "cell_type": "code",
      "source": [
        "re.match('^[A-Z]+','HELLOhi')   # ^[]: 특정문자열로 시작하는것이 매치됨."
      ],
      "metadata": {
        "colab": {
          "base_uri": "https://localhost:8080/"
        },
        "id": "IS7K4214i9UT",
        "outputId": "a7a0913a-6319-4b0b-d0f1-d41590220cf9"
      },
      "execution_count": null,
      "outputs": [
        {
          "output_type": "execute_result",
          "data": {
            "text/plain": [
              "<re.Match object; span=(0, 5), match='HELLO'>"
            ]
          },
          "metadata": {},
          "execution_count": 41
        }
      ]
    },
    {
      "cell_type": "code",
      "source": [
        "# [범위]*$ # 특정문자(숫자) 범위로 끝나는지 확인\n",
        "# [범위]+$ # 특정문자(숫자) 범위로 끝나는지 확인"
      ],
      "metadata": {
        "id": "YcMtllUA1p0e"
      },
      "execution_count": null,
      "outputs": []
    },
    {
      "cell_type": "code",
      "source": [
        "# re.match(\"[0-9]+$\",\"abc123\")     #match는 왼쪽부터 보기때문에 매치가 안됨.\n",
        "re.search(\"[0-9]+$\",\"abc123\")"
      ],
      "metadata": {
        "colab": {
          "base_uri": "https://localhost:8080/"
        },
        "id": "XD9A4XyQ1-PP",
        "outputId": "17999ce0-58e9-411f-e733-b409cb0faeb6"
      },
      "execution_count": null,
      "outputs": [
        {
          "output_type": "execute_result",
          "data": {
            "text/plain": [
              "<re.Match object; span=(3, 6), match='123'>"
            ]
          },
          "metadata": {},
          "execution_count": 46
        }
      ]
    },
    {
      "cell_type": "code",
      "source": [
        "re.search(\"[0-9]+$\",\"abc123afv\")      # match 안됨. 숫자가 아닌것으로 끝낫으니까."
      ],
      "metadata": {
        "id": "iJujnW4D2Rl0"
      },
      "execution_count": null,
      "outputs": []
    },
    {
      "cell_type": "code",
      "source": [
        "re.search(\"[0-9]+\",\"abc123afv\")"
      ],
      "metadata": {
        "colab": {
          "base_uri": "https://localhost:8080/"
        },
        "id": "Uf3jHscG24jH",
        "outputId": "e8e1cd29-0b56-45cf-92da-c3386adc42c0"
      },
      "execution_count": null,
      "outputs": [
        {
          "output_type": "execute_result",
          "data": {
            "text/plain": [
              "<re.Match object; span=(3, 6), match='123'>"
            ]
          },
          "metadata": {},
          "execution_count": 48
        }
      ]
    },
    {
      "cell_type": "code",
      "source": [
        "re.search(\"[*]+\", \"3**2\")   # *이 1개 이상 있는지 판단"
      ],
      "metadata": {
        "colab": {
          "base_uri": "https://localhost:8080/"
        },
        "id": "w2hh9ah-3yz3",
        "outputId": "62b4414e-e468-4730-9ebb-98dceae7fad8"
      },
      "execution_count": null,
      "outputs": [
        {
          "output_type": "execute_result",
          "data": {
            "text/plain": [
              "<re.Match object; span=(1, 3), match='**'>"
            ]
          },
          "metadata": {},
          "execution_count": 50
        }
      ]
    },
    {
      "cell_type": "code",
      "source": [
        "re.search(\"\\*+\", \"3**2\")"
      ],
      "metadata": {
        "colab": {
          "base_uri": "https://localhost:8080/"
        },
        "id": "mSO4r0b74EDx",
        "outputId": "1e02247a-7c61-42a2-e822-51a26bb8ee0d"
      },
      "execution_count": null,
      "outputs": [
        {
          "output_type": "execute_result",
          "data": {
            "text/plain": [
              "<re.Match object; span=(1, 3), match='**'>"
            ]
          },
          "metadata": {},
          "execution_count": 51
        }
      ]
    },
    {
      "cell_type": "code",
      "source": [
        "re.search(\"[0-9]+[*]+[0-9]+[/][0-9]+\",\"2**3/2\")"
      ],
      "metadata": {
        "colab": {
          "base_uri": "https://localhost:8080/"
        },
        "id": "Joq121mG4i-2",
        "outputId": "72a2da21-cfff-4f16-89c9-9cce1adcabee"
      },
      "execution_count": null,
      "outputs": [
        {
          "output_type": "execute_result",
          "data": {
            "text/plain": [
              "<re.Match object; span=(0, 6), match='2**3/2'>"
            ]
          },
          "metadata": {},
          "execution_count": 52
        }
      ]
    },
    {
      "cell_type": "code",
      "source": [
        "re.search(\"[1-9] [*]+ [1-9] [/] [1-9]\", \"2 ** 3 / 2\")"
      ],
      "metadata": {
        "colab": {
          "base_uri": "https://localhost:8080/"
        },
        "id": "3hh9Kc605kAG",
        "outputId": "ff52d49f-a232-482f-9476-392bf371089a"
      },
      "execution_count": null,
      "outputs": [
        {
          "output_type": "execute_result",
          "data": {
            "text/plain": [
              "<re.Match object; span=(0, 10), match='2 ** 3 / 2'>"
            ]
          },
          "metadata": {},
          "execution_count": 56
        }
      ]
    },
    {
      "cell_type": "code",
      "source": [
        "re.search(\"[$][(][a-z]+[)]\",\"$(print)\")"
      ],
      "metadata": {
        "colab": {
          "base_uri": "https://localhost:8080/"
        },
        "id": "gO3dh3w16XiO",
        "outputId": "37395df8-e0b7-4814-c6e8-6349c8190c1b"
      },
      "execution_count": null,
      "outputs": [
        {
          "output_type": "execute_result",
          "data": {
            "text/plain": [
              "<re.Match object; span=(0, 8), match='$(print)'>"
            ]
          },
          "metadata": {},
          "execution_count": 57
        }
      ]
    },
    {
      "cell_type": "code",
      "source": [
        "re.search(\"[$()a-z]+\",\"$(print)\")"
      ],
      "metadata": {
        "colab": {
          "base_uri": "https://localhost:8080/"
        },
        "id": "YiIohTjM8aDy",
        "outputId": "cd2a1c29-95a2-4d1d-c605-5ea81ef19cec"
      },
      "execution_count": null,
      "outputs": [
        {
          "output_type": "execute_result",
          "data": {
            "text/plain": [
              "<re.Match object; span=(0, 8), match='$(print)'>"
            ]
          },
          "metadata": {},
          "execution_count": 58
        }
      ]
    },
    {
      "cell_type": "markdown",
      "source": [
        "## 기호로 표현"
      ],
      "metadata": {
        "id": "tW55Vz02s6Vu"
      }
    },
    {
      "cell_type": "code",
      "source": [
        "'''\n",
        "[0-9] == \\d\n",
        "숫자를 제외한 모든 문자 == \\D ==  [^0-9]\n",
        "[a-zA-Zㄱ-ㅎ가-힣0-9_]== \\w\n",
        "[a-zA-Zㄱ-ㅎ가-힣0-9_]== \\W\n",
        "'''"
      ],
      "metadata": {
        "colab": {
          "base_uri": "https://localhost:8080/",
          "height": 35
        },
        "id": "tLbi0A6w8j-e",
        "outputId": "bc7a19e6-02cd-4adf-81c3-6be7302bfb4b"
      },
      "execution_count": null,
      "outputs": [
        {
          "output_type": "execute_result",
          "data": {
            "text/plain": [
              "'\\n[0-9] == \\\\d\\n숫자를 제외한 모든 문자 == \\\\D ==  [^0-9]\\n'"
            ],
            "application/vnd.google.colaboratory.intrinsic+json": {
              "type": "string"
            }
          },
          "metadata": {},
          "execution_count": 62
        }
      ]
    },
    {
      "cell_type": "code",
      "source": [
        "re.search(\"[^0-9]+\", \"sdfk알ㄴㅇ리\")    # 숫자 아니면 모두 매치"
      ],
      "metadata": {
        "colab": {
          "base_uri": "https://localhost:8080/"
        },
        "id": "UBEuq-3p9Wl6",
        "outputId": "296dac2d-3b19-4675-c682-7d915b8d13e3"
      },
      "execution_count": null,
      "outputs": [
        {
          "output_type": "execute_result",
          "data": {
            "text/plain": [
              "<re.Match object; span=(0, 8), match='sdfk알ㄴㅇ리'>"
            ]
          },
          "metadata": {},
          "execution_count": 63
        }
      ]
    },
    {
      "cell_type": "code",
      "source": [
        "re.match(\"\\d+\", \"1231243\")\n",
        "re.match(\"\\D+\", \"hihello~반가워안녕\")\n",
        "re.match(\"\\w+\", \"hello_2231\")\n",
        "re.match(\"\\W+\", \"가나다ㅏ\")"
      ],
      "metadata": {
        "id": "4WWWfUmY9cul"
      },
      "execution_count": null,
      "outputs": []
    },
    {
      "cell_type": "code",
      "source": [
        "re.match(\"[ㄱ-ㅎㅏ-ㅣ]+\", \"ㅋㅋㅓㅓ\")"
      ],
      "metadata": {
        "colab": {
          "base_uri": "https://localhost:8080/"
        },
        "id": "R2YakAUa-H2r",
        "outputId": "b458b94e-72e7-4e8c-bde1-da0110091932"
      },
      "execution_count": null,
      "outputs": [
        {
          "output_type": "execute_result",
          "data": {
            "text/plain": [
              "<re.Match object; span=(0, 4), match='ㅋㅋㅓㅓ'>"
            ]
          },
          "metadata": {},
          "execution_count": 81
        }
      ]
    },
    {
      "cell_type": "code",
      "source": [
        "# \\s: 공백, 줄바꿈, 탭\n",
        "re.search(\"\\s+\", \"hi      hello\")"
      ],
      "metadata": {
        "colab": {
          "base_uri": "https://localhost:8080/"
        },
        "id": "Cz4fzPBO_KlX",
        "outputId": "e87dc0fb-1d55-4d04-f416-f4dc37bd0ee3"
      },
      "execution_count": null,
      "outputs": [
        {
          "output_type": "execute_result",
          "data": {
            "text/plain": [
              "<re.Match object; span=(2, 8), match='      '>"
            ]
          },
          "metadata": {},
          "execution_count": 83
        }
      ]
    },
    {
      "cell_type": "code",
      "source": [
        "re.search(\"[$(a-z})]+\", \"$(print)\")"
      ],
      "metadata": {
        "colab": {
          "base_uri": "https://localhost:8080/"
        },
        "id": "v6MOBFTC_3b-",
        "outputId": "1cf1762f-1c19-46cc-c5a9-bfc9c7b3ed21"
      },
      "execution_count": null,
      "outputs": [
        {
          "output_type": "execute_result",
          "data": {
            "text/plain": [
              "<re.Match object; span=(0, 8), match='$(print)'>"
            ]
          },
          "metadata": {},
          "execution_count": 84
        }
      ]
    },
    {
      "cell_type": "code",
      "source": [
        "pat = re.compile(\"[0-9]+\")"
      ],
      "metadata": {
        "id": "RKYNxjocAROm"
      },
      "execution_count": null,
      "outputs": []
    },
    {
      "cell_type": "code",
      "source": [
        "pat.match('123')"
      ],
      "metadata": {
        "colab": {
          "base_uri": "https://localhost:8080/"
        },
        "id": "UBYir1v5Drba",
        "outputId": "c9896a08-8f50-4f72-9993-b00d278c1cde"
      },
      "execution_count": null,
      "outputs": [
        {
          "output_type": "execute_result",
          "data": {
            "text/plain": [
              "<re.Match object; span=(0, 3), match='123'>"
            ]
          },
          "metadata": {},
          "execution_count": 86
        }
      ]
    },
    {
      "cell_type": "code",
      "source": [
        "pat.search(\"abc123def\")"
      ],
      "metadata": {
        "colab": {
          "base_uri": "https://localhost:8080/"
        },
        "id": "n56zFpLGDsxP",
        "outputId": "1ba8f714-26a8-4fd3-bc21-b13d288cfb5c"
      },
      "execution_count": null,
      "outputs": [
        {
          "output_type": "execute_result",
          "data": {
            "text/plain": [
              "<re.Match object; span=(3, 6), match='123'>"
            ]
          },
          "metadata": {},
          "execution_count": 87
        }
      ]
    },
    {
      "cell_type": "code",
      "source": [
        "res = re.match(\"[0-9]+\", \"123\")"
      ],
      "metadata": {
        "id": "myE4Xe4FD_O-"
      },
      "execution_count": null,
      "outputs": []
    },
    {
      "cell_type": "code",
      "source": [
        "if res:\n",
        "  print(\"매치됐어요\", res.group())\n",
        "else:\n",
        "  print(\"no match\")"
      ],
      "metadata": {
        "colab": {
          "base_uri": "https://localhost:8080/"
        },
        "id": "6bMCbdc5Ebyo",
        "outputId": "f6d54e36-297a-4ac0-a7a3-ccaafe8e0dd2"
      },
      "execution_count": null,
      "outputs": [
        {
          "output_type": "stream",
          "name": "stdout",
          "text": [
            "매치됐어요 123\n"
          ]
        }
      ]
    },
    {
      "cell_type": "code",
      "source": [
        "print(res)"
      ],
      "metadata": {
        "colab": {
          "base_uri": "https://localhost:8080/"
        },
        "id": "8I_CbHPREhpe",
        "outputId": "f694f909-f183-4143-c60a-dfdf3fcc0735"
      },
      "execution_count": null,
      "outputs": [
        {
          "output_type": "stream",
          "name": "stdout",
          "text": [
            "<re.Match object; span=(0, 3), match='123'>\n"
          ]
        }
      ]
    },
    {
      "cell_type": "code",
      "source": [
        "re.search(\"[a-zA-Z]+\", \"Do you have some money?\")"
      ],
      "metadata": {
        "colab": {
          "base_uri": "https://localhost:8080/"
        },
        "id": "dtCPuRO2Eq21",
        "outputId": "3aec3a7a-817f-4405-9506-50cb49c08180"
      },
      "execution_count": null,
      "outputs": [
        {
          "output_type": "execute_result",
          "data": {
            "text/plain": [
              "<re.Match object; span=(0, 2), match='Do'>"
            ]
          },
          "metadata": {},
          "execution_count": 105
        }
      ]
    },
    {
      "cell_type": "code",
      "source": [
        "res = re.findall(\"[a-zA-Z]+\", \"Do you have some money?\")      # re.findall(): 모든걸 찾아서 list로"
      ],
      "metadata": {
        "id": "I8GtCkJDFINk"
      },
      "execution_count": null,
      "outputs": []
    },
    {
      "cell_type": "code",
      "source": [
        "res"
      ],
      "metadata": {
        "colab": {
          "base_uri": "https://localhost:8080/"
        },
        "id": "yTVoASHKFPDF",
        "outputId": "e31aede2-452e-4654-eced-4435dc65907e"
      },
      "execution_count": null,
      "outputs": [
        {
          "output_type": "execute_result",
          "data": {
            "text/plain": [
              "['Do', 'you', 'have', 'some', 'money']"
            ]
          },
          "metadata": {},
          "execution_count": 108
        }
      ]
    },
    {
      "cell_type": "code",
      "source": [
        "for r in res:\n",
        "  print(r)"
      ],
      "metadata": {
        "colab": {
          "base_uri": "https://localhost:8080/"
        },
        "id": "4phDpXscFahU",
        "outputId": "4102bccd-d0f4-472d-9d2c-35ad90f808a7"
      },
      "execution_count": null,
      "outputs": [
        {
          "output_type": "stream",
          "name": "stdout",
          "text": [
            "Do\n",
            "you\n",
            "have\n",
            "some\n",
            "money\n"
          ]
        }
      ]
    },
    {
      "cell_type": "code",
      "source": [
        "res = re.finditer(\"[a-zA-Z]+\", \"Do you have some money?\")"
      ],
      "metadata": {
        "id": "_dWdzkm1Fci3"
      },
      "execution_count": null,
      "outputs": []
    },
    {
      "cell_type": "code",
      "source": [
        "res"
      ],
      "metadata": {
        "colab": {
          "base_uri": "https://localhost:8080/"
        },
        "id": "JRUafB4NFwFe",
        "outputId": "4c9295ce-3d56-4750-84ae-02a646e4d6bf"
      },
      "execution_count": null,
      "outputs": [
        {
          "output_type": "execute_result",
          "data": {
            "text/plain": [
              "<callable_iterator at 0x7e766040a8f0>"
            ]
          },
          "metadata": {},
          "execution_count": 111
        }
      ]
    },
    {
      "cell_type": "code",
      "source": [
        "for r in res:\n",
        "  print(r)"
      ],
      "metadata": {
        "colab": {
          "base_uri": "https://localhost:8080/"
        },
        "id": "OePZXmg_FwWO",
        "outputId": "91aba525-ece8-4a88-935a-74f97e3924c7"
      },
      "execution_count": null,
      "outputs": [
        {
          "output_type": "stream",
          "name": "stdout",
          "text": [
            "<re.Match object; span=(0, 2), match='Do'>\n",
            "<re.Match object; span=(3, 6), match='you'>\n",
            "<re.Match object; span=(7, 11), match='have'>\n",
            "<re.Match object; span=(12, 16), match='some'>\n",
            "<re.Match object; span=(17, 22), match='money'>\n"
          ]
        }
      ]
    },
    {
      "cell_type": "code",
      "source": [
        "m = re.match(\"[0-9]+\", \"123\")"
      ],
      "metadata": {
        "id": "xZmo_1yNF_39"
      },
      "execution_count": null,
      "outputs": []
    },
    {
      "cell_type": "code",
      "source": [
        "m"
      ],
      "metadata": {
        "colab": {
          "base_uri": "https://localhost:8080/"
        },
        "id": "0xPQv9IMGMGS",
        "outputId": "2271410e-f5dd-4ff8-ad15-cf9a13bd3e7e"
      },
      "execution_count": null,
      "outputs": [
        {
          "output_type": "execute_result",
          "data": {
            "text/plain": [
              "<re.Match object; span=(0, 3), match='123'>"
            ]
          },
          "metadata": {},
          "execution_count": 115
        }
      ]
    },
    {
      "cell_type": "code",
      "source": [
        "m.start()"
      ],
      "metadata": {
        "colab": {
          "base_uri": "https://localhost:8080/"
        },
        "id": "4zKmDu6rGSC6",
        "outputId": "3c23a813-9f9d-4d92-fe05-bec5e9621d09"
      },
      "execution_count": null,
      "outputs": [
        {
          "output_type": "execute_result",
          "data": {
            "text/plain": [
              "0"
            ]
          },
          "metadata": {},
          "execution_count": 116
        }
      ]
    },
    {
      "cell_type": "code",
      "source": [
        "m.end()"
      ],
      "metadata": {
        "colab": {
          "base_uri": "https://localhost:8080/"
        },
        "id": "nK2Yu05wGTNv",
        "outputId": "5258b09a-2db8-4975-bb81-856cd5d88ddf"
      },
      "execution_count": null,
      "outputs": [
        {
          "output_type": "execute_result",
          "data": {
            "text/plain": [
              "3"
            ]
          },
          "metadata": {},
          "execution_count": 118
        }
      ]
    },
    {
      "cell_type": "code",
      "source": [
        "m.span()"
      ],
      "metadata": {
        "colab": {
          "base_uri": "https://localhost:8080/"
        },
        "id": "B8UiB0GbGYAK",
        "outputId": "a140c4af-a1f8-4546-8c1f-10f93a8d6542"
      },
      "execution_count": null,
      "outputs": [
        {
          "output_type": "execute_result",
          "data": {
            "text/plain": [
              "(0, 3)"
            ]
          },
          "metadata": {},
          "execution_count": 119
        }
      ]
    },
    {
      "cell_type": "code",
      "source": [
        "m = re.search(\"[0-9]+\", \"123\")"
      ],
      "metadata": {
        "id": "oKRsc3HlGxKf"
      },
      "execution_count": null,
      "outputs": []
    },
    {
      "cell_type": "code",
      "source": [
        "m"
      ],
      "metadata": {
        "colab": {
          "base_uri": "https://localhost:8080/"
        },
        "id": "gu5_6v_gG0i6",
        "outputId": "87fbc149-53d0-4fba-d301-3348509be157"
      },
      "execution_count": null,
      "outputs": [
        {
          "output_type": "execute_result",
          "data": {
            "text/plain": [
              "<re.Match object; span=(0, 3), match='123'>"
            ]
          },
          "metadata": {},
          "execution_count": 122
        }
      ]
    },
    {
      "cell_type": "code",
      "source": [
        "m.start()"
      ],
      "metadata": {
        "colab": {
          "base_uri": "https://localhost:8080/"
        },
        "id": "bdeB-XRTG5Fh",
        "outputId": "37c6710f-105a-49b0-c621-bde83daf25bf"
      },
      "execution_count": null,
      "outputs": [
        {
          "output_type": "execute_result",
          "data": {
            "text/plain": [
              "0"
            ]
          },
          "metadata": {},
          "execution_count": 123
        }
      ]
    },
    {
      "cell_type": "markdown",
      "source": [
        "# 정규식"
      ],
      "metadata": {
        "id": "33z6jFXRLye-"
      }
    },
    {
      "cell_type": "code",
      "source": [
        "#(정규식)(정규식)\n",
        "# 그룹 : (정규식)\n",
        "res=re.match(\"([0-9]+) ([0-9]+)\", \"100 200 300\")\n",
        "res"
      ],
      "metadata": {
        "colab": {
          "base_uri": "https://localhost:8080/"
        },
        "id": "c6MjTWa4G8OJ",
        "outputId": "8ed1d010-abe1-4ef4-8be3-6a2f6d9e9333"
      },
      "execution_count": null,
      "outputs": [
        {
          "output_type": "execute_result",
          "data": {
            "text/plain": [
              "<re.Match object; span=(0, 7), match='100 200'>"
            ]
          },
          "metadata": {},
          "execution_count": 124
        }
      ]
    },
    {
      "cell_type": "code",
      "source": [
        "res.group(1)"
      ],
      "metadata": {
        "colab": {
          "base_uri": "https://localhost:8080/",
          "height": 35
        },
        "id": "vi_-dM3nH09Z",
        "outputId": "34622415-9790-4cd5-c291-8efac922f2e9"
      },
      "execution_count": null,
      "outputs": [
        {
          "output_type": "execute_result",
          "data": {
            "text/plain": [
              "'100'"
            ],
            "application/vnd.google.colaboratory.intrinsic+json": {
              "type": "string"
            }
          },
          "metadata": {},
          "execution_count": 125
        }
      ]
    },
    {
      "cell_type": "code",
      "source": [
        "res.group()"
      ],
      "metadata": {
        "colab": {
          "base_uri": "https://localhost:8080/",
          "height": 35
        },
        "id": "F4iSdFCbIDUx",
        "outputId": "17039415-8696-4f72-8f01-805782634239"
      },
      "execution_count": null,
      "outputs": [
        {
          "output_type": "execute_result",
          "data": {
            "text/plain": [
              "'100 200'"
            ],
            "application/vnd.google.colaboratory.intrinsic+json": {
              "type": "string"
            }
          },
          "metadata": {},
          "execution_count": 126
        }
      ]
    },
    {
      "cell_type": "code",
      "source": [
        "res.group(0)"
      ],
      "metadata": {
        "colab": {
          "base_uri": "https://localhost:8080/",
          "height": 35
        },
        "id": "RhBd7nlPIWX1",
        "outputId": "65f476d4-869e-4c84-f693-2ee64e3c87b3"
      },
      "execution_count": null,
      "outputs": [
        {
          "output_type": "execute_result",
          "data": {
            "text/plain": [
              "'100 200'"
            ],
            "application/vnd.google.colaboratory.intrinsic+json": {
              "type": "string"
            }
          },
          "metadata": {},
          "execution_count": 127
        }
      ]
    },
    {
      "cell_type": "code",
      "source": [
        "res.groups()    #패턴에 매치된 문자열을 튜플형식으로 리턴"
      ],
      "metadata": {
        "colab": {
          "base_uri": "https://localhost:8080/"
        },
        "id": "4RaIfVD_IX8d",
        "outputId": "15b07066-35d0-451a-eb1e-116950409a14"
      },
      "execution_count": null,
      "outputs": [
        {
          "output_type": "execute_result",
          "data": {
            "text/plain": [
              "('100', '200')"
            ]
          },
          "metadata": {},
          "execution_count": 129
        }
      ]
    },
    {
      "cell_type": "code",
      "source": [
        "#패턴 그룹에 대한 이름 부여\n",
        "#(?P<그룹이름>정규식)"
      ],
      "metadata": {
        "id": "T3LzJQDzIZg7"
      },
      "execution_count": null,
      "outputs": []
    },
    {
      "cell_type": "code",
      "source": [
        "res = re.match(\"(?P<func>[a-z]+)\\(?P<arg>\\d+\\)\", \"print(100)\")\n",
        "res"
      ],
      "metadata": {
        "id": "Z2ZSZhmXI8xX"
      },
      "execution_count": null,
      "outputs": []
    },
    {
      "cell_type": "code",
      "source": [
        "res.group('func') # 'func'라는 그룹 이름에 해당되는 패턴에 매치된 문자열을 리턴"
      ],
      "metadata": {
        "colab": {
          "base_uri": "https://localhost:8080/",
          "height": 35
        },
        "id": "A6WcQXLXJDa-",
        "outputId": "d2b37226-13d7-4c24-e192-f5de9392aa38"
      },
      "execution_count": null,
      "outputs": [
        {
          "output_type": "execute_result",
          "data": {
            "text/plain": [
              "'print'"
            ],
            "application/vnd.google.colaboratory.intrinsic+json": {
              "type": "string"
            }
          },
          "metadata": {},
          "execution_count": 134
        }
      ]
    },
    {
      "cell_type": "code",
      "source": [
        "res=re.match(\"(?P<func>[a-z]+)\\((?P<arg>\\d+)\\)\", \"print(100)\")\n",
        "res"
      ],
      "metadata": {
        "colab": {
          "base_uri": "https://localhost:8080/"
        },
        "id": "KV2cTdrEJ4Mo",
        "outputId": "61e14de6-1694-4042-b7af-c64a10c7baf7"
      },
      "execution_count": null,
      "outputs": [
        {
          "output_type": "execute_result",
          "data": {
            "text/plain": [
              "<re.Match object; span=(0, 10), match='print(100)'>"
            ]
          },
          "metadata": {},
          "execution_count": 138
        }
      ]
    },
    {
      "cell_type": "code",
      "source": [
        "res.group('arg')"
      ],
      "metadata": {
        "colab": {
          "base_uri": "https://localhost:8080/",
          "height": 35
        },
        "id": "7_UFBb5OKRiT",
        "outputId": "72decbff-171e-4612-d511-8139250b01d7"
      },
      "execution_count": null,
      "outputs": [
        {
          "output_type": "execute_result",
          "data": {
            "text/plain": [
              "'100'"
            ],
            "application/vnd.google.colaboratory.intrinsic+json": {
              "type": "string"
            }
          },
          "metadata": {},
          "execution_count": 139
        }
      ]
    },
    {
      "cell_type": "code",
      "source": [
        "re.findall(\"(\\d+)\", \"10 20 sky 50 100 bird 200\")"
      ],
      "metadata": {
        "colab": {
          "base_uri": "https://localhost:8080/"
        },
        "id": "RAmwWzc2KW1u",
        "outputId": "4632a995-c519-45c9-e61f-c73a56a3a95a"
      },
      "execution_count": null,
      "outputs": [
        {
          "output_type": "execute_result",
          "data": {
            "text/plain": [
              "['10', '20', '50', '100', '200']"
            ]
          },
          "metadata": {},
          "execution_count": 141
        }
      ]
    },
    {
      "cell_type": "code",
      "source": [
        "#re.sub(\"정규식\", \"바꿀문자열\", \"문자열\", \"변경횟수\")\n",
        "# 자연어처리에서 문자열 전처리시 많이 사용되는 함수\n",
        "# 변경횟수는 생략시 매칭된 문자열을 모두 변경"
      ],
      "metadata": {
        "id": "727Kd5ZULcB9"
      },
      "execution_count": null,
      "outputs": []
    },
    {
      "cell_type": "code",
      "source": [
        "re.sub(\"orange\", \"fruit\", \"orange banna tree box apple\")\n",
        "re.sub(\"orange\", \"fruit\", \"orange banna tree box apple orange orange\")"
      ],
      "metadata": {
        "colab": {
          "base_uri": "https://localhost:8080/",
          "height": 35
        },
        "id": "sl_Ro64DMtMa",
        "outputId": "5c3a795a-65f8-4037-bcd7-c59b368ded05"
      },
      "execution_count": null,
      "outputs": [
        {
          "output_type": "execute_result",
          "data": {
            "text/plain": [
              "'fruit banna tree box apple fruit fruit'"
            ],
            "application/vnd.google.colaboratory.intrinsic+json": {
              "type": "string"
            }
          },
          "metadata": {},
          "execution_count": 145
        }
      ]
    },
    {
      "cell_type": "code",
      "source": [
        "re.sub(\"orange\", \"fruit\", \"orange banna tree box apple orange orange\",2)"
      ],
      "metadata": {
        "colab": {
          "base_uri": "https://localhost:8080/",
          "height": 35
        },
        "id": "phnH1xTUNCK5",
        "outputId": "434acc06-5339-4071-b524-c0f8753e11c8"
      },
      "execution_count": null,
      "outputs": [
        {
          "output_type": "execute_result",
          "data": {
            "text/plain": [
              "'fruit banna tree box apple fruit orange'"
            ],
            "application/vnd.google.colaboratory.intrinsic+json": {
              "type": "string"
            }
          },
          "metadata": {},
          "execution_count": 146
        }
      ]
    },
    {
      "cell_type": "code",
      "source": [
        "re.sub(\"orange|apple\", \"fruit\", \"orange banna tree box apple orange orange\")"
      ],
      "metadata": {
        "colab": {
          "base_uri": "https://localhost:8080/",
          "height": 35
        },
        "id": "WCm_kyTpNSTP",
        "outputId": "eada45eb-8f67-4e15-ceb3-699cd3458106"
      },
      "execution_count": null,
      "outputs": [
        {
          "output_type": "execute_result",
          "data": {
            "text/plain": [
              "'fruit banna tree box fruit fruit fruit'"
            ],
            "application/vnd.google.colaboratory.intrinsic+json": {
              "type": "string"
            }
          },
          "metadata": {},
          "execution_count": 147
        }
      ]
    },
    {
      "cell_type": "code",
      "source": [
        "re.sub(\"orange|apple|banna\", \"fruit\", \"orange banna tree box apple orange orange\")"
      ],
      "metadata": {
        "colab": {
          "base_uri": "https://localhost:8080/",
          "height": 35
        },
        "id": "ZAoV5PLmNWz-",
        "outputId": "5920b2dc-3eeb-4076-92d8-8187050b2206"
      },
      "execution_count": null,
      "outputs": [
        {
          "output_type": "execute_result",
          "data": {
            "text/plain": [
              "'fruit fruit tree box fruit fruit fruit'"
            ],
            "application/vnd.google.colaboratory.intrinsic+json": {
              "type": "string"
            }
          },
          "metadata": {},
          "execution_count": 149
        }
      ]
    },
    {
      "cell_type": "code",
      "source": [
        "\"10 20 sky 50 100 bird 200\""
      ],
      "metadata": {
        "colab": {
          "base_uri": "https://localhost:8080/",
          "height": 35
        },
        "id": "QkYbDkwdNaO5",
        "outputId": "30b2912a-e49a-4c47-a63c-92ff0b04aadd"
      },
      "execution_count": null,
      "outputs": [
        {
          "output_type": "execute_result",
          "data": {
            "text/plain": [
              "'10 20 sky 50 100 bird 200'"
            ],
            "application/vnd.google.colaboratory.intrinsic+json": {
              "type": "string"
            }
          },
          "metadata": {},
          "execution_count": 150
        }
      ]
    },
    {
      "cell_type": "code",
      "source": [
        "re.sub(\"\\d+\", \"num\", \"10 20 sky 50 100 bird 200\")"
      ],
      "metadata": {
        "colab": {
          "base_uri": "https://localhost:8080/",
          "height": 35
        },
        "id": "8eUk84ttNhvh",
        "outputId": "10f1fe6c-61c6-441a-a3c6-eeaa13fc87b4"
      },
      "execution_count": null,
      "outputs": [
        {
          "output_type": "execute_result",
          "data": {
            "text/plain": [
              "'num num sky num num bird num'"
            ],
            "application/vnd.google.colaboratory.intrinsic+json": {
              "type": "string"
            }
          },
          "metadata": {},
          "execution_count": 153
        }
      ]
    },
    {
      "cell_type": "code",
      "source": [
        "# 변경함수(매치된객체):\n",
        "#     변경할 수식\n",
        "#re.sub(\"패턴\", 변경함수, \"문자열\", \"변경횟수\")\n",
        "\n",
        "def func_db(res):\n",
        "#변경할 수식\n",
        "    return str(int(res.group())*2)\n",
        "\n",
        "re.sub(\"\\d+\",func_db,\"10 20 sky 50 100 bird 200\")"
      ],
      "metadata": {
        "colab": {
          "base_uri": "https://localhost:8080/",
          "height": 35
        },
        "id": "xkldV8rAN2Gg",
        "outputId": "54d961a7-bfd5-46d2-ac26-2b1d4a4a0b08"
      },
      "execution_count": null,
      "outputs": [
        {
          "output_type": "execute_result",
          "data": {
            "text/plain": [
              "'20 40 sky 100 200 bird 400'"
            ],
            "application/vnd.google.colaboratory.intrinsic+json": {
              "type": "string"
            }
          },
          "metadata": {},
          "execution_count": 164
        }
      ]
    },
    {
      "cell_type": "code",
      "source": [
        "test = '1 2 3 abc 4 def'\n",
        "# test 문자열 중에서 숫자를 모두 10배하시오."
      ],
      "metadata": {
        "id": "e258WOwMSNyL"
      },
      "execution_count": null,
      "outputs": []
    },
    {
      "cell_type": "code",
      "source": [
        "def func_100(res):\n",
        "  return str(int(res.group())*10)\n",
        "\n",
        "re.sub(\"\\d+\", func_100, test)"
      ],
      "metadata": {
        "colab": {
          "base_uri": "https://localhost:8080/",
          "height": 35
        },
        "id": "F1ywWoOzUL9X",
        "outputId": "f7500b5c-a983-4f13-b480-51184928204d"
      },
      "execution_count": null,
      "outputs": [
        {
          "output_type": "execute_result",
          "data": {
            "text/plain": [
              "'10 20 30 abc 40 def'"
            ],
            "application/vnd.google.colaboratory.intrinsic+json": {
              "type": "string"
            }
          },
          "metadata": {},
          "execution_count": 166
        }
      ]
    },
    {
      "cell_type": "code",
      "source": [
        "re.sub(\"\\d+\", lambda x: str(int(x.group())*10), test)"
      ],
      "metadata": {
        "colab": {
          "base_uri": "https://localhost:8080/",
          "height": 35
        },
        "id": "UuS9zhTgUova",
        "outputId": "8e236e5b-659b-4572-fcbf-6e3bf6e7486d"
      },
      "execution_count": null,
      "outputs": [
        {
          "output_type": "execute_result",
          "data": {
            "text/plain": [
              "'10 20 30 abc 40 def'"
            ],
            "application/vnd.google.colaboratory.intrinsic+json": {
              "type": "string"
            }
          },
          "metadata": {},
          "execution_count": 169
        }
      ]
    },
    {
      "cell_type": "code",
      "source": [
        "emails = ['python@mail.example.com', 'python+kr@example.com',              # 올바른 형식\n",
        "          'python-test@example.co.kr', 'python_10@example.info',         # 올바른 형식\n",
        "          'python.test@e-xample.com',                                    # 올바른 형식\n",
        "          '@example.com', 'python@example', 'python@example-com']          # 잘못된 형식"
      ],
      "metadata": {
        "id": "9FJrc17GVEHm"
      },
      "execution_count": null,
      "outputs": []
    },
    {
      "cell_type": "code",
      "source": [
        "# 올바른 형식은 \"올바른 형식\" 출력. 잘못된 형식은 \"잘못된 형식\" 출력"
      ],
      "metadata": {
        "id": "avWSackFWLHW"
      },
      "execution_count": null,
      "outputs": []
    },
    {
      "cell_type": "code",
      "source": [
        "right = re.sub(\"[a-z-.+_0-9]+@[a-z-]+[.][a-z]+[.]*[a-z]*\", '올바른형식', ' '.join(emails))\n",
        "right"
      ],
      "metadata": {
        "colab": {
          "base_uri": "https://localhost:8080/",
          "height": 53
        },
        "id": "nzu5SdZPWdH4",
        "outputId": "cfae7233-94b4-4866-c549-e1274a90e8ef"
      },
      "execution_count": null,
      "outputs": [
        {
          "output_type": "execute_result",
          "data": {
            "text/plain": [
              "'올바른형식 올바른형식 올바른형식 올바른형식 올바른형식 @example.com python@example python@example-com'"
            ],
            "application/vnd.google.colaboratory.intrinsic+json": {
              "type": "string"
            }
          },
          "metadata": {},
          "execution_count": 221
        }
      ]
    },
    {
      "cell_type": "code",
      "source": [],
      "metadata": {
        "id": "T9NWvL7ne3Yp"
      },
      "execution_count": null,
      "outputs": []
    },
    {
      "cell_type": "markdown",
      "source": [
        "# 과제"
      ],
      "metadata": {
        "id": "1TFAC5qlfRN1"
      }
    },
    {
      "cell_type": "code",
      "source": [
        "# 1. 0부터 9999까지 8을 포함하지 않는 수는 총 몇개일까?\n",
        "# 8, 108, 888, 9998 등은 8을 포함하고 있는 수입니다. 111, 299, 4 등과 같은 수는 8을 포함하지 않는 수 입니다.\n",
        "\n",
        "# num0_9999 = ''          # num0_9999 문자열에 모든 수를 넣음.\n",
        "# for i in range(10000):\n",
        "#   num0_9999+= str(i)+' '\n",
        "\n",
        "# import re\n",
        "# res = re.findall(\"[8]+\", num0_9999)     # 8이 들어간 수를 찾아서 리스트에 넣어줌.\n",
        "# num8x=10000-len(res)\n",
        "# print('0부터 9999까지 8을 포함하지 않는 수는 총 {}개이다.'.format(num8x))\n",
        "\n",
        "\n",
        "num0_9999 = [str(num)for num in range(10000)]          # num0_9999 문자열에 모든 수를 넣음.\n",
        "\n",
        "num8=[]\n",
        "for num in num0_9999:\n",
        "  if re.findall('[8]',num):\n",
        "    num8.append(num)\n",
        "len(num8)\n",
        "10000-len(num8)\n",
        "\n",
        "\n",
        "# 2.\n",
        "# 컴퓨터가 1~100 숫자(정수 범위) 중 하나를 랜덤으로 정합니다. (이를 알려주지 않습니다.)\n",
        "# 사용자는 이 숫자를 맞추어야 합니다.\n",
        "# 입력한 숫자보다 정답이 크면 → \"UP\" 출력,\n",
        "# 입력한 숫자보다 정답이 작으면 → \"DOWN\" 출력.\n",
        "# 정답을 맞추면 → \"정답\"을 출력하고, 지금까지 숫자를 입력한 횟수를 알려줍니다.\n",
        "\n",
        "# (예시)\n",
        "# 컴퓨터가 1~100 중 랜덤 숫자 하나를 정합니다.\n",
        "# 이 숫자를 맞춰주세요.\n",
        "# 1~100 숫자 입력:50\n",
        "# DOWN\n",
        "# 1~100 숫자 입력:25\n",
        "# UP\n",
        "# 1~100 숫자 입력:38\n",
        "# DOWN\n",
        "# 1~100 숫자 입력:32\n",
        "# UP\n",
        "# 1~100 숫자 입력:35\n",
        "# UP\n",
        "# 1~100 숫자 입력:37\n",
        "# DOWN\n",
        "# 1~100 숫자 입력:36\n",
        "# 정답입니다! 7회 만에 맞췄어요.\n",
        "\n",
        "import random\n",
        "com = random.randint(1,100)\n",
        "print(com)\n",
        "count=1\n",
        "user=0\n",
        "while user!=com:\n",
        "  user = int(input('1~100 숫자 입력:'))\n",
        "  if user>com:\n",
        "    print('Down')\n",
        "    count+=1\n",
        "  elif user<com:\n",
        "    print('UP')\n",
        "    count+=1\n",
        "\n",
        "print('정답입니다! {}회만에 맞췄어요.'.format(count))\n",
        "\n",
        "\n",
        "\n",
        "# 3.직각삼각형의 밑변이 x, 높이가 y일 때 남은 변(대각선)의 길이를 구하는 함수를 만들어주세요.\n",
        "\n",
        "def pita(x,y):\n",
        "  return (x**2+y**2)**(1/2)\n",
        "\n",
        "pita(6,8)\n",
        "\n",
        "\n",
        "# 4. 0~9까지의 문자로 된 숫자를 입력 받았을 때, 이 입력 값이 0~9까지의 숫자가 각각 한 번 씩만 사용된 것인지 확인하는 함수를 구하시오.\n",
        "\n",
        "# sample inputs: 0123456789 01234 01234567890 6789012345 012322456789\n",
        "# sample outputs: true false false true false\n",
        "s = input('0~9로 구성된 문자열')\n",
        "for i in range(10):\n",
        "  if s.count(str(i))>1:\n",
        "    print('false')\n",
        "    break\n",
        "  if i==9:\n",
        "    print('true')\n",
        "\n",
        "\n",
        "\n",
        "# 5. 양의 정수만 입력으로 받고 그 수의 자릿수를 출력해보자. ex1) 3 > 1자리수, ex2) 649 > 3자리수 ....\n",
        "\n",
        "plus = int(input('양의정수만 입력 :'))\n",
        "p = str(plus)\n",
        "jali = len(p)   # 문자열의 길이가 곧 자리수.\n",
        "print('{} > {}자리수'.format(plus, jali))\n",
        "\n"
      ],
      "metadata": {
        "colab": {
          "base_uri": "https://localhost:8080/"
        },
        "id": "KBax-sZmfR6d",
        "outputId": "2f3b3b14-2e6b-4d39-fe38-05086661cade"
      },
      "execution_count": null,
      "outputs": [
        {
          "output_type": "stream",
          "name": "stdout",
          "text": [
            "0부터 9999까지 8을 포함하지 않는 수는 총 6300개이다.\n"
          ]
        }
      ]
    },
    {
      "cell_type": "code",
      "source": [
        "# 6. A사무실에는 특정일자의 출퇴근 시간이 기록된 거대한 로그파일이 있다고 한다.\n",
        "\n",
        "# 파일의 형식은 다음과 같다. (한 라인에서 앞부분은 출근시간(HH:MM:SS), 뒷부분은 퇴근시간이다)\n",
        "\n",
        "# 09:12:23 11:14:35\n",
        "# 10:34:01 13:23:40\n",
        "# 10:34:31 11:20:10\n",
        "# 특정시간을 입력(예:11:05:20)으로 주었을 때 그 시간에 총 몇 명이 사무실에 있었는지 알려주는 함수를 작성하시오.\n",
        "\n",
        "from datetime import datetime\n",
        "\n",
        "A = [['09:12:23', '11:14:35'],['10:34:01', '13:23:40'],['10:34:31', '11:20:10']]\n",
        "for i in range(len(A)):\n",
        "  for t in A[i]:-\n",
        "    datetime.strptime(t,%H:%M:%s)"
      ],
      "metadata": {
        "colab": {
          "base_uri": "https://localhost:8080/"
        },
        "id": "H-cQ3vCVfpVi",
        "outputId": "4529a099-829c-411a-fc54-a49cdfcddc80"
      },
      "execution_count": null,
      "outputs": [
        {
          "output_type": "execute_result",
          "data": {
            "text/plain": [
              "['09:12:23', '11:14:35']"
            ]
          },
          "metadata": {},
          "execution_count": 309
        }
      ]
    },
    {
      "cell_type": "code",
      "source": [
        "len(A)"
      ],
      "metadata": {
        "colab": {
          "base_uri": "https://localhost:8080/"
        },
        "id": "xRhn5cq3frnA",
        "outputId": "ca7edcc2-72e6-4a93-b4dd-0416f70725b1"
      },
      "execution_count": null,
      "outputs": [
        {
          "output_type": "execute_result",
          "data": {
            "text/plain": [
              "3"
            ]
          },
          "metadata": {},
          "execution_count": 311
        }
      ]
    },
    {
      "cell_type": "code",
      "source": [
        "log_lst='''\n",
        "09:12:23 11:14:35\n",
        "10:34:01 13:23:40\n",
        "10:34:31 11:20:10\n",
        "'''"
      ],
      "metadata": {
        "id": "mG3Ii8QPdGYx"
      },
      "execution_count": null,
      "outputs": []
    },
    {
      "cell_type": "code",
      "source": [
        "baseTime='11:05:20'\n",
        "remainCnt=0"
      ],
      "metadata": {
        "id": "l6u9JoWLo9zO"
      },
      "execution_count": null,
      "outputs": []
    },
    {
      "cell_type": "code",
      "source": [
        "logs=log_lst.split('\\n')\n",
        "logs"
      ],
      "metadata": {
        "colab": {
          "base_uri": "https://localhost:8080/"
        },
        "id": "KmnremDHpCxo",
        "outputId": "8130363b-ca0c-43d7-ff18-11dd04804e03"
      },
      "execution_count": null,
      "outputs": [
        {
          "output_type": "execute_result",
          "data": {
            "text/plain": [
              "['', '09:12:23 11:14:35', '10:34:01 13:23:40', '10:34:31 11:20:10', '']"
            ]
          },
          "metadata": {},
          "execution_count": 63
        }
      ]
    },
    {
      "cell_type": "code",
      "source": [
        "for log in logs:\n",
        "  log=log_lst.split()\n",
        "  print(log)\n",
        "    if log[0] < baseTime < log[1]:\n",
        "      remainCnt +=1\n",
        "  print(remainCnt)"
      ],
      "metadata": {
        "colab": {
          "base_uri": "https://localhost:8080/",
          "height": 111
        },
        "id": "CmYr2sv_py0r",
        "outputId": "d878fa1d-c2a9-4530-8fc3-2be7ede13e5b"
      },
      "execution_count": null,
      "outputs": [
        {
          "output_type": "error",
          "ename": "IndentationError",
          "evalue": "unexpected indent (<ipython-input-70-8c20114cb299>, line 4)",
          "traceback": [
            "\u001b[0;36m  File \u001b[0;32m\"<ipython-input-70-8c20114cb299>\"\u001b[0;36m, line \u001b[0;32m4\u001b[0m\n\u001b[0;31m    if log[0] < baseTime < log[1]:\u001b[0m\n\u001b[0m    ^\u001b[0m\n\u001b[0;31mIndentationError\u001b[0m\u001b[0;31m:\u001b[0m unexpected indent\n"
          ]
        }
      ]
    },
    {
      "cell_type": "code",
      "source": [
        "baseTime=\"11:05:20\"\n",
        "remainCnt=0\n",
        "logs=log_lst.split(\"\\n\")\n",
        "for log in logs:\n",
        "    log=log.split()\n",
        "    if log[0] < baseTime < log[1]:\n",
        "        remainCnt+=1\n",
        "print(remainCnt)"
      ],
      "metadata": {
        "colab": {
          "base_uri": "https://localhost:8080/",
          "height": 222
        },
        "id": "BxILA6O7pfCt",
        "outputId": "5eea3c58-7d05-4b04-9079-4f29bf754c6d"
      },
      "execution_count": null,
      "outputs": [
        {
          "output_type": "error",
          "ename": "IndexError",
          "evalue": "list index out of range",
          "traceback": [
            "\u001b[0;31m---------------------------------------------------------------------------\u001b[0m",
            "\u001b[0;31mIndexError\u001b[0m                                Traceback (most recent call last)",
            "\u001b[0;32m<ipython-input-69-88b92db6f7f1>\u001b[0m in \u001b[0;36m<cell line: 4>\u001b[0;34m()\u001b[0m\n\u001b[1;32m      4\u001b[0m \u001b[0;32mfor\u001b[0m \u001b[0mlog\u001b[0m \u001b[0;32min\u001b[0m \u001b[0mlogs\u001b[0m\u001b[0;34m:\u001b[0m\u001b[0;34m\u001b[0m\u001b[0;34m\u001b[0m\u001b[0m\n\u001b[1;32m      5\u001b[0m     \u001b[0mlog\u001b[0m\u001b[0;34m=\u001b[0m\u001b[0mlog\u001b[0m\u001b[0;34m.\u001b[0m\u001b[0msplit\u001b[0m\u001b[0;34m(\u001b[0m\u001b[0;34m)\u001b[0m\u001b[0;34m\u001b[0m\u001b[0;34m\u001b[0m\u001b[0m\n\u001b[0;32m----> 6\u001b[0;31m     \u001b[0;32mif\u001b[0m \u001b[0mlog\u001b[0m\u001b[0;34m[\u001b[0m\u001b[0;36m0\u001b[0m\u001b[0;34m]\u001b[0m \u001b[0;34m<\u001b[0m \u001b[0mbaseTime\u001b[0m \u001b[0;34m<\u001b[0m \u001b[0mlog\u001b[0m\u001b[0;34m[\u001b[0m\u001b[0;36m1\u001b[0m\u001b[0;34m]\u001b[0m\u001b[0;34m:\u001b[0m\u001b[0;34m\u001b[0m\u001b[0;34m\u001b[0m\u001b[0m\n\u001b[0m\u001b[1;32m      7\u001b[0m         \u001b[0mremainCnt\u001b[0m\u001b[0;34m+=\u001b[0m\u001b[0;36m1\u001b[0m\u001b[0;34m\u001b[0m\u001b[0;34m\u001b[0m\u001b[0m\n\u001b[1;32m      8\u001b[0m \u001b[0mprint\u001b[0m\u001b[0;34m(\u001b[0m\u001b[0mremainCnt\u001b[0m\u001b[0;34m)\u001b[0m\u001b[0;34m\u001b[0m\u001b[0;34m\u001b[0m\u001b[0m\n",
            "\u001b[0;31mIndexError\u001b[0m: list index out of range"
          ]
        }
      ]
    },
    {
      "cell_type": "code",
      "source": [
        "log_lst='''09:12:23 11:14:35\n",
        "10:34:01 13:23:40\n",
        "10:34:31 11:20:10'''\n",
        "baseTime=\"11:05:20\"\n",
        "remainCnt=0\n",
        "logs=log_lst.split(\"\\n\")\n",
        "for log in logs:\n",
        "    log=log.split()\n",
        "    if log[0] < baseTime < log[1]:\n",
        "        remainCnt+=1\n",
        "print(remainCnt)"
      ],
      "metadata": {
        "colab": {
          "base_uri": "https://localhost:8080/"
        },
        "id": "evYgishBrhGT",
        "outputId": "f63526a2-846d-4324-e62c-09b5e3777352"
      },
      "execution_count": null,
      "outputs": [
        {
          "output_type": "stream",
          "name": "stdout",
          "text": [
            "3\n"
          ]
        }
      ]
    },
    {
      "cell_type": "code",
      "source": [],
      "metadata": {
        "id": "eM6CIseQsYhB"
      },
      "execution_count": null,
      "outputs": []
    }
  ]
}