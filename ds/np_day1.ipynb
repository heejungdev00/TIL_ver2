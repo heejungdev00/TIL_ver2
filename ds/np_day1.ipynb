{
 "cells": [
  {
   "cell_type": "code",
   "execution_count": 1,
   "id": "6fbb4677-be0a-4eb6-9fc9-a08d5158bd53",
   "metadata": {},
   "outputs": [],
   "source": [
    "import numpy as np\n",
    "import time"
   ]
  },
  {
   "cell_type": "code",
   "execution_count": 2,
   "id": "256c7f41-51cf-471a-a527-e842e7745c0e",
   "metadata": {},
   "outputs": [
    {
     "data": {
      "text/plain": [
       "[1, '가', True, [1, 2], {'a': 1}]"
      ]
     },
     "execution_count": 2,
     "metadata": {},
     "output_type": "execute_result"
    }
   ],
   "source": [
    "#파이썬 리스트\n",
    "li=[1, '가', True, [1,2],{'a':1}]\n",
    "li"
   ]
  },
  {
   "cell_type": "code",
   "execution_count": 3,
   "id": "d9ab5d38-6e1e-468d-ba80-7f368ffb1709",
   "metadata": {},
   "outputs": [
    {
     "data": {
      "text/plain": [
       "'\\n넘파이(배열)과 파이썬 (리스트) 차이\\n배열 : 모든 자료형이 동일, 데이터의 개수를 변경할 수 없다\\n파이썬에서 배열을 기본저긍로 제공하지 않으므로, 별도로 넘파이 패키지를 설치하여 배열을 사용\\n\\n벡터: 숫자를 원소로 갖는 리스트(배열), 행벡터, 열벡터\\n행벡터: x=[x1 x2 ... xn]\\n공간에서의 한 점\\n원점으로부터 떨어진 상대적 위치\\n\\n5차원벡터: 5차원 공간에 표현된 한 점\\n[[5 2 0 0 3] #행벡터\\n[1 3 2 3 0]\\n....]\\n\\n[5]  #열벡터\\n|1|\\n|0|\\n|0|\\n[3]\\n행렬: 벡터를 원소로 갖는 2차원 배열\\n공간에서의 여러 점(데이터 모임)\\n\\n'"
      ]
     },
     "execution_count": 3,
     "metadata": {},
     "output_type": "execute_result"
    }
   ],
   "source": [
    "'''\n",
    "넘파이(배열)과 파이썬 (리스트) 차이\n",
    "배열 : 모든 자료형이 동일, 데이터의 개수를 변경할 수 없다\n",
    "파이썬에서 배열을 기본저긍로 제공하지 않으므로, 별도로 넘파이 패키지를 설치하여 배열을 사용\n",
    "\n",
    "벡터: 숫자를 원소로 갖는 리스트(배열), 행벡터, 열벡터\n",
    "행벡터: x=[x1 x2 ... xn]\n",
    "공간에서의 한 점\n",
    "원점으로부터 떨어진 상대적 위치\n",
    "\n",
    "5차원벡터: 5차원 공간에 표현된 한 점\n",
    "[[5 2 0 0 3] #행벡터\n",
    "[1 3 2 3 0]\n",
    "....]\n",
    "\n",
    "[5]  #열벡터\n",
    "|1|\n",
    "|0|\n",
    "|0|\n",
    "[3]\n",
    "행렬: 벡터를 원소로 갖는 2차원 배열\n",
    "공간에서의 여러 점(데이터 모임)\n",
    "\n",
    "'''"
   ]
  },
  {
   "cell_type": "code",
   "execution_count": 4,
   "id": "4a05d79e-ebae-4a76-8efd-2ca8c4c7060d",
   "metadata": {},
   "outputs": [
    {
     "name": "stdout",
     "output_type": "stream",
     "text": [
      "Package                           Version\n",
      "--------------------------------- ------------\n",
      "aiobotocore                       2.7.0\n",
      "aiohttp                           3.9.3\n",
      "aioitertools                      0.7.1\n",
      "aiosignal                         1.2.0\n",
      "alabaster                         0.7.12\n",
      "altair                            5.0.1\n",
      "anaconda-anon-usage               0.4.3\n",
      "anaconda-catalogs                 0.2.0\n",
      "anaconda-client                   1.12.3\n",
      "anaconda-cloud-auth               0.1.4\n",
      "anaconda-navigator                2.5.2\n",
      "anaconda-project                  0.11.1\n",
      "anyio                             4.2.0\n",
      "appdirs                           1.4.4\n",
      "archspec                          0.2.1\n",
      "argon2-cffi                       21.3.0\n",
      "argon2-cffi-bindings              21.2.0\n",
      "arrow                             1.2.3\n",
      "astroid                           2.14.2\n",
      "astropy                           5.3.4\n",
      "asttokens                         2.0.5\n",
      "async-lru                         2.0.4\n",
      "atomicwrites                      1.4.0\n",
      "attrs                             23.2.0\n",
      "Automat                           20.2.0\n",
      "autopep8                          1.6.0\n",
      "Babel                             2.11.0\n",
      "backports.functools-lru-cache     1.6.4\n",
      "backports.tempfile                1.0\n",
      "backports.weakref                 1.0.post1\n",
      "bcrypt                            3.2.0\n",
      "beautifulsoup4                    4.12.2\n",
      "binaryornot                       0.4.4\n",
      "black                             23.11.0\n",
      "bleach                            4.1.0\n",
      "blinker                           1.6.2\n",
      "bokeh                             3.3.4\n",
      "boltons                           23.0.0\n",
      "botocore                          1.31.64\n",
      "Bottleneck                        1.3.7\n",
      "Brotli                            1.0.9\n",
      "cachetools                        4.2.2\n",
      "certifi                           2024.2.2\n",
      "cffi                              1.16.0\n",
      "chardet                           4.0.0\n",
      "charset-normalizer                2.0.4\n",
      "click                             8.1.7\n",
      "cloudpickle                       2.2.1\n",
      "clyent                            1.2.2\n",
      "colorama                          0.4.6\n",
      "colorcet                          3.0.1\n",
      "comm                              0.1.2\n",
      "conda                             24.1.2\n",
      "conda-build                       24.1.2\n",
      "conda-content-trust               0.2.0\n",
      "conda_index                       0.4.0\n",
      "conda-libmamba-solver             24.1.0\n",
      "conda-pack                        0.6.0\n",
      "conda-package-handling            2.2.0\n",
      "conda_package_streaming           0.9.0\n",
      "conda-repo-cli                    1.0.75\n",
      "conda-token                       0.4.0\n",
      "conda-verify                      3.4.2\n",
      "constantly                        23.10.4\n",
      "contourpy                         1.2.0\n",
      "cookiecutter                      2.5.0\n",
      "cryptography                      42.0.2\n",
      "cssselect                         1.2.0\n",
      "cycler                            0.11.0\n",
      "cytoolz                           0.12.2\n",
      "dask                              2023.11.0\n",
      "datashader                        0.16.0\n",
      "debugpy                           1.6.7\n",
      "decorator                         5.1.1\n",
      "defusedxml                        0.7.1\n",
      "diff-match-patch                  20200713\n",
      "dill                              0.3.7\n",
      "distributed                       2023.11.0\n",
      "distro                            1.8.0\n",
      "docstring-to-markdown             0.11\n",
      "docutils                          0.18.1\n",
      "entrypoints                       0.4\n",
      "et-xmlfile                        1.1.0\n",
      "executing                         0.8.3\n",
      "fastjsonschema                    2.16.2\n",
      "filelock                          3.13.1\n",
      "finance-datareader                0.9.90\n",
      "flake8                            6.0.0\n",
      "Flask                             2.2.5\n",
      "fonttools                         4.25.0\n",
      "frozenlist                        1.4.0\n",
      "fsspec                            2023.10.0\n",
      "future                            0.18.3\n",
      "gensim                            4.3.0\n",
      "gitdb                             4.0.7\n",
      "GitPython                         3.1.37\n",
      "gmpy2                             2.1.2\n",
      "greenlet                          3.0.1\n",
      "h11                               0.14.0\n",
      "h5py                              3.9.0\n",
      "HeapDict                          1.0.1\n",
      "holoviews                         1.18.3\n",
      "hvplot                            0.9.2\n",
      "hyperlink                         21.0.0\n",
      "idna                              3.4\n",
      "imagecodecs                       2023.1.23\n",
      "imageio                           2.33.1\n",
      "imagesize                         1.4.1\n",
      "imbalanced-learn                  0.11.0\n",
      "importlib-metadata                7.0.1\n",
      "incremental                       22.10.0\n",
      "inflection                        0.5.1\n",
      "iniconfig                         1.1.1\n",
      "intake                            0.6.8\n",
      "intervaltree                      3.1.0\n",
      "ipykernel                         6.28.0\n",
      "ipython                           8.20.0\n",
      "ipython-genutils                  0.2.0\n",
      "ipywidgets                        7.6.5\n",
      "isort                             5.9.3\n",
      "itemadapter                       0.3.0\n",
      "itemloaders                       1.1.0\n",
      "itsdangerous                      2.0.1\n",
      "jaraco.classes                    3.2.1\n",
      "jedi                              0.18.1\n",
      "jellyfish                         1.0.1\n",
      "Jinja2                            3.1.3\n",
      "jmespath                          1.0.1\n",
      "joblib                            1.2.0\n",
      "json5                             0.9.6\n",
      "jsonpatch                         1.32\n",
      "jsonpointer                       2.1\n",
      "jsonschema                        4.19.2\n",
      "jsonschema-specifications         2023.7.1\n",
      "jupyter                           1.0.0\n",
      "jupyter_client                    8.6.0\n",
      "jupyter-console                   6.6.3\n",
      "jupyter_core                      5.5.0\n",
      "jupyter-events                    0.8.0\n",
      "jupyter-lsp                       2.2.0\n",
      "jupyter_server                    2.10.0\n",
      "jupyter_server_terminals          0.4.4\n",
      "jupyterlab                        4.0.11\n",
      "jupyterlab-pygments               0.1.2\n",
      "jupyterlab_server                 2.25.1\n",
      "jupyterlab-widgets                3.0.9\n",
      "keyring                           23.13.1\n",
      "kiwisolver                        1.4.4\n",
      "lazy_loader                       0.3\n",
      "lazy-object-proxy                 1.6.0\n",
      "lckr_jupyterlab_variableinspector 3.1.0\n",
      "libarchive-c                      2.9\n",
      "libmambapy                        1.5.6\n",
      "linkify-it-py                     2.0.0\n",
      "llvmlite                          0.42.0\n",
      "lmdb                              1.4.1\n",
      "locket                            1.0.0\n",
      "lxml                              4.9.3\n",
      "lz4                               4.3.2\n",
      "Markdown                          3.4.1\n",
      "markdown-it-py                    2.2.0\n",
      "MarkupSafe                        2.1.3\n",
      "matplotlib                        3.8.0\n",
      "matplotlib-inline                 0.1.6\n",
      "mccabe                            0.7.0\n",
      "mdit-py-plugins                   0.3.0\n",
      "mdurl                             0.1.0\n",
      "menuinst                          2.0.2\n",
      "mistune                           2.0.4\n",
      "mkl-fft                           1.3.8\n",
      "mkl-random                        1.2.4\n",
      "mkl-service                       2.4.0\n",
      "more-itertools                    10.1.0\n",
      "mpmath                            1.3.0\n",
      "msgpack                           1.0.3\n",
      "multidict                         6.0.4\n",
      "multipledispatch                  0.6.0\n",
      "munkres                           1.1.4\n",
      "mypy                              1.8.0\n",
      "mypy-extensions                   1.0.0\n",
      "navigator-updater                 0.4.0\n",
      "nbclient                          0.8.0\n",
      "nbconvert                         7.10.0\n",
      "nbformat                          5.9.2\n",
      "nest-asyncio                      1.6.0\n",
      "networkx                          3.1\n",
      "nltk                              3.8.1\n",
      "notebook                          7.0.8\n",
      "notebook_shim                     0.2.3\n",
      "numba                             0.59.0\n",
      "numexpr                           2.8.7\n",
      "numpy                             1.26.4\n",
      "numpydoc                          1.5.0\n",
      "openpyxl                          3.0.10\n",
      "outcome                           1.3.0.post0\n",
      "overrides                         7.4.0\n",
      "packaging                         23.1\n",
      "pandas                            2.1.4\n",
      "pandocfilters                     1.5.0\n",
      "panel                             1.3.8\n",
      "param                             2.0.2\n",
      "paramiko                          2.8.1\n",
      "parsel                            1.8.1\n",
      "parso                             0.8.3\n",
      "partd                             1.4.1\n",
      "pathlib                           1.0.1\n",
      "pathspec                          0.10.3\n",
      "patsy                             0.5.3\n",
      "pexpect                           4.8.0\n",
      "pickleshare                       0.7.5\n",
      "pillow                            10.2.0\n",
      "pip                               23.3.1\n",
      "pkce                              1.0.3\n",
      "pkginfo                           1.9.6\n",
      "platformdirs                      3.10.0\n",
      "plotly                            5.9.0\n",
      "pluggy                            1.0.0\n",
      "ply                               3.11\n",
      "prometheus-client                 0.14.1\n",
      "prompt-toolkit                    3.0.43\n",
      "Protego                           0.1.16\n",
      "protobuf                          3.20.3\n",
      "psutil                            5.9.0\n",
      "ptyprocess                        0.7.0\n",
      "pure-eval                         0.2.2\n",
      "py-cpuinfo                        9.0.0\n",
      "pyarrow                           14.0.2\n",
      "pyasn1                            0.4.8\n",
      "pyasn1-modules                    0.2.8\n",
      "pycodestyle                       2.10.0\n",
      "pycosat                           0.6.6\n",
      "pycparser                         2.21\n",
      "pyct                              0.5.0\n",
      "pycurl                            7.45.2\n",
      "pydantic                          1.10.12\n",
      "pydeck                            0.8.0\n",
      "PyDispatcher                      2.0.5\n",
      "pydocstyle                        6.3.0\n",
      "pyerfa                            2.0.0\n",
      "pyflakes                          3.0.1\n",
      "Pygments                          2.15.1\n",
      "PyJWT                             2.4.0\n",
      "pylint                            2.16.2\n",
      "pylint-venv                       2.3.0\n",
      "pyls-spyder                       0.4.0\n",
      "PyNaCl                            1.5.0\n",
      "pyodbc                            5.0.1\n",
      "pyOpenSSL                         24.0.0\n",
      "pyparsing                         3.0.9\n",
      "PyQt5                             5.15.10\n",
      "PyQt5-sip                         12.13.0\n",
      "PyQtWebEngine                     5.15.6\n",
      "PySocks                           1.7.1\n",
      "pytest                            7.4.0\n",
      "python-dateutil                   2.8.2\n",
      "python-dotenv                     0.21.0\n",
      "python-json-logger                2.0.7\n",
      "python-lsp-black                  1.2.1\n",
      "python-lsp-jsonrpc                1.0.0\n",
      "python-lsp-server                 1.7.2\n",
      "python-slugify                    5.0.2\n",
      "python-snappy                     0.6.1\n",
      "pytoolconfig                      1.2.6\n",
      "pytz                              2023.3.post1\n",
      "pyviz_comms                       3.0.0\n",
      "pywavelets                        1.5.0\n",
      "pywin32                           305.1\n",
      "pywin32-ctypes                    0.2.0\n",
      "pywinpty                          2.0.10\n",
      "PyYAML                            6.0.1\n",
      "pyzmq                             25.1.2\n",
      "QDarkStyle                        3.0.2\n",
      "qstylizer                         0.2.2\n",
      "QtAwesome                         1.2.2\n",
      "qtconsole                         5.4.2\n",
      "QtPy                              2.4.1\n",
      "queuelib                          1.6.2\n",
      "referencing                       0.30.2\n",
      "regex                             2023.10.3\n",
      "requests                          2.31.0\n",
      "requests-file                     1.5.1\n",
      "requests-toolbelt                 1.0.0\n",
      "rfc3339-validator                 0.1.4\n",
      "rfc3986-validator                 0.1.1\n",
      "rich                              13.3.5\n",
      "rope                              1.7.0\n",
      "rpds-py                           0.10.6\n",
      "Rtree                             1.0.1\n",
      "ruamel.yaml                       0.17.21\n",
      "ruamel-yaml-conda                 0.17.21\n",
      "s3fs                              2023.10.0\n",
      "scikit-image                      0.22.0\n",
      "scikit-learn                      1.2.2\n",
      "scipy                             1.11.4\n",
      "Scrapy                            2.8.0\n",
      "seaborn                           0.12.2\n",
      "selenium                          4.18.1\n",
      "semver                            2.13.0\n",
      "Send2Trash                        1.8.2\n",
      "service-identity                  18.1.0\n",
      "setuptools                        68.2.2\n",
      "sip                               6.7.12\n",
      "six                               1.16.0\n",
      "smart-open                        5.2.1\n",
      "smmap                             4.0.0\n",
      "sniffio                           1.3.0\n",
      "snowballstemmer                   2.2.0\n",
      "sortedcontainers                  2.4.0\n",
      "soupsieve                         2.5\n",
      "Sphinx                            5.0.2\n",
      "sphinxcontrib-applehelp           1.0.2\n",
      "sphinxcontrib-devhelp             1.0.2\n",
      "sphinxcontrib-htmlhelp            2.0.0\n",
      "sphinxcontrib-jsmath              1.0.1\n",
      "sphinxcontrib-qthelp              1.0.3\n",
      "sphinxcontrib-serializinghtml     1.1.5\n",
      "spyder                            5.4.3\n",
      "spyder-kernels                    2.4.4\n",
      "SQLAlchemy                        2.0.25\n",
      "stack-data                        0.2.0\n",
      "statsmodels                       0.14.0\n",
      "streamlit                         1.30.0\n",
      "sympy                             1.12\n",
      "tables                            3.9.2\n",
      "tabulate                          0.9.0\n",
      "tblib                             1.7.0\n",
      "tenacity                          8.2.2\n",
      "terminado                         0.17.1\n",
      "text-unidecode                    1.3\n",
      "textdistance                      4.2.1\n",
      "threadpoolctl                     2.2.0\n",
      "three-merge                       0.1.1\n",
      "tifffile                          2023.4.12\n",
      "tinycss2                          1.2.1\n",
      "tldextract                        3.2.0\n",
      "toml                              0.10.2\n",
      "tomlkit                           0.11.1\n",
      "toolz                             0.12.0\n",
      "tornado                           6.3.3\n",
      "tqdm                              4.65.0\n",
      "traitlets                         5.7.1\n",
      "trio                              0.25.0\n",
      "trio-websocket                    0.11.1\n",
      "truststore                        0.8.0\n",
      "Twisted                           23.10.0\n",
      "twisted-iocpsupport               1.0.2\n",
      "typing_extensions                 4.9.0\n",
      "tzdata                            2023.3\n",
      "tzlocal                           2.1\n",
      "uc-micro-py                       1.0.1\n",
      "ujson                             5.4.0\n",
      "Unidecode                         1.2.0\n",
      "urllib3                           2.0.7\n",
      "validators                        0.18.2\n",
      "w3lib                             2.1.2\n",
      "watchdog                          2.1.6\n",
      "wcwidth                           0.2.5\n",
      "webencodings                      0.5.1\n",
      "websocket-client                  0.58.0\n",
      "Werkzeug                          2.2.3\n",
      "whatthepatch                      1.0.2\n",
      "wheel                             0.41.2\n",
      "widgetsnbextension                3.5.2\n",
      "win-inet-pton                     1.1.0\n",
      "wrapt                             1.14.1\n",
      "wsproto                           1.2.0\n",
      "xarray                            2023.6.0\n",
      "xlwings                           0.29.1\n",
      "xyzservices                       2022.9.0\n",
      "yapf                              0.31.0\n",
      "yarl                              1.9.3\n",
      "zict                              3.0.0\n",
      "zipp                              3.17.0\n",
      "zope.interface                    5.4.0\n",
      "zstandard                         0.19.0\n",
      "Note: you may need to restart the kernel to use updated packages.\n"
     ]
    }
   ],
   "source": [
    "pip list"
   ]
  },
  {
   "cell_type": "code",
   "execution_count": 5,
   "id": "91fa7800-ea15-4f18-8970-4df9291bde10",
   "metadata": {},
   "outputs": [
    {
     "data": {
      "text/plain": [
       "[10, 20, 30]"
      ]
     },
     "execution_count": 5,
     "metadata": {},
     "output_type": "execute_result"
    }
   ],
   "source": [
    "x=[10,20,30]  #리스트\n",
    "x"
   ]
  },
  {
   "cell_type": "code",
   "execution_count": 6,
   "id": "9c7b70c7-d599-49b1-bc5a-6e2a9bf6fa2d",
   "metadata": {},
   "outputs": [],
   "source": [
    "array_x=np.array(x)  #배열"
   ]
  },
  {
   "cell_type": "code",
   "execution_count": 7,
   "id": "e7e2c3bd-ab77-4fa4-8e21-f6eec2d0439f",
   "metadata": {},
   "outputs": [
    {
     "data": {
      "text/plain": [
       "array([10, 20, 30])"
      ]
     },
     "execution_count": 7,
     "metadata": {},
     "output_type": "execute_result"
    }
   ],
   "source": [
    "array_x"
   ]
  },
  {
   "cell_type": "code",
   "execution_count": 8,
   "id": "677a5d19-2980-4cfa-ab16-04b24a9f302d",
   "metadata": {},
   "outputs": [
    {
     "data": {
      "text/plain": [
       "numpy.ndarray"
      ]
     },
     "execution_count": 8,
     "metadata": {},
     "output_type": "execute_result"
    }
   ],
   "source": [
    "type(array_x)"
   ]
  },
  {
   "cell_type": "code",
   "execution_count": 9,
   "id": "dbe549a4-dd08-4b44-91a6-52927ea33346",
   "metadata": {},
   "outputs": [
    {
     "data": {
      "text/plain": [
       "'\\n사과:1000, 딸기:2000, 배:2000, 파인애플:5000, 바나나:3000\\n5/1 사과:5 딸기:2 바나나:3\\n\\n덧셈, 뺄셈\\n[5 2 0 0 3] + [1 3 2 3 0]= [6 5 2 3 3]\\n'"
      ]
     },
     "execution_count": 9,
     "metadata": {},
     "output_type": "execute_result"
    }
   ],
   "source": [
    "'''\n",
    "사과:1000, 딸기:2000, 배:2000, 파인애플:5000, 바나나:3000\n",
    "5/1 사과:5 딸기:2 바나나:3\n",
    "\n",
    "덧셈, 뺄셈\n",
    "[5 2 0 0 3] + [1 3 2 3 0]= [6 5 2 3 3]\n",
    "'''"
   ]
  },
  {
   "cell_type": "code",
   "execution_count": 10,
   "id": "7613a426-e528-4dad-8982-0a0ed6b31492",
   "metadata": {},
   "outputs": [
    {
     "name": "stdout",
     "output_type": "stream",
     "text": [
      "0.4951345920562744\n"
     ]
    }
   ],
   "source": [
    "s=time.time()\n",
    "data=list(range(1,10000000))\n",
    "#data\n",
    "ans=[2*i for i in data]\n",
    "e=time.time()\n",
    "ans\n",
    "print(e-s)"
   ]
  },
  {
   "cell_type": "code",
   "execution_count": 11,
   "id": "68342d1d-0741-474e-bbca-688e5897424d",
   "metadata": {},
   "outputs": [
    {
     "data": {
      "text/plain": [
       "array([      1,       2,       3, ..., 9999997, 9999998, 9999999])"
      ]
     },
     "execution_count": 11,
     "metadata": {},
     "output_type": "execute_result"
    }
   ],
   "source": [
    "arr_data=np.array(data)\n",
    "arr_data"
   ]
  },
  {
   "cell_type": "code",
   "execution_count": 12,
   "id": "502e6668-008d-4f0c-bcf2-5671c90c4e15",
   "metadata": {},
   "outputs": [
    {
     "name": "stdout",
     "output_type": "stream",
     "text": [
      "0.012293577194213867\n"
     ]
    }
   ],
   "source": [
    "s=time.time()\n",
    "ans2=2*arr_data  #벡터화 연산\n",
    "e=time.time()\n",
    "ans2\n",
    "print(e-s)"
   ]
  },
  {
   "cell_type": "code",
   "execution_count": 13,
   "id": "db6c91c6-2883-4262-a322-ddfbba2b59a8",
   "metadata": {},
   "outputs": [
    {
     "data": {
      "text/plain": [
       "[1, 2, 3, 4]"
      ]
     },
     "execution_count": 13,
     "metadata": {},
     "output_type": "execute_result"
    }
   ],
   "source": [
    "x=[1,2]\n",
    "y=[3,4] \n",
    "x+y#파이썬 연산"
   ]
  },
  {
   "cell_type": "code",
   "execution_count": 14,
   "id": "e0abe51e-28f4-4dd8-9bd2-d55bcf10c6f5",
   "metadata": {},
   "outputs": [
    {
     "data": {
      "text/plain": [
       "array([4, 6])"
      ]
     },
     "execution_count": 14,
     "metadata": {},
     "output_type": "execute_result"
    }
   ],
   "source": [
    "np.array(x)+np.array(y)"
   ]
  },
  {
   "cell_type": "code",
   "execution_count": 15,
   "id": "80c1a78a-2c86-4548-aa99-4e544e2f088e",
   "metadata": {},
   "outputs": [],
   "source": [
    "#1~100 수 중에서 짝수를 even, 홀수를 odd에 저장한 다음\n",
    "#같은 위치의 요소끼리 비교하여 큰 갑을 출력"
   ]
  },
  {
   "cell_type": "code",
   "execution_count": 16,
   "id": "cd0fcb0c-79ad-4f26-adf8-360433c2c001",
   "metadata": {},
   "outputs": [
    {
     "name": "stdout",
     "output_type": "stream",
     "text": [
      "2\n",
      "4\n",
      "6\n",
      "8\n",
      "10\n",
      "12\n",
      "14\n",
      "16\n",
      "18\n",
      "20\n",
      "22\n",
      "24\n",
      "26\n",
      "28\n",
      "30\n",
      "32\n",
      "34\n",
      "36\n",
      "38\n",
      "40\n",
      "42\n",
      "44\n",
      "46\n",
      "48\n",
      "50\n",
      "52\n",
      "54\n",
      "56\n",
      "58\n",
      "60\n",
      "62\n",
      "64\n",
      "66\n",
      "68\n",
      "70\n",
      "72\n",
      "74\n",
      "76\n",
      "78\n",
      "80\n",
      "82\n",
      "84\n",
      "86\n",
      "88\n",
      "90\n",
      "92\n",
      "94\n",
      "96\n",
      "98\n",
      "100\n"
     ]
    }
   ],
   "source": [
    "even=[e for e in range(1,101) if e%2==0]\n",
    "odd=[o for o in range(1,101) if o%2==1]\n",
    "\n",
    "for i in range(50):\n",
    "    if even[i] > odd[i]:\n",
    "        print(even[i])\n",
    "    else:\n",
    "        print(odd[i])"
   ]
  },
  {
   "cell_type": "code",
   "execution_count": 17,
   "id": "6dc1c220-0d9c-4220-a477-2532634f9220",
   "metadata": {},
   "outputs": [],
   "source": [
    "even=[e for e in range(1,101) if e%2==0]\n",
    "odd=[o for o in range(1,101) if o%2==1]\n",
    "a_even=np.array(even)\n",
    "a_odd=np.array(odd)"
   ]
  },
  {
   "cell_type": "code",
   "execution_count": 18,
   "id": "ee9c4cb6-4ffa-480a-92a8-1da89422fab3",
   "metadata": {},
   "outputs": [
    {
     "data": {
      "text/plain": [
       "array([  2,   4,   6,   8,  10,  12,  14,  16,  18,  20,  22,  24,  26,\n",
       "        28,  30,  32,  34,  36,  38,  40,  42,  44,  46,  48,  50,  52,\n",
       "        54,  56,  58,  60,  62,  64,  66,  68,  70,  72,  74,  76,  78,\n",
       "        80,  82,  84,  86,  88,  90,  92,  94,  96,  98, 100])"
      ]
     },
     "execution_count": 18,
     "metadata": {},
     "output_type": "execute_result"
    }
   ],
   "source": [
    "a_even+a_odd\n",
    "a_even>50\n",
    "a_even==10\n",
    "(a_even>30) & (a_even%5==0)\n",
    "\n",
    "a_even[a_even>a_odd]"
   ]
  },
  {
   "cell_type": "code",
   "execution_count": 19,
   "id": "a87e48ac-7c95-49e3-bda9-0919f799c1ce",
   "metadata": {},
   "outputs": [
    {
     "data": {
      "text/plain": [
       "'1.26.4'"
      ]
     },
     "execution_count": 19,
     "metadata": {},
     "output_type": "execute_result"
    }
   ],
   "source": [
    "np.__version__"
   ]
  },
  {
   "cell_type": "code",
   "execution_count": 20,
   "id": "e61f0521-a4c3-46ad-be2d-ec8cc7ad3278",
   "metadata": {},
   "outputs": [
    {
     "data": {
      "text/plain": [
       "array([10, 20, 30])"
      ]
     },
     "execution_count": 20,
     "metadata": {},
     "output_type": "execute_result"
    }
   ],
   "source": [
    "np.array((10,20,30))"
   ]
  },
  {
   "cell_type": "code",
   "execution_count": 21,
   "id": "fc41a7d3-4ec3-45b1-8eb4-bac3fb5a1641",
   "metadata": {},
   "outputs": [
    {
     "data": {
      "text/plain": [
       "array(10)"
      ]
     },
     "execution_count": 21,
     "metadata": {},
     "output_type": "execute_result"
    }
   ],
   "source": [
    "# 0차원 배열 = 스칼라 = 배열의 각 요소 값\n",
    "arr=np.array(10)\n",
    "arr"
   ]
  },
  {
   "cell_type": "code",
   "execution_count": 22,
   "id": "cf495988-2ac9-4d97-97de-8495e3839d4c",
   "metadata": {},
   "outputs": [
    {
     "data": {
      "text/plain": [
       "array([10, 20, 30])"
      ]
     },
     "execution_count": 22,
     "metadata": {},
     "output_type": "execute_result"
    }
   ],
   "source": [
    "#1차원 배열 = 0차원 배열을 요소로 갖는 배열\n",
    "arr=np.array([10,20,30])\n",
    "arr"
   ]
  },
  {
   "cell_type": "code",
   "execution_count": 23,
   "id": "cfad948b-c709-45c5-b187-05e8273cbe0d",
   "metadata": {},
   "outputs": [
    {
     "data": {
      "text/plain": [
       "3"
      ]
     },
     "execution_count": 23,
     "metadata": {},
     "output_type": "execute_result"
    }
   ],
   "source": [
    "#2차원 배열 = 1차원 배열을 요소로 갖는 배열 = 행렬\n",
    "arr=np.array([[10,20,30],[40,50,60]])\n",
    "arr # 2행3열\n",
    "len(arr)#행\n",
    "len(arr[0])#열"
   ]
  },
  {
   "cell_type": "code",
   "execution_count": 24,
   "id": "7b6cb096-3c53-4c70-8a6f-b63aceaa4ef1",
   "metadata": {},
   "outputs": [
    {
     "data": {
      "text/plain": [
       "3"
      ]
     },
     "execution_count": 24,
     "metadata": {},
     "output_type": "execute_result"
    }
   ],
   "source": [
    "# 3차원배열 = 2차원 배열을 요소로 갖는 배열\n",
    "arr = np.array([[[1, 2, 3], [4, 5, 6]], [[1, 2, 3], [4, 5, 6]]])\n",
    "arr\n",
    "arr.ndim #몇차원인지"
   ]
  },
  {
   "cell_type": "code",
   "execution_count": 25,
   "id": "df0096b4-5814-4424-a8b7-7796a68fd59e",
   "metadata": {},
   "outputs": [
    {
     "data": {
      "text/plain": [
       "3"
      ]
     },
     "execution_count": 25,
     "metadata": {},
     "output_type": "execute_result"
    }
   ],
   "source": [
    "len(arr[0][0])"
   ]
  },
  {
   "cell_type": "code",
   "execution_count": 26,
   "id": "3766937b-ecf4-48fd-932d-a7a9ea04045b",
   "metadata": {},
   "outputs": [],
   "source": [
    "len(arr) #깊이\n",
    "len(arr[0])#행\n",
    "len(arr[0][0]) #열\n",
    "arr=np.array([[[1,2,3,4],[5,6,7,8],[9,10,11,12]],\n",
    "[[13,14,15,16],[17,18,19,20],[21,22,23,24]]])"
   ]
  },
  {
   "cell_type": "code",
   "execution_count": 27,
   "id": "247efedb-0c93-4c04-a326-eaefca14c089",
   "metadata": {},
   "outputs": [
    {
     "data": {
      "text/plain": [
       "array([[[ 1,  2,  3,  4],\n",
       "        [ 5,  6,  7,  8],\n",
       "        [ 9, 10, 11, 12]],\n",
       "\n",
       "       [[13, 14, 15, 16],\n",
       "        [17, 18, 19, 20],\n",
       "        [21, 22, 23, 24]]])"
      ]
     },
     "execution_count": 27,
     "metadata": {},
     "output_type": "execute_result"
    }
   ],
   "source": [
    "arr"
   ]
  },
  {
   "cell_type": "code",
   "execution_count": 28,
   "id": "f148e341-2a28-4f4d-b0d7-338c5a1820df",
   "metadata": {},
   "outputs": [],
   "source": [
    "arr=np.array(list(range(1,25)))"
   ]
  },
  {
   "cell_type": "code",
   "execution_count": 29,
   "id": "a3aa9bbf-2866-406a-9d82-433857097ffe",
   "metadata": {},
   "outputs": [
    {
     "data": {
      "text/plain": [
       "array([[[ 1,  2,  3,  4],\n",
       "        [ 5,  6,  7,  8],\n",
       "        [ 9, 10, 11, 12]],\n",
       "\n",
       "       [[13, 14, 15, 16],\n",
       "        [17, 18, 19, 20],\n",
       "        [21, 22, 23, 24]]])"
      ]
     },
     "execution_count": 29,
     "metadata": {},
     "output_type": "execute_result"
    }
   ],
   "source": [
    "arr_re=arr.reshape(2,3,4)\n",
    "arr_re"
   ]
  },
  {
   "cell_type": "code",
   "execution_count": 30,
   "id": "0530b454-0bab-4c27-87c7-286a06116906",
   "metadata": {},
   "outputs": [
    {
     "data": {
      "text/plain": [
       "(2, 3, 4)"
      ]
     },
     "execution_count": 30,
     "metadata": {},
     "output_type": "execute_result"
    }
   ],
   "source": [
    "arr_re.ndim\n",
    "arr_re.shape"
   ]
  },
  {
   "cell_type": "code",
   "execution_count": 31,
   "id": "6f0d7d15-dff2-454c-a48e-b84c817527d1",
   "metadata": {},
   "outputs": [
    {
     "data": {
      "text/plain": [
       "array([1, 2, 3, 4])"
      ]
     },
     "execution_count": 31,
     "metadata": {},
     "output_type": "execute_result"
    }
   ],
   "source": [
    "arr=np.array([1,2,3,4])\n",
    "arr"
   ]
  },
  {
   "cell_type": "code",
   "execution_count": 32,
   "id": "bb3e155e-4e57-4e4d-9838-60d0fdeb4706",
   "metadata": {},
   "outputs": [
    {
     "data": {
      "text/plain": [
       "1"
      ]
     },
     "execution_count": 32,
     "metadata": {},
     "output_type": "execute_result"
    }
   ],
   "source": [
    "arr[0]"
   ]
  },
  {
   "cell_type": "code",
   "execution_count": 33,
   "id": "852070f4-ed2d-42c7-a339-aebdfee098b4",
   "metadata": {},
   "outputs": [],
   "source": [
    "# 2차원배열 생성\n",
    "data=[a for a in range(11,21)]\n",
    "arr=(np.array(data)).reshape(2,5)"
   ]
  },
  {
   "cell_type": "code",
   "execution_count": 34,
   "id": "b500d7a5-9e3c-405e-962b-28c180e172fb",
   "metadata": {},
   "outputs": [
    {
     "data": {
      "text/plain": [
       "array([[11, 12, 13, 14, 15],\n",
       "       [16, 17, 18, 19, 20]])"
      ]
     },
     "execution_count": 34,
     "metadata": {},
     "output_type": "execute_result"
    }
   ],
   "source": [
    "arr"
   ]
  },
  {
   "cell_type": "code",
   "execution_count": 35,
   "id": "d4ed01e8-9e11-41dd-9780-8c0a5616b6bd",
   "metadata": {},
   "outputs": [
    {
     "data": {
      "text/plain": [
       "array([16, 17, 18, 19, 20])"
      ]
     },
     "execution_count": 35,
     "metadata": {},
     "output_type": "execute_result"
    }
   ],
   "source": [
    "arr[1]"
   ]
  },
  {
   "cell_type": "code",
   "execution_count": 36,
   "id": "c5b56dc3-d542-46bf-8214-5f5b90d17301",
   "metadata": {},
   "outputs": [],
   "source": [
    "# 1~12요소로 초기화, 3차원배열\n",
    "data=[range(1,13)]\n",
    "arr=(np.array(data)).reshape(2,2,3)"
   ]
  },
  {
   "cell_type": "code",
   "execution_count": 37,
   "id": "eedc5272-3f5f-4c3a-9a3a-133d846d7c9d",
   "metadata": {},
   "outputs": [
    {
     "data": {
      "text/plain": [
       "array([[[ 1,  2,  3],\n",
       "        [ 4,  5,  6]],\n",
       "\n",
       "       [[ 7,  8,  9],\n",
       "        [10, 11, 12]]])"
      ]
     },
     "execution_count": 37,
     "metadata": {},
     "output_type": "execute_result"
    }
   ],
   "source": [
    "arr"
   ]
  },
  {
   "cell_type": "code",
   "execution_count": 38,
   "id": "693daf37-5fdb-48ef-995e-c1ab8a6fc068",
   "metadata": {},
   "outputs": [
    {
     "data": {
      "text/plain": [
       "6"
      ]
     },
     "execution_count": 38,
     "metadata": {},
     "output_type": "execute_result"
    }
   ],
   "source": [
    "arr[0][1][2]"
   ]
  },
  {
   "cell_type": "code",
   "execution_count": 39,
   "id": "b057b0a1-3644-4c5e-b46f-3810bf118193",
   "metadata": {},
   "outputs": [
    {
     "data": {
      "text/plain": [
       "array([1, 2, 3, 4, 5, 6, 7])"
      ]
     },
     "execution_count": 39,
     "metadata": {},
     "output_type": "execute_result"
    }
   ],
   "source": [
    "arr=np.array(list(range(1,8)))\n",
    "arr"
   ]
  },
  {
   "cell_type": "code",
   "execution_count": 40,
   "id": "a0d0e297-83d0-48c5-a564-73680dbd5857",
   "metadata": {},
   "outputs": [
    {
     "data": {
      "text/plain": [
       "array([1, 3, 5, 7])"
      ]
     },
     "execution_count": 40,
     "metadata": {},
     "output_type": "execute_result"
    }
   ],
   "source": [
    "arr[::2]"
   ]
  },
  {
   "cell_type": "code",
   "execution_count": 41,
   "id": "eb5a8af6-bc90-41fc-916e-f065bff2e359",
   "metadata": {},
   "outputs": [
    {
     "data": {
      "text/plain": [
       "array([[11, 12, 13, 14, 15],\n",
       "       [16, 17, 18, 19, 20],\n",
       "       [21, 22, 23, 24, 25],\n",
       "       [26, 27, 28, 29, 30],\n",
       "       [31, 32, 33, 34, 35],\n",
       "       [36, 37, 38, 39, 40]])"
      ]
     },
     "execution_count": 41,
     "metadata": {},
     "output_type": "execute_result"
    }
   ],
   "source": [
    "arr=np.array(list(range(11,41))).reshape(6,5)\n",
    "arr"
   ]
  },
  {
   "cell_type": "code",
   "execution_count": 42,
   "id": "c7803234-d3b1-42ba-bb16-13f3f418992c",
   "metadata": {},
   "outputs": [
    {
     "data": {
      "text/plain": [
       "34"
      ]
     },
     "execution_count": 42,
     "metadata": {},
     "output_type": "execute_result"
    }
   ],
   "source": [
    "arr[-2,-2]"
   ]
  },
  {
   "cell_type": "code",
   "execution_count": 43,
   "id": "2b15c586-544f-49c5-8946-2c1551bb5413",
   "metadata": {},
   "outputs": [
    {
     "data": {
      "text/plain": [
       "array([21, 22, 23])"
      ]
     },
     "execution_count": 43,
     "metadata": {},
     "output_type": "execute_result"
    }
   ],
   "source": [
    "arr[2][:3]"
   ]
  },
  {
   "cell_type": "code",
   "execution_count": 44,
   "id": "5965e7ca-430f-4a02-9979-4beab013e5ac",
   "metadata": {},
   "outputs": [
    {
     "data": {
      "text/plain": [
       "array([[17, 18, 19],\n",
       "       [22, 23, 24]])"
      ]
     },
     "execution_count": 44,
     "metadata": {},
     "output_type": "execute_result"
    }
   ],
   "source": [
    "arr[1:3,1:4]"
   ]
  },
  {
   "cell_type": "code",
   "execution_count": 45,
   "id": "154e8484-afa3-46a3-8b7c-0eb9285f8602",
   "metadata": {},
   "outputs": [
    {
     "name": "stdout",
     "output_type": "stream",
     "text": [
      "Note: you may need to restart the kernel to use updated packages.\n"
     ]
    },
    {
     "name": "stderr",
     "output_type": "stream",
     "text": [
      "ERROR: Could not find a version that satisfies the requirement FinaceDataReader (from versions: none)\n",
      "ERROR: No matching distribution found for FinaceDataReader\n"
     ]
    }
   ],
   "source": [
    "pip install FinaceDataReader"
   ]
  },
  {
   "cell_type": "code",
   "execution_count": 46,
   "id": "7e51e7f5-7781-4b51-b97b-46a18ca24ce6",
   "metadata": {},
   "outputs": [
    {
     "name": "stdout",
     "output_type": "stream",
     "text": [
      "Requirement already satisfied: finance-datareader in c:\\anaconnda3\\lib\\site-packages (0.9.90)\n",
      "Requirement already satisfied: pandas>=0.19.2 in c:\\anaconnda3\\lib\\site-packages (from finance-datareader) (2.1.4)\n",
      "Requirement already satisfied: requests>=2.3.0 in c:\\anaconnda3\\lib\\site-packages (from finance-datareader) (2.31.0)\n",
      "Requirement already satisfied: requests-file in c:\\anaconnda3\\lib\\site-packages (from finance-datareader) (1.5.1)\n",
      "Requirement already satisfied: lxml in c:\\anaconnda3\\lib\\site-packages (from finance-datareader) (4.9.3)\n",
      "Requirement already satisfied: tqdm in c:\\anaconnda3\\lib\\site-packages (from finance-datareader) (4.65.0)\n",
      "Requirement already satisfied: numpy<2,>=1.23.2 in c:\\anaconnda3\\lib\\site-packages (from pandas>=0.19.2->finance-datareader) (1.26.4)\n",
      "Requirement already satisfied: python-dateutil>=2.8.2 in c:\\anaconnda3\\lib\\site-packages (from pandas>=0.19.2->finance-datareader) (2.8.2)\n",
      "Requirement already satisfied: pytz>=2020.1 in c:\\anaconnda3\\lib\\site-packages (from pandas>=0.19.2->finance-datareader) (2023.3.post1)\n",
      "Requirement already satisfied: tzdata>=2022.1 in c:\\anaconnda3\\lib\\site-packages (from pandas>=0.19.2->finance-datareader) (2023.3)\n",
      "Requirement already satisfied: charset-normalizer<4,>=2 in c:\\anaconnda3\\lib\\site-packages (from requests>=2.3.0->finance-datareader) (2.0.4)\n",
      "Requirement already satisfied: idna<4,>=2.5 in c:\\anaconnda3\\lib\\site-packages (from requests>=2.3.0->finance-datareader) (3.4)\n",
      "Requirement already satisfied: urllib3<3,>=1.21.1 in c:\\anaconnda3\\lib\\site-packages (from requests>=2.3.0->finance-datareader) (2.0.7)\n",
      "Requirement already satisfied: certifi>=2017.4.17 in c:\\anaconnda3\\lib\\site-packages (from requests>=2.3.0->finance-datareader) (2024.2.2)\n",
      "Requirement already satisfied: six in c:\\anaconnda3\\lib\\site-packages (from requests-file->finance-datareader) (1.16.0)\n",
      "Requirement already satisfied: colorama in c:\\anaconnda3\\lib\\site-packages (from tqdm->finance-datareader) (0.4.6)\n",
      "Note: you may need to restart the kernel to use updated packages.\n"
     ]
    }
   ],
   "source": [
    "pip install -U finance-datareader"
   ]
  },
  {
   "cell_type": "code",
   "execution_count": 54,
   "id": "35ddf3fd-8dc2-4d69-95bf-4b25341b920c",
   "metadata": {},
   "outputs": [],
   "source": [
    "kakao_arr=np.loadtxt('kakao_pre.csv', skiprows=1, dtype=np.float32, delimiter=',')"
   ]
  },
  {
   "cell_type": "code",
   "execution_count": 56,
   "id": "580bfc6f-2620-4e0c-a6c3-d81dca910041",
   "metadata": {},
   "outputs": [
    {
     "data": {
      "text/plain": [
       "array([58000., 57200., 57500., 57800., 57100., 56400., 56200., 56500.,\n",
       "       56700., 55900., 58200., 57400., 57900., 58100., 57500., 56600.,\n",
       "       56400., 57000., 56500., 56300., 56300., 57600., 57700., 57000.,\n",
       "       56800., 56900., 57000., 56400., 55700., 54300., 53400., 52400.,\n",
       "       51700., 50200., 50200., 49000., 50000., 49700., 49000., 48850.,\n",
       "       49300., 50900., 49950., 48850., 50600., 49850., 50100., 50700.,\n",
       "       52000., 52300., 52400., 52700., 51800., 50100., 50000., 50100.,\n",
       "       49600., 48800., 47500., 50200., 50900., 51800., 55100., 52800.,\n",
       "       53800., 51700., 53500., 52100., 52300., 51400., 51700., 50300.,\n",
       "       50000., 48650., 48500., 48550., 48700., 49450., 48000., 48550.,\n",
       "       48000., 49150., 49000., 47950., 48900., 49100., 49000., 48700.,\n",
       "       48650., 48250., 48200., 48100., 47850., 48100., 48550., 48600.,\n",
       "       47850., 46800., 45100., 44900., 44650., 43150., 43050., 41750.,\n",
       "       40600., 42100., 41900., 42700., 43250., 43250., 43400., 42400.,\n",
       "       41000., 39750., 38200., 38300., 39600., 38250., 37650., 37650.,\n",
       "       38250., 38000., 38000., 39250., 43000., 44700., 44350., 43450.,\n",
       "       45800., 45800., 46150., 47200., 47400., 48150., 47250., 48300.,\n",
       "       48750., 50400., 50400., 50800., 50000., 50800., 50200., 50400.,\n",
       "       49800., 50700., 50700., 50200., 51400., 52000., 52500., 51800.,\n",
       "       52400., 54400., 55000., 53500., 54200., 52900., 53300., 52100.,\n",
       "       52400., 53700., 54300., 57100., 55800., 57400., 55800., 58500.,\n",
       "       58900., 60300., 60900., 60500., 60600., 59600., 57200., 58100.,\n",
       "       58300., 56700., 57500., 56300., 55700., 56600., 55900., 53700.,\n",
       "       51900., 53800., 57000., 54500., 54400., 54500., 54000., 53900.,\n",
       "       56800., 59500., 58800., 57900., 58800., 58600., 58100., 57500.,\n",
       "       57200., 56800., 55100., 53600., 52600., 51400., 52200., 53600.,\n",
       "       53200., 55000., 55900., 54600., 55000., 54200., 52700., 52400.,\n",
       "       53900., 53600., 53400., 54200., 54200., 54800., 54500., 54100.,\n",
       "       53200., 51200., 51200., 48400., 48850., 49100., 48450., 48050.,\n",
       "       47100., 47200., 46700., 47350., 48350., 49450., 48700., 48000.,\n",
       "       47500., 47850., 47650., 48350., 48150., 49000.], dtype=float32)"
      ]
     },
     "execution_count": 56,
     "metadata": {},
     "output_type": "execute_result"
    }
   ],
   "source": [
    "kakao_arr[:5]\n",
    "kakao_arr[:,0]"
   ]
  },
  {
   "cell_type": "code",
   "execution_count": null,
   "id": "7ba8bf2e-f68a-4f17-a5b7-c092f5a5903e",
   "metadata": {},
   "outputs": [],
   "source": []
  }
 ],
 "metadata": {
  "kernelspec": {
   "display_name": "Python 3 (ipykernel)",
   "language": "python",
   "name": "python3"
  },
  "language_info": {
   "codemirror_mode": {
    "name": "ipython",
    "version": 3
   },
   "file_extension": ".py",
   "mimetype": "text/x-python",
   "name": "python",
   "nbconvert_exporter": "python",
   "pygments_lexer": "ipython3",
   "version": "3.11.7"
  }
 },
 "nbformat": 4,
 "nbformat_minor": 5
}
