{
 "cells": [
  {
   "cell_type": "code",
   "execution_count": 10,
   "id": "668e7e0f-4b10-4f2f-b535-d10ac12e3d05",
   "metadata": {},
   "outputs": [],
   "source": [
    "import numpy as np\n",
    "import random"
   ]
  },
  {
   "cell_type": "code",
   "execution_count": 3,
   "id": "f667c4bc-bae0-4d4f-b1ff-9ce4657b3f51",
   "metadata": {},
   "outputs": [],
   "source": [
    "data=np.random.randint(5, 11, size=10)"
   ]
  },
  {
   "cell_type": "code",
   "execution_count": 4,
   "id": "c5339594-dc88-4054-9206-78e099aef381",
   "metadata": {},
   "outputs": [
    {
     "data": {
      "text/plain": [
       "array([ 5,  6,  7,  8,  9, 10])"
      ]
     },
     "execution_count": 4,
     "metadata": {},
     "output_type": "execute_result"
    }
   ],
   "source": [
    "np.unique(data)"
   ]
  },
  {
   "cell_type": "code",
   "execution_count": 5,
   "id": "8e729b66-35db-420c-8793-1b86f8a3acdf",
   "metadata": {},
   "outputs": [
    {
     "data": {
      "text/plain": [
       "(array([ 5,  6,  7,  8,  9, 10]), array([1, 3, 1, 3, 1, 1], dtype=int64))"
      ]
     },
     "execution_count": 5,
     "metadata": {},
     "output_type": "execute_result"
    }
   ],
   "source": [
    "np.unique(data, return_counts=True)"
   ]
  },
  {
   "cell_type": "code",
   "execution_count": 6,
   "id": "28f754e0-a254-4ecf-86c6-258e0a5dfe54",
   "metadata": {},
   "outputs": [
    {
     "data": {
      "text/plain": [
       "array([ 5,  6,  7,  8,  9, 10])"
      ]
     },
     "execution_count": 6,
     "metadata": {},
     "output_type": "execute_result"
    }
   ],
   "source": [
    "np.unique(data, return_counts=True)[0]"
   ]
  },
  {
   "cell_type": "code",
   "execution_count": 7,
   "id": "583c9a48-5c62-4048-877c-ad8bba9cad24",
   "metadata": {},
   "outputs": [
    {
     "data": {
      "text/plain": [
       "array([1, 3, 1, 3, 1, 1], dtype=int64)"
      ]
     },
     "execution_count": 7,
     "metadata": {},
     "output_type": "execute_result"
    }
   ],
   "source": [
    "np.unique(data, return_counts=True)[1]"
   ]
  },
  {
   "cell_type": "code",
   "execution_count": 8,
   "id": "0942c796-67c6-4e09-b969-f80580cee7bc",
   "metadata": {},
   "outputs": [
    {
     "data": {
      "text/plain": [
       "array([0, 0, 0, 0, 0, 1, 3, 1, 3, 1, 1], dtype=int64)"
      ]
     },
     "execution_count": 8,
     "metadata": {},
     "output_type": "execute_result"
    }
   ],
   "source": [
    "np.bincount(data, minlength=11)\n",
    "# minlength: 0부터 설정된 값-1 까지 수를 범위로 설정하여 빈도수 조사\n",
    "# minlength=11 이면 0부터 10 까지 수를 범위로 설정하여 빈도수 조사"
   ]
  },
  {
   "cell_type": "code",
   "execution_count": 9,
   "id": "bae45327-e95b-42f7-898c-548c4038a177",
   "metadata": {},
   "outputs": [
    {
     "data": {
      "text/plain": [
       "array([ 6,  8,  7,  8,  5,  9, 10,  6,  6,  8])"
      ]
     },
     "execution_count": 9,
     "metadata": {},
     "output_type": "execute_result"
    }
   ],
   "source": [
    "data"
   ]
  },
  {
   "cell_type": "code",
   "execution_count": null,
   "id": "e154b931-1e03-4d3d-b635-8771cefdc0e8",
   "metadata": {},
   "outputs": [],
   "source": []
  }
 ],
 "metadata": {
  "kernelspec": {
   "display_name": "Python 3 (ipykernel)",
   "language": "python",
   "name": "python3"
  },
  "language_info": {
   "codemirror_mode": {
    "name": "ipython",
    "version": 3
   },
   "file_extension": ".py",
   "mimetype": "text/x-python",
   "name": "python",
   "nbconvert_exporter": "python",
   "pygments_lexer": "ipython3",
   "version": "3.11.7"
  }
 },
 "nbformat": 4,
 "nbformat_minor": 5
}
