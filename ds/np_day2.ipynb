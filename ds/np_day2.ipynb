{
 "cells": [
  {
   "cell_type": "code",
   "execution_count": 1,
   "id": "134bf30c-e56a-4b95-8a99-87626fc75f82",
   "metadata": {},
   "outputs": [],
   "source": [
    "import numpy as np"
   ]
  },
  {
   "cell_type": "code",
   "execution_count": 2,
   "id": "89585af5-2194-4676-a088-f7dcfd426eb2",
   "metadata": {},
   "outputs": [],
   "source": [
    "arr=np.array([1,2,3,4])"
   ]
  },
  {
   "cell_type": "code",
   "execution_count": 3,
   "id": "71a78cdc-9233-4486-b076-f4cc3bfb5d7c",
   "metadata": {},
   "outputs": [
    {
     "data": {
      "text/plain": [
       "dtype('int32')"
      ]
     },
     "execution_count": 3,
     "metadata": {},
     "output_type": "execute_result"
    }
   ],
   "source": [
    "arr.dtype"
   ]
  },
  {
   "cell_type": "code",
   "execution_count": 4,
   "id": "fcb80898-2df7-4253-81a8-276886177832",
   "metadata": {},
   "outputs": [
    {
     "data": {
      "text/plain": [
       "numpy.ndarray"
      ]
     },
     "execution_count": 4,
     "metadata": {},
     "output_type": "execute_result"
    }
   ],
   "source": [
    "type(arr)"
   ]
  },
  {
   "cell_type": "code",
   "execution_count": 6,
   "id": "c03eca5d-df4e-4b4a-8cd1-fef1619d1b91",
   "metadata": {},
   "outputs": [
    {
     "data": {
      "text/plain": [
       "numpy.int32"
      ]
     },
     "execution_count": 6,
     "metadata": {},
     "output_type": "execute_result"
    }
   ],
   "source": [
    "type(arr[0])"
   ]
  },
  {
   "cell_type": "code",
   "execution_count": null,
   "id": "6e6505b2-aa34-4830-b769-38c9d3f6e0af",
   "metadata": {},
   "outputs": [],
   "source": [
    "1MB =100만 바이트\n",
    "1GB=10억 바이트\n",
    "32GB=320억 바이트  => 20GB 여유\n",
    "200억 / 4 = 50억개 정수를 저장"
   ]
  },
  {
   "cell_type": "code",
   "execution_count": 10,
   "id": "6e2d94b4-1abd-43a3-b73a-3bfa8f6ea6e3",
   "metadata": {},
   "outputs": [
    {
     "data": {
      "text/plain": [
       "dtype('<U5')"
      ]
     },
     "execution_count": 10,
     "metadata": {},
     "output_type": "execute_result"
    }
   ],
   "source": [
    "arr=np.array(['APPLE', 'CHERRY', 'BANANA'])\n",
    "arr.dtype"
   ]
  },
  {
   "cell_type": "code",
   "execution_count": 9,
   "id": "c93d79cf-be53-4000-a8b2-2ddbc1de6ba2",
   "metadata": {},
   "outputs": [],
   "source": [
    "#<U6 ? unicode"
   ]
  },
  {
   "cell_type": "code",
   "execution_count": 12,
   "id": "a8f99ffb-a913-438b-9639-b9840e42a155",
   "metadata": {},
   "outputs": [
    {
     "data": {
      "text/plain": [
       "dtype('float64')"
      ]
     },
     "execution_count": 12,
     "metadata": {},
     "output_type": "execute_result"
    }
   ],
   "source": [
    "arr=np.array([1,2,3], dtype=np.float64) #64bit\n",
    "arr.dtype"
   ]
  },
  {
   "cell_type": "code",
   "execution_count": 15,
   "id": "c8666685-6bc9-452f-88d3-8fb324ec13f9",
   "metadata": {},
   "outputs": [
    {
     "data": {
      "text/plain": [
       "dtype('float16')"
      ]
     },
     "execution_count": 15,
     "metadata": {},
     "output_type": "execute_result"
    }
   ],
   "source": [
    "arr=np.array([1,2,3], dtype=np.float16) #16bit\n",
    "arr.dtype"
   ]
  },
  {
   "cell_type": "code",
   "execution_count": 16,
   "id": "801118fc-19e9-439f-8ada-128d05b2b5e4",
   "metadata": {},
   "outputs": [
    {
     "data": {
      "text/plain": [
       "dtype('int16')"
      ]
     },
     "execution_count": 16,
     "metadata": {},
     "output_type": "execute_result"
    }
   ],
   "source": [
    "arr=np.array([1,2,3], dtype=np.int16) #16bit: -3천만~+3천만\n",
    "arr.dtype"
   ]
  },
  {
   "cell_type": "code",
   "execution_count": 17,
   "id": "af4a1df1-0b0d-4bdf-8f0d-935662e47c52",
   "metadata": {},
   "outputs": [
    {
     "data": {
      "text/plain": [
       "dtype('int8')"
      ]
     },
     "execution_count": 17,
     "metadata": {},
     "output_type": "execute_result"
    }
   ],
   "source": [
    "arr=np.array([1,2,3], dtype=np.int8) #8bit:-128~127\n",
    "arr.dtype"
   ]
  },
  {
   "cell_type": "code",
   "execution_count": 18,
   "id": "d4284d38-04e4-43fe-bf1c-ebb25291fe49",
   "metadata": {},
   "outputs": [
    {
     "data": {
      "text/plain": [
       "dtype('float64')"
      ]
     },
     "execution_count": 18,
     "metadata": {},
     "output_type": "execute_result"
    }
   ],
   "source": [
    "arr=np.array([1,2,3], dtype=np.float64) #64bit\n",
    "arr.dtype\n",
    "#64비트 float 수의 범위 = 4.9 * 10의 -324승 ~ 1.79 * 10의 308승\n",
    "#32비트 float 수의 범위 = 1.4 * 10의 -45승 ~ 3.4 * 10의 38승\n",
    "\n",
    "#32비트 int 수의 범위 = -21억 ~ +21억\n",
    "#64비트 int 수의 범위 = -922경 ~ +922경"
   ]
  },
  {
   "cell_type": "code",
   "execution_count": 19,
   "id": "be45f8bd-03d2-405d-bca1-8aefaca0586c",
   "metadata": {},
   "outputs": [
    {
     "data": {
      "text/plain": [
       "array([1., 2., 3.])"
      ]
     },
     "execution_count": 19,
     "metadata": {},
     "output_type": "execute_result"
    }
   ],
   "source": [
    "arr"
   ]
  },
  {
   "cell_type": "code",
   "execution_count": 28,
   "id": "9e2cd1a1-ec18-4f90-8704-fd3bb775a9d2",
   "metadata": {},
   "outputs": [
    {
     "name": "stderr",
     "output_type": "stream",
     "text": [
      "C:\\Users\\TECH09-01\\AppData\\Local\\Temp\\ipykernel_9120\\2312191867.py:1: DeprecationWarning: NumPy will stop allowing conversion of out-of-bound Python integers to integer arrays.  The conversion of -129 to int8 will fail in the future.\n",
      "For the old behavior, usually:\n",
      "    np.array(value).astype(dtype)\n",
      "will give the desired result (the cast overflows).\n",
      "  arr=np.array([1,2,3, -129], dtype=np.int8) #8bit:-128~127\n"
     ]
    }
   ],
   "source": [
    "arr=np.array([1,2,3, -129], dtype=np.int8) #8bit:-128~127"
   ]
  },
  {
   "cell_type": "code",
   "execution_count": 29,
   "id": "f0ae3e08-a799-42e4-bef2-038dbba4d031",
   "metadata": {},
   "outputs": [
    {
     "data": {
      "text/plain": [
       "array([  1,   2,   3, 127], dtype=int8)"
      ]
     },
     "execution_count": 29,
     "metadata": {},
     "output_type": "execute_result"
    }
   ],
   "source": [
    "arr"
   ]
  },
  {
   "cell_type": "code",
   "execution_count": 33,
   "id": "d4b8f594-d640-4735-b57b-e0342f31784a",
   "metadata": {},
   "outputs": [
    {
     "data": {
      "text/plain": [
       "array([1, 2, 3], dtype=int16)"
      ]
     },
     "execution_count": 33,
     "metadata": {},
     "output_type": "execute_result"
    }
   ],
   "source": [
    "arr=np.array([1,2,3], dtype='i2') #i바이트수\n",
    "arr"
   ]
  },
  {
   "cell_type": "code",
   "execution_count": 35,
   "id": "82b0557d-c9e9-489c-9c86-b91a83a4fe05",
   "metadata": {},
   "outputs": [
    {
     "data": {
      "text/plain": [
       "dtype('int32')"
      ]
     },
     "execution_count": 35,
     "metadata": {},
     "output_type": "execute_result"
    }
   ],
   "source": [
    "arr=np.array([1,2,3])\n",
    "arr\n",
    "arr.dtype"
   ]
  },
  {
   "cell_type": "code",
   "execution_count": 36,
   "id": "572484e0-585b-4431-aad7-f308460e0a1f",
   "metadata": {},
   "outputs": [
    {
     "data": {
      "text/plain": [
       "array([1., 2., 3.], dtype=float32)"
      ]
     },
     "execution_count": 36,
     "metadata": {},
     "output_type": "execute_result"
    }
   ],
   "source": [
    "farr=arr.astype(np.float32)\n",
    "farr"
   ]
  },
  {
   "cell_type": "code",
   "execution_count": 37,
   "id": "e39d7279-14ab-4e18-bc2b-0d53ec7611e3",
   "metadata": {},
   "outputs": [
    {
     "data": {
      "text/plain": [
       "array([1., 2., 3.], dtype=float32)"
      ]
     },
     "execution_count": 37,
     "metadata": {},
     "output_type": "execute_result"
    }
   ],
   "source": [
    "farr2=np.array([1,2,3], dtype=np.float32)\n",
    "farr2"
   ]
  },
  {
   "cell_type": "code",
   "execution_count": 40,
   "id": "02b560eb-020f-4892-9065-6913792a7a8f",
   "metadata": {},
   "outputs": [
    {
     "data": {
      "text/plain": [
       "array([  1,   2,   3, 127], dtype=int8)"
      ]
     },
     "execution_count": 40,
     "metadata": {},
     "output_type": "execute_result"
    }
   ],
   "source": [
    "#arr = np.array([1,2,3, -129], dtype=np.int8)\n",
    "arr\n",
    "#구글링 : 2의보수 연산"
   ]
  },
  {
   "cell_type": "code",
   "execution_count": 41,
   "id": "28d73c8b-0d82-44f1-b2cc-9306db91ccfc",
   "metadata": {},
   "outputs": [
    {
     "data": {
      "text/plain": [
       "array([1, 2, 3])"
      ]
     },
     "execution_count": 41,
     "metadata": {},
     "output_type": "execute_result"
    }
   ],
   "source": [
    "arr=np.array([1,2,3])\n",
    "arr"
   ]
  },
  {
   "cell_type": "code",
   "execution_count": 43,
   "id": "f78b5914-97f5-44cc-beb2-111ecebd4ac2",
   "metadata": {},
   "outputs": [
    {
     "data": {
      "text/plain": [
       "[1, 2, '3']"
      ]
     },
     "execution_count": 43,
     "metadata": {},
     "output_type": "execute_result"
    }
   ],
   "source": [
    "myList=[1,2,'3']\n",
    "myList"
   ]
  },
  {
   "cell_type": "code",
   "execution_count": 46,
   "id": "ef12301e-f0a3-4e87-a1d0-e15aeab1672a",
   "metadata": {},
   "outputs": [
    {
     "data": {
      "text/plain": [
       "str"
      ]
     },
     "execution_count": 46,
     "metadata": {},
     "output_type": "execute_result"
    }
   ],
   "source": [
    "type(myList)\n",
    "type(myList[0])\n",
    "type(myList[2])"
   ]
  },
  {
   "cell_type": "code",
   "execution_count": 47,
   "id": "e6c88191-aec8-417f-84f8-a1a31951e3da",
   "metadata": {},
   "outputs": [],
   "source": [
    "imyList=[1,2,3]\n",
    "cmyList=[1,2,'3']"
   ]
  },
  {
   "cell_type": "code",
   "execution_count": 50,
   "id": "314cdbb4-9fdd-47f7-9015-c94d054eeb23",
   "metadata": {},
   "outputs": [
    {
     "data": {
      "text/plain": [
       "array([1, 2, 3])"
      ]
     },
     "execution_count": 50,
     "metadata": {},
     "output_type": "execute_result"
    }
   ],
   "source": [
    "np.array(imyList)"
   ]
  },
  {
   "cell_type": "code",
   "execution_count": 51,
   "id": "235a7a42-a7c0-45eb-877a-c6a5698301c5",
   "metadata": {},
   "outputs": [
    {
     "data": {
      "text/plain": [
       "array(['1', '2', '3'], dtype='<U11')"
      ]
     },
     "execution_count": 51,
     "metadata": {},
     "output_type": "execute_result"
    }
   ],
   "source": [
    "np.array(cmyList)\n",
    "배열 : 동일한 타입(크기도 같고)의 데이터를 여러개 나열한 것"
   ]
  },
  {
   "cell_type": "code",
   "execution_count": 53,
   "id": "7caaccfb-f2bd-446f-b7f8-026dc6d1830b",
   "metadata": {},
   "outputs": [],
   "source": [
    "arr1=np.array(list(range(10,14))).reshape(2,2)\n",
    "arr2=np.array(list(range(10,14))).reshape(2,2)"
   ]
  },
  {
   "cell_type": "code",
   "execution_count": 54,
   "id": "0cef462b-80ba-4d1b-b898-aa1c2c6ff391",
   "metadata": {},
   "outputs": [
    {
     "data": {
      "text/plain": [
       "array([[10, 11],\n",
       "       [12, 13]])"
      ]
     },
     "execution_count": 54,
     "metadata": {},
     "output_type": "execute_result"
    }
   ],
   "source": [
    "arr1\n",
    "arr2"
   ]
  },
  {
   "cell_type": "code",
   "execution_count": 55,
   "id": "f2f3d6a5-689a-43be-9eb9-ee23589a414e",
   "metadata": {},
   "outputs": [
    {
     "data": {
      "text/plain": [
       "array([[0, 0],\n",
       "       [0, 0]])"
      ]
     },
     "execution_count": 55,
     "metadata": {},
     "output_type": "execute_result"
    }
   ],
   "source": [
    "arr1-arr2 #넘파이 배열은 요소간 연산 => 동일한 크기의 배열"
   ]
  },
  {
   "cell_type": "code",
   "execution_count": 57,
   "id": "37ae892b-2ba0-4551-b1b7-4ca104ec162d",
   "metadata": {},
   "outputs": [
    {
     "data": {
      "text/plain": [
       "array([[20, 22],\n",
       "       [24, 26]])"
      ]
     },
     "execution_count": 57,
     "metadata": {},
     "output_type": "execute_result"
    }
   ],
   "source": [
    "arr1*2 #숫자와 연산을 할때는 모든 항목에 동일한 연산"
   ]
  },
  {
   "cell_type": "code",
   "execution_count": 58,
   "id": "95cdf329-373a-4fc5-b0f6-1fb7f942b8bc",
   "metadata": {},
   "outputs": [
    {
     "data": {
      "text/plain": [
       "array([[100, 121],\n",
       "       [144, 169]])"
      ]
     },
     "execution_count": 58,
     "metadata": {},
     "output_type": "execute_result"
    }
   ],
   "source": [
    "arr1*arr2 #주의:행렬의 곱셈(matrix multiply, matmul)이 아님, \n",
    "#요소간 곱셈(element-wise product)"
   ]
  },
  {
   "cell_type": "code",
   "execution_count": 61,
   "id": "6b6ea5d6-cef6-4212-ba22-c95729e0e082",
   "metadata": {},
   "outputs": [
    {
     "data": {
      "text/plain": [
       "array([[10, 11],\n",
       "       [12, 13]])"
      ]
     },
     "execution_count": 61,
     "metadata": {},
     "output_type": "execute_result"
    }
   ],
   "source": [
    "arr1=np.array(list(range(10,14))).reshape(2,2)\n",
    "arr1"
   ]
  },
  {
   "cell_type": "code",
   "execution_count": 62,
   "id": "a5dfd8ba-7e2d-48fb-aa4a-a07015ea6042",
   "metadata": {},
   "outputs": [
    {
     "data": {
      "text/plain": [
       "array([[13, 14],\n",
       "       [15, 16]])"
      ]
     },
     "execution_count": 62,
     "metadata": {},
     "output_type": "execute_result"
    }
   ],
   "source": [
    "arr2=np.array(list(range(13,17))).reshape(2,2)\n",
    "arr2"
   ]
  },
  {
   "cell_type": "code",
   "execution_count": 64,
   "id": "96b260a2-1607-4484-a352-c6f061bcdc44",
   "metadata": {},
   "outputs": [
    {
     "data": {
      "text/plain": [
       "array([[False,  True],\n",
       "       [ True,  True]])"
      ]
     },
     "execution_count": 64,
     "metadata": {},
     "output_type": "execute_result"
    }
   ],
   "source": [
    "arr1>arr2\n",
    "arr1>10"
   ]
  },
  {
   "cell_type": "code",
   "execution_count": 65,
   "id": "db6075c2-30b4-4740-b4a0-61f5b34119bb",
   "metadata": {},
   "outputs": [
    {
     "data": {
      "text/plain": [
       "array([[False, False],\n",
       "       [False, False]])"
      ]
     },
     "execution_count": 65,
     "metadata": {},
     "output_type": "execute_result"
    }
   ],
   "source": [
    "arr1==arr2"
   ]
  },
  {
   "cell_type": "code",
   "execution_count": 66,
   "id": "210308b7-1204-4af5-80a2-88e40d8e3c11",
   "metadata": {},
   "outputs": [
    {
     "data": {
      "text/plain": [
       "array([[ True,  True],\n",
       "       [ True,  True]])"
      ]
     },
     "execution_count": 66,
     "metadata": {},
     "output_type": "execute_result"
    }
   ],
   "source": [
    "~(arr1==arr2) #~는 not 연산자"
   ]
  },
  {
   "cell_type": "code",
   "execution_count": 67,
   "id": "2969b20a-88d2-4107-ba3f-7e081e8e6b0e",
   "metadata": {},
   "outputs": [
    {
     "data": {
      "text/plain": [
       "array([[ True,  True],\n",
       "       [ True,  True]])"
      ]
     },
     "execution_count": 67,
     "metadata": {},
     "output_type": "execute_result"
    }
   ],
   "source": [
    "arr1!=arr2 #같지 않다 !="
   ]
  },
  {
   "cell_type": "code",
   "execution_count": 71,
   "id": "a34f550c-8900-4f89-b2a3-c4c176ff78b1",
   "metadata": {},
   "outputs": [
    {
     "data": {
      "text/plain": [
       "array([[ True,  True],\n",
       "       [ True,  True]])"
      ]
     },
     "execution_count": 71,
     "metadata": {},
     "output_type": "execute_result"
    }
   ],
   "source": [
    "arr1==arr2\n",
    "~(arr1==arr2)"
   ]
  },
  {
   "cell_type": "code",
   "execution_count": 73,
   "id": "67a8c075-7923-4fb4-97bc-7be7f25fa7ae",
   "metadata": {},
   "outputs": [
    {
     "data": {
      "text/plain": [
       "array([[False, False],\n",
       "       [False, False]])"
      ]
     },
     "execution_count": 73,
     "metadata": {},
     "output_type": "execute_result"
    }
   ],
   "source": [
    "arr1!=arr2\n",
    "~(arr1!=arr2)"
   ]
  },
  {
   "cell_type": "code",
   "execution_count": 74,
   "id": "c4603bab-8694-4d1c-96b5-a7910a3b7a13",
   "metadata": {},
   "outputs": [
    {
     "data": {
      "text/plain": [
       "array([[ True,  True],\n",
       "       [ True,  True]])"
      ]
     },
     "execution_count": 74,
     "metadata": {},
     "output_type": "execute_result"
    }
   ],
   "source": [
    "(~(arr1==arr2)) | (~(arr1!=arr2))\n",
    "#     행렬      OR       행렬   => 요소간 OR연산\n",
    "#OR연산자는 둘 중 하나 이상이 TRUE -> TRUE"
   ]
  },
  {
   "cell_type": "code",
   "execution_count": 75,
   "id": "640a1ae1-1b3f-4fef-b065-9825ec1fa333",
   "metadata": {},
   "outputs": [
    {
     "data": {
      "text/plain": [
       "array([0, 1, 2, 3, 4, 5, 6, 7])"
      ]
     },
     "execution_count": 75,
     "metadata": {},
     "output_type": "execute_result"
    }
   ],
   "source": [
    "np.arange(8) #np.array(list(range(8)))"
   ]
  },
  {
   "cell_type": "code",
   "execution_count": 76,
   "id": "eca8b0fc-0df7-49f8-bb2a-926bec3137a2",
   "metadata": {},
   "outputs": [
    {
     "data": {
      "text/plain": [
       "array([[0, 1],\n",
       "       [2, 3],\n",
       "       [4, 5],\n",
       "       [6, 7]])"
      ]
     },
     "execution_count": 76,
     "metadata": {},
     "output_type": "execute_result"
    }
   ],
   "source": [
    "np.arange(8).reshape(4,2)"
   ]
  },
  {
   "cell_type": "code",
   "execution_count": 77,
   "id": "41899c37-0d2d-49af-bd22-7cdb5f2c9797",
   "metadata": {},
   "outputs": [
    {
     "data": {
      "text/plain": [
       "array([[[0, 1],\n",
       "        [2, 3]],\n",
       "\n",
       "       [[4, 5],\n",
       "        [6, 7]]])"
      ]
     },
     "execution_count": 77,
     "metadata": {},
     "output_type": "execute_result"
    }
   ],
   "source": [
    "np.arange(8).reshape(2,2,2)"
   ]
  },
  {
   "cell_type": "code",
   "execution_count": null,
   "id": "d79c45f1-f1ec-4ee0-aec6-34d865e22d39",
   "metadata": {},
   "outputs": [],
   "source": [
    "# 1~24까지의 값, 2*3*4 행렬\n",
    "# arange, range\n",
    "\n",
    "np.arange(1, 25).reshape(2, 3, 4)\n",
    "np.array(range(1, 25)).reshape(2, 3, 4)"
   ]
  },
  {
   "cell_type": "code",
   "execution_count": 80,
   "id": "af553b59-3973-41b7-b38e-90ca5dbf97e6",
   "metadata": {},
   "outputs": [
    {
     "data": {
      "text/plain": [
       "(4, 50)"
      ]
     },
     "execution_count": 80,
     "metadata": {},
     "output_type": "execute_result"
    }
   ],
   "source": [
    "data=np.arange(200)\n",
    "data\n",
    "data2=data.reshape(4, -1)\n",
    "data2.shape"
   ]
  },
  {
   "cell_type": "code",
   "execution_count": 82,
   "id": "0607642c-6649-478c-85b7-cb69731dc9e8",
   "metadata": {},
   "outputs": [
    {
     "data": {
      "text/plain": [
       "array([[  0,   1,   2,   3,   4,   5,   6,   7,   8,   9,  10,  11,  12,\n",
       "         13,  14,  15,  16,  17,  18,  19,  20,  21,  22,  23,  24],\n",
       "       [ 25,  26,  27,  28,  29,  30,  31,  32,  33,  34,  35,  36,  37,\n",
       "         38,  39,  40,  41,  42,  43,  44,  45,  46,  47,  48,  49],\n",
       "       [ 50,  51,  52,  53,  54,  55,  56,  57,  58,  59,  60,  61,  62,\n",
       "         63,  64,  65,  66,  67,  68,  69,  70,  71,  72,  73,  74],\n",
       "       [ 75,  76,  77,  78,  79,  80,  81,  82,  83,  84,  85,  86,  87,\n",
       "         88,  89,  90,  91,  92,  93,  94,  95,  96,  97,  98,  99],\n",
       "       [100, 101, 102, 103, 104, 105, 106, 107, 108, 109, 110, 111, 112,\n",
       "        113, 114, 115, 116, 117, 118, 119, 120, 121, 122, 123, 124],\n",
       "       [125, 126, 127, 128, 129, 130, 131, 132, 133, 134, 135, 136, 137,\n",
       "        138, 139, 140, 141, 142, 143, 144, 145, 146, 147, 148, 149],\n",
       "       [150, 151, 152, 153, 154, 155, 156, 157, 158, 159, 160, 161, 162,\n",
       "        163, 164, 165, 166, 167, 168, 169, 170, 171, 172, 173, 174],\n",
       "       [175, 176, 177, 178, 179, 180, 181, 182, 183, 184, 185, 186, 187,\n",
       "        188, 189, 190, 191, 192, 193, 194, 195, 196, 197, 198, 199]])"
      ]
     },
     "execution_count": 82,
     "metadata": {},
     "output_type": "execute_result"
    }
   ],
   "source": [
    "data3=data.reshape(8, -1)\n",
    "data3"
   ]
  },
  {
   "cell_type": "code",
   "execution_count": 83,
   "id": "308ba64f-5bd1-4301-94f1-53c915e1e023",
   "metadata": {},
   "outputs": [
    {
     "data": {
      "text/plain": [
       "array([[  0,   1,   2,   3,   4,   5,   6,   7,   8,   9],\n",
       "       [ 10,  11,  12,  13,  14,  15,  16,  17,  18,  19],\n",
       "       [ 20,  21,  22,  23,  24,  25,  26,  27,  28,  29],\n",
       "       [ 30,  31,  32,  33,  34,  35,  36,  37,  38,  39],\n",
       "       [ 40,  41,  42,  43,  44,  45,  46,  47,  48,  49],\n",
       "       [ 50,  51,  52,  53,  54,  55,  56,  57,  58,  59],\n",
       "       [ 60,  61,  62,  63,  64,  65,  66,  67,  68,  69],\n",
       "       [ 70,  71,  72,  73,  74,  75,  76,  77,  78,  79],\n",
       "       [ 80,  81,  82,  83,  84,  85,  86,  87,  88,  89],\n",
       "       [ 90,  91,  92,  93,  94,  95,  96,  97,  98,  99],\n",
       "       [100, 101, 102, 103, 104, 105, 106, 107, 108, 109],\n",
       "       [110, 111, 112, 113, 114, 115, 116, 117, 118, 119],\n",
       "       [120, 121, 122, 123, 124, 125, 126, 127, 128, 129],\n",
       "       [130, 131, 132, 133, 134, 135, 136, 137, 138, 139],\n",
       "       [140, 141, 142, 143, 144, 145, 146, 147, 148, 149],\n",
       "       [150, 151, 152, 153, 154, 155, 156, 157, 158, 159],\n",
       "       [160, 161, 162, 163, 164, 165, 166, 167, 168, 169],\n",
       "       [170, 171, 172, 173, 174, 175, 176, 177, 178, 179],\n",
       "       [180, 181, 182, 183, 184, 185, 186, 187, 188, 189],\n",
       "       [190, 191, 192, 193, 194, 195, 196, 197, 198, 199]])"
      ]
     },
     "execution_count": 83,
     "metadata": {},
     "output_type": "execute_result"
    }
   ],
   "source": [
    "data4=data.reshape(-1, 10)\n",
    "data4"
   ]
  },
  {
   "cell_type": "code",
   "execution_count": 84,
   "id": "bce86598-f2d4-41a1-ae27-731ffedec221",
   "metadata": {},
   "outputs": [
    {
     "data": {
      "text/plain": [
       "array([1, 2, 3])"
      ]
     },
     "execution_count": 84,
     "metadata": {},
     "output_type": "execute_result"
    }
   ],
   "source": [
    "arr"
   ]
  },
  {
   "cell_type": "code",
   "execution_count": 87,
   "id": "2e974ea1-191b-4b6e-a874-f836988835ed",
   "metadata": {},
   "outputs": [
    {
     "data": {
      "text/plain": [
       "array([[[  0,   1,   2,   3,   4,   5,   6,   7,   8,   9],\n",
       "        [ 10,  11,  12,  13,  14,  15,  16,  17,  18,  19],\n",
       "        [ 20,  21,  22,  23,  24,  25,  26,  27,  28,  29],\n",
       "        [ 30,  31,  32,  33,  34,  35,  36,  37,  38,  39],\n",
       "        [ 40,  41,  42,  43,  44,  45,  46,  47,  48,  49]],\n",
       "\n",
       "       [[ 50,  51,  52,  53,  54,  55,  56,  57,  58,  59],\n",
       "        [ 60,  61,  62,  63,  64,  65,  66,  67,  68,  69],\n",
       "        [ 70,  71,  72,  73,  74,  75,  76,  77,  78,  79],\n",
       "        [ 80,  81,  82,  83,  84,  85,  86,  87,  88,  89],\n",
       "        [ 90,  91,  92,  93,  94,  95,  96,  97,  98,  99]],\n",
       "\n",
       "       [[100, 101, 102, 103, 104, 105, 106, 107, 108, 109],\n",
       "        [110, 111, 112, 113, 114, 115, 116, 117, 118, 119],\n",
       "        [120, 121, 122, 123, 124, 125, 126, 127, 128, 129],\n",
       "        [130, 131, 132, 133, 134, 135, 136, 137, 138, 139],\n",
       "        [140, 141, 142, 143, 144, 145, 146, 147, 148, 149]],\n",
       "\n",
       "       [[150, 151, 152, 153, 154, 155, 156, 157, 158, 159],\n",
       "        [160, 161, 162, 163, 164, 165, 166, 167, 168, 169],\n",
       "        [170, 171, 172, 173, 174, 175, 176, 177, 178, 179],\n",
       "        [180, 181, 182, 183, 184, 185, 186, 187, 188, 189],\n",
       "        [190, 191, 192, 193, 194, 195, 196, 197, 198, 199]]])"
      ]
     },
     "execution_count": 87,
     "metadata": {},
     "output_type": "execute_result"
    }
   ],
   "source": [
    "data.reshape(-1, 5, 10) # 4*5*10\n",
    "data.reshape(4, -1, 10) "
   ]
  },
  {
   "cell_type": "code",
   "execution_count": null,
   "id": "d5c9c557-9b29-428e-9a40-de147c9d23cb",
   "metadata": {},
   "outputs": [],
   "source": []
  },
  {
   "cell_type": "code",
   "execution_count": null,
   "id": "0d00bab0-8972-4f3d-9d94-310f9b8b326c",
   "metadata": {},
   "outputs": [],
   "source": [
    "# 2차원 배열\n",
    "# 10부터 시작하여 2씩 증가시킨 값으로 초기화\n",
    "# shape은 3행 4열"
   ]
  },
  {
   "cell_type": "code",
   "execution_count": 92,
   "id": "1c3a9749-ba75-41a1-b5fd-c1bc14822e67",
   "metadata": {},
   "outputs": [
    {
     "data": {
      "text/plain": [
       "array([[10, 12, 14, 16],\n",
       "       [18, 20, 22, 24],\n",
       "       [26, 28, 30, 32]])"
      ]
     },
     "execution_count": 92,
     "metadata": {},
     "output_type": "execute_result"
    }
   ],
   "source": [
    "np.arange(10,35,2).reshape(3,4)"
   ]
  },
  {
   "cell_type": "code",
   "execution_count": null,
   "id": "4e919a18-8b6d-48e1-afe5-ed1c31636737",
   "metadata": {},
   "outputs": [],
   "source": [
    "# 10, 12, 14, 16, 18, 20, 22, 24, 26, 28, 30, 32, 34 \n",
    "# => 13개 data 3,4로 reshape 불가"
   ]
  },
  {
   "cell_type": "code",
   "execution_count": 100,
   "id": "e8cb8f19-9740-47f6-b224-05c64b63564f",
   "metadata": {},
   "outputs": [],
   "source": [
    "#불린참조(팬시)\n",
    "\n",
    "arr=np.array([1,2,3,4])\n",
    "idx=np.array([True, False, False, True])"
   ]
  },
  {
   "cell_type": "code",
   "execution_count": 101,
   "id": "e964cb31-0bb0-4639-b82a-d54dc52e94a3",
   "metadata": {},
   "outputs": [
    {
     "data": {
      "text/plain": [
       "array([1, 4])"
      ]
     },
     "execution_count": 101,
     "metadata": {},
     "output_type": "execute_result"
    }
   ],
   "source": [
    "arr[idx]"
   ]
  },
  {
   "cell_type": "code",
   "execution_count": 104,
   "id": "6c13614e-ca98-4d6f-9952-0c31f25ea09f",
   "metadata": {},
   "outputs": [
    {
     "data": {
      "text/plain": [
       "4"
      ]
     },
     "execution_count": 104,
     "metadata": {},
     "output_type": "execute_result"
    }
   ],
   "source": [
    "np.min(arr)\n",
    "np.max(arr)"
   ]
  },
  {
   "cell_type": "code",
   "execution_count": 115,
   "id": "2ccde6a1-6571-4526-b022-b1c40d6568db",
   "metadata": {},
   "outputs": [
    {
     "data": {
      "text/plain": [
       "array([1, 4])"
      ]
     },
     "execution_count": 115,
     "metadata": {},
     "output_type": "execute_result"
    }
   ],
   "source": [
    "arr[np.array([True, False, False, True])]"
   ]
  },
  {
   "cell_type": "code",
   "execution_count": 116,
   "id": "c684b286-2c3a-4ab5-b162-1d488a3e9f49",
   "metadata": {},
   "outputs": [
    {
     "data": {
      "text/plain": [
       "array([1, 4])"
      ]
     },
     "execution_count": 116,
     "metadata": {},
     "output_type": "execute_result"
    }
   ],
   "source": [
    "arr[(arr==np.min(arr)) | (arr==np.max(arr))]"
   ]
  },
  {
   "cell_type": "code",
   "execution_count": 107,
   "id": "fb3476f9-e63a-4983-9839-035f02eb5755",
   "metadata": {},
   "outputs": [
    {
     "name": "stdout",
     "output_type": "stream",
     "text": [
      "True\n",
      "False\n",
      "False\n",
      "False\n"
     ]
    }
   ],
   "source": [
    "#python list\n",
    "# myList=[1,2,3,4]\n",
    "# for i in myList:\n",
    "#     if i==1:\n",
    "#         print(True)\n",
    "#     else:\n",
    "#         print(False)"
   ]
  },
  {
   "cell_type": "code",
   "execution_count": 118,
   "id": "fdd6bb7e-6138-4617-9322-23417570a2d9",
   "metadata": {},
   "outputs": [
    {
     "data": {
      "text/plain": [
       "array([11, 12, 13, 14, 15, 16, 17, 18, 19, 20])"
      ]
     },
     "execution_count": 118,
     "metadata": {},
     "output_type": "execute_result"
    }
   ],
   "source": [
    "#11~20까지의 수가 저장된 배열 arr을 생성하시오.\n",
    "arr = np.arange(11,21)\n",
    "arr"
   ]
  },
  {
   "cell_type": "code",
   "execution_count": 119,
   "id": "660af628-655b-40aa-892b-90ad0a4671cc",
   "metadata": {},
   "outputs": [
    {
     "data": {
      "text/plain": [
       "array([1, 0, 1, 0, 1, 0, 1, 0, 1, 0], dtype=int32)"
      ]
     },
     "execution_count": 119,
     "metadata": {},
     "output_type": "execute_result"
    }
   ],
   "source": [
    "arr % 2"
   ]
  },
  {
   "cell_type": "code",
   "execution_count": 120,
   "id": "0f77361b-9a44-437e-b628-e3b7f1f19c49",
   "metadata": {},
   "outputs": [
    {
     "data": {
      "text/plain": [
       "array([False,  True, False,  True, False,  True, False,  True, False,\n",
       "        True])"
      ]
     },
     "execution_count": 120,
     "metadata": {},
     "output_type": "execute_result"
    }
   ],
   "source": [
    "arr % 2 == 0"
   ]
  },
  {
   "cell_type": "code",
   "execution_count": 121,
   "id": "3c9edd52-5566-4b20-90ff-61215cfe75ee",
   "metadata": {},
   "outputs": [
    {
     "data": {
      "text/plain": [
       "array([12, 14, 16, 18, 20])"
      ]
     },
     "execution_count": 121,
     "metadata": {},
     "output_type": "execute_result"
    }
   ],
   "source": [
    "arr[arr % 2 == 0]"
   ]
  },
  {
   "cell_type": "code",
   "execution_count": 122,
   "id": "2aa024cc-0f7a-4180-beac-ea12f2b4b65b",
   "metadata": {},
   "outputs": [
    {
     "data": {
      "text/plain": [
       "array([11, 12, 13, 14, 15, 16, 17, 18, 19, 20])"
      ]
     },
     "execution_count": 122,
     "metadata": {},
     "output_type": "execute_result"
    }
   ],
   "source": [
    "arr"
   ]
  },
  {
   "cell_type": "code",
   "execution_count": 127,
   "id": "20b2cc29-5644-4b7f-87d3-d1beabcfb601",
   "metadata": {},
   "outputs": [
    {
     "data": {
      "text/plain": [
       "array([12, 14, 16, 18, 20, 20, 20, 20, 20, 20])"
      ]
     },
     "execution_count": 127,
     "metadata": {},
     "output_type": "execute_result"
    }
   ],
   "source": [
    "arr[1]\n",
    "arr[1]\n",
    "#arr[1,3] error\n",
    "arr[np.array([1,3])]\n",
    "arr[np.array([1,3,5,7,9])]\n",
    "arr[np.array([1,3,5,7,9,9,9,9,9,9])]"
   ]
  },
  {
   "cell_type": "code",
   "execution_count": 128,
   "id": "06ae2ac7-a734-4c32-80c0-4da3b8ee8edf",
   "metadata": {},
   "outputs": [],
   "source": [
    "#arr=array([11, 12, 13, 14, 15, 16, 17, 18, 19, 20])\n",
    "idx=np.array([0,0,0,1,1,1,3,3,3])"
   ]
  },
  {
   "cell_type": "code",
   "execution_count": 129,
   "id": "01d4353f-b022-4ea4-9f1f-004df7a71b78",
   "metadata": {},
   "outputs": [
    {
     "data": {
      "text/plain": [
       "array([11, 11, 11, 12, 12, 12, 14, 14, 14])"
      ]
     },
     "execution_count": 129,
     "metadata": {},
     "output_type": "execute_result"
    }
   ],
   "source": [
    "arr[idx] #arr[np.array([0,0,0,1,1,1,3,3,3])]"
   ]
  },
  {
   "cell_type": "code",
   "execution_count": 132,
   "id": "fb396edb-249a-45ed-b3b0-e33715063ce9",
   "metadata": {},
   "outputs": [
    {
     "data": {
      "text/plain": [
       "array([[10, 11, 12, 13, 14, 15],\n",
       "       [16, 17, 18, 19, 20, 21],\n",
       "       [22, 23, 24, 25, 26, 27],\n",
       "       [28, 29, 30, 31, 32, 33],\n",
       "       [34, 35, 36, 37, 38, 39]])"
      ]
     },
     "execution_count": 132,
     "metadata": {},
     "output_type": "execute_result"
    }
   ],
   "source": [
    "arr=np.arange(10,40).reshape(5,-1)\n",
    "arr"
   ]
  },
  {
   "cell_type": "code",
   "execution_count": 138,
   "id": "3936ed3e-56b0-41aa-9778-b8df6148a140",
   "metadata": {},
   "outputs": [
    {
     "data": {
      "text/plain": [
       "array([[10, 11, 12],\n",
       "       [16, 17, 18],\n",
       "       [22, 23, 24],\n",
       "       [28, 29, 30],\n",
       "       [34, 35, 36]])"
      ]
     },
     "execution_count": 138,
     "metadata": {},
     "output_type": "execute_result"
    }
   ],
   "source": [
    "arr[:] #전체행 추출\n",
    "arr[:,:] #전체행에 대해 전체열을 추출\n",
    "arr[:,[True,True,True,False,False,False]]"
   ]
  },
  {
   "cell_type": "code",
   "execution_count": 139,
   "id": "8f2ee84c-b0ae-43fe-a0d0-a684f17f9b01",
   "metadata": {},
   "outputs": [
    {
     "data": {
      "text/plain": [
       "array([ True,  True,  True, False, False, False])"
      ]
     },
     "execution_count": 139,
     "metadata": {},
     "output_type": "execute_result"
    }
   ],
   "source": [
    "idx=np.array([True,True,True,False,False,False])\n",
    "idx"
   ]
  },
  {
   "cell_type": "code",
   "execution_count": 140,
   "id": "f8b68174-5caf-4dc3-919c-ff6948875dbe",
   "metadata": {},
   "outputs": [
    {
     "data": {
      "text/plain": [
       "array([[10, 11, 12],\n",
       "       [16, 17, 18],\n",
       "       [22, 23, 24],\n",
       "       [28, 29, 30],\n",
       "       [34, 35, 36]])"
      ]
     },
     "execution_count": 140,
     "metadata": {},
     "output_type": "execute_result"
    }
   ],
   "source": [
    "arr[:,idx]"
   ]
  },
  {
   "cell_type": "code",
   "execution_count": 141,
   "id": "453cf2cf-3d34-47b8-ac3d-b1924ef94ba9",
   "metadata": {},
   "outputs": [
    {
     "data": {
      "text/plain": [
       "array([[10, 11, 12, 13, 14, 15],\n",
       "       [16, 17, 18, 19, 20, 21],\n",
       "       [22, 23, 24, 25, 26, 27],\n",
       "       [28, 29, 30, 31, 32, 33],\n",
       "       [34, 35, 36, 37, 38, 39]])"
      ]
     },
     "execution_count": 141,
     "metadata": {},
     "output_type": "execute_result"
    }
   ],
   "source": [
    "arr\n",
    "#arr에서 1(10~),3(12~),5(14~)번째 열을 출력하시오."
   ]
  },
  {
   "cell_type": "code",
   "execution_count": 142,
   "id": "2903e6be-b192-47db-8cc3-b39949e172e6",
   "metadata": {},
   "outputs": [
    {
     "data": {
      "text/plain": [
       "array([[10, 12, 14],\n",
       "       [16, 18, 20],\n",
       "       [22, 24, 26],\n",
       "       [28, 30, 32],\n",
       "       [34, 36, 38]])"
      ]
     },
     "execution_count": 142,
     "metadata": {},
     "output_type": "execute_result"
    }
   ],
   "source": [
    "arr[:,[0,2,4]]"
   ]
  },
  {
   "cell_type": "code",
   "execution_count": 143,
   "id": "eefeb867-66d9-4846-8929-f5f3fbd2ca01",
   "metadata": {},
   "outputs": [
    {
     "data": {
      "text/plain": [
       "array([[10, 12, 14],\n",
       "       [16, 18, 20],\n",
       "       [22, 24, 26],\n",
       "       [28, 30, 32],\n",
       "       [34, 36, 38]])"
      ]
     },
     "execution_count": 143,
     "metadata": {},
     "output_type": "execute_result"
    }
   ],
   "source": [
    "arr[:,[True,False,True,False,True,False]]"
   ]
  },
  {
   "cell_type": "code",
   "execution_count": 144,
   "id": "fc539ac6-b756-440a-9104-2f8b63b59fab",
   "metadata": {},
   "outputs": [
    {
     "data": {
      "text/plain": [
       "array([[10, 12, 14],\n",
       "       [16, 18, 20],\n",
       "       [22, 24, 26],\n",
       "       [28, 30, 32],\n",
       "       [34, 36, 38]])"
      ]
     },
     "execution_count": 144,
     "metadata": {},
     "output_type": "execute_result"
    }
   ],
   "source": [
    "idx = np.array([True, False, True, False, True, False])\n",
    "arr[:, idx]"
   ]
  },
  {
   "cell_type": "code",
   "execution_count": 145,
   "id": "510e99a4-ab36-4249-b558-1c6964a5f69c",
   "metadata": {},
   "outputs": [
    {
     "data": {
      "text/plain": [
       "array([[10, 12, 14],\n",
       "       [16, 18, 20],\n",
       "       [22, 24, 26],\n",
       "       [28, 30, 32],\n",
       "       [34, 36, 38]])"
      ]
     },
     "execution_count": 145,
     "metadata": {},
     "output_type": "execute_result"
    }
   ],
   "source": [
    "arr[:, np.arange(0, 5, 2)]"
   ]
  },
  {
   "cell_type": "code",
   "execution_count": 146,
   "id": "da27b80c-d77d-4d61-8e4d-b4ab5653a7d3",
   "metadata": {},
   "outputs": [
    {
     "data": {
      "text/plain": [
       "array([[10, 12, 14],\n",
       "       [16, 18, 20],\n",
       "       [22, 24, 26],\n",
       "       [28, 30, 32],\n",
       "       [34, 36, 38]])"
      ]
     },
     "execution_count": 146,
     "metadata": {},
     "output_type": "execute_result"
    }
   ],
   "source": [
    "arr[:, idx]\n",
    "arr[:, [0, 2, 4]]\n",
    "arr[:, np.array([0, 2, 4])]\n",
    "arr[:, np.arange(0, 5, 2)]"
   ]
  },
  {
   "cell_type": "code",
   "execution_count": 149,
   "id": "58669e6a-59e7-4e90-afd0-84cf3c2963cc",
   "metadata": {},
   "outputs": [
    {
     "data": {
      "text/plain": [
       "array([[10, 11, 12, 13, 14, 15],\n",
       "       [16, 17, 18, 19, 20, 21],\n",
       "       [22, 23, 24, 25, 26, 27],\n",
       "       [28, 29, 30, 31, 32, 33],\n",
       "       [34, 35, 36, 37, 38, 39]])"
      ]
     },
     "execution_count": 149,
     "metadata": {},
     "output_type": "execute_result"
    }
   ],
   "source": [
    "arr"
   ]
  },
  {
   "cell_type": "code",
   "execution_count": 148,
   "id": "ec695879-487e-4f3c-87e0-b711e86839c2",
   "metadata": {},
   "outputs": [
    {
     "data": {
      "text/plain": [
       "array([[14, 11, 13, 10],\n",
       "       [20, 17, 19, 16],\n",
       "       [26, 23, 25, 22],\n",
       "       [32, 29, 31, 28],\n",
       "       [38, 35, 37, 34]])"
      ]
     },
     "execution_count": 148,
     "metadata": {},
     "output_type": "execute_result"
    }
   ],
   "source": [
    "arr[:,[4,1,3,0]]"
   ]
  },
  {
   "cell_type": "code",
   "execution_count": null,
   "id": "eb1b6870-4d5b-4377-a15c-01ba576b39d3",
   "metadata": {},
   "outputs": [],
   "source": [
    "arr에서 3번째행, 2번째행, 4번째행 순서로 데이터를 추출하시오."
   ]
  },
  {
   "cell_type": "code",
   "execution_count": 151,
   "id": "c6864c06-6dc9-4ae9-aea2-6d3d3f3e764e",
   "metadata": {},
   "outputs": [
    {
     "data": {
      "text/plain": [
       "array([[10, 11, 12, 13, 14, 15],\n",
       "       [16, 17, 18, 19, 20, 21],\n",
       "       [22, 23, 24, 25, 26, 27],\n",
       "       [28, 29, 30, 31, 32, 33],\n",
       "       [34, 35, 36, 37, 38, 39]])"
      ]
     },
     "execution_count": 151,
     "metadata": {},
     "output_type": "execute_result"
    }
   ],
   "source": [
    "arr"
   ]
  },
  {
   "cell_type": "code",
   "execution_count": null,
   "id": "4a29b551-8d38-4d6f-aae8-a8fe52e50c6a",
   "metadata": {},
   "outputs": [],
   "source": [
    "array([[22, 23, 24, 25, 26, 27],\n",
    "       [16, 17, 18, 19, 20, 21],\n",
    "       [28, 29, 30, 31, 32, 33]])\n"
   ]
  },
  {
   "cell_type": "code",
   "execution_count": 150,
   "id": "253a45c4-ab88-488c-9d5a-65939708dd08",
   "metadata": {},
   "outputs": [
    {
     "data": {
      "text/plain": [
       "array([[22, 23, 24, 25, 26, 27],\n",
       "       [16, 17, 18, 19, 20, 21],\n",
       "       [28, 29, 30, 31, 32, 33]])"
      ]
     },
     "execution_count": 150,
     "metadata": {},
     "output_type": "execute_result"
    }
   ],
   "source": [
    "arr[[2,1,3]]"
   ]
  },
  {
   "cell_type": "code",
   "execution_count": 153,
   "id": "6c6ef896-6ca9-4a96-a557-9c7b0b03c794",
   "metadata": {},
   "outputs": [
    {
     "data": {
      "text/plain": [
       "array([[22, 23, 24, 25, 26, 27],\n",
       "       [16, 17, 18, 19, 20, 21],\n",
       "       [28, 29, 30, 31, 32, 33]])"
      ]
     },
     "execution_count": 153,
     "metadata": {},
     "output_type": "execute_result"
    }
   ],
   "source": [
    "arr[[2,1,3]] #행과 열을 구분하는 컴마가 생략되었을 경우에는 행추출\n",
    "#arr[ 행 , 열 ]\n",
    "arr[:,[2,1,3]] #arr의 전체 행에서  [2,1,3]번 열을 추출"
   ]
  },
  {
   "cell_type": "code",
   "execution_count": 154,
   "id": "1b3a8445-0e90-4c57-b31d-29f7fa3c46ad",
   "metadata": {},
   "outputs": [
    {
     "data": {
      "text/plain": [
       "array([[22, 23, 24, 25, 26, 27],\n",
       "       [16, 17, 18, 19, 20, 21],\n",
       "       [28, 29, 30, 31, 32, 33]])"
      ]
     },
     "execution_count": 154,
     "metadata": {},
     "output_type": "execute_result"
    }
   ],
   "source": [
    "arr[[2,1,3],:]"
   ]
  },
  {
   "cell_type": "code",
   "execution_count": null,
   "id": "dcb8d007-1aeb-4877-8bec-9aa88a414460",
   "metadata": {},
   "outputs": [],
   "source": [
    "# 무한대(infinity) : np.inf\n",
    "# 숫자아님(not a number) : np.nan"
   ]
  },
  {
   "cell_type": "code",
   "execution_count": 156,
   "id": "1d7e8c62-b3a0-4a99-b4a5-a96fc49cfcad",
   "metadata": {},
   "outputs": [
    {
     "name": "stderr",
     "output_type": "stream",
     "text": [
      "C:\\Users\\TECH09-01\\AppData\\Local\\Temp\\ipykernel_9120\\878147698.py:1: RuntimeWarning: divide by zero encountered in divide\n",
      "  np.array([1])/np.array([0])\n",
      "C:\\Users\\TECH09-01\\AppData\\Local\\Temp\\ipykernel_9120\\878147698.py:2: RuntimeWarning: divide by zero encountered in log\n",
      "  np.log(0)\n"
     ]
    },
    {
     "data": {
      "text/plain": [
       "-inf"
      ]
     },
     "execution_count": 156,
     "metadata": {},
     "output_type": "execute_result"
    }
   ],
   "source": [
    "np.array([1])/np.array([0])\n",
    "np.log(0)"
   ]
  },
  {
   "cell_type": "code",
   "execution_count": 159,
   "id": "4c6f40c1-f97f-467f-b89e-02b7f8103ab6",
   "metadata": {},
   "outputs": [
    {
     "name": "stderr",
     "output_type": "stream",
     "text": [
      "C:\\Users\\TECH09-01\\AppData\\Local\\Temp\\ipykernel_9120\\2748191917.py:2: RuntimeWarning: invalid value encountered in divide\n",
      "  np.array([0])/np.array([0])\n"
     ]
    },
    {
     "data": {
      "text/plain": [
       "array([nan])"
      ]
     },
     "execution_count": 159,
     "metadata": {},
     "output_type": "execute_result"
    }
   ],
   "source": [
    "#0/0\n",
    "np.array([0])/np.array([0])"
   ]
  },
  {
   "cell_type": "code",
   "execution_count": 160,
   "id": "4e9a1895-f047-46b0-b9ce-b28ef3118965",
   "metadata": {},
   "outputs": [
    {
     "data": {
      "text/plain": [
       "array([0., 0., 0.])"
      ]
     },
     "execution_count": 160,
     "metadata": {},
     "output_type": "execute_result"
    }
   ],
   "source": [
    "np.zeros(3)"
   ]
  },
  {
   "cell_type": "code",
   "execution_count": 161,
   "id": "a05f32c1-e0a3-4ad9-830b-1770508b97ce",
   "metadata": {},
   "outputs": [
    {
     "data": {
      "text/plain": [
       "array([[0., 0.],\n",
       "       [0., 0.],\n",
       "       [0., 0.]])"
      ]
     },
     "execution_count": 161,
     "metadata": {},
     "output_type": "execute_result"
    }
   ],
   "source": [
    "np.zeros((3,2))"
   ]
  },
  {
   "cell_type": "code",
   "execution_count": 162,
   "id": "a60b27f8-5db0-41d7-8f12-d732d8cbd0fb",
   "metadata": {},
   "outputs": [
    {
     "data": {
      "text/plain": [
       "dtype('float64')"
      ]
     },
     "execution_count": 162,
     "metadata": {},
     "output_type": "execute_result"
    }
   ],
   "source": [
    "np.zeros((3,2)).dtype"
   ]
  },
  {
   "cell_type": "code",
   "execution_count": 165,
   "id": "beedc715-bf04-453a-a99d-f42d40708e01",
   "metadata": {},
   "outputs": [
    {
     "data": {
      "text/plain": [
       "array([[0, 0],\n",
       "       [0, 0],\n",
       "       [0, 0]])"
      ]
     },
     "execution_count": 165,
     "metadata": {},
     "output_type": "execute_result"
    }
   ],
   "source": [
    "np.zeros((3,2), dtype='i')\n",
    "np.zeros((3,2), dtype='i4')"
   ]
  },
  {
   "cell_type": "code",
   "execution_count": 164,
   "id": "003353ae-bb23-439d-b912-4c7432fa29a9",
   "metadata": {},
   "outputs": [
    {
     "data": {
      "text/plain": [
       "array([[0, 0],\n",
       "       [0, 0],\n",
       "       [0, 0]], dtype=int64)"
      ]
     },
     "execution_count": 164,
     "metadata": {},
     "output_type": "execute_result"
    }
   ],
   "source": [
    "np.zeros((3,2), dtype='i8')"
   ]
  },
  {
   "cell_type": "code",
   "execution_count": 166,
   "id": "a2e08ddb-2fba-4d4a-b653-de7e3fea916d",
   "metadata": {},
   "outputs": [
    {
     "data": {
      "text/plain": [
       "array([[1., 1.],\n",
       "       [1., 1.],\n",
       "       [1., 1.]])"
      ]
     },
     "execution_count": 166,
     "metadata": {},
     "output_type": "execute_result"
    }
   ],
   "source": [
    "np.ones((3,2))"
   ]
  },
  {
   "cell_type": "code",
   "execution_count": 171,
   "id": "a3851c8d-c109-4999-9952-2696994ad0d3",
   "metadata": {},
   "outputs": [
    {
     "data": {
      "text/plain": [
       "array([[2., 2.],\n",
       "       [2., 2.],\n",
       "       [2., 2.]])"
      ]
     },
     "execution_count": 171,
     "metadata": {},
     "output_type": "execute_result"
    }
   ],
   "source": [
    "arr=np.ones((3,2))*2\n",
    "arr"
   ]
  },
  {
   "cell_type": "code",
   "execution_count": 172,
   "id": "39acb15b-cd67-4feb-b9a6-2e532280fdf8",
   "metadata": {},
   "outputs": [
    {
     "data": {
      "text/plain": [
       "array([[1., 1.],\n",
       "       [1., 1.],\n",
       "       [1., 1.]])"
      ]
     },
     "execution_count": 172,
     "metadata": {},
     "output_type": "execute_result"
    }
   ],
   "source": [
    "np.ones_like(arr)"
   ]
  },
  {
   "cell_type": "code",
   "execution_count": 173,
   "id": "fd5063b2-f3ec-43e2-b508-a0ed12cd87b8",
   "metadata": {},
   "outputs": [
    {
     "data": {
      "text/plain": [
       "array([[0., 0.],\n",
       "       [0., 0.],\n",
       "       [0., 0.]])"
      ]
     },
     "execution_count": 173,
     "metadata": {},
     "output_type": "execute_result"
    }
   ],
   "source": [
    "np.zeros_like(arr)"
   ]
  },
  {
   "cell_type": "code",
   "execution_count": 176,
   "id": "77769697-e34f-4ac9-a2c6-4db52677ff35",
   "metadata": {},
   "outputs": [
    {
     "data": {
      "text/plain": [
       "array([[ 2,  4,  6],\n",
       "       [ 8, 10, 12],\n",
       "       [14, 16, 18],\n",
       "       [20, 22, 24],\n",
       "       [26, 28, 30]])"
      ]
     },
     "execution_count": 176,
     "metadata": {},
     "output_type": "execute_result"
    }
   ],
   "source": [
    "np.arange(2,31,2).reshape(-1,3)"
   ]
  },
  {
   "cell_type": "code",
   "execution_count": 177,
   "id": "b152bde6-a665-4709-b28b-6ce7dc9594bc",
   "metadata": {},
   "outputs": [
    {
     "data": {
      "text/plain": [
       "array([ 0. ,  2.5,  5. ,  7.5, 10. ])"
      ]
     },
     "execution_count": 177,
     "metadata": {},
     "output_type": "execute_result"
    }
   ],
   "source": [
    "np.linspace(0,10,5)"
   ]
  },
  {
   "cell_type": "code",
   "execution_count": 178,
   "id": "e9770c57-5730-4ea2-ab40-70111cc0f4df",
   "metadata": {},
   "outputs": [
    {
     "data": {
      "text/plain": [
       "array([[1, 2, 3],\n",
       "       [4, 5, 6]])"
      ]
     },
     "execution_count": 178,
     "metadata": {},
     "output_type": "execute_result"
    }
   ],
   "source": [
    "arr=np.arange(1,7).reshape(2,3)\n",
    "arr"
   ]
  },
  {
   "cell_type": "code",
   "execution_count": 181,
   "id": "17775b93-54c1-4a81-accd-143bbb27d700",
   "metadata": {},
   "outputs": [
    {
     "data": {
      "text/plain": [
       "array([[1, 4],\n",
       "       [2, 5],\n",
       "       [3, 6]])"
      ]
     },
     "execution_count": 181,
     "metadata": {},
     "output_type": "execute_result"
    }
   ],
   "source": [
    "#transpose : 전치행렬(행과 열을 바꾼 행렬)\n",
    "arr.transpose()\n",
    "arr.T"
   ]
  },
  {
   "cell_type": "code",
   "execution_count": 182,
   "id": "ff345d21-b854-4739-8bfd-28f261c0eaba",
   "metadata": {},
   "outputs": [
    {
     "data": {
      "text/plain": [
       "array([[1, 2, 3],\n",
       "       [4, 5, 6]])"
      ]
     },
     "execution_count": 182,
     "metadata": {},
     "output_type": "execute_result"
    }
   ],
   "source": [
    "arr.transpose().transpose()\n",
    "arr.T.T"
   ]
  },
  {
   "cell_type": "code",
   "execution_count": 183,
   "id": "c3c90362-7533-4d55-ab36-6ef65fe7f1ca",
   "metadata": {},
   "outputs": [],
   "source": [
    "#(사과, 배, 딸기)\n",
    "data=np.array([[1,5,0],\n",
    "               [5,3,2],\n",
    "               [1,2,0]])\n",
    "price=np.array([[2000],\n",
    "                [5000],\n",
    "                [8000]])"
   ]
  },
  {
   "cell_type": "code",
   "execution_count": 185,
   "id": "7ec58cb9-3eae-4a6a-90b6-a5e8218ba984",
   "metadata": {},
   "outputs": [
    {
     "data": {
      "text/plain": [
       "(3, 1)"
      ]
     },
     "execution_count": 185,
     "metadata": {},
     "output_type": "execute_result"
    }
   ],
   "source": [
    "data.shape #3행 3열\n",
    "price.shape #3행 1열"
   ]
  },
  {
   "cell_type": "code",
   "execution_count": 186,
   "id": "d725ae30-700a-4bd0-9ff0-b7e3d1937e0d",
   "metadata": {},
   "outputs": [
    {
     "data": {
      "text/plain": [
       "array([[26000],\n",
       "       [36000],\n",
       "       [11000]])"
      ]
     },
     "execution_count": 186,
     "metadata": {},
     "output_type": "execute_result"
    }
   ],
   "source": [
    "#data배열과 price배열간에 행렬의 곱셈 연산 가능?\n",
    "data.dot(price) #내적"
   ]
  },
  {
   "cell_type": "code",
   "execution_count": 187,
   "id": "59652e84-724b-4027-82a4-5c911cdc4ec3",
   "metadata": {},
   "outputs": [
    {
     "data": {
      "text/plain": [
       "array([[26000],\n",
       "       [36000],\n",
       "       [11000]])"
      ]
     },
     "execution_count": 187,
     "metadata": {},
     "output_type": "execute_result"
    }
   ],
   "source": [
    "data@price #행렬의 곱셈"
   ]
  },
  {
   "cell_type": "code",
   "execution_count": null,
   "id": "c1c0dac0-ad62-4584-993d-ed013505cf75",
   "metadata": {},
   "outputs": [],
   "source": []
  },
  {
   "cell_type": "code",
   "execution_count": 188,
   "id": "0398ae46-4b1c-4f4e-b87e-111819a57653",
   "metadata": {},
   "outputs": [
    {
     "data": {
      "text/plain": [
       "array([10, 11, 12, 13, 14])"
      ]
     },
     "execution_count": 188,
     "metadata": {},
     "output_type": "execute_result"
    }
   ],
   "source": [
    "arr=np.arange(10,15)\n",
    "arr"
   ]
  },
  {
   "cell_type": "code",
   "execution_count": 189,
   "id": "c7480ded-efa6-4618-80ff-dc23804146c2",
   "metadata": {},
   "outputs": [],
   "source": [
    "arr2=arr #데이터를 공유한다는 의미(뷰)"
   ]
  },
  {
   "cell_type": "code",
   "execution_count": 190,
   "id": "e7062c31-c29f-4320-b948-b3580ab0e913",
   "metadata": {},
   "outputs": [
    {
     "data": {
      "text/plain": [
       "array([10, 11, 12, 13, 14])"
      ]
     },
     "execution_count": 190,
     "metadata": {},
     "output_type": "execute_result"
    }
   ],
   "source": [
    "arr2"
   ]
  },
  {
   "cell_type": "code",
   "execution_count": 192,
   "id": "ba84812a-1dfe-4dd0-8027-670a874c71ed",
   "metadata": {},
   "outputs": [
    {
     "data": {
      "text/plain": [
       "array([10, 99, 12, 13, 14])"
      ]
     },
     "execution_count": 192,
     "metadata": {},
     "output_type": "execute_result"
    }
   ],
   "source": [
    "arr2[1]=99\n",
    "arr2"
   ]
  },
  {
   "cell_type": "code",
   "execution_count": 193,
   "id": "f0e35a1c-cfb6-4bd0-bca8-da637a1d5e02",
   "metadata": {},
   "outputs": [
    {
     "data": {
      "text/plain": [
       "array([10, 99, 12, 13, 14])"
      ]
     },
     "execution_count": 193,
     "metadata": {},
     "output_type": "execute_result"
    }
   ],
   "source": [
    "arr"
   ]
  },
  {
   "cell_type": "code",
   "execution_count": 195,
   "id": "6638efe2-72bb-4919-b285-7dbc1b82fbfd",
   "metadata": {},
   "outputs": [
    {
     "data": {
      "text/plain": [
       "array([10, 11, 12, 13, 14])"
      ]
     },
     "execution_count": 195,
     "metadata": {},
     "output_type": "execute_result"
    }
   ],
   "source": [
    "arr=np.arange(10,15)\n",
    "arr3=arr.copy()\n",
    "arr3"
   ]
  },
  {
   "cell_type": "code",
   "execution_count": 196,
   "id": "5e3d6a10-a9c5-46f1-b70d-a87f5d63960d",
   "metadata": {},
   "outputs": [
    {
     "data": {
      "text/plain": [
       "array([10, 99, 12, 13, 14])"
      ]
     },
     "execution_count": 196,
     "metadata": {},
     "output_type": "execute_result"
    }
   ],
   "source": [
    "arr3[1]=99\n",
    "arr3"
   ]
  },
  {
   "cell_type": "code",
   "execution_count": 197,
   "id": "4039cf7e-5309-4d89-904b-cf056fd91414",
   "metadata": {},
   "outputs": [
    {
     "data": {
      "text/plain": [
       "array([10, 11, 12, 13, 14])"
      ]
     },
     "execution_count": 197,
     "metadata": {},
     "output_type": "execute_result"
    }
   ],
   "source": [
    "arr"
   ]
  },
  {
   "cell_type": "code",
   "execution_count": null,
   "id": "5a81ea7a-fb06-4956-89f9-594d5a110088",
   "metadata": {},
   "outputs": [],
   "source": []
  }
 ],
 "metadata": {
  "kernelspec": {
   "display_name": "Python 3 (ipykernel)",
   "language": "python",
   "name": "python3"
  },
  "language_info": {
   "codemirror_mode": {
    "name": "ipython",
    "version": 3
   },
   "file_extension": ".py",
   "mimetype": "text/x-python",
   "name": "python",
   "nbconvert_exporter": "python",
   "pygments_lexer": "ipython3",
   "version": "3.11.7"
  }
 },
 "nbformat": 4,
 "nbformat_minor": 5
}
