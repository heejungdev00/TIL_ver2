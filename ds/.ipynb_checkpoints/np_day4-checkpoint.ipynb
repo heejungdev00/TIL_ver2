{
 "cells": [
  {
   "cell_type": "code",
   "execution_count": 2,
   "id": "11f49ef6-3052-4c92-b5b9-b593f96af64d",
   "metadata": {},
   "outputs": [],
   "source": [
    "import numpy as np\n",
    "arr=np.arange(10,15)"
   ]
  },
  {
   "cell_type": "code",
   "execution_count": 3,
   "id": "421efede-703b-409c-a618-44f9402f99c0",
   "metadata": {},
   "outputs": [
    {
     "data": {
      "text/plain": [
       "array([10, 11, 12, 13, 14])"
      ]
     },
     "execution_count": 3,
     "metadata": {},
     "output_type": "execute_result"
    }
   ],
   "source": [
    "arr"
   ]
  },
  {
   "cell_type": "code",
   "execution_count": 4,
   "id": "b49b9046-9875-4b5c-8311-e97b00f09f17",
   "metadata": {},
   "outputs": [
    {
     "data": {
      "text/plain": [
       "60"
      ]
     },
     "execution_count": 4,
     "metadata": {},
     "output_type": "execute_result"
    }
   ],
   "source": [
    "np.sum(arr)"
   ]
  },
  {
   "cell_type": "code",
   "execution_count": 5,
   "id": "4476eea0-bfc8-4375-8ea4-90678fcb1087",
   "metadata": {},
   "outputs": [
    {
     "data": {
      "text/plain": [
       "60"
      ]
     },
     "execution_count": 5,
     "metadata": {},
     "output_type": "execute_result"
    }
   ],
   "source": [
    "arr.sum()"
   ]
  },
  {
   "cell_type": "code",
   "execution_count": 10,
   "id": "e7f6ff89-d6e6-45f4-af02-b3a82ab7a108",
   "metadata": {},
   "outputs": [
    {
     "data": {
      "text/plain": [
       "14"
      ]
     },
     "execution_count": 10,
     "metadata": {},
     "output_type": "execute_result"
    }
   ],
   "source": [
    "np.min(arr)\n",
    "np.max(arr)"
   ]
  },
  {
   "cell_type": "code",
   "execution_count": 11,
   "id": "f6d536aa-95fe-45d5-b027-f4cedc9246b1",
   "metadata": {},
   "outputs": [
    {
     "data": {
      "text/plain": [
       "14"
      ]
     },
     "execution_count": 11,
     "metadata": {},
     "output_type": "execute_result"
    }
   ],
   "source": [
    "arr.min()\n",
    "arr.max()"
   ]
  },
  {
   "cell_type": "code",
   "execution_count": 12,
   "id": "ab4917c6-08f0-448e-9da4-e0c197cc6ef6",
   "metadata": {},
   "outputs": [
    {
     "data": {
      "text/plain": [
       "array([[11, 12, 13, 14, 15],\n",
       "       [16, 17, 18, 19, 20]])"
      ]
     },
     "execution_count": 12,
     "metadata": {},
     "output_type": "execute_result"
    }
   ],
   "source": [
    "arr=np.arange(11,21).reshape(2,-1)\n",
    "arr"
   ]
  },
  {
   "cell_type": "code",
   "execution_count": 13,
   "id": "e4f48261-78d1-4557-a5aa-b4375563b2b0",
   "metadata": {},
   "outputs": [
    {
     "data": {
      "text/plain": [
       "155"
      ]
     },
     "execution_count": 13,
     "metadata": {},
     "output_type": "execute_result"
    }
   ],
   "source": [
    "np.sum(arr)"
   ]
  },
  {
   "cell_type": "code",
   "execution_count": 14,
   "id": "cb29b9d7-a04b-44c1-95a1-82250e9fbd7c",
   "metadata": {},
   "outputs": [
    {
     "data": {
      "text/plain": [
       "155"
      ]
     },
     "execution_count": 14,
     "metadata": {},
     "output_type": "execute_result"
    }
   ],
   "source": [
    "arr.sum()"
   ]
  },
  {
   "cell_type": "code",
   "execution_count": 15,
   "id": "79b75d07-2d87-41f1-8e5c-707955a1ad5b",
   "metadata": {},
   "outputs": [
    {
     "data": {
      "text/plain": [
       "11"
      ]
     },
     "execution_count": 15,
     "metadata": {},
     "output_type": "execute_result"
    }
   ],
   "source": [
    "np.min(arr)"
   ]
  },
  {
   "cell_type": "code",
   "execution_count": 16,
   "id": "9e464b5d-29f7-4ce7-9ceb-f1d183a86733",
   "metadata": {},
   "outputs": [
    {
     "data": {
      "text/plain": [
       "20"
      ]
     },
     "execution_count": 16,
     "metadata": {},
     "output_type": "execute_result"
    }
   ],
   "source": [
    "np.max(arr)"
   ]
  },
  {
   "cell_type": "code",
   "execution_count": 19,
   "id": "038c2590-5d1c-4163-83f3-825e62408f97",
   "metadata": {},
   "outputs": [
    {
     "data": {
      "text/plain": [
       "0"
      ]
     },
     "execution_count": 19,
     "metadata": {},
     "output_type": "execute_result"
    }
   ],
   "source": [
    "arr.argmin()  # 최솟값의 인덱스 =0"
   ]
  },
  {
   "cell_type": "code",
   "execution_count": 20,
   "id": "3ca34855-0850-42de-a541-55792be93f04",
   "metadata": {},
   "outputs": [
    {
     "data": {
      "text/plain": [
       "9"
      ]
     },
     "execution_count": 20,
     "metadata": {},
     "output_type": "execute_result"
    }
   ],
   "source": [
    "arr.argmax()"
   ]
  },
  {
   "cell_type": "code",
   "execution_count": 23,
   "id": "42c0247d-d719-4bf9-9d91-a1b3e93106d5",
   "metadata": {},
   "outputs": [
    {
     "data": {
      "text/plain": [
       "4"
      ]
     },
     "execution_count": 23,
     "metadata": {},
     "output_type": "execute_result"
    }
   ],
   "source": [
    "arr[0].argmin()  #0\n",
    "arr[0].argmax()  #4"
   ]
  },
  {
   "cell_type": "code",
   "execution_count": 24,
   "id": "b05be11e-7ae2-4c43-9325-6cafa33487a0",
   "metadata": {},
   "outputs": [
    {
     "data": {
      "text/plain": [
       "15.5"
      ]
     },
     "execution_count": 24,
     "metadata": {},
     "output_type": "execute_result"
    }
   ],
   "source": [
    "arr.mean()"
   ]
  },
  {
   "cell_type": "code",
   "execution_count": 25,
   "id": "1777ca7f-bf2d-4f3b-af54-85027ebd65fe",
   "metadata": {},
   "outputs": [
    {
     "data": {
      "text/plain": [
       "13.0"
      ]
     },
     "execution_count": 25,
     "metadata": {},
     "output_type": "execute_result"
    }
   ],
   "source": [
    "arr[0].mean()"
   ]
  },
  {
   "cell_type": "code",
   "execution_count": 29,
   "id": "67ec0c28-22c2-44c3-9ee2-5945bcf4d7fd",
   "metadata": {},
   "outputs": [
    {
     "data": {
      "text/plain": [
       "13.0"
      ]
     },
     "execution_count": 29,
     "metadata": {},
     "output_type": "execute_result"
    }
   ],
   "source": [
    "# arr.median() 사용불가\n",
    "np.median(arr)\n",
    "np.median(arr[0])"
   ]
  },
  {
   "cell_type": "code",
   "execution_count": 35,
   "id": "11506372-a020-4483-9cbb-5426cf568eab",
   "metadata": {},
   "outputs": [
    {
     "data": {
      "text/plain": [
       "False"
      ]
     },
     "execution_count": 35,
     "metadata": {},
     "output_type": "execute_result"
    }
   ],
   "source": [
    "np.all(2>1) #모두 다 True(참)인가? True or False\n",
    "np.all([2>1, 5>3])\n",
    "np.all([2>1, 5>3, 3<1])\n",
    "np.all([2>1, 5>3, 3!=1])\n",
    "np.all([True, True, True])\n",
    "np.all([True, True, False])"
   ]
  },
  {
   "cell_type": "code",
   "execution_count": 36,
   "id": "503d8a5e-7b50-4c81-ac2c-45ef7732bf29",
   "metadata": {},
   "outputs": [
    {
     "data": {
      "text/plain": [
       "True"
      ]
     },
     "execution_count": 36,
     "metadata": {},
     "output_type": "execute_result"
    }
   ],
   "source": [
    "np.any([True, True, False]) #하나라도 True이면 True 가 출력"
   ]
  },
  {
   "cell_type": "code",
   "execution_count": 39,
   "id": "476c7a36-1533-4936-80d9-66f63aa4cc47",
   "metadata": {},
   "outputs": [
    {
     "data": {
      "text/plain": [
       "True"
      ]
     },
     "execution_count": 39,
     "metadata": {},
     "output_type": "execute_result"
    }
   ],
   "source": [
    "np.all([1,2,3]) # True\n",
    "np.all([1,2,0]) # False\n",
    "np.all([1,2,0.1]) # True\n",
    "# 0: 거짓, 0이 아니면 : 참"
   ]
  },
  {
   "cell_type": "code",
   "execution_count": 43,
   "id": "7d6fd1e7-104e-439e-a205-0548be21670a",
   "metadata": {},
   "outputs": [
    {
     "data": {
      "text/plain": [
       "True"
      ]
     },
     "execution_count": 43,
     "metadata": {},
     "output_type": "execute_result"
    }
   ],
   "source": [
    "np.all(np.arange(5)) #0,1,2,3,4 -> False\n",
    "np.all(np.arange(1,5)) #1,2,3,4 -> True"
   ]
  },
  {
   "cell_type": "code",
   "execution_count": 44,
   "id": "3a7a7e13-1dba-4d17-b3c2-d348c1b45b51",
   "metadata": {},
   "outputs": [
    {
     "data": {
      "text/plain": [
       "array([0, 0, 0, 0, 0, 0, 0, 0, 0, 0])"
      ]
     },
     "execution_count": 44,
     "metadata": {},
     "output_type": "execute_result"
    }
   ],
   "source": [
    "a=np.zeros(10, dtype=np.int32)\n",
    "a"
   ]
  },
  {
   "cell_type": "code",
   "execution_count": 45,
   "id": "212d2839-04ec-4b1b-84be-372518720b5f",
   "metadata": {},
   "outputs": [
    {
     "data": {
      "text/plain": [
       "array([ True,  True,  True,  True,  True,  True,  True,  True,  True,\n",
       "        True])"
      ]
     },
     "execution_count": 45,
     "metadata": {},
     "output_type": "execute_result"
    }
   ],
   "source": [
    "a==0"
   ]
  },
  {
   "cell_type": "code",
   "execution_count": 46,
   "id": "19f94ca2-4bc9-4788-97d2-0b1d8103cc8b",
   "metadata": {},
   "outputs": [
    {
     "data": {
      "text/plain": [
       "True"
      ]
     },
     "execution_count": 46,
     "metadata": {},
     "output_type": "execute_result"
    }
   ],
   "source": [
    "np.all(a==0)"
   ]
  },
  {
   "cell_type": "code",
   "execution_count": 53,
   "id": "07abf71d-4829-4a47-b8c8-02e1ef594c87",
   "metadata": {},
   "outputs": [],
   "source": [
    "a = np.array([1, 2, 3, 2])\n",
    "b = np.array([2, 2, 3, 2])\n",
    "c = np.array([6, 4, 4, 5])"
   ]
  },
  {
   "cell_type": "code",
   "execution_count": 56,
   "id": "c623e990-5738-4d05-99a8-1399da8e4004",
   "metadata": {},
   "outputs": [
    {
     "data": {
      "text/plain": [
       "True"
      ]
     },
     "execution_count": 56,
     "metadata": {},
     "output_type": "execute_result"
    }
   ],
   "source": [
    "np.all((a <= b) & (b <= c))"
   ]
  },
  {
   "cell_type": "code",
   "execution_count": 59,
   "id": "e858a2f6-258f-4078-aca9-e6560c2abd3f",
   "metadata": {},
   "outputs": [],
   "source": [
    "arr=np.arange(10).reshape(2,5)"
   ]
  },
  {
   "cell_type": "code",
   "execution_count": 60,
   "id": "d411bd6a-2048-464a-a8b0-35a9d6f2cc3b",
   "metadata": {},
   "outputs": [
    {
     "data": {
      "text/plain": [
       "array([[0, 1, 2, 3, 4],\n",
       "       [5, 6, 7, 8, 9]])"
      ]
     },
     "execution_count": 60,
     "metadata": {},
     "output_type": "execute_result"
    }
   ],
   "source": [
    "arr"
   ]
  },
  {
   "cell_type": "code",
   "execution_count": 61,
   "id": "34eaa8ac-1b6a-4a37-bd58-c428b114f649",
   "metadata": {},
   "outputs": [],
   "source": [
    "# 2차원 이상 다차원배열에 대한 연산시에는 axis를 지정할 수 있음\n",
    "# axis=0(기본값, 열방향 연산), axis=1(행방향 연산)"
   ]
  },
  {
   "cell_type": "code",
   "execution_count": 62,
   "id": "35d6f5a6-d876-412a-9885-1929173845ba",
   "metadata": {},
   "outputs": [
    {
     "data": {
      "text/plain": [
       "array([[0, 1, 2, 3, 4],\n",
       "       [5, 6, 7, 8, 9]])"
      ]
     },
     "execution_count": 62,
     "metadata": {},
     "output_type": "execute_result"
    }
   ],
   "source": [
    "arr"
   ]
  },
  {
   "cell_type": "code",
   "execution_count": 65,
   "id": "1b4428a0-e441-420a-8a2f-e676bce86d9d",
   "metadata": {},
   "outputs": [
    {
     "data": {
      "text/plain": [
       "array([10, 35])"
      ]
     },
     "execution_count": 65,
     "metadata": {},
     "output_type": "execute_result"
    }
   ],
   "source": [
    "arr.sum(axis=0)\n",
    "arr.sum(axis=1)"
   ]
  },
  {
   "cell_type": "code",
   "execution_count": 66,
   "id": "66d5845b-e36d-4447-aa7f-74d882760a5e",
   "metadata": {},
   "outputs": [
    {
     "data": {
      "text/plain": [
       "array([5, 6, 7, 8, 9])"
      ]
     },
     "execution_count": 66,
     "metadata": {},
     "output_type": "execute_result"
    }
   ],
   "source": [
    "arr.max(axis=0)"
   ]
  },
  {
   "cell_type": "code",
   "execution_count": 67,
   "id": "b82aa9bd-8271-4820-bb66-16492f2d5e54",
   "metadata": {},
   "outputs": [
    {
     "data": {
      "text/plain": [
       "array([[0, 1, 2, 3, 4],\n",
       "       [5, 6, 7, 8, 9]])"
      ]
     },
     "execution_count": 67,
     "metadata": {},
     "output_type": "execute_result"
    }
   ],
   "source": [
    "arr"
   ]
  },
  {
   "cell_type": "code",
   "execution_count": 76,
   "id": "1614e94f-0499-4932-9e06-5e8b8a1ddfc3",
   "metadata": {},
   "outputs": [],
   "source": [
    "a = np.array([[4,  3,  5,  7],\n",
    "              [1, 12, 11,  9],\n",
    "              [2, 15,  1, 14]])"
   ]
  },
  {
   "cell_type": "code",
   "execution_count": 69,
   "id": "6ad6ca00-6c64-48fa-94ed-5056ebf76bc7",
   "metadata": {},
   "outputs": [
    {
     "data": {
      "text/plain": [
       "array([[ 4,  3,  5,  7],\n",
       "       [ 1, 12, 11,  9],\n",
       "       [ 2, 15,  1, 14]])"
      ]
     },
     "execution_count": 69,
     "metadata": {},
     "output_type": "execute_result"
    }
   ],
   "source": [
    "a"
   ]
  },
  {
   "cell_type": "code",
   "execution_count": 70,
   "id": "4a107796-d50d-4f47-9d91-88e903b899e6",
   "metadata": {},
   "outputs": [
    {
     "data": {
      "text/plain": [
       "array([ 7, 12, 15])"
      ]
     },
     "execution_count": 70,
     "metadata": {},
     "output_type": "execute_result"
    }
   ],
   "source": [
    "a.max(axis=1)"
   ]
  },
  {
   "cell_type": "code",
   "execution_count": 71,
   "id": "445e25ca-39e6-4ec9-a385-2684ed26b874",
   "metadata": {},
   "outputs": [
    {
     "data": {
      "text/plain": [
       "array([ 7, 12, 15])"
      ]
     },
     "execution_count": 71,
     "metadata": {},
     "output_type": "execute_result"
    }
   ],
   "source": [
    "np.max(a,axis=1)"
   ]
  },
  {
   "cell_type": "code",
   "execution_count": 74,
   "id": "30c54fc5-6891-4865-9604-7a6ff14c5178",
   "metadata": {},
   "outputs": [],
   "source": [
    "a.sort() #axis=0(기본값, 열방향 연산)"
   ]
  },
  {
   "cell_type": "code",
   "execution_count": 75,
   "id": "d78f9159-246f-48b2-bcb6-f50f4261cf82",
   "metadata": {},
   "outputs": [
    {
     "data": {
      "text/plain": [
       "array([[ 3,  4,  5,  7],\n",
       "       [ 1,  9, 11, 12],\n",
       "       [ 1,  2, 14, 15]])"
      ]
     },
     "execution_count": 75,
     "metadata": {},
     "output_type": "execute_result"
    }
   ],
   "source": [
    "a"
   ]
  },
  {
   "cell_type": "code",
   "execution_count": 77,
   "id": "7d82c512-0d0a-4449-8f8a-c965293f0f3f",
   "metadata": {},
   "outputs": [],
   "source": [
    "a = np.array([[4,  3,  5,  7],\n",
    "              [1, 12, 11,  9],\n",
    "              [2, 15,  1, 14]])"
   ]
  },
  {
   "cell_type": "code",
   "execution_count": 78,
   "id": "7f9ccd7a-5ed8-4f06-a776-541482e4c185",
   "metadata": {},
   "outputs": [],
   "source": [
    "a.sort(axis=0) #위에서 아래로"
   ]
  },
  {
   "cell_type": "code",
   "execution_count": 79,
   "id": "3cf21ea0-f78b-4fa4-8d53-cfd9bcaf74c2",
   "metadata": {},
   "outputs": [
    {
     "data": {
      "text/plain": [
       "array([[ 1,  3,  1,  7],\n",
       "       [ 2, 12,  5,  9],\n",
       "       [ 4, 15, 11, 14]])"
      ]
     },
     "execution_count": 79,
     "metadata": {},
     "output_type": "execute_result"
    }
   ],
   "source": [
    "a"
   ]
  },
  {
   "cell_type": "code",
   "execution_count": 82,
   "id": "f663dd24-84f1-464d-bf1e-9a210dd030b7",
   "metadata": {},
   "outputs": [],
   "source": [
    "a = np.array([[4,  3,  5,  7],\n",
    "              [1, 12, 11,  9],\n",
    "              [2, 15,  1, 14]])\n",
    "a.sort(axis=1) #왼쪽에서 오른족으로 "
   ]
  },
  {
   "cell_type": "code",
   "execution_count": 83,
   "id": "41d07f6b-a098-4fcb-a0ac-622c077eea6b",
   "metadata": {},
   "outputs": [
    {
     "data": {
      "text/plain": [
       "array([[ 3,  4,  5,  7],\n",
       "       [ 1,  9, 11, 12],\n",
       "       [ 1,  2, 14, 15]])"
      ]
     },
     "execution_count": 83,
     "metadata": {},
     "output_type": "execute_result"
    }
   ],
   "source": [
    "a"
   ]
  },
  {
   "cell_type": "code",
   "execution_count": 84,
   "id": "40cd4978-748d-4750-a517-f7e61ec0bbe9",
   "metadata": {},
   "outputs": [],
   "source": [
    "a = np.array([[4,  3,  5,  7],\n",
    "              [1, 12, 11,  9],\n",
    "              [2, 15,  1, 14]])"
   ]
  },
  {
   "cell_type": "code",
   "execution_count": 86,
   "id": "fcdbc420-393b-4fac-a1f7-0bddb6aa9997",
   "metadata": {},
   "outputs": [
    {
     "data": {
      "text/plain": [
       "array([[ 3,  4,  5,  7],\n",
       "       [ 1,  9, 11, 12],\n",
       "       [ 1,  2, 14, 15]])"
      ]
     },
     "execution_count": 86,
     "metadata": {},
     "output_type": "execute_result"
    }
   ],
   "source": [
    "np.sort(a) # axis=1 이 기본값, a값이 변하지 않음"
   ]
  },
  {
   "cell_type": "code",
   "execution_count": 94,
   "id": "291010de-93fd-4d24-889a-ea5c4ff3a779",
   "metadata": {},
   "outputs": [],
   "source": [
    "arr=np.array([40,20,10,30,90,])"
   ]
  },
  {
   "cell_type": "code",
   "execution_count": 88,
   "id": "dddf3934-8cea-4528-9ded-5591aebb83dc",
   "metadata": {},
   "outputs": [
    {
     "data": {
      "text/plain": [
       "array([40, 20, 10, 30, 90])"
      ]
     },
     "execution_count": 88,
     "metadata": {},
     "output_type": "execute_result"
    }
   ],
   "source": [
    "arr"
   ]
  },
  {
   "cell_type": "code",
   "execution_count": 89,
   "id": "b4a27d5b-2a5a-427a-acbf-48fa726516f5",
   "metadata": {},
   "outputs": [
    {
     "data": {
      "text/plain": [
       "array([10, 20, 30, 40, 90])"
      ]
     },
     "execution_count": 89,
     "metadata": {},
     "output_type": "execute_result"
    }
   ],
   "source": [
    "np.sort(arr)"
   ]
  },
  {
   "cell_type": "code",
   "execution_count": 90,
   "id": "d3edf423-9776-41c1-ba06-d93c50645816",
   "metadata": {},
   "outputs": [
    {
     "data": {
      "text/plain": [
       "array([90, 40, 30, 20, 10])"
      ]
     },
     "execution_count": 90,
     "metadata": {},
     "output_type": "execute_result"
    }
   ],
   "source": [
    "np.sort(arr)[::-1]"
   ]
  },
  {
   "cell_type": "code",
   "execution_count": 91,
   "id": "d6ee8b36-8e3e-4c5c-b1f2-d196b47f3674",
   "metadata": {},
   "outputs": [
    {
     "data": {
      "text/plain": [
       "array([90, 40, 30, 20, 10])"
      ]
     },
     "execution_count": 91,
     "metadata": {},
     "output_type": "execute_result"
    }
   ],
   "source": [
    "np.flip(np.sort(arr))"
   ]
  },
  {
   "cell_type": "code",
   "execution_count": 92,
   "id": "57a55532-8b0c-4913-b4a7-40b6b215f8d5",
   "metadata": {},
   "outputs": [
    {
     "data": {
      "text/plain": [
       "array([40, 20, 10, 30, 90])"
      ]
     },
     "execution_count": 92,
     "metadata": {},
     "output_type": "execute_result"
    }
   ],
   "source": [
    "arr"
   ]
  },
  {
   "cell_type": "code",
   "execution_count": 93,
   "id": "26b27542-a329-4836-b894-5feb78e6370c",
   "metadata": {},
   "outputs": [
    {
     "data": {
      "text/plain": [
       "array([10, 20, 30, 40, 90])"
      ]
     },
     "execution_count": 93,
     "metadata": {},
     "output_type": "execute_result"
    }
   ],
   "source": [
    "arr=np.sort(arr)\n",
    "arr"
   ]
  },
  {
   "cell_type": "code",
   "execution_count": 95,
   "id": "f0cffe1d-b0ca-41ac-8d03-9984f261e8b9",
   "metadata": {},
   "outputs": [],
   "source": [
    "arr.sort()"
   ]
  },
  {
   "cell_type": "code",
   "execution_count": 96,
   "id": "a2b4b770-a3f8-4d58-9696-3320f3fb77fe",
   "metadata": {},
   "outputs": [
    {
     "data": {
      "text/plain": [
       "array([10, 20, 30, 40, 90])"
      ]
     },
     "execution_count": 96,
     "metadata": {},
     "output_type": "execute_result"
    }
   ],
   "source": [
    "arr"
   ]
  },
  {
   "cell_type": "code",
   "execution_count": 97,
   "id": "6974d67b-5800-49dc-a74b-878a6e7ec080",
   "metadata": {},
   "outputs": [
    {
     "data": {
      "text/plain": [
       "5"
      ]
     },
     "execution_count": 97,
     "metadata": {},
     "output_type": "execute_result"
    }
   ],
   "source": [
    "len(arr)"
   ]
  },
  {
   "cell_type": "code",
   "execution_count": 98,
   "id": "9beac2a1-c1e6-40a1-a9a2-8f63596615ac",
   "metadata": {},
   "outputs": [
    {
     "data": {
      "text/plain": [
       "38.0"
      ]
     },
     "execution_count": 98,
     "metadata": {},
     "output_type": "execute_result"
    }
   ],
   "source": [
    "np.mean(arr)"
   ]
  },
  {
   "cell_type": "code",
   "execution_count": 99,
   "id": "8897e784-e631-4ac1-930c-0aeab758af95",
   "metadata": {},
   "outputs": [
    {
     "data": {
      "text/plain": [
       "776.0"
      ]
     },
     "execution_count": 99,
     "metadata": {},
     "output_type": "execute_result"
    }
   ],
   "source": [
    "np.var(arr)"
   ]
  },
  {
   "cell_type": "code",
   "execution_count": 100,
   "id": "8148f6f2-ea6f-4d81-b5d5-a6d213f637e9",
   "metadata": {},
   "outputs": [
    {
     "data": {
      "text/plain": [
       "27.85677655436824"
      ]
     },
     "execution_count": 100,
     "metadata": {},
     "output_type": "execute_result"
    }
   ],
   "source": [
    "np.std(arr)"
   ]
  },
  {
   "cell_type": "code",
   "execution_count": 101,
   "id": "a051b934-2078-416d-95f6-ba0e6c9b3390",
   "metadata": {},
   "outputs": [
    {
     "data": {
      "text/plain": [
       "array([10, 20, 30, 40, 90])"
      ]
     },
     "execution_count": 101,
     "metadata": {},
     "output_type": "execute_result"
    }
   ],
   "source": [
    "arr"
   ]
  },
  {
   "cell_type": "code",
   "execution_count": 104,
   "id": "464feba1-4138-4a9f-a200-ece054e6c22d",
   "metadata": {},
   "outputs": [
    {
     "data": {
      "text/plain": [
       "array([ 5, 10,  9,  3,  8])"
      ]
     },
     "execution_count": 104,
     "metadata": {},
     "output_type": "execute_result"
    }
   ],
   "source": [
    "x=np.array([5,10,9,3,8])\n",
    "x"
   ]
  },
  {
   "cell_type": "code",
   "execution_count": 121,
   "id": "4822d595-71b5-4723-ba7f-7dcad99035e3",
   "metadata": {},
   "outputs": [
    {
     "data": {
      "text/plain": [
       "8.5"
      ]
     },
     "execution_count": 121,
     "metadata": {},
     "output_type": "execute_result"
    }
   ],
   "source": [
    "np.var(x) # 6.8\n",
    "#표본분산\n",
    "np.sum((x - np.mean(x)) ** 2) / (len(x) - 1)  #8.5\n",
    "#모분산\n",
    "np.sum((x-np.mean(x))**2) / len(x)  #6.8\n",
    "np.var(x, ddof=1)  #8.5"
   ]
  },
  {
   "cell_type": "code",
   "execution_count": 122,
   "id": "cd1da054-e427-41eb-912b-df1df1a186e0",
   "metadata": {},
   "outputs": [],
   "source": [
    "x=np.arange(1,201)"
   ]
  },
  {
   "cell_type": "code",
   "execution_count": 123,
   "id": "d764af83-da93-45f8-abb9-67a246d25c53",
   "metadata": {},
   "outputs": [
    {
     "data": {
      "text/plain": [
       "1.0"
      ]
     },
     "execution_count": 123,
     "metadata": {},
     "output_type": "execute_result"
    }
   ],
   "source": [
    "np.percentile(x,0) # 최소값"
   ]
  },
  {
   "cell_type": "code",
   "execution_count": 124,
   "id": "a3f36e99-5cb5-40b3-aab0-9ba5c9b92368",
   "metadata": {},
   "outputs": [
    {
     "data": {
      "text/plain": [
       "200.0"
      ]
     },
     "execution_count": 124,
     "metadata": {},
     "output_type": "execute_result"
    }
   ],
   "source": [
    "np.percentile(x,100) # 최소값"
   ]
  },
  {
   "cell_type": "code",
   "execution_count": null,
   "id": "8e8e2db4-5822-4058-a47c-d8a943d8b288",
   "metadata": {},
   "outputs": [],
   "source": [
    "백분위수 : 위치를 100으로 나눈\n",
    "1사분위수 : 25% 백분위"
   ]
  },
  {
   "cell_type": "code",
   "execution_count": 125,
   "id": "c61f672d-2154-4bfb-a6b2-134a6bbc39c2",
   "metadata": {},
   "outputs": [
    {
     "data": {
      "text/plain": [
       "50.75"
      ]
     },
     "execution_count": 125,
     "metadata": {},
     "output_type": "execute_result"
    }
   ],
   "source": [
    "np.percentile(x,25)"
   ]
  },
  {
   "cell_type": "code",
   "execution_count": 126,
   "id": "75f3d8b3-d5b3-44c6-9e08-7af77b16f145",
   "metadata": {},
   "outputs": [],
   "source": [
    "data=np.arange(11)"
   ]
  },
  {
   "cell_type": "code",
   "execution_count": 127,
   "id": "31883231-8487-4a97-9db5-0038246ea7bc",
   "metadata": {},
   "outputs": [
    {
     "data": {
      "text/plain": [
       "array([ 0,  1,  2,  3,  4,  5,  6,  7,  8,  9, 10])"
      ]
     },
     "execution_count": 127,
     "metadata": {},
     "output_type": "execute_result"
    }
   ],
   "source": [
    "data"
   ]
  },
  {
   "cell_type": "code",
   "execution_count": 130,
   "id": "5de8dee7-25cd-4102-9322-db2c33a74760",
   "metadata": {},
   "outputs": [
    {
     "data": {
      "text/plain": [
       "5.0"
      ]
     },
     "execution_count": 130,
     "metadata": {},
     "output_type": "execute_result"
    }
   ],
   "source": [
    "np.percentile(data,50) # 중위수(2사분위수)"
   ]
  },
  {
   "cell_type": "code",
   "execution_count": 131,
   "id": "e8ec90b4-6fa9-408a-bf86-2bbd36daa755",
   "metadata": {},
   "outputs": [
    {
     "data": {
      "text/plain": [
       "2.5"
      ]
     },
     "execution_count": 131,
     "metadata": {},
     "output_type": "execute_result"
    }
   ],
   "source": [
    "np.percentile(data,25) # 1사분위수"
   ]
  },
  {
   "cell_type": "code",
   "execution_count": 132,
   "id": "317b4a9d-1a5b-43d0-8c96-ba5f48f1a0e3",
   "metadata": {},
   "outputs": [
    {
     "data": {
      "text/plain": [
       "7.5"
      ]
     },
     "execution_count": 132,
     "metadata": {},
     "output_type": "execute_result"
    }
   ],
   "source": [
    "np.percentile(data,75) # 3사분위수"
   ]
  },
  {
   "cell_type": "code",
   "execution_count": 133,
   "id": "eb57a24d-15d2-4ec6-829c-ad3a72a17e0f",
   "metadata": {},
   "outputs": [
    {
     "data": {
      "text/plain": [
       "10.0"
      ]
     },
     "execution_count": 133,
     "metadata": {},
     "output_type": "execute_result"
    }
   ],
   "source": [
    "np.percentile(data,100) # 4사분위수, 최대값"
   ]
  },
  {
   "cell_type": "code",
   "execution_count": null,
   "id": "850fb9f6-12c5-45ee-81a3-6ab52f182afd",
   "metadata": {},
   "outputs": [],
   "source": []
  }
 ],
 "metadata": {
  "kernelspec": {
   "display_name": "Python 3 (ipykernel)",
   "language": "python",
   "name": "python3"
  },
  "language_info": {
   "codemirror_mode": {
    "name": "ipython",
    "version": 3
   },
   "file_extension": ".py",
   "mimetype": "text/x-python",
   "name": "python",
   "nbconvert_exporter": "python",
   "pygments_lexer": "ipython3",
   "version": "3.11.7"
  }
 },
 "nbformat": 4,
 "nbformat_minor": 5
}
