{
 "cells": [
  {
   "cell_type": "code",
   "execution_count": 2,
   "id": "ee39976b-fe5a-4b65-83f2-8e1baf52947a",
   "metadata": {},
   "outputs": [],
   "source": [
    "import numpy as np"
   ]
  },
  {
   "cell_type": "code",
   "execution_count": 3,
   "id": "6d3cd815-c7d9-4b20-8a7d-3755c5dee5ea",
   "metadata": {},
   "outputs": [
    {
     "data": {
      "text/plain": [
       "array([[ 0,  1,  2,  3],\n",
       "       [ 4,  5,  6,  7],\n",
       "       [ 8,  9, 10, 11]])"
      ]
     },
     "execution_count": 3,
     "metadata": {},
     "output_type": "execute_result"
    }
   ],
   "source": [
    "arr=np.arange(12).reshape(3,4)\n",
    "arr"
   ]
  },
  {
   "cell_type": "code",
   "execution_count": 4,
   "id": "27e58528-0429-4826-96cd-58bed2f06e35",
   "metadata": {},
   "outputs": [
    {
     "data": {
      "text/plain": [
       "array([ 0,  1,  2,  3,  4,  5,  6,  7,  8,  9, 10, 11])"
      ]
     },
     "execution_count": 4,
     "metadata": {},
     "output_type": "execute_result"
    }
   ],
   "source": [
    "arr.reshape(12)"
   ]
  },
  {
   "cell_type": "code",
   "execution_count": 5,
   "id": "8d082f8e-6bd3-4eb5-91c7-93256f196c93",
   "metadata": {},
   "outputs": [
    {
     "data": {
      "text/plain": [
       "array([ 0,  1,  2,  3,  4,  5,  6,  7,  8,  9, 10, 11])"
      ]
     },
     "execution_count": 5,
     "metadata": {},
     "output_type": "execute_result"
    }
   ],
   "source": [
    "arr.reshape(3*4)"
   ]
  },
  {
   "cell_type": "code",
   "execution_count": 6,
   "id": "dc13b039-0289-478c-a4e2-09a05b9e5453",
   "metadata": {},
   "outputs": [
    {
     "data": {
      "text/plain": [
       "array([ 0,  1,  2,  3,  4,  5,  6,  7,  8,  9, 10, 11])"
      ]
     },
     "execution_count": 6,
     "metadata": {},
     "output_type": "execute_result"
    }
   ],
   "source": [
    "arr.flatten()"
   ]
  },
  {
   "cell_type": "code",
   "execution_count": 7,
   "id": "107aa359-982c-4a55-b33a-034385a7f2ec",
   "metadata": {},
   "outputs": [
    {
     "data": {
      "text/plain": [
       "array([ 0,  1,  2,  3,  4,  5,  6,  7,  8,  9, 10, 11])"
      ]
     },
     "execution_count": 7,
     "metadata": {},
     "output_type": "execute_result"
    }
   ],
   "source": [
    "arr.ravel()"
   ]
  },
  {
   "cell_type": "code",
   "execution_count": 8,
   "id": "97a23c53-90fd-47d9-a58c-9f71e475b669",
   "metadata": {},
   "outputs": [],
   "source": [
    "x=np.arange(3)"
   ]
  },
  {
   "cell_type": "code",
   "execution_count": 11,
   "id": "549160dd-40f5-448b-b371-b39134b7e78e",
   "metadata": {},
   "outputs": [
    {
     "data": {
      "text/plain": [
       "array([0, 1, 2])"
      ]
     },
     "execution_count": 11,
     "metadata": {},
     "output_type": "execute_result"
    }
   ],
   "source": [
    "x#x는 1차원 배열"
   ]
  },
  {
   "cell_type": "code",
   "execution_count": 16,
   "id": "9e497b2f-97a3-4fc9-a09a-4addffe1697a",
   "metadata": {},
   "outputs": [
    {
     "data": {
      "text/plain": [
       "array([[0, 1, 2]])"
      ]
     },
     "execution_count": 16,
     "metadata": {},
     "output_type": "execute_result"
    }
   ],
   "source": [
    "x.reshape(1,3) # x는 2차원배열(행렬, 1*3)"
   ]
  },
  {
   "cell_type": "code",
   "execution_count": 17,
   "id": "6d45fbc2-fff9-4dcb-bd49-1705d02f78ec",
   "metadata": {},
   "outputs": [
    {
     "data": {
      "text/plain": [
       "array([[0],\n",
       "       [1],\n",
       "       [2]])"
      ]
     },
     "execution_count": 17,
     "metadata": {},
     "output_type": "execute_result"
    }
   ],
   "source": [
    "x.reshape(3,1) # x는 2차원배열(행렬, 3*1)"
   ]
  },
  {
   "cell_type": "code",
   "execution_count": 21,
   "id": "8c651cfc-38d6-4bf0-9662-8a5cf22eddd6",
   "metadata": {},
   "outputs": [
    {
     "data": {
      "text/plain": [
       "(3, 1)"
      ]
     },
     "execution_count": 21,
     "metadata": {},
     "output_type": "execute_result"
    }
   ],
   "source": [
    "x[:, np.newaxis].shape"
   ]
  },
  {
   "cell_type": "code",
   "execution_count": 23,
   "id": "7f0636b5-8a22-4143-a96a-1a707fc1c675",
   "metadata": {},
   "outputs": [
    {
     "data": {
      "text/plain": [
       "array([ 0,  1,  2,  3,  4,  5,  6,  7,  8,  9, 10, 11])"
      ]
     },
     "execution_count": 23,
     "metadata": {},
     "output_type": "execute_result"
    }
   ],
   "source": [
    "arr=arr.flatten()\n",
    "arr"
   ]
  },
  {
   "cell_type": "code",
   "execution_count": 24,
   "id": "7ca11fa3-f586-4dea-b870-4342cc8477b7",
   "metadata": {},
   "outputs": [
    {
     "data": {
      "text/plain": [
       "array([[ 0,  1,  2],\n",
       "       [ 3,  4,  5],\n",
       "       [ 6,  7,  8],\n",
       "       [ 9, 10, 11]])"
      ]
     },
     "execution_count": 24,
     "metadata": {},
     "output_type": "execute_result"
    }
   ],
   "source": [
    "arr=arr.reshape(4,3)\n",
    "arr"
   ]
  },
  {
   "cell_type": "code",
   "execution_count": 25,
   "id": "887d9a4c-f6c7-4752-b18f-c9ad7d09bdbe",
   "metadata": {},
   "outputs": [
    {
     "name": "stdout",
     "output_type": "stream",
     "text": [
      "[0 1 2]\n",
      "[3 4 5]\n",
      "[6 7 8]\n",
      "[ 9 10 11]\n"
     ]
    }
   ],
   "source": [
    "for i in arr:\n",
    "    print(i)"
   ]
  },
  {
   "cell_type": "code",
   "execution_count": 26,
   "id": "7bdfe5a5-e2ca-42a4-929a-59654dcf1e93",
   "metadata": {},
   "outputs": [
    {
     "name": "stdout",
     "output_type": "stream",
     "text": [
      "0\n",
      "1\n",
      "2\n",
      "3\n",
      "4\n",
      "5\n",
      "6\n",
      "7\n",
      "8\n",
      "9\n",
      "10\n",
      "11\n"
     ]
    }
   ],
   "source": [
    "for i in arr:\n",
    "    for j in i:\n",
    "        print(j)"
   ]
  },
  {
   "cell_type": "code",
   "execution_count": 27,
   "id": "77b4441f-218b-4527-a851-90eaef53c8c4",
   "metadata": {},
   "outputs": [
    {
     "data": {
      "text/plain": [
       "array([[[ 0,  1],\n",
       "        [ 2,  3],\n",
       "        [ 4,  5]],\n",
       "\n",
       "       [[ 6,  7],\n",
       "        [ 8,  9],\n",
       "        [10, 11]]])"
      ]
     },
     "execution_count": 27,
     "metadata": {},
     "output_type": "execute_result"
    }
   ],
   "source": [
    "arr=arr.reshape(2,3,2)\n",
    "arr"
   ]
  },
  {
   "cell_type": "code",
   "execution_count": 28,
   "id": "12a975ae-0646-4dfa-a402-0cd1de9c0370",
   "metadata": {},
   "outputs": [
    {
     "name": "stdout",
     "output_type": "stream",
     "text": [
      "0\n",
      "1\n",
      "2\n",
      "3\n",
      "4\n",
      "5\n",
      "6\n",
      "7\n",
      "8\n",
      "9\n",
      "10\n",
      "11\n"
     ]
    }
   ],
   "source": [
    "for i in arr:\n",
    "    for j in i:\n",
    "        for k in j:\n",
    "            print(k)"
   ]
  },
  {
   "cell_type": "code",
   "execution_count": 30,
   "id": "02c6383f-6b12-49e5-964f-30798e8b0bb9",
   "metadata": {},
   "outputs": [],
   "source": [
    "# 파이썬 : 리스트, 튜플, 딕셔너리, 집합\n",
    "# 넘파이 : 배열(ndarray)\n",
    "# 판다스 : 데이터프레임, 시리즈\n",
    "# 데이터 수집(크롤링, db) -> 전처리(넘파이, 판다스) -> 분석(판다)\n",
    "# 컬러이미지 : 1000*1000*3   *10만장\n",
    "# [\n",
    "#     [\n",
    "#         [200 0 0 255 255 255 0 0 0...255],\n",
    "#         [200 0 0 255 255 255 0 0 0...255],\n",
    "#         ...\n",
    "#         [200 0 0 255 255 255 0 0 0...255]\n",
    "#     ],\n",
    "#     [\n",
    "#         [200 0 0 255 255 255 0 0 0...255],\n",
    "#         [200 0 0 255 255 255 0 0 0...255],\n",
    "#         ...\n",
    "#         [200 0 0 255 255 255 0 0 0...255]\n",
    "#     ],\n",
    "#     [\n",
    "#         [200 0 0 255 255 255 0 0 0...255],\n",
    "#         [200 0 0 255 255 255 0 0 0...255],\n",
    "#         ...\n",
    "#         [200 0 0 255 255 255 0 0 0...255]\n",
    "#     ]\n",
    "# ]\n",
    "#    /255"
   ]
  },
  {
   "cell_type": "code",
   "execution_count": 31,
   "id": "8baf1ab6-a697-4ced-b77a-f2ed75525553",
   "metadata": {},
   "outputs": [],
   "source": [
    "a1=np.ones((2,3))"
   ]
  },
  {
   "cell_type": "code",
   "execution_count": 32,
   "id": "52b555c3-1b33-4a5f-85d1-a9c57563678d",
   "metadata": {},
   "outputs": [
    {
     "data": {
      "text/plain": [
       "array([[1., 1., 1.],\n",
       "       [1., 1., 1.]])"
      ]
     },
     "execution_count": 32,
     "metadata": {},
     "output_type": "execute_result"
    }
   ],
   "source": [
    "a1"
   ]
  },
  {
   "cell_type": "code",
   "execution_count": 42,
   "id": "c44ec0e2-a01a-436a-a5a3-65207cf79813",
   "metadata": {},
   "outputs": [],
   "source": [
    "a2=np.zeros((3,3))"
   ]
  },
  {
   "cell_type": "code",
   "execution_count": 43,
   "id": "0e0699b5-7417-45bb-b288-d8ca49dfae02",
   "metadata": {},
   "outputs": [
    {
     "data": {
      "text/plain": [
       "array([[0., 0., 0.],\n",
       "       [0., 0., 0.],\n",
       "       [0., 0., 0.]])"
      ]
     },
     "execution_count": 43,
     "metadata": {},
     "output_type": "execute_result"
    }
   ],
   "source": [
    "a2"
   ]
  },
  {
   "cell_type": "code",
   "execution_count": 44,
   "id": "ad6a5660-9d38-4ecf-852c-9b3c5e1a3222",
   "metadata": {},
   "outputs": [
    {
     "ename": "ValueError",
     "evalue": "all the input array dimensions except for the concatenation axis must match exactly, but along dimension 0, the array at index 0 has size 2 and the array at index 1 has size 3",
     "output_type": "error",
     "traceback": [
      "\u001b[1;31m---------------------------------------------------------------------------\u001b[0m",
      "\u001b[1;31mValueError\u001b[0m                                Traceback (most recent call last)",
      "Cell \u001b[1;32mIn[44], line 1\u001b[0m\n\u001b[1;32m----> 1\u001b[0m np\u001b[38;5;241m.\u001b[39mhstack([a1,a2])\n",
      "File \u001b[1;32mC:\\Anaconnda3\\Lib\\site-packages\\numpy\\core\\shape_base.py:359\u001b[0m, in \u001b[0;36mhstack\u001b[1;34m(tup, dtype, casting)\u001b[0m\n\u001b[0;32m    357\u001b[0m     \u001b[38;5;28;01mreturn\u001b[39;00m _nx\u001b[38;5;241m.\u001b[39mconcatenate(arrs, \u001b[38;5;241m0\u001b[39m, dtype\u001b[38;5;241m=\u001b[39mdtype, casting\u001b[38;5;241m=\u001b[39mcasting)\n\u001b[0;32m    358\u001b[0m \u001b[38;5;28;01melse\u001b[39;00m:\n\u001b[1;32m--> 359\u001b[0m     \u001b[38;5;28;01mreturn\u001b[39;00m _nx\u001b[38;5;241m.\u001b[39mconcatenate(arrs, \u001b[38;5;241m1\u001b[39m, dtype\u001b[38;5;241m=\u001b[39mdtype, casting\u001b[38;5;241m=\u001b[39mcasting)\n",
      "\u001b[1;31mValueError\u001b[0m: all the input array dimensions except for the concatenation axis must match exactly, but along dimension 0, the array at index 0 has size 2 and the array at index 1 has size 3"
     ]
    }
   ],
   "source": [
    "np.hstack([a1,a2])"
   ]
  },
  {
   "cell_type": "code",
   "execution_count": 45,
   "id": "91b09156-b6aa-485a-9658-f058cf77d281",
   "metadata": {},
   "outputs": [
    {
     "data": {
      "text/plain": [
       "array([[1., 1., 1.],\n",
       "       [1., 1., 1.],\n",
       "       [0., 0., 0.],\n",
       "       [0., 0., 0.],\n",
       "       [0., 0., 0.]])"
      ]
     },
     "execution_count": 45,
     "metadata": {},
     "output_type": "execute_result"
    }
   ],
   "source": [
    "np.vstack([a1,a2])"
   ]
  },
  {
   "cell_type": "code",
   "execution_count": 47,
   "id": "a59dd60c-9abc-4043-8b20-2c06c4c213f6",
   "metadata": {},
   "outputs": [],
   "source": [
    "# dstack(depth) : 행, 열이 아닌 깊이 방향으로 배열을 합침"
   ]
  },
  {
   "cell_type": "code",
   "execution_count": 48,
   "id": "d1280389-2faa-4dad-ae07-e172034ba638",
   "metadata": {},
   "outputs": [],
   "source": [
    "a1=np.ones((3,4))\n",
    "a2=np.zeros((3,4))"
   ]
  },
  {
   "cell_type": "code",
   "execution_count": 49,
   "id": "31dd6b5e-7641-4028-be92-51fd2e5e3fbb",
   "metadata": {},
   "outputs": [
    {
     "data": {
      "text/plain": [
       "array([[1., 1., 1., 1.],\n",
       "       [1., 1., 1., 1.],\n",
       "       [1., 1., 1., 1.]])"
      ]
     },
     "execution_count": 49,
     "metadata": {},
     "output_type": "execute_result"
    }
   ],
   "source": [
    "a1"
   ]
  },
  {
   "cell_type": "code",
   "execution_count": 50,
   "id": "0a05a12d-8bd3-481e-b4af-7b2582cd766f",
   "metadata": {},
   "outputs": [
    {
     "data": {
      "text/plain": [
       "array([[0., 0., 0., 0.],\n",
       "       [0., 0., 0., 0.],\n",
       "       [0., 0., 0., 0.]])"
      ]
     },
     "execution_count": 50,
     "metadata": {},
     "output_type": "execute_result"
    }
   ],
   "source": [
    "a2"
   ]
  },
  {
   "cell_type": "code",
   "execution_count": 51,
   "id": "c6a3788c-6b3b-460b-a50c-28063f33a2c9",
   "metadata": {},
   "outputs": [
    {
     "data": {
      "text/plain": [
       "array([[[1., 0.],\n",
       "        [1., 0.],\n",
       "        [1., 0.],\n",
       "        [1., 0.]],\n",
       "\n",
       "       [[1., 0.],\n",
       "        [1., 0.],\n",
       "        [1., 0.],\n",
       "        [1., 0.]],\n",
       "\n",
       "       [[1., 0.],\n",
       "        [1., 0.],\n",
       "        [1., 0.],\n",
       "        [1., 0.]]])"
      ]
     },
     "execution_count": 51,
     "metadata": {},
     "output_type": "execute_result"
    }
   ],
   "source": [
    "#3*4*2\n",
    "np.dstack([a1,a2])"
   ]
  },
  {
   "cell_type": "code",
   "execution_count": 52,
   "id": "7d2c77b2-eab9-49b2-a8f0-11b21fffe7b8",
   "metadata": {},
   "outputs": [
    {
     "data": {
      "text/plain": [
       "(3, 4, 2)"
      ]
     },
     "execution_count": 52,
     "metadata": {},
     "output_type": "execute_result"
    }
   ],
   "source": [
    "np.dstack([a1,a2]).shape"
   ]
  },
  {
   "cell_type": "code",
   "execution_count": 53,
   "id": "04039b53-2a14-4ad6-986b-91fa51f1eac0",
   "metadata": {},
   "outputs": [],
   "source": [
    "# dstack([a1,a2]) => 2개의 3*4 배열 => 1개의 3*4*2 배열"
   ]
  },
  {
   "cell_type": "code",
   "execution_count": 54,
   "id": "d0c430b3-835e-4a5b-83fa-b327e91f3d4f",
   "metadata": {},
   "outputs": [],
   "source": [
    "# dstack은 잘사용 하지 않고 , stack을 사용함"
   ]
  },
  {
   "cell_type": "code",
   "execution_count": 56,
   "id": "61ae219d-dcb6-43b3-8d64-6dd493c6cc14",
   "metadata": {},
   "outputs": [
    {
     "data": {
      "text/plain": [
       "array([[[1., 1., 1., 1.],\n",
       "        [1., 1., 1., 1.],\n",
       "        [1., 1., 1., 1.]],\n",
       "\n",
       "       [[0., 0., 0., 0.],\n",
       "        [0., 0., 0., 0.],\n",
       "        [0., 0., 0., 0.]]])"
      ]
     },
     "execution_count": 56,
     "metadata": {},
     "output_type": "execute_result"
    }
   ],
   "source": [
    "np.stack([a1,a2])"
   ]
  },
  {
   "cell_type": "code",
   "execution_count": 58,
   "id": "db8a6d06-3f78-47ee-b389-c5578a6fc8aa",
   "metadata": {},
   "outputs": [
    {
     "data": {
      "text/plain": [
       "(2, 3, 4)"
      ]
     },
     "execution_count": 58,
     "metadata": {},
     "output_type": "execute_result"
    }
   ],
   "source": [
    "np.stack([a1,a2]).shape\n",
    "#2개의 3*4 => 1개의 2*3*4"
   ]
  },
  {
   "cell_type": "code",
   "execution_count": 69,
   "id": "58808eee-3cd5-4979-8da8-499c84992f6f",
   "metadata": {},
   "outputs": [],
   "source": [
    "r1=np.stack([a1,a2], axis=1)"
   ]
  },
  {
   "cell_type": "code",
   "execution_count": 70,
   "id": "7b40a836-e314-452c-b0a2-67a9dfce307e",
   "metadata": {},
   "outputs": [
    {
     "data": {
      "text/plain": [
       "(3, 2, 4)"
      ]
     },
     "execution_count": 70,
     "metadata": {},
     "output_type": "execute_result"
    }
   ],
   "source": [
    "r1.shape"
   ]
  },
  {
   "cell_type": "code",
   "execution_count": 71,
   "id": "96458183-7284-4162-b13a-2b724f40d467",
   "metadata": {},
   "outputs": [
    {
     "data": {
      "text/plain": [
       "(3, 4, 2)"
      ]
     },
     "execution_count": 71,
     "metadata": {},
     "output_type": "execute_result"
    }
   ],
   "source": [
    "r2=np.stack([a1,a2], axis=2)\n",
    "r2.shape"
   ]
  },
  {
   "cell_type": "code",
   "execution_count": 72,
   "id": "e7a7e33f-607b-4a9e-90e9-63d044d617b6",
   "metadata": {},
   "outputs": [],
   "source": [
    "# 두 행렬 (3,4), (3,4)를 stack함수로 연결할 때 axis값에 따라 shape이 달라짐\n",
    "# axis=0 => 2,3,4\n",
    "# axis=1 => 3,2,4\n",
    "# axis=2 => 3,4,2"
   ]
  },
  {
   "cell_type": "code",
   "execution_count": 73,
   "id": "347d423e-26fd-4043-8d19-e8c643eaa57d",
   "metadata": {},
   "outputs": [],
   "source": [
    "a1=np.array([1,2,3])\n",
    "a2=np.array([11,12,13])"
   ]
  },
  {
   "cell_type": "code",
   "execution_count": 74,
   "id": "b602e389-b316-4022-ab95-4944e5be363f",
   "metadata": {},
   "outputs": [
    {
     "data": {
      "text/plain": [
       "array([ 1,  2,  3, 11, 12, 13])"
      ]
     },
     "execution_count": 74,
     "metadata": {},
     "output_type": "execute_result"
    }
   ],
   "source": [
    "np.hstack([a1,a2])"
   ]
  },
  {
   "cell_type": "code",
   "execution_count": 76,
   "id": "0f5a112b-3dca-4421-b606-0ec3262ab962",
   "metadata": {},
   "outputs": [
    {
     "data": {
      "text/plain": [
       "array([ 1,  2,  3, 11, 12, 13])"
      ]
     },
     "execution_count": 76,
     "metadata": {},
     "output_type": "execute_result"
    }
   ],
   "source": [
    "np.r_[a1,a2] # 특별한 함수, 인덱서 함수, r(row)"
   ]
  },
  {
   "cell_type": "code",
   "execution_count": 77,
   "id": "36bb2e03-d0f2-4e02-9ea7-74f190ed7f8e",
   "metadata": {},
   "outputs": [
    {
     "data": {
      "text/plain": [
       "array([[ 1, 11],\n",
       "       [ 2, 12],\n",
       "       [ 3, 13]])"
      ]
     },
     "execution_count": 77,
     "metadata": {},
     "output_type": "execute_result"
    }
   ],
   "source": [
    "np.c_[a1,a2] # 특별한 함수, 인덱서 함수, c(column)"
   ]
  },
  {
   "cell_type": "code",
   "execution_count": 78,
   "id": "3452d1eb-9d5c-4cb0-bf56-01e8a8d2321a",
   "metadata": {},
   "outputs": [
    {
     "data": {
      "text/plain": [
       "array([[ 1,  2,  3],\n",
       "       [11, 12, 13]])"
      ]
     },
     "execution_count": 78,
     "metadata": {},
     "output_type": "execute_result"
    }
   ],
   "source": [
    "np.vstack([a1,a2])"
   ]
  },
  {
   "cell_type": "code",
   "execution_count": 80,
   "id": "fbc434b5-c342-4186-be8d-234eeef84a29",
   "metadata": {},
   "outputs": [
    {
     "data": {
      "text/plain": [
       "array([[0, 1, 2],\n",
       "       [3, 4, 5]])"
      ]
     },
     "execution_count": 80,
     "metadata": {},
     "output_type": "execute_result"
    }
   ],
   "source": [
    "# tile: 동일한 배열을 반복해서 연결\n",
    "arr=np.arange(6).reshape(2,3)\n",
    "arr"
   ]
  },
  {
   "cell_type": "code",
   "execution_count": 85,
   "id": "d8b7157c-c331-4b84-bc12-dbbc3b116346",
   "metadata": {},
   "outputs": [
    {
     "data": {
      "text/plain": [
       "array([[0, 1, 2, 0, 1, 2, 0, 1, 2],\n",
       "       [3, 4, 5, 3, 4, 5, 3, 4, 5]])"
      ]
     },
     "execution_count": 85,
     "metadata": {},
     "output_type": "execute_result"
    }
   ],
   "source": [
    "np.tile(arr,3) #좌우로 3번반복"
   ]
  },
  {
   "cell_type": "code",
   "execution_count": 86,
   "id": "5279bbce-15c3-42da-bcc8-6329eecc495d",
   "metadata": {},
   "outputs": [
    {
     "data": {
      "text/plain": [
       "array([[0, 1, 2],\n",
       "       [3, 4, 5],\n",
       "       [0, 1, 2],\n",
       "       [3, 4, 5],\n",
       "       [0, 1, 2],\n",
       "       [3, 4, 5]])"
      ]
     },
     "execution_count": 86,
     "metadata": {},
     "output_type": "execute_result"
    }
   ],
   "source": [
    "np.tile(arr,(3,1)) # 위아래로 3번 반복, 좌우로 1번반복"
   ]
  },
  {
   "cell_type": "code",
   "execution_count": 87,
   "id": "d991788e-ed63-44d4-bea1-0eefe9633f45",
   "metadata": {
    "scrolled": true
   },
   "outputs": [
    {
     "data": {
      "text/plain": [
       "array([[0, 1, 2, 0, 1, 2],\n",
       "       [3, 4, 5, 3, 4, 5],\n",
       "       [0, 1, 2, 0, 1, 2],\n",
       "       [3, 4, 5, 3, 4, 5],\n",
       "       [0, 1, 2, 0, 1, 2],\n",
       "       [3, 4, 5, 3, 4, 5]])"
      ]
     },
     "execution_count": 87,
     "metadata": {},
     "output_type": "execute_result"
    }
   ],
   "source": [
    "np.tile(arr,(3,2)) # 위아래로 3번 반복, 좌우로 2번반복"
   ]
  },
  {
   "cell_type": "code",
   "execution_count": null,
   "id": "01ef60e4-a58c-4d2d-ba61-a8dc7ac8ea61",
   "metadata": {},
   "outputs": [],
   "source": [
    "arr1=np.ones((3,2))\n",
    "\n",
    "arr2=np.zeros((3,3))\n",
    "\n",
    "np.hstack([arr2,arr1])"
   ]
  },
  {
   "cell_type": "code",
   "execution_count": 97,
   "id": "671234a1-4a78-49f5-afdd-63a13bcf7851",
   "metadata": {},
   "outputs": [],
   "source": [
    "x=np.arange(3)\n",
    "y=np.arange(5)\n",
    "# (x,y)=(0,0),(0,1)..(0,4),(1,0),...(1,4),(2,0)...(2,4)"
   ]
  },
  {
   "cell_type": "code",
   "execution_count": 98,
   "id": "bcf9e186-651f-4b1d-9660-515a885b5728",
   "metadata": {},
   "outputs": [
    {
     "data": {
      "text/plain": [
       "array([0, 1, 2])"
      ]
     },
     "execution_count": 98,
     "metadata": {},
     "output_type": "execute_result"
    }
   ],
   "source": [
    "x"
   ]
  },
  {
   "cell_type": "code",
   "execution_count": 99,
   "id": "4234dd0c-5dc0-4274-9cec-01a19d856710",
   "metadata": {},
   "outputs": [
    {
     "data": {
      "text/plain": [
       "array([0, 1, 2, 3, 4])"
      ]
     },
     "execution_count": 99,
     "metadata": {},
     "output_type": "execute_result"
    }
   ],
   "source": [
    "y"
   ]
  },
  {
   "cell_type": "code",
   "execution_count": 101,
   "id": "678f410c-63b7-4850-9a2e-a8ba58275062",
   "metadata": {},
   "outputs": [],
   "source": [
    "x,y=np.meshgrid(x,y)"
   ]
  },
  {
   "cell_type": "code",
   "execution_count": 102,
   "id": "030966ab-8300-4c9c-a412-9c2a838ae349",
   "metadata": {},
   "outputs": [
    {
     "data": {
      "text/plain": [
       "array([[0, 1, 2],\n",
       "       [0, 1, 2],\n",
       "       [0, 1, 2],\n",
       "       [0, 1, 2],\n",
       "       [0, 1, 2]])"
      ]
     },
     "execution_count": 102,
     "metadata": {},
     "output_type": "execute_result"
    }
   ],
   "source": [
    "x"
   ]
  },
  {
   "cell_type": "code",
   "execution_count": 103,
   "id": "3d71304d-caad-4ddc-961f-3c6c997cf89a",
   "metadata": {},
   "outputs": [
    {
     "data": {
      "text/plain": [
       "array([[0, 0, 0],\n",
       "       [1, 1, 1],\n",
       "       [2, 2, 2],\n",
       "       [3, 3, 3],\n",
       "       [4, 4, 4]])"
      ]
     },
     "execution_count": 103,
     "metadata": {},
     "output_type": "execute_result"
    }
   ],
   "source": [
    "y"
   ]
  },
  {
   "cell_type": "code",
   "execution_count": 104,
   "id": "c079e64c-15bc-4db2-88d8-e01cb75f8c1d",
   "metadata": {},
   "outputs": [
    {
     "data": {
      "text/plain": [
       "[[(0, 0), (1, 0), (2, 0)],\n",
       " [(0, 1), (1, 1), (2, 1)],\n",
       " [(0, 2), (1, 2), (2, 2)],\n",
       " [(0, 3), (1, 3), (2, 3)],\n",
       " [(0, 4), (1, 4), (2, 4)]]"
      ]
     },
     "execution_count": 104,
     "metadata": {},
     "output_type": "execute_result"
    }
   ],
   "source": [
    "[list(zip(x,y)) for x,y in zip(x,y)]"
   ]
  },
  {
   "cell_type": "code",
   "execution_count": 105,
   "id": "d14a44d0-c44f-46b7-a45c-29317d98104d",
   "metadata": {},
   "outputs": [],
   "source": [
    "arr1=np.array([1,2,3])"
   ]
  },
  {
   "cell_type": "code",
   "execution_count": 106,
   "id": "3c803d68-8138-4953-b483-57f2a70edb27",
   "metadata": {},
   "outputs": [],
   "source": [
    "arr2=np.array([11,21,31])"
   ]
  },
  {
   "cell_type": "code",
   "execution_count": 107,
   "id": "f84e93ff-f479-4df8-b7e5-5e395fb26a80",
   "metadata": {},
   "outputs": [
    {
     "data": {
      "text/plain": [
       "array([ 1,  2,  3, 11, 21, 31])"
      ]
     },
     "execution_count": 107,
     "metadata": {},
     "output_type": "execute_result"
    }
   ],
   "source": [
    "np.concatenate([arr1,arr2])"
   ]
  },
  {
   "cell_type": "code",
   "execution_count": 108,
   "id": "573e6269-118a-4264-8daf-62515e234c23",
   "metadata": {},
   "outputs": [
    {
     "data": {
      "text/plain": [
       "array([ 1,  2,  3, 11, 21, 31])"
      ]
     },
     "execution_count": 108,
     "metadata": {},
     "output_type": "execute_result"
    }
   ],
   "source": [
    "np.concatenate((arr1,arr2))"
   ]
  },
  {
   "cell_type": "code",
   "execution_count": 115,
   "id": "8b2302d9-ff95-41dc-94bb-b0b0da9aa5d2",
   "metadata": {},
   "outputs": [
    {
     "data": {
      "text/plain": [
       "array([0, 1, 2, 3, 4, 5])"
      ]
     },
     "execution_count": 115,
     "metadata": {},
     "output_type": "execute_result"
    }
   ],
   "source": [
    "np.arange(0,6)\n",
    "np.arange(10,16)\n",
    "np.arange(20,26)"
   ]
  },
  {
   "cell_type": "code",
   "execution_count": 120,
   "id": "92ffaf1d-2c99-483e-bf83-083567827892",
   "metadata": {},
   "outputs": [],
   "source": [
    "for i in range(6):\n",
    "    arr=np.arange(0+i*10,6+i*10))"
   ]
  },
  {
   "cell_type": "code",
   "execution_count": 121,
   "id": "21e2fe18-30e9-4340-94b3-75ee69be5331",
   "metadata": {},
   "outputs": [
    {
     "data": {
      "text/plain": [
       "array([50, 51, 52, 53, 54, 55])"
      ]
     },
     "execution_count": 121,
     "metadata": {},
     "output_type": "execute_result"
    }
   ],
   "source": [
    "res"
   ]
  },
  {
   "cell_type": "code",
   "execution_count": 122,
   "id": "1f8b6e3a-464d-4a10-9415-62dd62558a19",
   "metadata": {},
   "outputs": [],
   "source": [
    "import numpy as np\n",
    "\n",
    "arrays = []\n",
    "for i in range(6):\n",
    "    arr = np.arange(0 + i * 10, 6 + i * 10)\n",
    "    arrays.append(arr)"
   ]
  },
  {
   "cell_type": "code",
   "execution_count": 123,
   "id": "80083806-63cb-4b93-969e-0375561e7702",
   "metadata": {},
   "outputs": [
    {
     "data": {
      "text/plain": [
       "[array([0, 1, 2, 3, 4, 5]),\n",
       " array([10, 11, 12, 13, 14, 15]),\n",
       " array([20, 21, 22, 23, 24, 25]),\n",
       " array([30, 31, 32, 33, 34, 35]),\n",
       " array([40, 41, 42, 43, 44, 45]),\n",
       " array([50, 51, 52, 53, 54, 55])]"
      ]
     },
     "execution_count": 123,
     "metadata": {},
     "output_type": "execute_result"
    }
   ],
   "source": [
    "arrays"
   ]
  },
  {
   "cell_type": "code",
   "execution_count": 127,
   "id": "22c8b7d7-ee37-4c37-9814-60df4d1576d7",
   "metadata": {},
   "outputs": [
    {
     "data": {
      "text/plain": [
       "array([[ 0,  1,  2,  3,  4,  5],\n",
       "       [10, 11, 12, 13, 14, 15],\n",
       "       [20, 21, 22, 23, 24, 25],\n",
       "       [30, 31, 32, 33, 34, 35],\n",
       "       [40, 41, 42, 43, 44, 45],\n",
       "       [50, 51, 52, 53, 54, 55]])"
      ]
     },
     "execution_count": 127,
     "metadata": {},
     "output_type": "execute_result"
    }
   ],
   "source": [
    "arrays = []\n",
    "for i in range(6):\n",
    "    arr = np.arange(0 + i * 10, 6 + i * 10)\n",
    "    arrays.append(arr)\n",
    "\n",
    "res = np.concatenate(arrays)\n",
    "res.reshape(6,6)"
   ]
  },
  {
   "cell_type": "code",
   "execution_count": 128,
   "id": "b911f2b4-5379-4e6a-9c23-e6f3d318b73f",
   "metadata": {},
   "outputs": [],
   "source": [
    "a=np.arange(1,5)\n",
    "b=np.array([4,2,2,4])"
   ]
  },
  {
   "cell_type": "code",
   "execution_count": 129,
   "id": "dd74e328-206c-4a9f-bdd1-712d159e6d45",
   "metadata": {},
   "outputs": [
    {
     "data": {
      "text/plain": [
       "array([1, 2, 3, 4])"
      ]
     },
     "execution_count": 129,
     "metadata": {},
     "output_type": "execute_result"
    }
   ],
   "source": [
    "a"
   ]
  },
  {
   "cell_type": "code",
   "execution_count": 130,
   "id": "e64d233c-cbb3-4ea4-af9a-1438c2ac6a67",
   "metadata": {},
   "outputs": [
    {
     "data": {
      "text/plain": [
       "array([4, 2, 2, 4])"
      ]
     },
     "execution_count": 130,
     "metadata": {},
     "output_type": "execute_result"
    }
   ],
   "source": [
    "b"
   ]
  },
  {
   "cell_type": "code",
   "execution_count": 131,
   "id": "748fd96f-6507-4fa5-a198-680af7ae29ed",
   "metadata": {},
   "outputs": [
    {
     "data": {
      "text/plain": [
       "array([False,  True,  True,  True])"
      ]
     },
     "execution_count": 131,
     "metadata": {},
     "output_type": "execute_result"
    }
   ],
   "source": [
    "a>=b"
   ]
  },
  {
   "cell_type": "code",
   "execution_count": 132,
   "id": "d0971790-6a47-4388-90a7-b9bc6724633b",
   "metadata": {},
   "outputs": [
    {
     "data": {
      "text/plain": [
       "False"
      ]
     },
     "execution_count": 132,
     "metadata": {},
     "output_type": "execute_result"
    }
   ],
   "source": [
    "np.all(a>=b) # 각 요소들을 일일이 비교하는게 아니라, 배열의 모든 요소에 대해 조건을 만족하는지"
   ]
  },
  {
   "cell_type": "code",
   "execution_count": 133,
   "id": "b867ac66-0803-4b76-94e6-2c0af1d4e10b",
   "metadata": {},
   "outputs": [],
   "source": [
    "# 벡터(행렬)끼리 연산하려면 크기가 동일해야함\n",
    "# 브로드캐스팅: 벡터(행렬)의 크기가 다르더도 연산이 가능하도록 \n",
    "# 크기를 동일하게 해주는 작업\n",
    "벡터     스칼라\n",
    "1                      11\n",
    "2    +    10   =       12\n",
    "3                      13\n",
    "4                      14"
   ]
  },
  {
   "cell_type": "code",
   "execution_count": 142,
   "id": "504a1bca-8553-4348-a1dd-5f3e7cc41474",
   "metadata": {},
   "outputs": [
    {
     "data": {
      "text/plain": [
       "array([0, 1, 2, 3, 4])"
      ]
     },
     "execution_count": 142,
     "metadata": {},
     "output_type": "execute_result"
    }
   ],
   "source": [
    "x=np.arange(5)\n",
    "x"
   ]
  },
  {
   "cell_type": "code",
   "execution_count": 135,
   "id": "a0ef380f-8fcb-42b1-bc5d-5eda72dbf18a",
   "metadata": {},
   "outputs": [],
   "source": [
    "y=10"
   ]
  },
  {
   "cell_type": "code",
   "execution_count": 136,
   "id": "504cce62-8242-4304-90c8-0f5fa2185382",
   "metadata": {},
   "outputs": [
    {
     "data": {
      "text/plain": [
       "array([11, 12, 13, 14])"
      ]
     },
     "execution_count": 136,
     "metadata": {},
     "output_type": "execute_result"
    }
   ],
   "source": [
    "x+y"
   ]
  },
  {
   "cell_type": "code",
   "execution_count": null,
   "id": "94554a46-d75e-41bb-a9c0-b1112c4d7c11",
   "metadata": {},
   "outputs": [],
   "source": [
    "행렬         벡터\n",
    "0 1 2        10\n",
    "1 2 3     +  11\n",
    "3 4 5        12"
   ]
  },
  {
   "cell_type": "code",
   "execution_count": null,
   "id": "1908a4c7-bdc8-4b23-9020-a01021304c52",
   "metadata": {},
   "outputs": [],
   "source": [
    "행렬(2)    벡터(1)->행렬(2)\n",
    "0 1 2      10 10 10    10 11 12\n",
    "1 2 3  +   11 11 11 =     ...\n",
    "3 4 5      12 12 12"
   ]
  },
  {
   "cell_type": "code",
   "execution_count": null,
   "id": "f9a69fbe-bf08-4b82-ba84-53f8a3bfb885",
   "metadata": {},
   "outputs": [],
   "source": [
    "행렬(2)    벡터(1)->행렬(2)\n",
    "0 1 2      10 11 12    \n",
    "1 2 3  +   10 11 12 =     ...\n",
    "3 4 5      10 11 12"
   ]
  },
  {
   "cell_type": "code",
   "execution_count": 143,
   "id": "898bcd91-8112-4c29-8dc5-aaaed354b8c8",
   "metadata": {},
   "outputs": [],
   "source": [
    "y=np.ones_like(x)"
   ]
  },
  {
   "cell_type": "code",
   "execution_count": 145,
   "id": "606a7fa7-4a91-43fa-97c2-713e5ab1b5c5",
   "metadata": {},
   "outputs": [
    {
     "data": {
      "text/plain": [
       "array([1, 2, 3])"
      ]
     },
     "execution_count": 145,
     "metadata": {},
     "output_type": "execute_result"
    }
   ],
   "source": [
    "np.arange(3)"
   ]
  },
  {
   "cell_type": "code",
   "execution_count": 146,
   "id": "bece7d26-08ff-4dfc-a82d-0cb2cff07b39",
   "metadata": {},
   "outputs": [
    {
     "data": {
      "text/plain": [
       "array([0, 1, 2, 3, 4])"
      ]
     },
     "execution_count": 146,
     "metadata": {},
     "output_type": "execute_result"
    }
   ],
   "source": [
    "np.arange(5)"
   ]
  },
  {
   "cell_type": "code",
   "execution_count": 149,
   "id": "e1fd54ff-3989-4bb5-9d21-91da59dd2d70",
   "metadata": {},
   "outputs": [],
   "source": [
    "x,y=np.meshgrid(np.arange(3),np.arange(5))\n",
    "x+y"
   ]
  },
  {
   "cell_type": "code",
   "execution_count": 150,
   "id": "76aa181b-a230-47f9-af14-1b680101ff2e",
   "metadata": {},
   "outputs": [
    {
     "data": {
      "text/plain": [
       "array([[0, 1, 2],\n",
       "       [1, 2, 3],\n",
       "       [2, 3, 4],\n",
       "       [3, 4, 5],\n",
       "       [4, 5, 6]])"
      ]
     },
     "execution_count": 150,
     "metadata": {},
     "output_type": "execute_result"
    }
   ],
   "source": [
    "x+y"
   ]
  },
  {
   "cell_type": "code",
   "execution_count": 152,
   "id": "bf013d80-ad8b-43fe-980c-e4f6c315d6bb",
   "metadata": {},
   "outputs": [
    {
     "data": {
      "text/plain": [
       "[range(0, 3), range(1, 4), range(2, 5), range(3, 6), range(4, 7)]"
      ]
     },
     "execution_count": 152,
     "metadata": {},
     "output_type": "execute_result"
    }
   ],
   "source": [
    "[range(7)[i:i+3] for i in range(5)]"
   ]
  },
  {
   "cell_type": "code",
   "execution_count": 153,
   "id": "6030b949-3772-4d3a-a269-d4ac09346301",
   "metadata": {},
   "outputs": [
    {
     "data": {
      "text/plain": [
       "array([[0, 1, 2],\n",
       "       [1, 2, 3],\n",
       "       [2, 3, 4],\n",
       "       [3, 4, 5],\n",
       "       [4, 5, 6]])"
      ]
     },
     "execution_count": 153,
     "metadata": {},
     "output_type": "execute_result"
    }
   ],
   "source": [
    "np.vstack([range(7)[i:i+3] for i in range(5)])"
   ]
  },
  {
   "cell_type": "code",
   "execution_count": 156,
   "id": "c68a337c-3dae-469c-9e0d-cf7b06d3e8bc",
   "metadata": {},
   "outputs": [
    {
     "data": {
      "text/plain": [
       "array([[ 1,  2,  3,  4,  5],\n",
       "       [10,  9,  8,  7,  6],\n",
       "       [11, 12, 13, 14, 15],\n",
       "       [20, 19, 18, 17, 16],\n",
       "       [21, 22, 23, 24, 25]])"
      ]
     },
     "execution_count": 156,
     "metadata": {},
     "output_type": "execute_result"
    }
   ],
   "source": [
    "import numpy as np\n",
    "\n",
    "arr = np.zeros((5, 5), dtype=int)\n",
    "\n",
    "#짝수행\n",
    "for i in range(0, 5, 2):\n",
    "    arr[i] = np.arange(1 + i * 5, 6 + i * 5)\n",
    "\n",
    "#홀수행\n",
    "for i in range(1, 5, 2):\n",
    "    arr[i] = np.arange(1 + i * 5, 6 + i * 5)[::-1]\n",
    "\n",
    "arr"
   ]
  },
  {
   "cell_type": "code",
   "execution_count": null,
   "id": "dd5a45ca-25cd-470b-9d6f-8e72a7bd4722",
   "metadata": {},
   "outputs": [],
   "source": []
  }
 ],
 "metadata": {
  "kernelspec": {
   "display_name": "Python 3 (ipykernel)",
   "language": "python",
   "name": "python3"
  },
  "language_info": {
   "codemirror_mode": {
    "name": "ipython",
    "version": 3
   },
   "file_extension": ".py",
   "mimetype": "text/x-python",
   "name": "python",
   "nbconvert_exporter": "python",
   "pygments_lexer": "ipython3",
   "version": "3.11.7"
  }
 },
 "nbformat": 4,
 "nbformat_minor": 5
}
