{
 "cells": [
  {
   "cell_type": "code",
   "execution_count": 1,
   "id": "d2486c6f-0044-4047-9d95-498531a103a8",
   "metadata": {},
   "outputs": [],
   "source": [
    "import numpy as np"
   ]
  },
  {
   "cell_type": "code",
   "execution_count": 2,
   "id": "921eda6f-b8c2-470b-9a6b-6149c8813702",
   "metadata": {},
   "outputs": [],
   "source": [
    "arr=np.array([1,2,3,4])"
   ]
  },
  {
   "cell_type": "code",
   "execution_count": 3,
   "id": "60dd903b-bac7-47f3-adcd-3cf5027c6dd9",
   "metadata": {},
   "outputs": [
    {
     "data": {
      "text/plain": [
       "dtype('int32')"
      ]
     },
     "execution_count": 3,
     "metadata": {},
     "output_type": "execute_result"
    }
   ],
   "source": [
    "arr.dtype"
   ]
  },
  {
   "cell_type": "code",
   "execution_count": 4,
   "id": "633d23a1-ffe3-472b-b788-8234cb8668c1",
   "metadata": {},
   "outputs": [
    {
     "data": {
      "text/plain": [
       "numpy.ndarray"
      ]
     },
     "execution_count": 4,
     "metadata": {},
     "output_type": "execute_result"
    }
   ],
   "source": [
    "type(arr)"
   ]
  },
  {
   "cell_type": "code",
   "execution_count": 6,
   "id": "e4ff1fc6-2ba0-4280-b214-ee4c3dc79792",
   "metadata": {},
   "outputs": [
    {
     "data": {
      "text/plain": [
       "dtype('<U6')"
      ]
     },
     "execution_count": 6,
     "metadata": {},
     "output_type": "execute_result"
    }
   ],
   "source": [
    "arr=np.array(['apple','cherry', 'banana'])\n",
    "arr.dtype"
   ]
  },
  {
   "cell_type": "code",
   "execution_count": 7,
   "id": "85003aca-1c82-4706-ae65-f12fe75a2709",
   "metadata": {},
   "outputs": [],
   "source": [
    "#<U6 ? unicode"
   ]
  },
  {
   "cell_type": "code",
   "execution_count": 14,
   "id": "be7570b5-4fce-468f-bd32-23ad25da181c",
   "metadata": {},
   "outputs": [
    {
     "data": {
      "text/plain": [
       "dtype('float16')"
      ]
     },
     "execution_count": 14,
     "metadata": {},
     "output_type": "execute_result"
    }
   ],
   "source": [
    "arr=np.array([1,2,3], dtype=np.float16) #16bit\n",
    "arr.dtype"
   ]
  },
  {
   "cell_type": "code",
   "execution_count": 15,
   "id": "16510998-0272-4e0a-9c3a-56a4ff7dfda5",
   "metadata": {},
   "outputs": [
    {
     "data": {
      "text/plain": [
       "dtype('int16')"
      ]
     },
     "execution_count": 15,
     "metadata": {},
     "output_type": "execute_result"
    }
   ],
   "source": [
    "arr=np.array([1,2,3], dtype=np.int16) #16bit\n",
    "arr.dtype"
   ]
  },
  {
   "cell_type": "code",
   "execution_count": 16,
   "id": "e4dfe9f7-55f2-4051-a482-a63416a0bf7f",
   "metadata": {},
   "outputs": [
    {
     "data": {
      "text/plain": [
       "dtype('int8')"
      ]
     },
     "execution_count": 16,
     "metadata": {},
     "output_type": "execute_result"
    }
   ],
   "source": [
    "arr=np.array([1,2,3], dtype=np.int8) #8bit\n",
    "arr.dtype"
   ]
  },
  {
   "cell_type": "code",
   "execution_count": 19,
   "id": "26fbc7fb-4d55-42f9-8b58-f7205936d5a3",
   "metadata": {},
   "outputs": [
    {
     "data": {
      "text/plain": [
       "dtype('float64')"
      ]
     },
     "execution_count": 19,
     "metadata": {},
     "output_type": "execute_result"
    }
   ],
   "source": [
    "arr=np.array([1,2,3], dtype=np.float64) #64bit\n",
    "arr.dtype\n",
    "#64비트 float 수의 범위 = 4.9 * 10의 -324승 ~ 1.79 * 10의 308승\n",
    "#32비트 float 수의 범위 = 1.4 * 10의 -45승 ~ 3.4 * 10의 38승\n",
    "\n",
    "#32비트 int 수의 범위 = -21억 ~ 21억\n",
    "#64비트 int 수의 범위 = -922경 ~ 922경"
   ]
  },
  {
   "cell_type": "code",
   "execution_count": 18,
   "id": "513f0c50-f075-4f55-b1f5-7b7b1d103550",
   "metadata": {},
   "outputs": [
    {
     "data": {
      "text/plain": [
       "array([1., 2., 3.])"
      ]
     },
     "execution_count": 18,
     "metadata": {},
     "output_type": "execute_result"
    }
   ],
   "source": [
    "arr"
   ]
  },
  {
   "cell_type": "code",
   "execution_count": 23,
   "id": "171f857c-c86c-404f-b68e-c20cfb1f212c",
   "metadata": {},
   "outputs": [],
   "source": [
    "arr=np.array([1,2,3, -128], dtype=np.int8) #8bit:-128~127"
   ]
  },
  {
   "cell_type": "code",
   "execution_count": 26,
   "id": "3e664013-d145-4e8f-93d5-3e42897b27c1",
   "metadata": {},
   "outputs": [
    {
     "data": {
      "text/plain": [
       "array([   1,    2,    3, -128], dtype=int8)"
      ]
     },
     "execution_count": 26,
     "metadata": {},
     "output_type": "execute_result"
    }
   ],
   "source": [
    "arr=np.array([1,2,3, -128], dtype='i1') #i바이트\n",
    "arr"
   ]
  },
  {
   "cell_type": "code",
   "execution_count": 28,
   "id": "99d48435-5575-4d33-be3a-52b558240f65",
   "metadata": {},
   "outputs": [
    {
     "data": {
      "text/plain": [
       "dtype('int32')"
      ]
     },
     "execution_count": 28,
     "metadata": {},
     "output_type": "execute_result"
    }
   ],
   "source": [
    "arr=np.array([1,2,3])\n",
    "arr\n",
    "arr.dtype"
   ]
  },
  {
   "cell_type": "code",
   "execution_count": 29,
   "id": "d880aee3-4f1d-4471-92b6-9302049eae0a",
   "metadata": {},
   "outputs": [
    {
     "data": {
      "text/plain": [
       "array([1., 2., 3.], dtype=float32)"
      ]
     },
     "execution_count": 29,
     "metadata": {},
     "output_type": "execute_result"
    }
   ],
   "source": [
    "farr=arr.astype(np.float32)  # type 변경\n",
    "farr"
   ]
  },
  {
   "cell_type": "code",
   "execution_count": 33,
   "id": "9134f927-4375-4a23-a573-a995219defc3",
   "metadata": {},
   "outputs": [],
   "source": [
    "arr=np.array([1,2,3, -128], dtype=np.int8) #8bit:-128~127"
   ]
  },
  {
   "cell_type": "code",
   "execution_count": 31,
   "id": "f1a49216-4315-4d72-9968-6c6c373f8879",
   "metadata": {},
   "outputs": [
    {
     "data": {
      "text/plain": [
       "array([   1,    2,    3, -128], dtype=int8)"
      ]
     },
     "execution_count": 31,
     "metadata": {},
     "output_type": "execute_result"
    }
   ],
   "source": [
    "arr"
   ]
  },
  {
   "cell_type": "code",
   "execution_count": 34,
   "id": "e087adce-92c1-4bdf-aa11-3e137737359b",
   "metadata": {},
   "outputs": [],
   "source": [
    "imyList=[1,2,3]\n",
    "cmyList=[1,2,'3']"
   ]
  },
  {
   "cell_type": "code",
   "execution_count": 36,
   "id": "9c953bc6-7394-4223-b4ef-ef5576653087",
   "metadata": {},
   "outputs": [
    {
     "data": {
      "text/plain": [
       "array([1, 2, 3])"
      ]
     },
     "execution_count": 36,
     "metadata": {},
     "output_type": "execute_result"
    }
   ],
   "source": [
    "np.array(imyList)"
   ]
  },
  {
   "cell_type": "code",
   "execution_count": 38,
   "id": "6cb0b939-7544-4a0f-852d-f8a56afecfd5",
   "metadata": {},
   "outputs": [
    {
     "data": {
      "text/plain": [
       "array(['1', '2', '3'], dtype='<U11')"
      ]
     },
     "execution_count": 38,
     "metadata": {},
     "output_type": "execute_result"
    }
   ],
   "source": [
    "np.array(cmyList)\n",
    "# 배열 : 동일한 타입(크기도 같고)의 데이터를 여러개 나열한 것"
   ]
  },
  {
   "cell_type": "code",
   "execution_count": 40,
   "id": "31804940-b851-42bd-b368-7bc22e08c908",
   "metadata": {},
   "outputs": [],
   "source": [
    "arr1=np.array([[10,11],[12,13]])\n",
    "arr2=np.array([[10,11],[12,13]])"
   ]
  },
  {
   "cell_type": "code",
   "execution_count": 41,
   "id": "562488ec-c6be-41d8-bdb2-3868f97aa6d9",
   "metadata": {},
   "outputs": [
    {
     "data": {
      "text/plain": [
       "array([[0, 0],\n",
       "       [0, 0]])"
      ]
     },
     "execution_count": 41,
     "metadata": {},
     "output_type": "execute_result"
    }
   ],
   "source": [
    "arr1-arr2 # 넘파이 배열은 요소간 연산 => 동일한 크기의 배열"
   ]
  },
  {
   "cell_type": "code",
   "execution_count": 42,
   "id": "9cf16f59-e248-406a-ae11-0cd633298f77",
   "metadata": {},
   "outputs": [
    {
     "data": {
      "text/plain": [
       "array([[20, 22],\n",
       "       [24, 26]])"
      ]
     },
     "execution_count": 42,
     "metadata": {},
     "output_type": "execute_result"
    }
   ],
   "source": [
    "arr1*2 # 숫자와 연산을 할 때는 모든 항목에 동일한 연산"
   ]
  },
  {
   "cell_type": "code",
   "execution_count": 43,
   "id": "ae07beb3-f86d-4c5a-8048-bd5b1bca3eb4",
   "metadata": {},
   "outputs": [
    {
     "data": {
      "text/plain": [
       "array([[100, 121],\n",
       "       [144, 169]])"
      ]
     },
     "execution_count": 43,
     "metadata": {},
     "output_type": "execute_result"
    }
   ],
   "source": [
    "arr1*arr2 #주의: 행렬의 곱셈(matrix muliply, matumul)이 아님,\n",
    "# 요소간 곱셈(element-wise product)"
   ]
  },
  {
   "cell_type": "code",
   "execution_count": 45,
   "id": "68772320-c04e-4e74-ae0e-f22f1a5e62ee",
   "metadata": {},
   "outputs": [
    {
     "data": {
      "text/plain": [
       "array([[10, 11],\n",
       "       [12, 13]])"
      ]
     },
     "execution_count": 45,
     "metadata": {},
     "output_type": "execute_result"
    }
   ],
   "source": [
    "arr1=np.array(list(range(10,14))).reshape(2,2)\n",
    "arr1"
   ]
  },
  {
   "cell_type": "code",
   "execution_count": 47,
   "id": "c8e8bc5f-13a5-4f18-8ae2-12e300e21db8",
   "metadata": {},
   "outputs": [
    {
     "data": {
      "text/plain": [
       "array([[13, 14],\n",
       "       [15, 16]])"
      ]
     },
     "execution_count": 47,
     "metadata": {},
     "output_type": "execute_result"
    }
   ],
   "source": [
    "arr2=np.array(list(range(13,17))).reshape(2,2)\n",
    "arr2"
   ]
  },
  {
   "cell_type": "code",
   "execution_count": 48,
   "id": "4c6f57ae-61bc-43c7-926b-fecc2bfeba6e",
   "metadata": {},
   "outputs": [
    {
     "data": {
      "text/plain": [
       "array([[False, False],\n",
       "       [False, False]])"
      ]
     },
     "execution_count": 48,
     "metadata": {},
     "output_type": "execute_result"
    }
   ],
   "source": [
    "arr1>arr2"
   ]
  },
  {
   "cell_type": "code",
   "execution_count": 49,
   "id": "c1fa3295-ec8b-4463-bc2b-a180822078d3",
   "metadata": {},
   "outputs": [
    {
     "data": {
      "text/plain": [
       "array([[False, False],\n",
       "       [False, False]])"
      ]
     },
     "execution_count": 49,
     "metadata": {},
     "output_type": "execute_result"
    }
   ],
   "source": [
    "arr1==arr2"
   ]
  },
  {
   "cell_type": "code",
   "execution_count": 52,
   "id": "2c37c701-06d4-414f-bdfc-f9d188341149",
   "metadata": {},
   "outputs": [
    {
     "data": {
      "text/plain": [
       "array([[ True,  True],\n",
       "       [ True,  True]])"
      ]
     },
     "execution_count": 52,
     "metadata": {},
     "output_type": "execute_result"
    }
   ],
   "source": [
    "~(arr1==arr2) # ~는 not연산자"
   ]
  },
  {
   "cell_type": "code",
   "execution_count": 55,
   "id": "3590ed2e-e95a-4095-95bd-cf6f5bbe53e5",
   "metadata": {},
   "outputs": [
    {
     "data": {
      "text/plain": [
       "array([[ True,  True],\n",
       "       [ True,  True]])"
      ]
     },
     "execution_count": 55,
     "metadata": {},
     "output_type": "execute_result"
    }
   ],
   "source": [
    "arr1!=arr2 # 같지않다 !="
   ]
  },
  {
   "cell_type": "code",
   "execution_count": 57,
   "id": "f66c9e71-2991-4f5e-8680-b6118d7d163c",
   "metadata": {},
   "outputs": [
    {
     "data": {
      "text/plain": [
       "array([[ True,  True],\n",
       "       [ True,  True]])"
      ]
     },
     "execution_count": 57,
     "metadata": {},
     "output_type": "execute_result"
    }
   ],
   "source": [
    "(~(arr1==arr2)) | (~(arr1!=arr2))\n",
    "#    행렬      OR      행렬    => 요소간 OR연산\n",
    "# OR연산자는 둘 중 하나 이상이 TRUE -> TRUE"
   ]
  },
  {
   "cell_type": "code",
   "execution_count": 59,
   "id": "af643875-aaf1-48d8-a820-eaeb5083b9d9",
   "metadata": {},
   "outputs": [
    {
     "data": {
      "text/plain": [
       "array([0, 1, 2, 3, 4, 5, 6, 7])"
      ]
     },
     "execution_count": 59,
     "metadata": {},
     "output_type": "execute_result"
    }
   ],
   "source": [
    "np.arange(8) #np.array(list(range(8)))"
   ]
  },
  {
   "cell_type": "code",
   "execution_count": 60,
   "id": "a4f3f9ec-4256-4f19-bb55-7943bedacbd1",
   "metadata": {},
   "outputs": [
    {
     "data": {
      "text/plain": [
       "array([[0, 1],\n",
       "       [2, 3],\n",
       "       [4, 5],\n",
       "       [6, 7]])"
      ]
     },
     "execution_count": 60,
     "metadata": {},
     "output_type": "execute_result"
    }
   ],
   "source": [
    "np.arange(8).reshape(4,2)"
   ]
  },
  {
   "cell_type": "code",
   "execution_count": 61,
   "id": "fb168cc2-f5c7-49c5-9c4b-30e9af57a844",
   "metadata": {},
   "outputs": [
    {
     "data": {
      "text/plain": [
       "array([[[0, 1],\n",
       "        [2, 3]],\n",
       "\n",
       "       [[4, 5],\n",
       "        [6, 7]]])"
      ]
     },
     "execution_count": 61,
     "metadata": {},
     "output_type": "execute_result"
    }
   ],
   "source": [
    "np.arange(8).reshape(2,2,2)"
   ]
  },
  {
   "cell_type": "code",
   "execution_count": 65,
   "id": "a7cb97ea-92a0-438f-b148-f351b8e12bb4",
   "metadata": {},
   "outputs": [
    {
     "data": {
      "text/plain": [
       "array([[[ 1,  2,  3,  4],\n",
       "        [ 5,  6,  7,  8],\n",
       "        [ 9, 10, 11, 12]],\n",
       "\n",
       "       [[13, 14, 15, 16],\n",
       "        [17, 18, 19, 20],\n",
       "        [21, 22, 23, 24]]])"
      ]
     },
     "execution_count": 65,
     "metadata": {},
     "output_type": "execute_result"
    }
   ],
   "source": [
    "np.arange(1,25).reshape(2,3,4)\n",
    "np.array(list(range(1,25))).reshape(2,3,4)"
   ]
  },
  {
   "cell_type": "code",
   "execution_count": 66,
   "id": "69fc3c1d-c296-4f4d-a569-77b50ecb164b",
   "metadata": {},
   "outputs": [
    {
     "data": {
      "text/plain": [
       "array([[[ 1,  2,  3,  4],\n",
       "        [ 5,  6,  7,  8],\n",
       "        [ 9, 10, 11, 12]],\n",
       "\n",
       "       [[13, 14, 15, 16],\n",
       "        [17, 18, 19, 20],\n",
       "        [21, 22, 23, 24]]])"
      ]
     },
     "execution_count": 66,
     "metadata": {},
     "output_type": "execute_result"
    }
   ],
   "source": [
    "np.array(range(1,25)).reshape(2,3,4)"
   ]
  },
  {
   "cell_type": "code",
   "execution_count": 67,
   "id": "ccbf68cb-3b1d-4d20-9be4-b81a2157aa25",
   "metadata": {},
   "outputs": [],
   "source": [
    "data=np.arange(200)"
   ]
  },
  {
   "cell_type": "code",
   "execution_count": 73,
   "id": "7358f4c7-b7a8-4acc-8977-d9c780e103a8",
   "metadata": {},
   "outputs": [
    {
     "data": {
      "text/plain": [
       "(5, 40)"
      ]
     },
     "execution_count": 73,
     "metadata": {},
     "output_type": "execute_result"
    }
   ],
   "source": [
    "data2=data.reshape(5,-1)\n",
    "data2.shape"
   ]
  },
  {
   "cell_type": "code",
   "execution_count": 74,
   "id": "758b4519-233b-4145-a84b-d74bc6c61f5f",
   "metadata": {},
   "outputs": [
    {
     "ename": "ValueError",
     "evalue": "cannot reshape array of size 200 into shape (6,newaxis)",
     "output_type": "error",
     "traceback": [
      "\u001b[1;31m---------------------------------------------------------------------------\u001b[0m",
      "\u001b[1;31mValueError\u001b[0m                                Traceback (most recent call last)",
      "Cell \u001b[1;32mIn[74], line 1\u001b[0m\n\u001b[1;32m----> 1\u001b[0m data3\u001b[38;5;241m=\u001b[39mdata\u001b[38;5;241m.\u001b[39mreshape(\u001b[38;5;241m6\u001b[39m,\u001b[38;5;241m-\u001b[39m\u001b[38;5;241m1\u001b[39m)\n\u001b[0;32m      2\u001b[0m data3\n",
      "\u001b[1;31mValueError\u001b[0m: cannot reshape array of size 200 into shape (6,newaxis)"
     ]
    }
   ],
   "source": [
    "data3=data.reshape(6,-1)\n",
    "data3"
   ]
  },
  {
   "cell_type": "code",
   "execution_count": 76,
   "id": "2cc2e4c2-ba8b-4bed-b00d-7d472ec37d6e",
   "metadata": {},
   "outputs": [
    {
     "data": {
      "text/plain": [
       "array([[  0,   1,   2,   3,   4,   5,   6,   7,   8,   9],\n",
       "       [ 10,  11,  12,  13,  14,  15,  16,  17,  18,  19],\n",
       "       [ 20,  21,  22,  23,  24,  25,  26,  27,  28,  29],\n",
       "       [ 30,  31,  32,  33,  34,  35,  36,  37,  38,  39],\n",
       "       [ 40,  41,  42,  43,  44,  45,  46,  47,  48,  49],\n",
       "       [ 50,  51,  52,  53,  54,  55,  56,  57,  58,  59],\n",
       "       [ 60,  61,  62,  63,  64,  65,  66,  67,  68,  69],\n",
       "       [ 70,  71,  72,  73,  74,  75,  76,  77,  78,  79],\n",
       "       [ 80,  81,  82,  83,  84,  85,  86,  87,  88,  89],\n",
       "       [ 90,  91,  92,  93,  94,  95,  96,  97,  98,  99],\n",
       "       [100, 101, 102, 103, 104, 105, 106, 107, 108, 109],\n",
       "       [110, 111, 112, 113, 114, 115, 116, 117, 118, 119],\n",
       "       [120, 121, 122, 123, 124, 125, 126, 127, 128, 129],\n",
       "       [130, 131, 132, 133, 134, 135, 136, 137, 138, 139],\n",
       "       [140, 141, 142, 143, 144, 145, 146, 147, 148, 149],\n",
       "       [150, 151, 152, 153, 154, 155, 156, 157, 158, 159],\n",
       "       [160, 161, 162, 163, 164, 165, 166, 167, 168, 169],\n",
       "       [170, 171, 172, 173, 174, 175, 176, 177, 178, 179],\n",
       "       [180, 181, 182, 183, 184, 185, 186, 187, 188, 189],\n",
       "       [190, 191, 192, 193, 194, 195, 196, 197, 198, 199]])"
      ]
     },
     "execution_count": 76,
     "metadata": {},
     "output_type": "execute_result"
    }
   ],
   "source": [
    "data4=data.reshape(-1,10)\n",
    "data4"
   ]
  },
  {
   "cell_type": "code",
   "execution_count": 77,
   "id": "78d674a6-85ba-4e3e-8e9f-07e69fd1ce35",
   "metadata": {},
   "outputs": [
    {
     "data": {
      "text/plain": [
       "array([[[  0,   1,   2,   3,   4,   5,   6,   7,   8,   9],\n",
       "        [ 10,  11,  12,  13,  14,  15,  16,  17,  18,  19],\n",
       "        [ 20,  21,  22,  23,  24,  25,  26,  27,  28,  29],\n",
       "        [ 30,  31,  32,  33,  34,  35,  36,  37,  38,  39],\n",
       "        [ 40,  41,  42,  43,  44,  45,  46,  47,  48,  49]],\n",
       "\n",
       "       [[ 50,  51,  52,  53,  54,  55,  56,  57,  58,  59],\n",
       "        [ 60,  61,  62,  63,  64,  65,  66,  67,  68,  69],\n",
       "        [ 70,  71,  72,  73,  74,  75,  76,  77,  78,  79],\n",
       "        [ 80,  81,  82,  83,  84,  85,  86,  87,  88,  89],\n",
       "        [ 90,  91,  92,  93,  94,  95,  96,  97,  98,  99]],\n",
       "\n",
       "       [[100, 101, 102, 103, 104, 105, 106, 107, 108, 109],\n",
       "        [110, 111, 112, 113, 114, 115, 116, 117, 118, 119],\n",
       "        [120, 121, 122, 123, 124, 125, 126, 127, 128, 129],\n",
       "        [130, 131, 132, 133, 134, 135, 136, 137, 138, 139],\n",
       "        [140, 141, 142, 143, 144, 145, 146, 147, 148, 149]],\n",
       "\n",
       "       [[150, 151, 152, 153, 154, 155, 156, 157, 158, 159],\n",
       "        [160, 161, 162, 163, 164, 165, 166, 167, 168, 169],\n",
       "        [170, 171, 172, 173, 174, 175, 176, 177, 178, 179],\n",
       "        [180, 181, 182, 183, 184, 185, 186, 187, 188, 189],\n",
       "        [190, 191, 192, 193, 194, 195, 196, 197, 198, 199]]])"
      ]
     },
     "execution_count": 77,
     "metadata": {},
     "output_type": "execute_result"
    }
   ],
   "source": [
    "data.reshape(-1,5,10)"
   ]
  },
  {
   "cell_type": "code",
   "execution_count": 87,
   "id": "34578986-e972-49ea-bc19-1c5ebad123c4",
   "metadata": {},
   "outputs": [
    {
     "data": {
      "text/plain": [
       "array([[10, 12, 14, 16],\n",
       "       [18, 20, 22, 24],\n",
       "       [26, 28, 30, 32]])"
      ]
     },
     "execution_count": 87,
     "metadata": {},
     "output_type": "execute_result"
    }
   ],
   "source": [
    "np.arange(10,34,2).reshape(3,4)"
   ]
  },
  {
   "cell_type": "code",
   "execution_count": 90,
   "id": "269356b0-6ada-41f6-b2a4-595f165482c7",
   "metadata": {},
   "outputs": [],
   "source": [
    "#불린참조(팬시)\n",
    "\n",
    "arr=np.array([1,2,3,4])\n",
    "idx=np.array([True,False,False,True])"
   ]
  },
  {
   "cell_type": "code",
   "execution_count": 91,
   "id": "9b2b467f-e575-4a69-946b-f4b9e7c541a2",
   "metadata": {},
   "outputs": [
    {
     "data": {
      "text/plain": [
       "array([1, 4])"
      ]
     },
     "execution_count": 91,
     "metadata": {},
     "output_type": "execute_result"
    }
   ],
   "source": [
    "arr[idx]"
   ]
  },
  {
   "cell_type": "code",
   "execution_count": null,
   "id": "3f7a668f-ba53-4924-9eb8-4f54586c9705",
   "metadata": {},
   "outputs": [],
   "source": []
  }
 ],
 "metadata": {
  "kernelspec": {
   "display_name": "Python 3 (ipykernel)",
   "language": "python",
   "name": "python3"
  },
  "language_info": {
   "codemirror_mode": {
    "name": "ipython",
    "version": 3
   },
   "file_extension": ".py",
   "mimetype": "text/x-python",
   "name": "python",
   "nbconvert_exporter": "python",
   "pygments_lexer": "ipython3",
   "version": "3.11.7"
  }
 },
 "nbformat": 4,
 "nbformat_minor": 5
}
