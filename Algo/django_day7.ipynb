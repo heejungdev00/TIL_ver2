{
 "cells": [
  {
   "cell_type": "code",
   "execution_count": 2,
   "id": "a2e9dece-ff6f-430c-a010-4481eb3aa118",
   "metadata": {},
   "outputs": [
    {
     "name": "stdin",
     "output_type": "stream",
     "text": [
      " 123123\n"
     ]
    },
    {
     "name": "stdout",
     "output_type": "stream",
     "text": [
      "Baby-gin\n"
     ]
    }
   ],
   "source": [
    "nums = input()\n",
    "nums = list(map(int, nums))\n",
    "nums.sort()\n",
    "check = 0\n",
    "for i in nums:\n",
    "    if(i+1 in nums and i+2 in nums):\n",
    "        nums.remove(i)\n",
    "        nums.remove(i+1)\n",
    "        nums.remove(i+2)\n",
    "        check += 1\n",
    "        break\n",
    "    elif(nums.count(i) >= 3):\n",
    "        nums.remove(i)\n",
    "        nums.remove(i)\n",
    "        nums.remove(i)\n",
    "        check += 1\n",
    "        break\n",
    "if(nums[0] == nums[1] == nums[2]):\n",
    "    check += 1\n",
    "elif(nums[0]+2 == nums[1]+1 == nums[2]):\n",
    "    check += 1\n",
    "if(check == 2):\n",
    "    print('Baby-gin')\n",
    "else:\n",
    "    print('baby-gin이 아님')"
   ]
  },
  {
   "cell_type": "code",
   "execution_count": 1,
   "id": "150e6dd8-0fb5-4bf1-8416-9d62d1065759",
   "metadata": {},
   "outputs": [
    {
     "data": {
      "text/plain": [
       "[7, 12, 42, 55, 78]"
      ]
     },
     "execution_count": 1,
     "metadata": {},
     "output_type": "execute_result"
    }
   ],
   "source": [
    "# 정렬문제\n",
    "nums = [55,7,78,12,42]\n",
    "for i in range(len(nums)-1):\n",
    "    for j in range(len(nums)-1):\n",
    "        if(nums[j] > nums[j+1]):\n",
    "            nums[j], nums[j+1] = nums[j+1], nums[j]\n",
    "nums"
   ]
  },
  {
   "cell_type": "code",
   "execution_count": 3,
   "id": "25239ffb-70f1-45e3-b9fc-40ce80c97105",
   "metadata": {},
   "outputs": [],
   "source": [
    "arr=[55,7,78,12,42]"
   ]
  },
  {
   "cell_type": "code",
   "execution_count": 4,
   "id": "8137a12c-610a-4ba1-a3a2-1f29417bcec4",
   "metadata": {},
   "outputs": [],
   "source": [
    "for i in range(len(arr)-1,0,-1):\n",
    "    for j in range(i):\n",
    "        if arr[j] > arr[j+1]:\n",
    "            arr[j], arr[j+1] = arr[j+1], arr[j]"
   ]
  },
  {
   "cell_type": "code",
   "execution_count": 5,
   "id": "efcd1425-afa2-4ecf-b1e1-ab30c912c587",
   "metadata": {},
   "outputs": [
    {
     "data": {
      "text/plain": [
       "[7, 12, 42, 55, 78]"
      ]
     },
     "execution_count": 5,
     "metadata": {},
     "output_type": "execute_result"
    }
   ],
   "source": [
    "arr"
   ]
  },
  {
   "cell_type": "code",
   "execution_count": 6,
   "id": "ad7518fa-cf44-4450-877c-1d6bb5da28f8",
   "metadata": {},
   "outputs": [],
   "source": [
    "arr=[0, 4, 1, 3, 1, 2, 4, 1]"
   ]
  },
  {
   "cell_type": "code",
   "execution_count": 8,
   "id": "c759fbf7-4b77-4e08-8bd4-6beb68d5c51a",
   "metadata": {},
   "outputs": [
    {
     "data": {
      "text/plain": [
       "3"
      ]
     },
     "execution_count": 8,
     "metadata": {},
     "output_type": "execute_result"
    }
   ],
   "source": [
    "arr.count(1)"
   ]
  },
  {
   "cell_type": "code",
   "execution_count": 9,
   "id": "8914b42d-8c9a-446a-aefa-3f9d57de8444",
   "metadata": {},
   "outputs": [
    {
     "data": {
      "text/plain": [
       "0"
      ]
     },
     "execution_count": 9,
     "metadata": {},
     "output_type": "execute_result"
    }
   ],
   "source": [
    "min(arr)"
   ]
  },
  {
   "cell_type": "code",
   "execution_count": 12,
   "id": "0797c4b7-c1dc-4aab-adc5-088d5c8a6d55",
   "metadata": {},
   "outputs": [
    {
     "data": {
      "text/plain": [
       "[0, 1, 1, 1, 2, 3, 4, 4]"
      ]
     },
     "execution_count": 12,
     "metadata": {},
     "output_type": "execute_result"
    }
   ],
   "source": [
    "count_dict = {i: arr.count(i) for i in range(min(arr), max(arr) + 1)}\n",
    "\n",
    "res = []\n",
    "for val, count in count_dict.items():\n",
    "    res.extend([val] * count)\n",
    "\n",
    "res"
   ]
  },
  {
   "cell_type": "code",
   "execution_count": 15,
   "id": "639ea6f1-6a01-4550-aea1-a36691c28a11",
   "metadata": {},
   "outputs": [],
   "source": [
    "import random\n",
    "array = [[random.randint(1, 10) for _ in range(5)] for _ in range(5)]"
   ]
  },
  {
   "cell_type": "code",
   "execution_count": 37,
   "id": "bb9fa33f-aed5-4951-90e5-1ea7d954e6cf",
   "metadata": {},
   "outputs": [
    {
     "data": {
      "text/plain": [
       "[[2, 7, 1, 2, 9],\n",
       " [6, 5, 6, 7, 9],\n",
       " [4, 10, 8, 2, 1],\n",
       " [8, 7, 9, 1, 7],\n",
       " [6, 7, 8, 10, 4]]"
      ]
     },
     "execution_count": 37,
     "metadata": {},
     "output_type": "execute_result"
    }
   ],
   "source": [
    "array"
   ]
  },
  {
   "cell_type": "code",
   "execution_count": 17,
   "id": "71b954d2-d87e-4d22-887a-666fb9927e01",
   "metadata": {},
   "outputs": [
    {
     "data": {
      "text/plain": [
       "3"
      ]
     },
     "execution_count": 17,
     "metadata": {},
     "output_type": "execute_result"
    }
   ],
   "source": [
    "array[0][1]"
   ]
  },
  {
   "cell_type": "code",
   "execution_count": 41,
   "id": "65bce9e9-baf7-4f98-90ab-4d21a9a86e98",
   "metadata": {},
   "outputs": [],
   "source": [
    "# import random\n",
    "# array = [[random.randint(1, 10) for _ in range(5)] for _ in range(5)]\n",
    "\n",
    "# try:\n",
    "#     res=0\n",
    "#     for i in range(len(array)):\n",
    "#         for j in range(len(array[i])):\n",
    "#             factor=array[i][j]\n",
    "#             hap=abs(factor-array[i-1][j])+abs(factor-array[i][j+1])+abs(factor-array[i+1][j])+abs(factor-array[i][j-1])\n",
    "#             res+=hap\n",
    "# except IndexError as eror:\n",
    "#     pass\n",
    "\n",
    "# print(res)"
   ]
  },
  {
   "cell_type": "code",
   "execution_count": 42,
   "id": "ffa3d57e-2c20-4450-ba9f-77e5cb4b97b6",
   "metadata": {},
   "outputs": [
    {
     "name": "stdout",
     "output_type": "stream",
     "text": [
      "[[4, 2, 10, 8, 10], [7, 10, 8, 7, 2], [5, 4, 4, 8, 10], [5, 5, 1, 8, 10], [6, 3, 5, 1, 1]]\n",
      "248\n"
     ]
    }
   ],
   "source": [
    "import random\n",
    "array = [[random.randint(1, 10) for _ in range(5)] for _ in range(5)]\n",
    "print(array)\n",
    "\n",
    "res=0\n",
    "for i in range(len(array)):\n",
    "    for j in range(len(array[i])):\n",
    "        factor = array[i][j]\n",
    "        hap = 0\n",
    "        # 상\n",
    "        if i > 0:\n",
    "            hap += abs(factor - array[i-1][j])\n",
    "        # 하\n",
    "        if i < len(array) - 1:\n",
    "            hap += abs(factor - array[i+1][j])\n",
    "        # 좌\n",
    "        if j > 0:\n",
    "            hap += abs(factor - array[i][j-1])\n",
    "        # 우\n",
    "        if j < len(array[i]) - 1:\n",
    "            hap += abs(factor - array[i][j+1])\n",
    "        \n",
    "        res += hap\n",
    "\n",
    "print(res)"
   ]
  },
  {
   "cell_type": "code",
   "execution_count": 43,
   "id": "6ecb38cd-bdad-4157-a917-2ea87e66af40",
   "metadata": {},
   "outputs": [],
   "source": [
    "import random\n",
    "nums=[i for i in range(1,26)]"
   ]
  },
  {
   "cell_type": "code",
   "execution_count": 54,
   "id": "2d4e1714-1335-4296-aaed-2bcfee250a31",
   "metadata": {},
   "outputs": [
    {
     "name": "stdout",
     "output_type": "stream",
     "text": [
      "[[8, 15, 14, 1, 24], [5, 2, 11, 9, 18], [22, 19, 3, 10, 7], [23, 13, 25, 12, 6], [16, 20, 4, 17, 21]]\n"
     ]
    }
   ],
   "source": [
    "# 왼쪽 배열 생성\n",
    "import random\n",
    "\n",
    "nums = [i for i in range(1, 26)]\n",
    "arr = [[0] * 5 for _ in range(5)]  # 5x5 크기의 2차원 배열을 빈 배열로 초기화\n",
    "\n",
    "for i in range(5):\n",
    "    for j in range(5):\n",
    "        num = random.choice(nums)\n",
    "        arr[i][j] = num\n",
    "        nums.remove(num)\n",
    "\n",
    "print(arr)"
   ]
  },
  {
   "cell_type": "code",
   "execution_count": 72,
   "id": "dcc2095c-670a-4308-bec1-a72781ef5060",
   "metadata": {},
   "outputs": [
    {
     "ename": "SyntaxError",
     "evalue": "invalid syntax. Maybe you meant '==' or ':=' instead of '='? (613639801.py, line 9)",
     "output_type": "error",
     "traceback": [
      "\u001b[1;36m  Cell \u001b[1;32mIn[72], line 9\u001b[1;36m\u001b[0m\n\u001b[1;33m    a=0, b=0\u001b[0m\n\u001b[1;37m    ^\u001b[0m\n\u001b[1;31mSyntaxError\u001b[0m\u001b[1;31m:\u001b[0m invalid syntax. Maybe you meant '==' or ':=' instead of '='?\n"
     ]
    }
   ],
   "source": [
    "min=100\n",
    "res=[[0] * 5 for _ in range(5)]\n",
    "for i in range(len(arr)):\n",
    "    for j in range(len(arr[i])):\n",
    "        if arr[i][j] < min and arr[i][j]!= 0:\n",
    "            min=arr[i][j]\n",
    "            factor=min\n",
    "            arr[i][j]=0\n",
    "            a=0, b=0\n",
    "            if a==0 and b<5:\n",
    "                res[a][b]=factor\n",
    "                b+=1\n",
    "            elif a<5 and b==4:\n",
    "                res[a][b]=factor\n",
    "                a+=1\n",
    "            elif a==4 and b<5:\n",
    "                res[a][b]=factor\n",
    "                b-=1\n",
    "            elif 0<a<5 and b==0:\n",
    "                res[a][b]=factor\n",
    "                a-=1\n",
    "            elif a==1 and 0<b<4:\n",
    "                res[a][b]=factor\n",
    "                b+=1\n",
    "            elif 1<a<4 and b==3:\n",
    "                res[a][b]=factor\n",
    "                a+=1\n",
    "            elif a==3 and 0<b<3:\n",
    "                res[a][b]=factor\n",
    "                b-=1\n",
    "            elif a==2 and b==1:\n",
    "                res[a][b]=factor\n",
    "                b+=1\n",
    "            elif a==2 and b==2:\n",
    "                res[a][b]=factor\n",
    "            "
   ]
  },
  {
   "cell_type": "code",
   "execution_count": null,
   "id": "9342289e-86a0-45ab-9cd3-e511c57b92e7",
   "metadata": {},
   "outputs": [],
   "source": []
  }
 ],
 "metadata": {
  "kernelspec": {
   "display_name": "Python 3 (ipykernel)",
   "language": "python",
   "name": "python3"
  },
  "language_info": {
   "codemirror_mode": {
    "name": "ipython",
    "version": 3
   },
   "file_extension": ".py",
   "mimetype": "text/x-python",
   "name": "python",
   "nbconvert_exporter": "python",
   "pygments_lexer": "ipython3",
   "version": "3.11.7"
  }
 },
 "nbformat": 4,
 "nbformat_minor": 5
}
