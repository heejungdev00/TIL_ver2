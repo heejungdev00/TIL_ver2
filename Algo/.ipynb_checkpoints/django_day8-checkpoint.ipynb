{
 "cells": [
  {
   "cell_type": "code",
   "execution_count": 23,
   "id": "d2a5821d-1517-496e-bc57-0f1cf9734fab",
   "metadata": {},
   "outputs": [
    {
     "name": "stdout",
     "output_type": "stream",
     "text": [
      "4\n"
     ]
    }
   ],
   "source": [
    "box=[5,8,3,1,5,6,9,9,2,2,4]\n",
    "\n",
    "for _ in range(5):\n",
    "    box=sorted(box)\n",
    "    box[-1]=box[-1]-1\n",
    "    box[0]=box[0]+1\n",
    "\n",
    "res=max(box)-min(box)\n",
    "print(res)"
   ]
  },
  {
   "cell_type": "code",
   "execution_count": 25,
   "id": "5940d51d-6bc0-4deb-b1d8-ea5000e6ea2b",
   "metadata": {},
   "outputs": [],
   "source": [
    "buildings=[0,0,3,5,2,4,8,0,6,4,0,6,0,0]"
   ]
  },
  {
   "cell_type": "code",
   "execution_count": 26,
   "id": "22c473a1-4936-4cdb-9d5d-d8c0b7f0501f",
   "metadata": {},
   "outputs": [],
   "source": [
    "floor=list(set(buildings))"
   ]
  },
  {
   "cell_type": "code",
   "execution_count": 29,
   "id": "fcea62e6-4a74-489e-af59-d65c1dd3c3f8",
   "metadata": {},
   "outputs": [
    {
     "data": {
      "text/plain": [
       "0"
      ]
     },
     "execution_count": 29,
     "metadata": {},
     "output_type": "execute_result"
    }
   ],
   "source": [
    "cnt=0\n",
    "for i,b in enumerate(buildings):\n",
    "    if b-6>0 and 2<=i<=(len(buildings)-3):\n",
    "        if buildings[i-1]-6<0 and buildings[i-2]-6<0 and buildings[i+2]-6<0 and buildings[i+1]-6<0:\n",
    "            cnt+=1\n",
    "        if all(buildings[j] < 6 for j in range(i-2, i+3) if j != i):  # 현재 건물 좌우로 2칸 건물의 높이가 6보다 작은지 확인\n",
    "            cnt += 1\n",
    "\n",
    "\n",
    "cnt"
   ]
  },
  {
   "cell_type": "code",
   "execution_count": 31,
   "id": "24c334c2-5305-4855-932c-16ed1c3ae688",
   "metadata": {},
   "outputs": [
    {
     "name": "stdout",
     "output_type": "stream",
     "text": [
      "[10, 11, 22, 25, 64]\n"
     ]
    }
   ],
   "source": [
    "# 선택정렬\n",
    "lst = [64, 25, 10, 22, 11]\n",
    "\n",
    "for i in range(len(lst)-1): #기준위치, i=0 to 3\n",
    "    min_value=lst[i] #64\n",
    "    for j in range(i, len(lst)): #최소값 검색 범위\n",
    "        if min_value > lst[j]:\n",
    "            min_value=lst[j] #최소값\n",
    "            min_idx=j #최소값의 위치\n",
    "    if(lst[i]>min_value):\n",
    "        lst[i],lst[min_idx]=lst[min_idx],lst[i]\n",
    "\n",
    "print(lst)"
   ]
  },
  {
   "cell_type": "code",
   "execution_count": 59,
   "id": "3b5f18a1-b6a7-450f-8c7a-f0a504584648",
   "metadata": {},
   "outputs": [
    {
     "data": {
      "text/plain": [
       "['4 4 3 2 1\\n', '2 2 1 6 5\\n', '3 5 4 6 7\\n', '4 2 5 9 7\\n', '8 1 9 5 6\\n']"
      ]
     },
     "execution_count": 59,
     "metadata": {},
     "output_type": "execute_result"
    }
   ],
   "source": [
    "with open(\"sum_arr.txt\", \"r\") as f:\n",
    "    lines = f.readlines()\n",
    "\n",
    "lines"
   ]
  },
  {
   "cell_type": "code",
   "execution_count": 60,
   "id": "186fb6ae-c6bc-4667-8994-10b10e637d7d",
   "metadata": {},
   "outputs": [
    {
     "data": {
      "text/plain": [
       "[(4, 4, 3, 2, 1),\n",
       " (2, 2, 1, 6, 5),\n",
       " (3, 5, 4, 6, 7),\n",
       " (4, 2, 5, 9, 7),\n",
       " (8, 1, 9, 5, 6)]"
      ]
     },
     "execution_count": 60,
     "metadata": {},
     "output_type": "execute_result"
    }
   ],
   "source": [
    "data = []\n",
    "\n",
    "for line in lines:\n",
    "    numbers = line.strip().split()\n",
    "    numbers = tuple(map(int, numbers))\n",
    "    data.append(numbers)\n",
    "\n",
    "data"
   ]
  },
  {
   "cell_type": "code",
   "execution_count": 36,
   "id": "ae5a77fb-a3fa-4bf6-b107-db53db482218",
   "metadata": {},
   "outputs": [
    {
     "name": "stdout",
     "output_type": "stream",
     "text": [
      "29\n"
     ]
    }
   ],
   "source": [
    "f = open('sum_arr.txt', 'r', encoding='utf-8')\n",
    "array = f.read().split('\\n')[:-1]\n",
    "lst = []\n",
    "for i in array:\n",
    "    lst.append(list(map(int, i.split())))\n",
    "res = 0\n",
    "total1 = 0\n",
    "total2 = 0\n",
    "for i in range(len(lst)):\n",
    "    sum_row = sum(lst[i]) # 행 계산\n",
    "    total = 0 # 열 계산\n",
    "    total1 += lst[i][i] # 대각1\n",
    "    total2 += lst[-i][i] # 대각2\n",
    "    for j in range(len(lst)):\n",
    "        total += lst[j][i]\n",
    "    if(sum_row > res):\n",
    "        res = sum_row\n",
    "    if(total > res):\n",
    "        res = total\n",
    "    \n",
    "if(total1 > res):\n",
    "    res = total1\n",
    "if(total2 > res):\n",
    "    res = total2\n",
    "print(res)"
   ]
  },
  {
   "cell_type": "code",
   "execution_count": 55,
   "id": "406e5f16-90cb-4bf3-8808-35280d659b7d",
   "metadata": {},
   "outputs": [
    {
     "data": {
      "text/plain": [
       "4"
      ]
     },
     "execution_count": 55,
     "metadata": {},
     "output_type": "execute_result"
    }
   ],
   "source": [
    "# 1. 문자열 찾기\n",
    "# 주어진 영어 문장에서 특정 문자열의 개수를 구하는 문제이다.\n",
    "# 아래의 예시에서 ti는 총 4번 나오게 되므로 4가 답이다.\n",
    "# 대소문자는 구분한다.\n",
    "# Start eating well with these eight tips for healthy eating, which cover the basics of a healthy diet and good nutrition.\n",
    "\n",
    "str_col='Start eating well with these eight tips for healthy eating, which cover the basics of a healthy diet and good nutrition.'\n",
    "\n",
    "import re\n",
    "len(re.findall('ti',str_col))"
   ]
  },
  {
   "cell_type": "code",
   "execution_count": 137,
   "id": "1dfdf4c8-f983-498a-8782-a247b4847454",
   "metadata": {},
   "outputs": [
    {
     "name": "stdout",
     "output_type": "stream",
     "text": [
      "[['C', 'B', 'C', 'A', 'B', 'B', 'A'], ['B', 'B', 'A', 'B', 'C', 'A', 'B'], ['A', 'B', 'C', 'B', 'C', 'A', 'C'], ['B', 'A', 'C', 'C', 'A', 'A', 'B'], ['B', 'C', 'B', 'C', 'A', 'C', 'B'], ['C', 'A', 'B', 'A', 'C', 'C', 'C'], ['C', 'A', 'A', 'A', 'C', 'C', 'A']]\n",
      "6\n"
     ]
    }
   ],
   "source": [
    "# 2. 가장 긴 회문 길이 구하기\n",
    "# 회문: “기러기”또는 “level”과 같이 거꾸로 읽어도 제대로 읽은 것과 같은 문장이나 낱말을 회문(回文, palindrome)이라 한다. \n",
    "# 주어진 글자판에서 가로,세로를 모두 보아 가장 긴 직선 회문(Palindrome)을 찾아 그 길이를 리턴하는 함수를 구현하시오..\n",
    "\n",
    "\n",
    "with open(\"palin.txt\", \"r\") as f:\n",
    "    lines = f.readlines()\n",
    "\n",
    "data=[]   # data만들기\n",
    "for line in lines:\n",
    "    alpa=line.strip().split()\n",
    "    data.append(alpa)\n",
    "\n",
    "print(data)\n",
    "\n",
    "def check_palindrome(word):   # 회문이면 true 반환\n",
    "    is_palindrome = True\n",
    "    for i in range(len(word) // 2):\n",
    "        if word[i] != word[-1 - i]:\n",
    "            is_palindrome = False\n",
    "            break\n",
    "    return is_palindrome\n",
    "\n",
    "word_garo=[''.join(row) for row in data] # 가로 문자열\n",
    "\n",
    "word_sero=[''.join([row[i] for row in data]) for i in range(len(data[0]))]  # 세로문자열\n",
    "\n",
    "words=word_garo+word_sero  # 나올수있는 모든 문자열\n",
    "\n",
    "result = []      # 나올수 있는 모든 경우의 회문을 result에 저장\n",
    "for word in words:\n",
    "    for num in range(3,len(word)+1):\n",
    "        for i in range(len(word)-num+1):\n",
    "            w = word[i:i+num]\n",
    "            if check_palindrome(w):\n",
    "                result.append((w))\n",
    "\n",
    "res_max=0\n",
    "for res in result:\n",
    "    if len(res)>res_max:\n",
    "        res_max=len(res)\n",
    "\n",
    "print(res_max)"
   ]
  },
  {
   "cell_type": "code",
   "execution_count": null,
   "id": "743622fc-71b8-4d47-94b6-e374aef94619",
   "metadata": {},
   "outputs": [],
   "source": []
  }
 ],
 "metadata": {
  "kernelspec": {
   "display_name": "Python 3 (ipykernel)",
   "language": "python",
   "name": "python3"
  },
  "language_info": {
   "codemirror_mode": {
    "name": "ipython",
    "version": 3
   },
   "file_extension": ".py",
   "mimetype": "text/x-python",
   "name": "python",
   "nbconvert_exporter": "python",
   "pygments_lexer": "ipython3",
   "version": "3.11.7"
  }
 },
 "nbformat": 4,
 "nbformat_minor": 5
}
